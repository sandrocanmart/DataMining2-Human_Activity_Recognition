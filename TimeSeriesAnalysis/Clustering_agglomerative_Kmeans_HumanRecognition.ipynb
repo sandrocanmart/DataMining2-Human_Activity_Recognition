{
  "cells": [
    {
      "cell_type": "code",
      "source": [
        "!pip install scikit-plot"
      ],
      "metadata": {
        "colab": {
          "base_uri": "https://localhost:8080/"
        },
        "id": "u3PhqJw0JxDL",
        "outputId": "7c2b33cb-654d-4582-f7c3-1a4fed0d0188"
      },
      "id": "u3PhqJw0JxDL",
      "execution_count": 151,
      "outputs": [
        {
          "output_type": "stream",
          "name": "stdout",
          "text": [
            "Requirement already satisfied: scikit-plot in /usr/local/lib/python3.10/dist-packages (0.3.7)\n",
            "Requirement already satisfied: matplotlib>=1.4.0 in /usr/local/lib/python3.10/dist-packages (from scikit-plot) (3.7.1)\n",
            "Requirement already satisfied: scikit-learn>=0.18 in /usr/local/lib/python3.10/dist-packages (from scikit-plot) (1.2.2)\n",
            "Requirement already satisfied: scipy>=0.9 in /usr/local/lib/python3.10/dist-packages (from scikit-plot) (1.10.1)\n",
            "Requirement already satisfied: joblib>=0.10 in /usr/local/lib/python3.10/dist-packages (from scikit-plot) (1.3.1)\n",
            "Requirement already satisfied: contourpy>=1.0.1 in /usr/local/lib/python3.10/dist-packages (from matplotlib>=1.4.0->scikit-plot) (1.1.0)\n",
            "Requirement already satisfied: cycler>=0.10 in /usr/local/lib/python3.10/dist-packages (from matplotlib>=1.4.0->scikit-plot) (0.11.0)\n",
            "Requirement already satisfied: fonttools>=4.22.0 in /usr/local/lib/python3.10/dist-packages (from matplotlib>=1.4.0->scikit-plot) (4.41.0)\n",
            "Requirement already satisfied: kiwisolver>=1.0.1 in /usr/local/lib/python3.10/dist-packages (from matplotlib>=1.4.0->scikit-plot) (1.4.4)\n",
            "Requirement already satisfied: numpy>=1.20 in /usr/local/lib/python3.10/dist-packages (from matplotlib>=1.4.0->scikit-plot) (1.22.4)\n",
            "Requirement already satisfied: packaging>=20.0 in /usr/local/lib/python3.10/dist-packages (from matplotlib>=1.4.0->scikit-plot) (23.1)\n",
            "Requirement already satisfied: pillow>=6.2.0 in /usr/local/lib/python3.10/dist-packages (from matplotlib>=1.4.0->scikit-plot) (8.4.0)\n",
            "Requirement already satisfied: pyparsing>=2.3.1 in /usr/local/lib/python3.10/dist-packages (from matplotlib>=1.4.0->scikit-plot) (3.1.0)\n",
            "Requirement already satisfied: python-dateutil>=2.7 in /usr/local/lib/python3.10/dist-packages (from matplotlib>=1.4.0->scikit-plot) (2.8.2)\n",
            "Requirement already satisfied: threadpoolctl>=2.0.0 in /usr/local/lib/python3.10/dist-packages (from scikit-learn>=0.18->scikit-plot) (3.2.0)\n",
            "Requirement already satisfied: six>=1.5 in /usr/local/lib/python3.10/dist-packages (from python-dateutil>=2.7->matplotlib>=1.4.0->scikit-plot) (1.16.0)\n"
          ]
        }
      ]
    },
    {
      "cell_type": "code",
      "source": [
        "!pip install tslearn"
      ],
      "metadata": {
        "colab": {
          "base_uri": "https://localhost:8080/"
        },
        "id": "YMhBFwpvJv3Y",
        "outputId": "677a5d51-8440-4119-fe57-a3a64bf6c10a"
      },
      "id": "YMhBFwpvJv3Y",
      "execution_count": 152,
      "outputs": [
        {
          "output_type": "stream",
          "name": "stdout",
          "text": [
            "Requirement already satisfied: tslearn in /usr/local/lib/python3.10/dist-packages (0.6.1)\n",
            "Requirement already satisfied: numpy in /usr/local/lib/python3.10/dist-packages (from tslearn) (1.22.4)\n",
            "Requirement already satisfied: scipy in /usr/local/lib/python3.10/dist-packages (from tslearn) (1.10.1)\n",
            "Requirement already satisfied: scikit-learn in /usr/local/lib/python3.10/dist-packages (from tslearn) (1.2.2)\n",
            "Requirement already satisfied: numba in /usr/local/lib/python3.10/dist-packages (from tslearn) (0.56.4)\n",
            "Requirement already satisfied: joblib in /usr/local/lib/python3.10/dist-packages (from tslearn) (1.3.1)\n",
            "Requirement already satisfied: llvmlite<0.40,>=0.39.0dev0 in /usr/local/lib/python3.10/dist-packages (from numba->tslearn) (0.39.1)\n",
            "Requirement already satisfied: setuptools in /usr/local/lib/python3.10/dist-packages (from numba->tslearn) (67.7.2)\n",
            "Requirement already satisfied: threadpoolctl>=2.0.0 in /usr/local/lib/python3.10/dist-packages (from scikit-learn->tslearn) (3.2.0)\n"
          ]
        }
      ]
    },
    {
      "cell_type": "code",
      "source": [
        "!pip install pyts"
      ],
      "metadata": {
        "colab": {
          "base_uri": "https://localhost:8080/"
        },
        "id": "1zzA2eSZJ3Re",
        "outputId": "6290d479-844b-4586-c263-f2a8d58858d3"
      },
      "id": "1zzA2eSZJ3Re",
      "execution_count": 153,
      "outputs": [
        {
          "output_type": "stream",
          "name": "stdout",
          "text": [
            "Requirement already satisfied: pyts in /usr/local/lib/python3.10/dist-packages (0.13.0)\n",
            "Requirement already satisfied: numpy>=1.22.4 in /usr/local/lib/python3.10/dist-packages (from pyts) (1.22.4)\n",
            "Requirement already satisfied: scipy>=1.8.1 in /usr/local/lib/python3.10/dist-packages (from pyts) (1.10.1)\n",
            "Requirement already satisfied: scikit-learn>=1.2.0 in /usr/local/lib/python3.10/dist-packages (from pyts) (1.2.2)\n",
            "Requirement already satisfied: joblib>=1.1.1 in /usr/local/lib/python3.10/dist-packages (from pyts) (1.3.1)\n",
            "Requirement already satisfied: numba>=0.55.2 in /usr/local/lib/python3.10/dist-packages (from pyts) (0.56.4)\n",
            "Requirement already satisfied: llvmlite<0.40,>=0.39.0dev0 in /usr/local/lib/python3.10/dist-packages (from numba>=0.55.2->pyts) (0.39.1)\n",
            "Requirement already satisfied: setuptools in /usr/local/lib/python3.10/dist-packages (from numba>=0.55.2->pyts) (67.7.2)\n",
            "Requirement already satisfied: threadpoolctl>=2.0.0 in /usr/local/lib/python3.10/dist-packages (from scikit-learn>=1.2.0->pyts) (3.2.0)\n"
          ]
        }
      ]
    },
    {
      "cell_type": "code",
      "execution_count": 154,
      "id": "f059f99c-a98b-4b09-9e67-17fed683ad1c",
      "metadata": {
        "pycharm": {
          "name": "#%%\n"
        },
        "id": "f059f99c-a98b-4b09-9e67-17fed683ad1c"
      },
      "outputs": [],
      "source": [
        "%matplotlib inline\n",
        "\n",
        "import numpy as np\n",
        "import pandas as pd\n",
        "import seaborn as sns\n",
        "import matplotlib.pyplot as plt\n",
        "\n",
        "from sklearn.model_selection import train_test_split\n",
        "from sklearn.model_selection import cross_val_score\n",
        "from sklearn.model_selection import GridSearchCV\n",
        "\n",
        "from sklearn import metrics\n",
        "from sklearn.metrics import accuracy_score, f1_score, classification_report\n",
        "from sklearn.metrics import roc_curve, auc, roc_auc_score\n",
        "from sklearn.metrics import ConfusionMatrixDisplay\n",
        "from scikitplot.metrics import plot_roc\n",
        "from scikitplot.metrics import plot_precision_recall\n",
        "from scikitplot.metrics import plot_cumulative_gain\n",
        "from scikitplot.metrics import plot_lift_curve\n",
        "\n",
        "from sklearn.tree import DecisionTreeClassifier\n",
        "from sklearn.neighbors import KNeighborsClassifier\n",
        "from sklearn.ensemble import RandomForestClassifier\n",
        "\n",
        "from sklearn import random_projection\n",
        "from sklearn.pipeline import Pipeline\n",
        "from sklearn.pipeline import FeatureUnion\n",
        "from sklearn.preprocessing import StandardScaler\n",
        "from sklearn.decomposition import PCA\n",
        "from sklearn.decomposition import IncrementalPCA\n",
        "from sklearn.manifold import Isomap\n",
        "from sklearn.manifold import TSNE\n",
        "from sklearn.manifold import MDS\n",
        "from sklearn.linear_model import LogisticRegression\n",
        "\n",
        "from tslearn.preprocessing import TimeSeriesScalerMeanVariance\n",
        "from scipy.spatial.distance import euclidean\n",
        "from scipy.spatial.distance import cityblock\n",
        "from tslearn.metrics import dtw, dtw_path, cdist_dtw, subsequence_cost_matrix\n",
        "from scipy.spatial.distance import cdist\n",
        "from pyts.metrics import dtw as dtw2"
      ]
    },
    {
      "cell_type": "code",
      "execution_count": 155,
      "id": "31aa3689-200b-4044-897c-937769eb0173",
      "metadata": {
        "pycharm": {
          "name": "#%%\n"
        },
        "id": "31aa3689-200b-4044-897c-937769eb0173"
      },
      "outputs": [],
      "source": [
        "import warnings\n",
        "warnings.filterwarnings('ignore')"
      ]
    },
    {
      "cell_type": "code",
      "execution_count": 156,
      "id": "ff66aaf1-5ac0-4861-aa3a-a0507330fea6",
      "metadata": {
        "pycharm": {
          "name": "#%%\n"
        },
        "colab": {
          "base_uri": "https://localhost:8080/"
        },
        "id": "ff66aaf1-5ac0-4861-aa3a-a0507330fea6",
        "outputId": "e958bc67-eb66-49e3-9747-12ccce991497"
      },
      "outputs": [
        {
          "output_type": "stream",
          "name": "stdout",
          "text": [
            "No of Features: 561\n"
          ]
        }
      ],
      "source": [
        "#features = list()\n",
        "with open('features.txt') as f:\n",
        "    features = [line.split()[1] for line in f.readlines()]\n",
        "print('No of Features: {}'.format(len(features)))"
      ]
    },
    {
      "cell_type": "markdown",
      "id": "1183df4d-8e7f-4b2c-92ca-ab52c1aab179",
      "metadata": {
        "pycharm": {
          "name": "#%% md\n"
        },
        "id": "1183df4d-8e7f-4b2c-92ca-ab52c1aab179"
      },
      "source": [
        "# Loading Training Sets"
      ]
    },
    {
      "cell_type": "code",
      "execution_count": 157,
      "id": "dc064b98-ba8a-4f70-86d4-d25856cb93ec",
      "metadata": {
        "pycharm": {
          "name": "#%%\n"
        },
        "id": "dc064b98-ba8a-4f70-86d4-d25856cb93ec"
      },
      "outputs": [],
      "source": [
        "X_train = pd.read_csv('X_train.txt', delim_whitespace=True, header=None, encoding='latin-1')\n",
        "X_train.columns = features\n",
        "\n",
        "# add subject column to the dataframe\n",
        "#X_train['subject'] = pd.read_csv('subject_train.txt', header=None, squeeze=True)\n",
        "\n",
        "y_train = pd.read_csv('y_train.txt', names=['Activity'], squeeze=True)\n",
        "#y_train_labels = y_train.map({1: 'WALKING', 2:'WALKING_UPSTAIRS',3:'WALKING_DOWNSTAIRS', 4:'SITTING', 5:'STANDING',6:'LAYING'})\n",
        "\n",
        "# put all columns in a single dataframe\n",
        "#train = X_train\n",
        "#train['Activity'] = y_train"
      ]
    },
    {
      "cell_type": "code",
      "execution_count": 158,
      "id": "df8a8e2f-961d-4242-bd58-091451e5d82f",
      "metadata": {
        "pycharm": {
          "name": "#%%\n"
        },
        "id": "df8a8e2f-961d-4242-bd58-091451e5d82f"
      },
      "outputs": [],
      "source": [
        "body_acc_x_train = pd.read_csv('body_acc_x_train.txt', delim_whitespace=True, header=None, encoding='latin-1')\n",
        "#body_acc_x_train['subject'] = pd.read_csv('subject_train.txt', header=None, squeeze=True)"
      ]
    },
    {
      "cell_type": "code",
      "execution_count": 159,
      "id": "43b9f091-2561-4c26-8b92-1f3c03d26abd",
      "metadata": {
        "pycharm": {
          "name": "#%%\n"
        },
        "id": "43b9f091-2561-4c26-8b92-1f3c03d26abd"
      },
      "outputs": [],
      "source": [
        "body_acc_y_train = pd.read_csv('body_acc_y_train.txt', delim_whitespace=True, header=None, encoding='latin-1')\n",
        "#body_acc_y_train['subject'] = pd.read_csv('subject_train.txt', header=None, squeeze=True)"
      ]
    },
    {
      "cell_type": "code",
      "execution_count": 160,
      "id": "3d44bce5-caad-49a7-b70c-ba927217a2d1",
      "metadata": {
        "pycharm": {
          "name": "#%%\n"
        },
        "id": "3d44bce5-caad-49a7-b70c-ba927217a2d1"
      },
      "outputs": [],
      "source": [
        "body_acc_z_train = pd.read_csv('body_acc_z_train.txt', delim_whitespace=True, header=None, encoding='latin-1')\n",
        "#body_acc_z_train['subject'] = pd.read_csv('subject_train.txt', header=None, squeeze=True)"
      ]
    },
    {
      "cell_type": "code",
      "execution_count": 161,
      "id": "3fde7f8e-e8ed-4aa5-b381-facbd924cb2e",
      "metadata": {
        "pycharm": {
          "name": "#%%\n"
        },
        "id": "3fde7f8e-e8ed-4aa5-b381-facbd924cb2e"
      },
      "outputs": [],
      "source": [
        "body_gyro_x_train = pd.read_csv('body_gyro_x_train.txt', delim_whitespace=True, header=None, encoding='latin-1')\n",
        "#body_gyro_x_train['subject'] = pd.read_csv('subject_train.txt', header=None, squeeze=True)\n",
        "#y_train = pd.read_csv('y_train.txt', names=['Activity'], squeeze=True)\n",
        "#y_train_labels = y_train.map({1: 'WALKING', 2:'WALKING_UPSTAIRS',3:'WALKING_DOWNSTAIRS', 4:'SITTING', 5:'STANDING',6:'LAYING'})\n",
        "\n",
        "# put all columns in a single dataframe\n",
        "#train = body_gyro_x_train\n",
        "#train['Activity'] = y_train\n",
        "#train['ActivityName'] = y_train_labels"
      ]
    },
    {
      "cell_type": "code",
      "execution_count": 162,
      "id": "1fc04a17-1a6e-4f2d-8065-e926ec8a93e5",
      "metadata": {
        "pycharm": {
          "name": "#%%\n"
        },
        "id": "1fc04a17-1a6e-4f2d-8065-e926ec8a93e5"
      },
      "outputs": [],
      "source": [
        "body_gyro_y_train = pd.read_csv('body_gyro_y_train.txt', delim_whitespace=True, header=None, encoding='latin-1')\n",
        "#body_gyro_y_train['subject'] = pd.read_csv('subject_train.txt', header=None, squeeze=True)"
      ]
    },
    {
      "cell_type": "code",
      "execution_count": 163,
      "id": "8d74eee1-907c-47a7-9b82-962b33167dc6",
      "metadata": {
        "pycharm": {
          "name": "#%%\n"
        },
        "id": "8d74eee1-907c-47a7-9b82-962b33167dc6"
      },
      "outputs": [],
      "source": [
        "body_gyro_z_train = pd.read_csv('body_gyro_z_train.txt', delim_whitespace=True, header=None, encoding='latin-1')\n",
        "#body_gyro_z_train['subject'] = pd.read_csv('subject_train.txt', header=None, squeeze=True)"
      ]
    },
    {
      "cell_type": "code",
      "execution_count": 164,
      "id": "19b796b1-dcee-4149-9bb3-04a8703ccfd6",
      "metadata": {
        "pycharm": {
          "name": "#%%\n"
        },
        "id": "19b796b1-dcee-4149-9bb3-04a8703ccfd6"
      },
      "outputs": [],
      "source": [
        "total_acc_x_train = pd.read_csv('total_acc_x_train.txt', delim_whitespace=True, header=None, encoding='latin-1')\n",
        "#total_acc_x_train['subject'] = pd.read_csv('subject_train.txt', header=None, squeeze=True)"
      ]
    },
    {
      "cell_type": "code",
      "execution_count": 165,
      "id": "3972e785-6ba7-46fa-9459-3fd08d8cf706",
      "metadata": {
        "pycharm": {
          "name": "#%%\n"
        },
        "id": "3972e785-6ba7-46fa-9459-3fd08d8cf706"
      },
      "outputs": [],
      "source": [
        "total_acc_y_train = pd.read_csv('total_acc_y_train.txt', delim_whitespace=True, header=None, encoding='latin-1')\n",
        "#total_acc_y_train['subject'] = pd.read_csv('subject_train.txt', header=None, squeeze=True)"
      ]
    },
    {
      "cell_type": "code",
      "execution_count": 166,
      "id": "0eba8bba-4323-49ff-8ba6-114c6588064c",
      "metadata": {
        "pycharm": {
          "name": "#%%\n"
        },
        "id": "0eba8bba-4323-49ff-8ba6-114c6588064c"
      },
      "outputs": [],
      "source": [
        "total_acc_z_train = pd.read_csv('total_acc_z_train.txt', delim_whitespace=True, header=None, encoding='latin-1')\n",
        "#total_acc_z_train['subject'] = pd.read_csv('subject_train.txt', header=None, squeeze=True)"
      ]
    },
    {
      "cell_type": "markdown",
      "id": "1467de03-fdab-465b-9f7f-55c883b14fef",
      "metadata": {
        "pycharm": {
          "name": "#%% md\n"
        },
        "id": "1467de03-fdab-465b-9f7f-55c883b14fef"
      },
      "source": [
        "# Loading Test Sets"
      ]
    },
    {
      "cell_type": "code",
      "execution_count": 167,
      "id": "50bbef5c-0cd9-4584-bc40-47db1fccf133",
      "metadata": {
        "pycharm": {
          "name": "#%%\n"
        },
        "id": "50bbef5c-0cd9-4584-bc40-47db1fccf133"
      },
      "outputs": [],
      "source": [
        "X_test = pd.read_csv('X_test.txt', delim_whitespace=True, header=None, encoding='latin-1')\n",
        "X_test.columns = features\n",
        "\n",
        "# add subject column to the dataframe\n",
        "#X_test['subject'] = pd.read_csv('subject_train.txt', header=None, squeeze=True)\n",
        "\n",
        "y_test = pd.read_csv('y_test.txt', names=['Activity'], squeeze=True)\n",
        "#y_test_labels = y_train.map({1: 'WALKING', 2:'WALKING_UPSTAIRS',3:'WALKING_DOWNSTAIRS', 4:'SITTING', 5:'STANDING',6:'LAYING'})\n",
        "\n",
        "# put all columns in a single dataframe\n",
        "#train01 = X_test\n",
        "#train01['Activity'] = y_test"
      ]
    },
    {
      "cell_type": "code",
      "execution_count": 168,
      "id": "f29737e6-a274-4c41-bcf8-a964f7a25645",
      "metadata": {
        "pycharm": {
          "name": "#%%\n"
        },
        "id": "f29737e6-a274-4c41-bcf8-a964f7a25645"
      },
      "outputs": [],
      "source": [
        "body_acc_x_test = pd.read_csv('body_acc_x_test.txt', delim_whitespace=True, header=None, encoding='latin-1')\n",
        "#body_acc_x_test['subject'] = pd.read_csv('subject_train.txt', header=None, squeeze=True)"
      ]
    },
    {
      "cell_type": "code",
      "execution_count": 169,
      "id": "85502e3c-fb5c-4fc4-be28-53cf8e7991a4",
      "metadata": {
        "pycharm": {
          "name": "#%%\n"
        },
        "id": "85502e3c-fb5c-4fc4-be28-53cf8e7991a4"
      },
      "outputs": [],
      "source": [
        "body_acc_y_test = pd.read_csv('body_acc_y_test.txt', delim_whitespace=True, header=None, encoding='latin-1')\n",
        "#body_acc_y_test['subject'] = pd.read_csv('subject_train.txt', header=None, squeeze=True)"
      ]
    },
    {
      "cell_type": "code",
      "execution_count": 170,
      "id": "f2835334-790c-48a8-8f70-79529db55c80",
      "metadata": {
        "pycharm": {
          "name": "#%%\n"
        },
        "id": "f2835334-790c-48a8-8f70-79529db55c80"
      },
      "outputs": [],
      "source": [
        "body_acc_z_test = pd.read_csv('body_acc_z_test.txt', delim_whitespace=True, header=None, encoding='latin-1')\n",
        "#body_acc_z_test['subject'] = pd.read_csv('subject_train.txt', header=None, squeeze=True)"
      ]
    },
    {
      "cell_type": "code",
      "execution_count": 171,
      "id": "b18b27fa-f862-451b-bda2-076d6c1e3fe1",
      "metadata": {
        "pycharm": {
          "name": "#%%\n"
        },
        "id": "b18b27fa-f862-451b-bda2-076d6c1e3fe1"
      },
      "outputs": [],
      "source": [
        "body_gyro_x_test = pd.read_csv('body_gyro_x_test.txt', delim_whitespace=True, header=None, encoding='latin-1')\n",
        "#body_gyro_x_test['subject'] = pd.read_csv('subject_train.txt', header=None, squeeze=True)"
      ]
    },
    {
      "cell_type": "code",
      "execution_count": 172,
      "id": "fbcca2a9-90d0-4f07-a088-6e144f89ee99",
      "metadata": {
        "pycharm": {
          "name": "#%%\n"
        },
        "id": "fbcca2a9-90d0-4f07-a088-6e144f89ee99"
      },
      "outputs": [],
      "source": [
        "body_gyro_y_test = pd.read_csv('body_gyro_y_test.txt', delim_whitespace=True, header=None, encoding='latin-1')\n",
        "#body_gyro_y_test['subject'] = pd.read_csv('subject_train.txt', header=None, squeeze=True)"
      ]
    },
    {
      "cell_type": "code",
      "execution_count": 173,
      "id": "0687a728-ce14-4b5c-b303-3cea1910dfd2",
      "metadata": {
        "pycharm": {
          "name": "#%%\n"
        },
        "id": "0687a728-ce14-4b5c-b303-3cea1910dfd2"
      },
      "outputs": [],
      "source": [
        "body_gyro_z_test = pd.read_csv('body_gyro_z_test.txt', delim_whitespace=True, header=None, encoding='latin-1')\n",
        "#body_gyro_z_test['subject'] = pd.read_csv('subject_train.txt', header=None, squeeze=True)"
      ]
    },
    {
      "cell_type": "code",
      "execution_count": 174,
      "id": "87d1714d-dada-44f0-bc89-6293076d8249",
      "metadata": {
        "pycharm": {
          "name": "#%%\n"
        },
        "id": "87d1714d-dada-44f0-bc89-6293076d8249"
      },
      "outputs": [],
      "source": [
        "total_acc_x_test = pd.read_csv('total_acc_x_test.txt', delim_whitespace=True, header=None, encoding='latin-1')\n",
        "#total_acc_x_test['subject'] = pd.read_csv('subject_train.txt', header=None, squeeze=True)"
      ]
    },
    {
      "cell_type": "code",
      "execution_count": 175,
      "id": "f8593e74-2757-4264-9950-c0463db9d699",
      "metadata": {
        "pycharm": {
          "name": "#%%\n"
        },
        "id": "f8593e74-2757-4264-9950-c0463db9d699"
      },
      "outputs": [],
      "source": [
        "total_acc_y_test = pd.read_csv('total_acc_y_test.txt', delim_whitespace=True, header=None, encoding='latin-1')\n",
        "#total_acc_y_test['subject'] = pd.read_csv('subject_train.txt', header=None, squeeze=True)"
      ]
    },
    {
      "cell_type": "code",
      "execution_count": 176,
      "id": "391bb50f-eca8-4c57-a443-b75eefb76b88",
      "metadata": {
        "pycharm": {
          "name": "#%%\n"
        },
        "id": "391bb50f-eca8-4c57-a443-b75eefb76b88"
      },
      "outputs": [],
      "source": [
        "total_acc_z_test = pd.read_csv('total_acc_z_test.txt', delim_whitespace=True, header=None, encoding='latin-1')\n",
        "#total_acc_z_test['subject'] = pd.read_csv('subject_train.txt', header=None, squeeze=True)"
      ]
    },
    {
      "cell_type": "code",
      "execution_count": 177,
      "id": "08745d10-1e5a-497a-b7a4-4c7986845c55",
      "metadata": {
        "colab": {
          "base_uri": "https://localhost:8080/",
          "height": 394
        },
        "id": "08745d10-1e5a-497a-b7a4-4c7986845c55",
        "outputId": "a2c42539-780f-49b6-c157-e076942b247b"
      },
      "outputs": [
        {
          "output_type": "execute_result",
          "data": {
            "text/plain": [
              "               0            1            2            3            4    \\\n",
              "count  7352.000000  7352.000000  7352.000000  7352.000000  7352.000000   \n",
              "mean     -0.003374    -0.002858    -0.001708    -0.000536     0.000333   \n",
              "std       0.198317     0.197407     0.197976     0.196811     0.195771   \n",
              "min      -0.857863    -0.897771    -0.975056    -0.984342    -0.886248   \n",
              "25%      -0.038449    -0.037463    -0.036089    -0.033924    -0.033026   \n",
              "50%      -0.000718    -0.000747    -0.000624    -0.000658    -0.000719   \n",
              "75%       0.008661     0.008745     0.008930     0.008600     0.008426   \n",
              "max       1.133144     1.091050     1.097443     1.046354     1.107588   \n",
              "\n",
              "               5            6            7            8            9    ...  \\\n",
              "count  7352.000000  7352.000000  7352.000000  7352.000000  7352.000000  ...   \n",
              "mean      0.000480    -0.000289    -0.001002    -0.000909    -0.000574  ...   \n",
              "std       0.196652     0.195381     0.194239     0.193354     0.196055  ...   \n",
              "min      -0.830093    -0.835363    -0.879751    -0.955099    -1.027935  ...   \n",
              "25%      -0.035838    -0.034997    -0.032398    -0.034113    -0.033094  ...   \n",
              "50%      -0.000827    -0.000762    -0.000831    -0.000746    -0.000697  ...   \n",
              "75%       0.008191     0.008751     0.008574     0.008221     0.008555  ...   \n",
              "max       1.057651     1.238608     1.049933     1.101743     1.056121  ...   \n",
              "\n",
              "               118          119          120          121          122  \\\n",
              "count  7352.000000  7352.000000  7352.000000  7352.000000  7352.000000   \n",
              "mean     -0.000798     0.000131     0.000343     0.000431     0.000650   \n",
              "std       0.191265     0.191452     0.191714     0.193405     0.194176   \n",
              "min      -1.038524    -0.756240    -1.019879    -0.828062    -0.864435   \n",
              "25%      -0.022469    -0.023967    -0.022285    -0.021040    -0.023009   \n",
              "50%      -0.000596    -0.000646    -0.000608    -0.000477    -0.000545   \n",
              "75%       0.006514     0.006619     0.006823     0.006992     0.006615   \n",
              "max       1.127268     1.132387     1.156435     1.133764     1.089165   \n",
              "\n",
              "               123          124          125          126          127  \n",
              "count  7352.000000  7352.000000  7352.000000  7352.000000  7352.000000  \n",
              "mean      0.000752     0.001230     0.000948     0.000916     0.001978  \n",
              "std       0.194513     0.195691     0.196523     0.197047     0.199408  \n",
              "min      -0.746925    -0.897870    -0.865697    -0.750321    -0.795426  \n",
              "25%      -0.023871    -0.024126    -0.022968    -0.024064    -0.023289  \n",
              "50%      -0.000575    -0.000617    -0.000460    -0.000694    -0.000622  \n",
              "75%       0.006518     0.006584     0.007144     0.006665     0.006828  \n",
              "max       1.128485     1.082167     1.180790     1.155468     1.087837  \n",
              "\n",
              "[8 rows x 128 columns]"
            ],
            "text/html": [
              "\n",
              "\n",
              "  <div id=\"df-ddfbf0e2-83c9-42dc-809d-3acceeb906a6\">\n",
              "    <div class=\"colab-df-container\">\n",
              "      <div>\n",
              "<style scoped>\n",
              "    .dataframe tbody tr th:only-of-type {\n",
              "        vertical-align: middle;\n",
              "    }\n",
              "\n",
              "    .dataframe tbody tr th {\n",
              "        vertical-align: top;\n",
              "    }\n",
              "\n",
              "    .dataframe thead th {\n",
              "        text-align: right;\n",
              "    }\n",
              "</style>\n",
              "<table border=\"1\" class=\"dataframe\">\n",
              "  <thead>\n",
              "    <tr style=\"text-align: right;\">\n",
              "      <th></th>\n",
              "      <th>0</th>\n",
              "      <th>1</th>\n",
              "      <th>2</th>\n",
              "      <th>3</th>\n",
              "      <th>4</th>\n",
              "      <th>5</th>\n",
              "      <th>6</th>\n",
              "      <th>7</th>\n",
              "      <th>8</th>\n",
              "      <th>9</th>\n",
              "      <th>...</th>\n",
              "      <th>118</th>\n",
              "      <th>119</th>\n",
              "      <th>120</th>\n",
              "      <th>121</th>\n",
              "      <th>122</th>\n",
              "      <th>123</th>\n",
              "      <th>124</th>\n",
              "      <th>125</th>\n",
              "      <th>126</th>\n",
              "      <th>127</th>\n",
              "    </tr>\n",
              "  </thead>\n",
              "  <tbody>\n",
              "    <tr>\n",
              "      <th>count</th>\n",
              "      <td>7352.000000</td>\n",
              "      <td>7352.000000</td>\n",
              "      <td>7352.000000</td>\n",
              "      <td>7352.000000</td>\n",
              "      <td>7352.000000</td>\n",
              "      <td>7352.000000</td>\n",
              "      <td>7352.000000</td>\n",
              "      <td>7352.000000</td>\n",
              "      <td>7352.000000</td>\n",
              "      <td>7352.000000</td>\n",
              "      <td>...</td>\n",
              "      <td>7352.000000</td>\n",
              "      <td>7352.000000</td>\n",
              "      <td>7352.000000</td>\n",
              "      <td>7352.000000</td>\n",
              "      <td>7352.000000</td>\n",
              "      <td>7352.000000</td>\n",
              "      <td>7352.000000</td>\n",
              "      <td>7352.000000</td>\n",
              "      <td>7352.000000</td>\n",
              "      <td>7352.000000</td>\n",
              "    </tr>\n",
              "    <tr>\n",
              "      <th>mean</th>\n",
              "      <td>-0.003374</td>\n",
              "      <td>-0.002858</td>\n",
              "      <td>-0.001708</td>\n",
              "      <td>-0.000536</td>\n",
              "      <td>0.000333</td>\n",
              "      <td>0.000480</td>\n",
              "      <td>-0.000289</td>\n",
              "      <td>-0.001002</td>\n",
              "      <td>-0.000909</td>\n",
              "      <td>-0.000574</td>\n",
              "      <td>...</td>\n",
              "      <td>-0.000798</td>\n",
              "      <td>0.000131</td>\n",
              "      <td>0.000343</td>\n",
              "      <td>0.000431</td>\n",
              "      <td>0.000650</td>\n",
              "      <td>0.000752</td>\n",
              "      <td>0.001230</td>\n",
              "      <td>0.000948</td>\n",
              "      <td>0.000916</td>\n",
              "      <td>0.001978</td>\n",
              "    </tr>\n",
              "    <tr>\n",
              "      <th>std</th>\n",
              "      <td>0.198317</td>\n",
              "      <td>0.197407</td>\n",
              "      <td>0.197976</td>\n",
              "      <td>0.196811</td>\n",
              "      <td>0.195771</td>\n",
              "      <td>0.196652</td>\n",
              "      <td>0.195381</td>\n",
              "      <td>0.194239</td>\n",
              "      <td>0.193354</td>\n",
              "      <td>0.196055</td>\n",
              "      <td>...</td>\n",
              "      <td>0.191265</td>\n",
              "      <td>0.191452</td>\n",
              "      <td>0.191714</td>\n",
              "      <td>0.193405</td>\n",
              "      <td>0.194176</td>\n",
              "      <td>0.194513</td>\n",
              "      <td>0.195691</td>\n",
              "      <td>0.196523</td>\n",
              "      <td>0.197047</td>\n",
              "      <td>0.199408</td>\n",
              "    </tr>\n",
              "    <tr>\n",
              "      <th>min</th>\n",
              "      <td>-0.857863</td>\n",
              "      <td>-0.897771</td>\n",
              "      <td>-0.975056</td>\n",
              "      <td>-0.984342</td>\n",
              "      <td>-0.886248</td>\n",
              "      <td>-0.830093</td>\n",
              "      <td>-0.835363</td>\n",
              "      <td>-0.879751</td>\n",
              "      <td>-0.955099</td>\n",
              "      <td>-1.027935</td>\n",
              "      <td>...</td>\n",
              "      <td>-1.038524</td>\n",
              "      <td>-0.756240</td>\n",
              "      <td>-1.019879</td>\n",
              "      <td>-0.828062</td>\n",
              "      <td>-0.864435</td>\n",
              "      <td>-0.746925</td>\n",
              "      <td>-0.897870</td>\n",
              "      <td>-0.865697</td>\n",
              "      <td>-0.750321</td>\n",
              "      <td>-0.795426</td>\n",
              "    </tr>\n",
              "    <tr>\n",
              "      <th>25%</th>\n",
              "      <td>-0.038449</td>\n",
              "      <td>-0.037463</td>\n",
              "      <td>-0.036089</td>\n",
              "      <td>-0.033924</td>\n",
              "      <td>-0.033026</td>\n",
              "      <td>-0.035838</td>\n",
              "      <td>-0.034997</td>\n",
              "      <td>-0.032398</td>\n",
              "      <td>-0.034113</td>\n",
              "      <td>-0.033094</td>\n",
              "      <td>...</td>\n",
              "      <td>-0.022469</td>\n",
              "      <td>-0.023967</td>\n",
              "      <td>-0.022285</td>\n",
              "      <td>-0.021040</td>\n",
              "      <td>-0.023009</td>\n",
              "      <td>-0.023871</td>\n",
              "      <td>-0.024126</td>\n",
              "      <td>-0.022968</td>\n",
              "      <td>-0.024064</td>\n",
              "      <td>-0.023289</td>\n",
              "    </tr>\n",
              "    <tr>\n",
              "      <th>50%</th>\n",
              "      <td>-0.000718</td>\n",
              "      <td>-0.000747</td>\n",
              "      <td>-0.000624</td>\n",
              "      <td>-0.000658</td>\n",
              "      <td>-0.000719</td>\n",
              "      <td>-0.000827</td>\n",
              "      <td>-0.000762</td>\n",
              "      <td>-0.000831</td>\n",
              "      <td>-0.000746</td>\n",
              "      <td>-0.000697</td>\n",
              "      <td>...</td>\n",
              "      <td>-0.000596</td>\n",
              "      <td>-0.000646</td>\n",
              "      <td>-0.000608</td>\n",
              "      <td>-0.000477</td>\n",
              "      <td>-0.000545</td>\n",
              "      <td>-0.000575</td>\n",
              "      <td>-0.000617</td>\n",
              "      <td>-0.000460</td>\n",
              "      <td>-0.000694</td>\n",
              "      <td>-0.000622</td>\n",
              "    </tr>\n",
              "    <tr>\n",
              "      <th>75%</th>\n",
              "      <td>0.008661</td>\n",
              "      <td>0.008745</td>\n",
              "      <td>0.008930</td>\n",
              "      <td>0.008600</td>\n",
              "      <td>0.008426</td>\n",
              "      <td>0.008191</td>\n",
              "      <td>0.008751</td>\n",
              "      <td>0.008574</td>\n",
              "      <td>0.008221</td>\n",
              "      <td>0.008555</td>\n",
              "      <td>...</td>\n",
              "      <td>0.006514</td>\n",
              "      <td>0.006619</td>\n",
              "      <td>0.006823</td>\n",
              "      <td>0.006992</td>\n",
              "      <td>0.006615</td>\n",
              "      <td>0.006518</td>\n",
              "      <td>0.006584</td>\n",
              "      <td>0.007144</td>\n",
              "      <td>0.006665</td>\n",
              "      <td>0.006828</td>\n",
              "    </tr>\n",
              "    <tr>\n",
              "      <th>max</th>\n",
              "      <td>1.133144</td>\n",
              "      <td>1.091050</td>\n",
              "      <td>1.097443</td>\n",
              "      <td>1.046354</td>\n",
              "      <td>1.107588</td>\n",
              "      <td>1.057651</td>\n",
              "      <td>1.238608</td>\n",
              "      <td>1.049933</td>\n",
              "      <td>1.101743</td>\n",
              "      <td>1.056121</td>\n",
              "      <td>...</td>\n",
              "      <td>1.127268</td>\n",
              "      <td>1.132387</td>\n",
              "      <td>1.156435</td>\n",
              "      <td>1.133764</td>\n",
              "      <td>1.089165</td>\n",
              "      <td>1.128485</td>\n",
              "      <td>1.082167</td>\n",
              "      <td>1.180790</td>\n",
              "      <td>1.155468</td>\n",
              "      <td>1.087837</td>\n",
              "    </tr>\n",
              "  </tbody>\n",
              "</table>\n",
              "<p>8 rows × 128 columns</p>\n",
              "</div>\n",
              "      <button class=\"colab-df-convert\" onclick=\"convertToInteractive('df-ddfbf0e2-83c9-42dc-809d-3acceeb906a6')\"\n",
              "              title=\"Convert this dataframe to an interactive table.\"\n",
              "              style=\"display:none;\">\n",
              "\n",
              "  <svg xmlns=\"http://www.w3.org/2000/svg\" height=\"24px\"viewBox=\"0 0 24 24\"\n",
              "       width=\"24px\">\n",
              "    <path d=\"M0 0h24v24H0V0z\" fill=\"none\"/>\n",
              "    <path d=\"M18.56 5.44l.94 2.06.94-2.06 2.06-.94-2.06-.94-.94-2.06-.94 2.06-2.06.94zm-11 1L8.5 8.5l.94-2.06 2.06-.94-2.06-.94L8.5 2.5l-.94 2.06-2.06.94zm10 10l.94 2.06.94-2.06 2.06-.94-2.06-.94-.94-2.06-.94 2.06-2.06.94z\"/><path d=\"M17.41 7.96l-1.37-1.37c-.4-.4-.92-.59-1.43-.59-.52 0-1.04.2-1.43.59L10.3 9.45l-7.72 7.72c-.78.78-.78 2.05 0 2.83L4 21.41c.39.39.9.59 1.41.59.51 0 1.02-.2 1.41-.59l7.78-7.78 2.81-2.81c.8-.78.8-2.07 0-2.86zM5.41 20L4 18.59l7.72-7.72 1.47 1.35L5.41 20z\"/>\n",
              "  </svg>\n",
              "      </button>\n",
              "\n",
              "\n",
              "\n",
              "    <div id=\"df-0cae09a2-a9b6-4ff2-b3c2-c8705de57243\">\n",
              "      <button class=\"colab-df-quickchart\" onclick=\"quickchart('df-0cae09a2-a9b6-4ff2-b3c2-c8705de57243')\"\n",
              "              title=\"Suggest charts.\"\n",
              "              style=\"display:none;\">\n",
              "\n",
              "<svg xmlns=\"http://www.w3.org/2000/svg\" height=\"24px\"viewBox=\"0 0 24 24\"\n",
              "     width=\"24px\">\n",
              "    <g>\n",
              "        <path d=\"M19 3H5c-1.1 0-2 .9-2 2v14c0 1.1.9 2 2 2h14c1.1 0 2-.9 2-2V5c0-1.1-.9-2-2-2zM9 17H7v-7h2v7zm4 0h-2V7h2v10zm4 0h-2v-4h2v4z\"/>\n",
              "    </g>\n",
              "</svg>\n",
              "      </button>\n",
              "    </div>\n",
              "\n",
              "<style>\n",
              "  .colab-df-quickchart {\n",
              "    background-color: #E8F0FE;\n",
              "    border: none;\n",
              "    border-radius: 50%;\n",
              "    cursor: pointer;\n",
              "    display: none;\n",
              "    fill: #1967D2;\n",
              "    height: 32px;\n",
              "    padding: 0 0 0 0;\n",
              "    width: 32px;\n",
              "  }\n",
              "\n",
              "  .colab-df-quickchart:hover {\n",
              "    background-color: #E2EBFA;\n",
              "    box-shadow: 0px 1px 2px rgba(60, 64, 67, 0.3), 0px 1px 3px 1px rgba(60, 64, 67, 0.15);\n",
              "    fill: #174EA6;\n",
              "  }\n",
              "\n",
              "  [theme=dark] .colab-df-quickchart {\n",
              "    background-color: #3B4455;\n",
              "    fill: #D2E3FC;\n",
              "  }\n",
              "\n",
              "  [theme=dark] .colab-df-quickchart:hover {\n",
              "    background-color: #434B5C;\n",
              "    box-shadow: 0px 1px 3px 1px rgba(0, 0, 0, 0.15);\n",
              "    filter: drop-shadow(0px 1px 2px rgba(0, 0, 0, 0.3));\n",
              "    fill: #FFFFFF;\n",
              "  }\n",
              "</style>\n",
              "\n",
              "    <script>\n",
              "      async function quickchart(key) {\n",
              "        const containerElement = document.querySelector('#' + key);\n",
              "        const charts = await google.colab.kernel.invokeFunction(\n",
              "            'suggestCharts', [key], {});\n",
              "      }\n",
              "    </script>\n",
              "\n",
              "      <script>\n",
              "\n",
              "function displayQuickchartButton(domScope) {\n",
              "  let quickchartButtonEl =\n",
              "    domScope.querySelector('#df-0cae09a2-a9b6-4ff2-b3c2-c8705de57243 button.colab-df-quickchart');\n",
              "  quickchartButtonEl.style.display =\n",
              "    google.colab.kernel.accessAllowed ? 'block' : 'none';\n",
              "}\n",
              "\n",
              "        displayQuickchartButton(document);\n",
              "      </script>\n",
              "      <style>\n",
              "    .colab-df-container {\n",
              "      display:flex;\n",
              "      flex-wrap:wrap;\n",
              "      gap: 12px;\n",
              "    }\n",
              "\n",
              "    .colab-df-convert {\n",
              "      background-color: #E8F0FE;\n",
              "      border: none;\n",
              "      border-radius: 50%;\n",
              "      cursor: pointer;\n",
              "      display: none;\n",
              "      fill: #1967D2;\n",
              "      height: 32px;\n",
              "      padding: 0 0 0 0;\n",
              "      width: 32px;\n",
              "    }\n",
              "\n",
              "    .colab-df-convert:hover {\n",
              "      background-color: #E2EBFA;\n",
              "      box-shadow: 0px 1px 2px rgba(60, 64, 67, 0.3), 0px 1px 3px 1px rgba(60, 64, 67, 0.15);\n",
              "      fill: #174EA6;\n",
              "    }\n",
              "\n",
              "    [theme=dark] .colab-df-convert {\n",
              "      background-color: #3B4455;\n",
              "      fill: #D2E3FC;\n",
              "    }\n",
              "\n",
              "    [theme=dark] .colab-df-convert:hover {\n",
              "      background-color: #434B5C;\n",
              "      box-shadow: 0px 1px 3px 1px rgba(0, 0, 0, 0.15);\n",
              "      filter: drop-shadow(0px 1px 2px rgba(0, 0, 0, 0.3));\n",
              "      fill: #FFFFFF;\n",
              "    }\n",
              "  </style>\n",
              "\n",
              "      <script>\n",
              "        const buttonEl =\n",
              "          document.querySelector('#df-ddfbf0e2-83c9-42dc-809d-3acceeb906a6 button.colab-df-convert');\n",
              "        buttonEl.style.display =\n",
              "          google.colab.kernel.accessAllowed ? 'block' : 'none';\n",
              "\n",
              "        async function convertToInteractive(key) {\n",
              "          const element = document.querySelector('#df-ddfbf0e2-83c9-42dc-809d-3acceeb906a6');\n",
              "          const dataTable =\n",
              "            await google.colab.kernel.invokeFunction('convertToInteractive',\n",
              "                                                     [key], {});\n",
              "          if (!dataTable) return;\n",
              "\n",
              "          const docLinkHtml = 'Like what you see? Visit the ' +\n",
              "            '<a target=\"_blank\" href=https://colab.research.google.com/notebooks/data_table.ipynb>data table notebook</a>'\n",
              "            + ' to learn more about interactive tables.';\n",
              "          element.innerHTML = '';\n",
              "          dataTable['output_type'] = 'display_data';\n",
              "          await google.colab.output.renderOutput(dataTable, element);\n",
              "          const docLink = document.createElement('div');\n",
              "          docLink.innerHTML = docLinkHtml;\n",
              "          element.appendChild(docLink);\n",
              "        }\n",
              "      </script>\n",
              "    </div>\n",
              "  </div>\n"
            ]
          },
          "metadata": {},
          "execution_count": 177
        }
      ],
      "source": [
        "#dataset con varianza più alta\n",
        "body_acc_x_train.describe()"
      ]
    },
    {
      "cell_type": "code",
      "execution_count": 178,
      "id": "e7ca4c23-aa4b-4e61-b511-1ef42de8db15",
      "metadata": {
        "id": "e7ca4c23-aa4b-4e61-b511-1ef42de8db15"
      },
      "outputs": [],
      "source": [
        "std_baccx = body_acc_x_train.std()\n",
        "std_baccy = body_acc_y_train.std()\n",
        "std_baccz = body_acc_z_train.std()\n",
        "std_bgyrox = body_gyro_x_train.std()\n",
        "std_bgyroy = body_gyro_y_train.std()\n",
        "std_bgyroz = body_gyro_z_train.std()\n",
        "std_totaccx = total_acc_x_train.std()\n",
        "std_totaccy = total_acc_y_train.std()\n",
        "std_totaccz = total_acc_z_train.std()"
      ]
    },
    {
      "cell_type": "code",
      "execution_count": 179,
      "id": "b63e4eb3-f349-49a5-852a-77e3e1a13cf0",
      "metadata": {
        "colab": {
          "base_uri": "https://localhost:8080/"
        },
        "id": "b63e4eb3-f349-49a5-852a-77e3e1a13cf0",
        "outputId": "4fd2be08-94f1-4efb-b86c-c70eb4132c12"
      },
      "outputs": [
        {
          "output_type": "stream",
          "name": "stdout",
          "text": [
            "bacc_x 0.19482892669749152\n",
            "bacc_y 0.12240050717841242\n",
            "bacc_z 0.10680715788956446\n",
            "bgyro_x 0.4067296422795279\n",
            "bgyro_y 0.38175873417057304\n",
            "bgyro_z 0.25570864936282\n",
            "totacc_x 0.41413047027078664\n",
            "totacc_y 0.3910152844312498\n",
            "totacc_z 0.35778355912457643\n"
          ]
        }
      ],
      "source": [
        "print('bacc_x', std_baccx.mean())\n",
        "print('bacc_y', std_baccy.mean())\n",
        "print('bacc_z', std_baccz.mean())\n",
        "print('bgyro_x', std_bgyrox.mean())\n",
        "print('bgyro_y', std_bgyroy.mean())\n",
        "print('bgyro_z', std_bgyroz.mean())\n",
        "print('totacc_x', std_totaccx.mean())\n",
        "print('totacc_y', std_totaccy.mean())\n",
        "print('totacc_z', std_totaccz.mean())"
      ]
    },
    {
      "cell_type": "code",
      "execution_count": 180,
      "id": "0e31ae5e-6707-4ca6-af9d-b46796624198",
      "metadata": {
        "colab": {
          "base_uri": "https://localhost:8080/"
        },
        "id": "0e31ae5e-6707-4ca6-af9d-b46796624198",
        "outputId": "8267a12a-4c1d-4774-ea1a-726aa784d3a7"
      },
      "outputs": [
        {
          "output_type": "stream",
          "name": "stdout",
          "text": [
            "bgyro_x 7.779602430478292e-05\n",
            "totacc_x 3.244924674966347e-06\n",
            "totacc_y 1.9207174505528415e-06\n"
          ]
        }
      ],
      "source": [
        "print('bgyro_x', std_bgyrox.var())\n",
        "print('totacc_x', std_totaccx.var())\n",
        "print('totacc_y', std_totaccy.var())"
      ]
    },
    {
      "cell_type": "code",
      "execution_count": 181,
      "id": "d848fccb-0c84-4a8a-8a43-6d36d277b6ee",
      "metadata": {
        "colab": {
          "base_uri": "https://localhost:8080/"
        },
        "id": "d848fccb-0c84-4a8a-8a43-6d36d277b6ee",
        "outputId": "03a4a75f-bf3e-4789-ba26-a00a2ce6304e"
      },
      "outputs": [
        {
          "output_type": "stream",
          "name": "stdout",
          "text": [
            "-3.395589\n",
            "row: 3750\n",
            "----------------\n",
            "4.077152\n",
            "row: 3915\n",
            "----------------\n",
            "-3.658334\n",
            "row: 4871\n",
            "----------------\n"
          ]
        }
      ],
      "source": [
        "for i in range(len(total_acc_x_train)):\n",
        "    if body_gyro_x_train.iloc[i][127] > 4 or body_gyro_x_train.iloc[i][127] < -3.3:\n",
        "        print(body_gyro_x_train.iloc[i][127])\n",
        "        print('row:', i)\n",
        "        print('----------------')"
      ]
    },
    {
      "cell_type": "markdown",
      "id": "24e1b8a3-06d8-41a1-9d4e-bfbb3078141d",
      "metadata": {
        "pycharm": {
          "name": "#%% md\n"
        },
        "id": "24e1b8a3-06d8-41a1-9d4e-bfbb3078141d"
      },
      "source": [
        "# Data preparation"
      ]
    },
    {
      "cell_type": "code",
      "execution_count": null,
      "id": "49124633-cfb4-4502-b58a-afb5136a8416",
      "metadata": {
        "pycharm": {
          "name": "#%%\n"
        },
        "tags": [],
        "colab": {
          "base_uri": "https://localhost:8080/",
          "height": 830
        },
        "id": "49124633-cfb4-4502-b58a-afb5136a8416",
        "outputId": "692af2f6-d5c4-4a8d-b928-bf14c58253d3"
      },
      "outputs": [
        {
          "output_type": "display_data",
          "data": {
            "text/plain": [
              "<Figure size 1500x1000 with 1 Axes>"
            ],
            "image/png": "[encoded data removed]"
          },
          "metadata": {}
        }
      ],
      "source": [
        "plt.figure(figsize=(15,10))\n",
        "plt.plot(body_gyro_x_train.T[3750])\n",
        "plt.plot(body_gyro_x_train.T[3915], color='red')\n",
        "plt.show()"
      ]
    },
    {
      "cell_type": "markdown",
      "id": "0507ffa0-f9be-4476-a9ba-2c7e822a152c",
      "metadata": {
        "id": "0507ffa0-f9be-4476-a9ba-2c7e822a152c"
      },
      "source": [
        "# Shapelets"
      ]
    },
    {
      "cell_type": "code",
      "execution_count": null,
      "id": "f531540c-8174-4677-9725-67993c88c08b",
      "metadata": {
        "pycharm": {
          "name": "#%%\n"
        },
        "id": "f531540c-8174-4677-9725-67993c88c08b"
      },
      "outputs": [],
      "source": [
        "#from keras.optimizers import Adagrad\n",
        "from tslearn.shapelets import ShapeletModel\n",
        "from tslearn.shapelets import grabocka_params_to_shapelet_size_dict\n",
        "\n",
        "from tslearn.preprocessing import TimeSeriesScalerMinMax"
      ]
    },
    {
      "cell_type": "code",
      "execution_count": null,
      "id": "02859acb-9e6b-440b-90e5-6394dbda5e91",
      "metadata": {
        "pycharm": {
          "name": "#%%\n"
        },
        "tags": [],
        "colab": {
          "base_uri": "https://localhost:8080/"
        },
        "id": "02859acb-9e6b-440b-90e5-6394dbda5e91",
        "outputId": "becb707b-da18-4b38-c2b9-8a52d179db73"
      },
      "outputs": [
        {
          "output_type": "stream",
          "name": "stdout",
          "text": [
            "n_ts 7352\n",
            "ts_sz 128\n",
            "n_classes 6\n",
            "shapelet_sizes {12: 6}\n"
          ]
        }
      ],
      "source": [
        "n_ts, ts_sz = body_gyro_x_train.shape\n",
        "n_classes = len(set(y_train))\n",
        "\n",
        "# Set the number of shapelets per size as done in the original paper\n",
        "shapelet_sizes = grabocka_params_to_shapelet_size_dict(n_ts=n_ts,\n",
        "                                                       ts_sz=ts_sz,\n",
        "                                                       n_classes=n_classes,\n",
        "                                                       l=0.1,\n",
        "                                                       r=1)\n",
        "\n",
        "print('n_ts', n_ts)\n",
        "print('ts_sz', ts_sz)\n",
        "print('n_classes', n_classes)\n",
        "print('shapelet_sizes', shapelet_sizes)"
      ]
    },
    {
      "cell_type": "code",
      "execution_count": null,
      "id": "4acdd20c-8742-4a6b-897f-2ffd55f67985",
      "metadata": {
        "pycharm": {
          "name": "#%%\n"
        },
        "id": "4acdd20c-8742-4a6b-897f-2ffd55f67985"
      },
      "outputs": [],
      "source": [
        "# Define the model using parameters provided by the authors (except that we use\n",
        "# fewer iterations here)\n",
        "shp_clf = ShapeletModel(n_shapelets_per_size=shapelet_sizes,\n",
        "                        optimizer=\"sgd\",\n",
        "                        weight_regularizer=.01,\n",
        "                        max_iter=200,\n",
        "                        verbose=1)"
      ]
    },
    {
      "cell_type": "code",
      "execution_count": null,
      "id": "5af2143a-4cf8-4dd1-980c-11684ccbfc6b",
      "metadata": {
        "collapsed": true,
        "jupyter": {
          "outputs_hidden": true
        },
        "pycharm": {
          "name": "#%%\n"
        },
        "tags": [],
        "colab": {
          "base_uri": "https://localhost:8080/",
          "height": 1000
        },
        "id": "5af2143a-4cf8-4dd1-980c-11684ccbfc6b",
        "outputId": "f9132a43-cbbe-42ea-c469-6b9a73b722c1"
      },
      "outputs": [
        {
          "output_type": "stream",
          "name": "stdout",
          "text": [
            "Epoch 1/200\n",
            "29/29 [==============================] - 2s 16ms/step - loss: 1.8993 - categorical_accuracy: 0.0502 - categorical_crossentropy: 1.8350\n",
            "Epoch 2/200\n",
            "29/29 [==============================] - 0s 14ms/step - loss: 1.8750 - categorical_accuracy: 0.0345 - categorical_crossentropy: 1.8120\n",
            "Epoch 3/200\n",
            "29/29 [==============================] - 0s 15ms/step - loss: 1.8546 - categorical_accuracy: 0.1640 - categorical_crossentropy: 1.7928\n",
            "Epoch 4/200\n",
            "29/29 [==============================] - 0s 16ms/step - loss: 1.8373 - categorical_accuracy: 0.1700 - categorical_crossentropy: 1.7765\n",
            "Epoch 5/200\n",
            "29/29 [==============================] - 1s 22ms/step - loss: 1.8224 - categorical_accuracy: 0.1683 - categorical_crossentropy: 1.7626\n",
            "Epoch 6/200\n",
            "29/29 [==============================] - 1s 23ms/step - loss: 1.8095 - categorical_accuracy: 0.1676 - categorical_crossentropy: 1.7506\n",
            "Epoch 7/200\n",
            "29/29 [==============================] - 1s 24ms/step - loss: 1.7982 - categorical_accuracy: 0.1669 - categorical_crossentropy: 1.7400\n",
            "Epoch 8/200\n",
            "29/29 [==============================] - 1s 23ms/step - loss: 1.7882 - categorical_accuracy: 0.1672 - categorical_crossentropy: 1.7307\n",
            "Epoch 9/200\n",
            "29/29 [==============================] - 1s 24ms/step - loss: 1.7793 - categorical_accuracy: 0.1693 - categorical_crossentropy: 1.7224\n",
            "Epoch 10/200\n",
            "29/29 [==============================] - 0s 15ms/step - loss: 1.7712 - categorical_accuracy: 0.1772 - categorical_crossentropy: 1.7150\n",
            "Epoch 11/200\n",
            "29/29 [==============================] - 0s 14ms/step - loss: 1.7639 - categorical_accuracy: 0.1844 - categorical_crossentropy: 1.7082\n",
            "Epoch 12/200\n",
            "29/29 [==============================] - 0s 14ms/step - loss: 1.7572 - categorical_accuracy: 0.1912 - categorical_crossentropy: 1.7020\n",
            "Epoch 13/200\n",
            "29/29 [==============================] - 0s 15ms/step - loss: 1.7510 - categorical_accuracy: 0.1903 - categorical_crossentropy: 1.6963\n",
            "Epoch 14/200\n",
            "29/29 [==============================] - 0s 14ms/step - loss: 1.7453 - categorical_accuracy: 0.1854 - categorical_crossentropy: 1.6910\n",
            "Epoch 15/200\n",
            "29/29 [==============================] - 0s 15ms/step - loss: 1.7399 - categorical_accuracy: 0.1893 - categorical_crossentropy: 1.6860\n",
            "Epoch 16/200\n",
            "29/29 [==============================] - 0s 15ms/step - loss: 1.7349 - categorical_accuracy: 0.1923 - categorical_crossentropy: 1.6813\n",
            "Epoch 17/200\n",
            "29/29 [==============================] - 0s 15ms/step - loss: 1.7301 - categorical_accuracy: 0.1965 - categorical_crossentropy: 1.6769\n",
            "Epoch 18/200\n",
            "29/29 [==============================] - 0s 15ms/step - loss: 1.7256 - categorical_accuracy: 0.2009 - categorical_crossentropy: 1.6727\n",
            "Epoch 19/200\n",
            "29/29 [==============================] - 0s 15ms/step - loss: 1.7212 - categorical_accuracy: 0.2057 - categorical_crossentropy: 1.6686\n",
            "Epoch 20/200\n",
            "29/29 [==============================] - 0s 15ms/step - loss: 1.7171 - categorical_accuracy: 0.2088 - categorical_crossentropy: 1.6648\n",
            "Epoch 21/200\n",
            "29/29 [==============================] - 0s 15ms/step - loss: 1.7130 - categorical_accuracy: 0.2135 - categorical_crossentropy: 1.6610\n",
            "Epoch 22/200\n",
            "29/29 [==============================] - 0s 15ms/step - loss: 1.7092 - categorical_accuracy: 0.2203 - categorical_crossentropy: 1.6574\n",
            "Epoch 23/200\n",
            "29/29 [==============================] - 0s 15ms/step - loss: 1.7054 - categorical_accuracy: 0.2258 - categorical_crossentropy: 1.6539\n",
            "Epoch 24/200\n",
            "29/29 [==============================] - 0s 15ms/step - loss: 1.7018 - categorical_accuracy: 0.2316 - categorical_crossentropy: 1.6505\n",
            "Epoch 25/200\n",
            "29/29 [==============================] - 0s 15ms/step - loss: 1.6983 - categorical_accuracy: 0.2357 - categorical_crossentropy: 1.6471\n",
            "Epoch 26/200\n",
            "29/29 [==============================] - 0s 15ms/step - loss: 1.6948 - categorical_accuracy: 0.2414 - categorical_crossentropy: 1.6439\n",
            "Epoch 27/200\n",
            "29/29 [==============================] - 0s 15ms/step - loss: 1.6914 - categorical_accuracy: 0.2458 - categorical_crossentropy: 1.6407\n",
            "Epoch 28/200\n",
            "29/29 [==============================] - 0s 15ms/step - loss: 1.6881 - categorical_accuracy: 0.2492 - categorical_crossentropy: 1.6376\n",
            "Epoch 29/200\n",
            "29/29 [==============================] - 0s 15ms/step - loss: 1.6849 - categorical_accuracy: 0.2524 - categorical_crossentropy: 1.6345\n",
            "Epoch 30/200\n",
            "29/29 [==============================] - 0s 16ms/step - loss: 1.6818 - categorical_accuracy: 0.2564 - categorical_crossentropy: 1.6315\n",
            "Epoch 31/200\n",
            "29/29 [==============================] - 0s 14ms/step - loss: 1.6787 - categorical_accuracy: 0.2607 - categorical_crossentropy: 1.6285\n",
            "Epoch 32/200\n",
            "29/29 [==============================] - 0s 16ms/step - loss: 1.6756 - categorical_accuracy: 0.2633 - categorical_crossentropy: 1.6256\n",
            "Epoch 33/200\n",
            "29/29 [==============================] - 1s 22ms/step - loss: 1.6726 - categorical_accuracy: 0.2671 - categorical_crossentropy: 1.6228\n",
            "Epoch 34/200\n",
            "29/29 [==============================] - 1s 22ms/step - loss: 1.6697 - categorical_accuracy: 0.2709 - categorical_crossentropy: 1.6200\n",
            "Epoch 35/200\n",
            "29/29 [==============================] - 1s 24ms/step - loss: 1.6668 - categorical_accuracy: 0.2734 - categorical_crossentropy: 1.6172\n",
            "Epoch 36/200\n",
            "29/29 [==============================] - 1s 23ms/step - loss: 1.6640 - categorical_accuracy: 0.2758 - categorical_crossentropy: 1.6144\n",
            "Epoch 37/200\n",
            "29/29 [==============================] - 1s 23ms/step - loss: 1.6612 - categorical_accuracy: 0.2797 - categorical_crossentropy: 1.6117\n",
            "Epoch 38/200\n",
            "29/29 [==============================] - 0s 16ms/step - loss: 1.6584 - categorical_accuracy: 0.2820 - categorical_crossentropy: 1.6090\n",
            "Epoch 39/200\n",
            "29/29 [==============================] - 0s 15ms/step - loss: 1.6557 - categorical_accuracy: 0.2825 - categorical_crossentropy: 1.6064\n",
            "Epoch 40/200\n",
            "29/29 [==============================] - 0s 15ms/step - loss: 1.6530 - categorical_accuracy: 0.2844 - categorical_crossentropy: 1.6038\n",
            "Epoch 41/200\n",
            "29/29 [==============================] - 0s 16ms/step - loss: 1.6503 - categorical_accuracy: 0.2862 - categorical_crossentropy: 1.6012\n",
            "Epoch 42/200\n",
            "29/29 [==============================] - 0s 15ms/step - loss: 1.6477 - categorical_accuracy: 0.2877 - categorical_crossentropy: 1.5986\n",
            "Epoch 43/200\n",
            "29/29 [==============================] - 0s 15ms/step - loss: 1.6452 - categorical_accuracy: 0.2893 - categorical_crossentropy: 1.5961\n",
            "Epoch 44/200\n",
            "29/29 [==============================] - 0s 15ms/step - loss: 1.6426 - categorical_accuracy: 0.2909 - categorical_crossentropy: 1.5936\n",
            "Epoch 45/200\n",
            "29/29 [==============================] - 0s 16ms/step - loss: 1.6401 - categorical_accuracy: 0.2939 - categorical_crossentropy: 1.5911\n",
            "Epoch 46/200\n",
            "29/29 [==============================] - 0s 15ms/step - loss: 1.6376 - categorical_accuracy: 0.2958 - categorical_crossentropy: 1.5887\n",
            "Epoch 47/200\n",
            "29/29 [==============================] - 0s 15ms/step - loss: 1.6352 - categorical_accuracy: 0.2971 - categorical_crossentropy: 1.5863\n",
            "Epoch 48/200\n",
            "29/29 [==============================] - 0s 15ms/step - loss: 1.6327 - categorical_accuracy: 0.2982 - categorical_crossentropy: 1.5839\n",
            "Epoch 49/200\n",
            "29/29 [==============================] - 0s 15ms/step - loss: 1.6303 - categorical_accuracy: 0.2999 - categorical_crossentropy: 1.5815\n",
            "Epoch 50/200\n",
            "29/29 [==============================] - 0s 16ms/step - loss: 1.6280 - categorical_accuracy: 0.3001 - categorical_crossentropy: 1.5792\n",
            "Epoch 51/200\n",
            "29/29 [==============================] - 0s 15ms/step - loss: 1.6257 - categorical_accuracy: 0.3025 - categorical_crossentropy: 1.5769\n",
            "Epoch 52/200\n",
            "29/29 [==============================] - 0s 16ms/step - loss: 1.6234 - categorical_accuracy: 0.3029 - categorical_crossentropy: 1.5746\n",
            "Epoch 53/200\n",
            "29/29 [==============================] - 0s 15ms/step - loss: 1.6211 - categorical_accuracy: 0.3036 - categorical_crossentropy: 1.5723\n",
            "Epoch 54/200\n",
            "29/29 [==============================] - 0s 15ms/step - loss: 1.6188 - categorical_accuracy: 0.3045 - categorical_crossentropy: 1.5701\n",
            "Epoch 55/200\n",
            "29/29 [==============================] - 0s 15ms/step - loss: 1.6166 - categorical_accuracy: 0.3056 - categorical_crossentropy: 1.5679\n",
            "Epoch 56/200\n",
            "29/29 [==============================] - 0s 14ms/step - loss: 1.6144 - categorical_accuracy: 0.3063 - categorical_crossentropy: 1.5657\n",
            "Epoch 57/200\n",
            "29/29 [==============================] - 0s 15ms/step - loss: 1.6123 - categorical_accuracy: 0.3070 - categorical_crossentropy: 1.5635\n",
            "Epoch 58/200\n",
            "29/29 [==============================] - 0s 15ms/step - loss: 1.6101 - categorical_accuracy: 0.3075 - categorical_crossentropy: 1.5613\n",
            "Epoch 59/200\n",
            "29/29 [==============================] - 0s 15ms/step - loss: 1.6080 - categorical_accuracy: 0.3088 - categorical_crossentropy: 1.5592\n",
            "Epoch 60/200\n",
            "29/29 [==============================] - 1s 19ms/step - loss: 1.6059 - categorical_accuracy: 0.3097 - categorical_crossentropy: 1.5571\n",
            "Epoch 61/200\n",
            "29/29 [==============================] - 1s 22ms/step - loss: 1.6038 - categorical_accuracy: 0.3101 - categorical_crossentropy: 1.5550\n",
            "Epoch 62/200\n",
            "29/29 [==============================] - 1s 22ms/step - loss: 1.6018 - categorical_accuracy: 0.3104 - categorical_crossentropy: 1.5529\n",
            "Epoch 63/200\n",
            "29/29 [==============================] - 1s 22ms/step - loss: 1.5997 - categorical_accuracy: 0.3115 - categorical_crossentropy: 1.5509\n",
            "Epoch 64/200\n",
            "29/29 [==============================] - 1s 23ms/step - loss: 1.5977 - categorical_accuracy: 0.3124 - categorical_crossentropy: 1.5489\n",
            "Epoch 65/200\n",
            "29/29 [==============================] - 1s 22ms/step - loss: 1.5958 - categorical_accuracy: 0.3134 - categorical_crossentropy: 1.5469\n",
            "Epoch 66/200\n",
            "29/29 [==============================] - 0s 16ms/step - loss: 1.5938 - categorical_accuracy: 0.3135 - categorical_crossentropy: 1.5449\n",
            "Epoch 67/200\n",
            "29/29 [==============================] - 0s 16ms/step - loss: 1.5919 - categorical_accuracy: 0.3149 - categorical_crossentropy: 1.5429\n",
            "Epoch 68/200\n",
            "29/29 [==============================] - 0s 15ms/step - loss: 1.5900 - categorical_accuracy: 0.3156 - categorical_crossentropy: 1.5410\n",
            "Epoch 69/200\n",
            "29/29 [==============================] - 0s 15ms/step - loss: 1.5881 - categorical_accuracy: 0.3169 - categorical_crossentropy: 1.5390\n",
            "Epoch 70/200\n",
            "29/29 [==============================] - 0s 15ms/step - loss: 1.5862 - categorical_accuracy: 0.3173 - categorical_crossentropy: 1.5371\n",
            "Epoch 71/200\n",
            "29/29 [==============================] - 0s 15ms/step - loss: 1.5843 - categorical_accuracy: 0.3177 - categorical_crossentropy: 1.5352\n",
            "Epoch 72/200\n",
            "29/29 [==============================] - 0s 15ms/step - loss: 1.5825 - categorical_accuracy: 0.3186 - categorical_crossentropy: 1.5333\n",
            "Epoch 73/200\n",
            "29/29 [==============================] - 0s 15ms/step - loss: 1.5807 - categorical_accuracy: 0.3195 - categorical_crossentropy: 1.5315\n",
            "Epoch 74/200\n",
            "29/29 [==============================] - 0s 15ms/step - loss: 1.5789 - categorical_accuracy: 0.3202 - categorical_crossentropy: 1.5296\n",
            "Epoch 75/200\n",
            "29/29 [==============================] - 0s 15ms/step - loss: 1.5771 - categorical_accuracy: 0.3205 - categorical_crossentropy: 1.5278\n",
            "Epoch 76/200\n",
            "29/29 [==============================] - 0s 15ms/step - loss: 1.5753 - categorical_accuracy: 0.3218 - categorical_crossentropy: 1.5260\n",
            "Epoch 77/200\n",
            "29/29 [==============================] - 0s 15ms/step - loss: 1.5736 - categorical_accuracy: 0.3214 - categorical_crossentropy: 1.5242\n",
            "Epoch 78/200\n",
            "29/29 [==============================] - 0s 15ms/step - loss: 1.5719 - categorical_accuracy: 0.3220 - categorical_crossentropy: 1.5224\n",
            "Epoch 79/200\n",
            "29/29 [==============================] - 0s 15ms/step - loss: 1.5702 - categorical_accuracy: 0.3224 - categorical_crossentropy: 1.5207\n",
            "Epoch 80/200\n",
            "29/29 [==============================] - 0s 15ms/step - loss: 1.5685 - categorical_accuracy: 0.3228 - categorical_crossentropy: 1.5189\n",
            "Epoch 81/200\n",
            "29/29 [==============================] - 0s 15ms/step - loss: 1.5668 - categorical_accuracy: 0.3234 - categorical_crossentropy: 1.5172\n",
            "Epoch 82/200\n",
            "29/29 [==============================] - 0s 15ms/step - loss: 1.5652 - categorical_accuracy: 0.3244 - categorical_crossentropy: 1.5155\n",
            "Epoch 83/200\n",
            "29/29 [==============================] - 0s 15ms/step - loss: 1.5635 - categorical_accuracy: 0.3241 - categorical_crossentropy: 1.5138\n",
            "Epoch 84/200\n",
            "29/29 [==============================] - 0s 15ms/step - loss: 1.5619 - categorical_accuracy: 0.3244 - categorical_crossentropy: 1.5121\n",
            "Epoch 85/200\n",
            "29/29 [==============================] - 0s 15ms/step - loss: 1.5603 - categorical_accuracy: 0.3244 - categorical_crossentropy: 1.5105\n",
            "Epoch 86/200\n",
            "29/29 [==============================] - 0s 15ms/step - loss: 1.5587 - categorical_accuracy: 0.3249 - categorical_crossentropy: 1.5089\n",
            "Epoch 87/200\n",
            "29/29 [==============================] - 0s 15ms/step - loss: 1.5572 - categorical_accuracy: 0.3252 - categorical_crossentropy: 1.5072\n",
            "Epoch 88/200\n",
            "29/29 [==============================] - 1s 19ms/step - loss: 1.5556 - categorical_accuracy: 0.3255 - categorical_crossentropy: 1.5056\n",
            "Epoch 89/200\n",
            "29/29 [==============================] - 1s 22ms/step - loss: 1.5541 - categorical_accuracy: 0.3255 - categorical_crossentropy: 1.5040\n",
            "Epoch 90/200\n",
            "29/29 [==============================] - 1s 23ms/step - loss: 1.5526 - categorical_accuracy: 0.3264 - categorical_crossentropy: 1.5024\n",
            "Epoch 91/200\n",
            "29/29 [==============================] - 1s 23ms/step - loss: 1.5511 - categorical_accuracy: 0.3267 - categorical_crossentropy: 1.5009\n",
            "Epoch 92/200\n",
            "29/29 [==============================] - 1s 23ms/step - loss: 1.5496 - categorical_accuracy: 0.3271 - categorical_crossentropy: 1.4993\n",
            "Epoch 93/200\n",
            "29/29 [==============================] - 1s 22ms/step - loss: 1.5481 - categorical_accuracy: 0.3274 - categorical_crossentropy: 1.4977\n",
            "Epoch 94/200\n",
            "29/29 [==============================] - 0s 15ms/step - loss: 1.5466 - categorical_accuracy: 0.3277 - categorical_crossentropy: 1.4962\n",
            "Epoch 95/200\n",
            "29/29 [==============================] - 0s 15ms/step - loss: 1.5452 - categorical_accuracy: 0.3277 - categorical_crossentropy: 1.4947\n",
            "Epoch 96/200\n",
            "29/29 [==============================] - 0s 15ms/step - loss: 1.5437 - categorical_accuracy: 0.3277 - categorical_crossentropy: 1.4932\n",
            "Epoch 97/200\n",
            "29/29 [==============================] - 0s 15ms/step - loss: 1.5423 - categorical_accuracy: 0.3279 - categorical_crossentropy: 1.4917\n",
            "Epoch 98/200\n",
            "29/29 [==============================] - 0s 15ms/step - loss: 1.5409 - categorical_accuracy: 0.3282 - categorical_crossentropy: 1.4902\n",
            "Epoch 99/200\n",
            "29/29 [==============================] - 0s 15ms/step - loss: 1.5395 - categorical_accuracy: 0.3282 - categorical_crossentropy: 1.4888\n",
            "Epoch 100/200\n",
            "29/29 [==============================] - 0s 15ms/step - loss: 1.5381 - categorical_accuracy: 0.3286 - categorical_crossentropy: 1.4873\n",
            "Epoch 101/200\n",
            "29/29 [==============================] - 0s 15ms/step - loss: 1.5368 - categorical_accuracy: 0.3288 - categorical_crossentropy: 1.4859\n",
            "Epoch 102/200\n",
            "29/29 [==============================] - 0s 14ms/step - loss: 1.5354 - categorical_accuracy: 0.3289 - categorical_crossentropy: 1.4845\n",
            "Epoch 103/200\n",
            "29/29 [==============================] - 0s 15ms/step - loss: 1.5341 - categorical_accuracy: 0.3286 - categorical_crossentropy: 1.4831\n",
            "Epoch 104/200\n",
            "29/29 [==============================] - 0s 15ms/step - loss: 1.5328 - categorical_accuracy: 0.3293 - categorical_crossentropy: 1.4817\n",
            "Epoch 105/200\n",
            "29/29 [==============================] - 0s 15ms/step - loss: 1.5314 - categorical_accuracy: 0.3293 - categorical_crossentropy: 1.4803\n",
            "Epoch 106/200\n",
            "29/29 [==============================] - 0s 15ms/step - loss: 1.5301 - categorical_accuracy: 0.3293 - categorical_crossentropy: 1.4790\n",
            "Epoch 107/200\n",
            "29/29 [==============================] - 0s 16ms/step - loss: 1.5289 - categorical_accuracy: 0.3294 - categorical_crossentropy: 1.4776\n",
            "Epoch 108/200\n",
            "29/29 [==============================] - 0s 15ms/step - loss: 1.5276 - categorical_accuracy: 0.3298 - categorical_crossentropy: 1.4762\n",
            "Epoch 109/200\n",
            "29/29 [==============================] - 0s 15ms/step - loss: 1.5263 - categorical_accuracy: 0.3307 - categorical_crossentropy: 1.4749\n",
            "Epoch 110/200\n",
            "29/29 [==============================] - 0s 15ms/step - loss: 1.5251 - categorical_accuracy: 0.3311 - categorical_crossentropy: 1.4736\n",
            "Epoch 111/200\n",
            "29/29 [==============================] - 0s 15ms/step - loss: 1.5238 - categorical_accuracy: 0.3313 - categorical_crossentropy: 1.4723\n",
            "Epoch 112/200\n",
            "29/29 [==============================] - 0s 16ms/step - loss: 1.5226 - categorical_accuracy: 0.3311 - categorical_crossentropy: 1.4710\n",
            "Epoch 113/200\n",
            "29/29 [==============================] - 0s 16ms/step - loss: 1.5214 - categorical_accuracy: 0.3315 - categorical_crossentropy: 1.4697\n",
            "Epoch 114/200\n",
            "29/29 [==============================] - 0s 16ms/step - loss: 1.5201 - categorical_accuracy: 0.3320 - categorical_crossentropy: 1.4684\n",
            "Epoch 115/200\n",
            "29/29 [==============================] - 0s 15ms/step - loss: 1.5190 - categorical_accuracy: 0.3316 - categorical_crossentropy: 1.4671\n",
            "Epoch 116/200\n",
            "29/29 [==============================] - 1s 22ms/step - loss: 1.5178 - categorical_accuracy: 0.3323 - categorical_crossentropy: 1.4659\n",
            "Epoch 117/200\n",
            "29/29 [==============================] - 1s 24ms/step - loss: 1.5166 - categorical_accuracy: 0.3332 - categorical_crossentropy: 1.4646\n",
            "Epoch 118/200\n",
            "29/29 [==============================] - 1s 22ms/step - loss: 1.5154 - categorical_accuracy: 0.3330 - categorical_crossentropy: 1.4634\n",
            "Epoch 119/200\n",
            "29/29 [==============================] - 1s 22ms/step - loss: 1.5143 - categorical_accuracy: 0.3332 - categorical_crossentropy: 1.4622\n",
            "Epoch 120/200\n",
            "29/29 [==============================] - 1s 24ms/step - loss: 1.5131 - categorical_accuracy: 0.3332 - categorical_crossentropy: 1.4609\n",
            "Epoch 121/200\n",
            "29/29 [==============================] - 1s 19ms/step - loss: 1.5120 - categorical_accuracy: 0.3339 - categorical_crossentropy: 1.4597\n",
            "Epoch 122/200\n",
            "29/29 [==============================] - 0s 15ms/step - loss: 1.5109 - categorical_accuracy: 0.3339 - categorical_crossentropy: 1.4586\n",
            "Epoch 123/200\n",
            "29/29 [==============================] - 0s 16ms/step - loss: 1.5098 - categorical_accuracy: 0.3342 - categorical_crossentropy: 1.4574\n",
            "Epoch 124/200\n",
            "29/29 [==============================] - 0s 15ms/step - loss: 1.5086 - categorical_accuracy: 0.3343 - categorical_crossentropy: 1.4562\n",
            "Epoch 125/200\n",
            "29/29 [==============================] - 0s 16ms/step - loss: 1.5075 - categorical_accuracy: 0.3341 - categorical_crossentropy: 1.4550\n",
            "Epoch 126/200\n",
            "29/29 [==============================] - 0s 16ms/step - loss: 1.5065 - categorical_accuracy: 0.3343 - categorical_crossentropy: 1.4539\n",
            "Epoch 127/200\n",
            "29/29 [==============================] - 0s 15ms/step - loss: 1.5054 - categorical_accuracy: 0.3350 - categorical_crossentropy: 1.4527\n",
            "Epoch 128/200\n",
            "29/29 [==============================] - 0s 15ms/step - loss: 1.5043 - categorical_accuracy: 0.3351 - categorical_crossentropy: 1.4516\n",
            "Epoch 129/200\n",
            "29/29 [==============================] - 0s 15ms/step - loss: 1.5033 - categorical_accuracy: 0.3353 - categorical_crossentropy: 1.4505\n",
            "Epoch 130/200\n",
            "29/29 [==============================] - 0s 16ms/step - loss: 1.5022 - categorical_accuracy: 0.3356 - categorical_crossentropy: 1.4493\n",
            "Epoch 131/200\n",
            "29/29 [==============================] - 0s 15ms/step - loss: 1.5012 - categorical_accuracy: 0.3356 - categorical_crossentropy: 1.4483\n",
            "Epoch 132/200\n",
            "29/29 [==============================] - 0s 16ms/step - loss: 1.5001 - categorical_accuracy: 0.3361 - categorical_crossentropy: 1.4471\n",
            "Epoch 133/200\n",
            "29/29 [==============================] - 0s 15ms/step - loss: 1.4991 - categorical_accuracy: 0.3361 - categorical_crossentropy: 1.4461\n",
            "Epoch 134/200\n",
            "29/29 [==============================] - 0s 16ms/step - loss: 1.4981 - categorical_accuracy: 0.3360 - categorical_crossentropy: 1.4450\n",
            "Epoch 135/200\n",
            "29/29 [==============================] - 0s 15ms/step - loss: 1.4971 - categorical_accuracy: 0.3369 - categorical_crossentropy: 1.4439\n",
            "Epoch 136/200\n",
            "29/29 [==============================] - 0s 16ms/step - loss: 1.4961 - categorical_accuracy: 0.3368 - categorical_crossentropy: 1.4429\n",
            "Epoch 137/200\n",
            "29/29 [==============================] - 0s 15ms/step - loss: 1.4951 - categorical_accuracy: 0.3372 - categorical_crossentropy: 1.4418\n",
            "Epoch 138/200\n",
            "29/29 [==============================] - 0s 15ms/step - loss: 1.4941 - categorical_accuracy: 0.3380 - categorical_crossentropy: 1.4408\n",
            "Epoch 139/200\n",
            "29/29 [==============================] - 0s 15ms/step - loss: 1.4932 - categorical_accuracy: 0.3381 - categorical_crossentropy: 1.4397\n",
            "Epoch 140/200\n",
            "29/29 [==============================] - 0s 15ms/step - loss: 1.4922 - categorical_accuracy: 0.3383 - categorical_crossentropy: 1.4387\n",
            "Epoch 141/200\n",
            "29/29 [==============================] - 0s 15ms/step - loss: 1.4913 - categorical_accuracy: 0.3381 - categorical_crossentropy: 1.4377\n",
            "Epoch 142/200\n",
            "29/29 [==============================] - 0s 15ms/step - loss: 1.4903 - categorical_accuracy: 0.3387 - categorical_crossentropy: 1.4367\n",
            "Epoch 143/200\n",
            "29/29 [==============================] - 1s 19ms/step - loss: 1.4894 - categorical_accuracy: 0.3380 - categorical_crossentropy: 1.4357\n",
            "Epoch 144/200\n",
            "29/29 [==============================] - 1s 23ms/step - loss: 1.4884 - categorical_accuracy: 0.3383 - categorical_crossentropy: 1.4347\n",
            "Epoch 145/200\n",
            "29/29 [==============================] - 1s 24ms/step - loss: 1.4875 - categorical_accuracy: 0.3387 - categorical_crossentropy: 1.4337\n",
            "Epoch 146/200\n",
            "29/29 [==============================] - 1s 23ms/step - loss: 1.4866 - categorical_accuracy: 0.3391 - categorical_crossentropy: 1.4327\n",
            "Epoch 147/200\n",
            "29/29 [==============================] - 1s 23ms/step - loss: 1.4857 - categorical_accuracy: 0.3385 - categorical_crossentropy: 1.4317\n",
            "Epoch 148/200\n",
            "29/29 [==============================] - 1s 23ms/step - loss: 1.4848 - categorical_accuracy: 0.3390 - categorical_crossentropy: 1.4308\n",
            "Epoch 149/200\n",
            "29/29 [==============================] - 0s 15ms/step - loss: 1.4839 - categorical_accuracy: 0.3390 - categorical_crossentropy: 1.4298\n",
            "Epoch 150/200\n",
            "29/29 [==============================] - 0s 16ms/step - loss: 1.4830 - categorical_accuracy: 0.3402 - categorical_crossentropy: 1.4289\n",
            "Epoch 151/200\n",
            "29/29 [==============================] - 0s 15ms/step - loss: 1.4821 - categorical_accuracy: 0.3399 - categorical_crossentropy: 1.4279\n",
            "Epoch 152/200\n",
            "29/29 [==============================] - 0s 15ms/step - loss: 1.4812 - categorical_accuracy: 0.3399 - categorical_crossentropy: 1.4270\n",
            "Epoch 153/200\n",
            "29/29 [==============================] - 0s 15ms/step - loss: 1.4804 - categorical_accuracy: 0.3407 - categorical_crossentropy: 1.4261\n",
            "Epoch 154/200\n",
            "29/29 [==============================] - 0s 15ms/step - loss: 1.4795 - categorical_accuracy: 0.3411 - categorical_crossentropy: 1.4251\n",
            "Epoch 155/200\n",
            "29/29 [==============================] - 0s 16ms/step - loss: 1.4787 - categorical_accuracy: 0.3409 - categorical_crossentropy: 1.4242\n",
            "Epoch 156/200\n",
            "29/29 [==============================] - 0s 15ms/step - loss: 1.4778 - categorical_accuracy: 0.3424 - categorical_crossentropy: 1.4233\n",
            "Epoch 157/200\n",
            "29/29 [==============================] - 0s 16ms/step - loss: 1.4770 - categorical_accuracy: 0.3424 - categorical_crossentropy: 1.4224\n",
            "Epoch 158/200\n",
            "29/29 [==============================] - 0s 15ms/step - loss: 1.4761 - categorical_accuracy: 0.3433 - categorical_crossentropy: 1.4215\n",
            "Epoch 159/200\n",
            "29/29 [==============================] - 0s 16ms/step - loss: 1.4753 - categorical_accuracy: 0.3432 - categorical_crossentropy: 1.4207\n",
            "Epoch 160/200\n",
            "29/29 [==============================] - 0s 15ms/step - loss: 1.4745 - categorical_accuracy: 0.3434 - categorical_crossentropy: 1.4198\n",
            "Epoch 161/200\n",
            "29/29 [==============================] - 1s 27ms/step - loss: 1.4737 - categorical_accuracy: 0.3443 - categorical_crossentropy: 1.4189\n",
            "Epoch 162/200\n",
            "29/29 [==============================] - 1s 30ms/step - loss: 1.4729 - categorical_accuracy: 0.3440 - categorical_crossentropy: 1.4180\n",
            "Epoch 163/200\n",
            "29/29 [==============================] - 1s 26ms/step - loss: 1.4721 - categorical_accuracy: 0.3445 - categorical_crossentropy: 1.4172\n",
            "Epoch 164/200\n",
            "29/29 [==============================] - 1s 30ms/step - loss: 1.4713 - categorical_accuracy: 0.3449 - categorical_crossentropy: 1.4163\n",
            "Epoch 165/200\n",
            "29/29 [==============================] - 1s 38ms/step - loss: 1.4705 - categorical_accuracy: 0.3451 - categorical_crossentropy: 1.4155\n",
            "Epoch 166/200\n",
            "29/29 [==============================] - 1s 47ms/step - loss: 1.4697 - categorical_accuracy: 0.3452 - categorical_crossentropy: 1.4147\n",
            "Epoch 167/200\n",
            "29/29 [==============================] - 1s 35ms/step - loss: 1.4689 - categorical_accuracy: 0.3451 - categorical_crossentropy: 1.4138\n",
            "Epoch 168/200\n",
            "29/29 [==============================] - 1s 35ms/step - loss: 1.4682 - categorical_accuracy: 0.3451 - categorical_crossentropy: 1.4130\n",
            "Epoch 169/200\n",
            "29/29 [==============================] - 1s 34ms/step - loss: 1.4674 - categorical_accuracy: 0.3459 - categorical_crossentropy: 1.4122\n",
            "Epoch 170/200\n",
            "29/29 [==============================] - 1s 25ms/step - loss: 1.4666 - categorical_accuracy: 0.3464 - categorical_crossentropy: 1.4114\n",
            "Epoch 171/200\n",
            "29/29 [==============================] - 1s 28ms/step - loss: 1.4659 - categorical_accuracy: 0.3466 - categorical_crossentropy: 1.4106\n",
            "Epoch 172/200\n",
            "29/29 [==============================] - 1s 31ms/step - loss: 1.4651 - categorical_accuracy: 0.3462 - categorical_crossentropy: 1.4097\n",
            "Epoch 173/200\n",
            "29/29 [==============================] - 1s 27ms/step - loss: 1.4644 - categorical_accuracy: 0.3470 - categorical_crossentropy: 1.4089\n",
            "Epoch 174/200\n",
            "29/29 [==============================] - 1s 33ms/step - loss: 1.4636 - categorical_accuracy: 0.3466 - categorical_crossentropy: 1.4082\n",
            "Epoch 175/200\n",
            "29/29 [==============================] - 1s 29ms/step - loss: 1.4629 - categorical_accuracy: 0.3474 - categorical_crossentropy: 1.4074\n",
            "Epoch 176/200\n",
            "29/29 [==============================] - 1s 28ms/step - loss: 1.4622 - categorical_accuracy: 0.3492 - categorical_crossentropy: 1.4066\n",
            "Epoch 177/200\n",
            "29/29 [==============================] - 1s 34ms/step - loss: 1.4615 - categorical_accuracy: 0.3479 - categorical_crossentropy: 1.4058\n",
            "Epoch 178/200\n",
            "29/29 [==============================] - 1s 26ms/step - loss: 1.4607 - categorical_accuracy: 0.3497 - categorical_crossentropy: 1.4051\n",
            "Epoch 179/200\n",
            "29/29 [==============================] - 1s 28ms/step - loss: 1.4600 - categorical_accuracy: 0.3489 - categorical_crossentropy: 1.4043\n",
            "Epoch 180/200\n",
            "29/29 [==============================] - 1s 31ms/step - loss: 1.4593 - categorical_accuracy: 0.3496 - categorical_crossentropy: 1.4035\n",
            "Epoch 181/200\n",
            "29/29 [==============================] - 1s 38ms/step - loss: 1.4586 - categorical_accuracy: 0.3490 - categorical_crossentropy: 1.4028\n",
            "Epoch 182/200\n",
            "29/29 [==============================] - 1s 37ms/step - loss: 1.4579 - categorical_accuracy: 0.3498 - categorical_crossentropy: 1.4020\n",
            "Epoch 183/200\n",
            "29/29 [==============================] - 1s 38ms/step - loss: 1.4572 - categorical_accuracy: 0.3497 - categorical_crossentropy: 1.4013\n",
            "Epoch 184/200\n",
            "29/29 [==============================] - 1s 40ms/step - loss: 1.4565 - categorical_accuracy: 0.3509 - categorical_crossentropy: 1.4006\n",
            "Epoch 185/200\n",
            "29/29 [==============================] - 1s 34ms/step - loss: 1.4559 - categorical_accuracy: 0.3502 - categorical_crossentropy: 1.3999\n",
            "Epoch 186/200\n",
            "29/29 [==============================] - 1s 30ms/step - loss: 1.4552 - categorical_accuracy: 0.3511 - categorical_crossentropy: 1.3991\n",
            "Epoch 187/200\n",
            "29/29 [==============================] - 1s 32ms/step - loss: 1.4545 - categorical_accuracy: 0.3515 - categorical_crossentropy: 1.3984\n",
            "Epoch 188/200\n",
            "29/29 [==============================] - 1s 32ms/step - loss: 1.4538 - categorical_accuracy: 0.3521 - categorical_crossentropy: 1.3977\n",
            "Epoch 189/200\n",
            "29/29 [==============================] - 1s 28ms/step - loss: 1.4532 - categorical_accuracy: 0.3523 - categorical_crossentropy: 1.3969\n",
            "Epoch 190/200\n",
            "29/29 [==============================] - 1s 34ms/step - loss: 1.4525 - categorical_accuracy: 0.3536 - categorical_crossentropy: 1.3963\n",
            "Epoch 191/200\n",
            "29/29 [==============================] - 1s 24ms/step - loss: 1.4518 - categorical_accuracy: 0.3535 - categorical_crossentropy: 1.3956\n",
            "Epoch 192/200\n",
            "29/29 [==============================] - 1s 31ms/step - loss: 1.4512 - categorical_accuracy: 0.3535 - categorical_crossentropy: 1.3949\n",
            "Epoch 193/200\n",
            "29/29 [==============================] - 1s 28ms/step - loss: 1.4505 - categorical_accuracy: 0.3549 - categorical_crossentropy: 1.3942\n",
            "Epoch 194/200\n",
            "29/29 [==============================] - 1s 29ms/step - loss: 1.4499 - categorical_accuracy: 0.3549 - categorical_crossentropy: 1.3935\n",
            "Epoch 195/200\n",
            "29/29 [==============================] - 1s 30ms/step - loss: 1.4492 - categorical_accuracy: 0.3553 - categorical_crossentropy: 1.3928\n",
            "Epoch 196/200\n",
            "29/29 [==============================] - 1s 44ms/step - loss: 1.4486 - categorical_accuracy: 0.3565 - categorical_crossentropy: 1.3922\n",
            "Epoch 197/200\n",
            "29/29 [==============================] - 1s 39ms/step - loss: 1.4480 - categorical_accuracy: 0.3573 - categorical_crossentropy: 1.3915\n",
            "Epoch 198/200\n",
            "29/29 [==============================] - 1s 40ms/step - loss: 1.4474 - categorical_accuracy: 0.3577 - categorical_crossentropy: 1.3908\n",
            "Epoch 199/200\n",
            "29/29 [==============================] - 1s 34ms/step - loss: 1.4467 - categorical_accuracy: 0.3576 - categorical_crossentropy: 1.3901\n",
            "Epoch 200/200\n",
            "29/29 [==============================] - 1s 31ms/step - loss: 1.4461 - categorical_accuracy: 0.3580 - categorical_crossentropy: 1.3895\n"
          ]
        },
        {
          "output_type": "execute_result",
          "data": {
            "text/plain": [
              "LearningShapelets(max_iter=200, n_shapelets_per_size={12: 6}, verbose=1,\n",
              "                  weight_regularizer=0.01)"
            ],
            "text/html": [
              "<style>#sk-container-id-1 {color: black;background-color: white;}#sk-container-id-1 pre{padding: 0;}#sk-container-id-1 div.sk-toggleable {background-color: white;}#sk-container-id-1 label.sk-toggleable__label {cursor: pointer;display: block;width: 100%;margin-bottom: 0;padding: 0.3em;box-sizing: border-box;text-align: center;}#sk-container-id-1 label.sk-toggleable__label-arrow:before {content: \"▸\";float: left;margin-right: 0.25em;color: #696969;}#sk-container-id-1 label.sk-toggleable__label-arrow:hover:before {color: black;}#sk-container-id-1 div.sk-estimator:hover label.sk-toggleable__label-arrow:before {color: black;}#sk-container-id-1 div.sk-toggleable__content {max-height: 0;max-width: 0;overflow: hidden;text-align: left;background-color: #f0f8ff;}#sk-container-id-1 div.sk-toggleable__content pre {margin: 0.2em;color: black;border-radius: 0.25em;background-color: #f0f8ff;}#sk-container-id-1 input.sk-toggleable__control:checked~div.sk-toggleable__content {max-height: 200px;max-width: 100%;overflow: auto;}#sk-container-id-1 input.sk-toggleable__control:checked~label.sk-toggleable__label-arrow:before {content: \"▾\";}#sk-container-id-1 div.sk-estimator input.sk-toggleable__control:checked~label.sk-toggleable__label {background-color: #d4ebff;}#sk-container-id-1 div.sk-label input.sk-toggleable__control:checked~label.sk-toggleable__label {background-color: #d4ebff;}#sk-container-id-1 input.sk-hidden--visually {border: 0;clip: rect(1px 1px 1px 1px);clip: rect(1px, 1px, 1px, 1px);height: 1px;margin: -1px;overflow: hidden;padding: 0;position: absolute;width: 1px;}#sk-container-id-1 div.sk-estimator {font-family: monospace;background-color: #f0f8ff;border: 1px dotted black;border-radius: 0.25em;box-sizing: border-box;margin-bottom: 0.5em;}#sk-container-id-1 div.sk-estimator:hover {background-color: #d4ebff;}#sk-container-id-1 div.sk-parallel-item::after {content: \"\";width: 100%;border-bottom: 1px solid gray;flex-grow: 1;}#sk-container-id-1 div.sk-label:hover label.sk-toggleable__label {background-color: #d4ebff;}#sk-container-id-1 div.sk-serial::before {content: \"\";position: absolute;border-left: 1px solid gray;box-sizing: border-box;top: 0;bottom: 0;left: 50%;z-index: 0;}#sk-container-id-1 div.sk-serial {display: flex;flex-direction: column;align-items: center;background-color: white;padding-right: 0.2em;padding-left: 0.2em;position: relative;}#sk-container-id-1 div.sk-item {position: relative;z-index: 1;}#sk-container-id-1 div.sk-parallel {display: flex;align-items: stretch;justify-content: center;background-color: white;position: relative;}#sk-container-id-1 div.sk-item::before, #sk-container-id-1 div.sk-parallel-item::before {content: \"\";position: absolute;border-left: 1px solid gray;box-sizing: border-box;top: 0;bottom: 0;left: 50%;z-index: -1;}#sk-container-id-1 div.sk-parallel-item {display: flex;flex-direction: column;z-index: 1;position: relative;background-color: white;}#sk-container-id-1 div.sk-parallel-item:first-child::after {align-self: flex-end;width: 50%;}#sk-container-id-1 div.sk-parallel-item:last-child::after {align-self: flex-start;width: 50%;}#sk-container-id-1 div.sk-parallel-item:only-child::after {width: 0;}#sk-container-id-1 div.sk-dashed-wrapped {border: 1px dashed gray;margin: 0 0.4em 0.5em 0.4em;box-sizing: border-box;padding-bottom: 0.4em;background-color: white;}#sk-container-id-1 div.sk-label label {font-family: monospace;font-weight: bold;display: inline-block;line-height: 1.2em;}#sk-container-id-1 div.sk-label-container {text-align: center;}#sk-container-id-1 div.sk-container {/* jupyter's `normalize.less` sets `[hidden] { display: none; }` but bootstrap.min.css set `[hidden] { display: none !important; }` so we also need the `!important` here to be able to override the default hidden behavior on the sphinx rendered scikit-learn.org. See: https://github.com/scikit-learn/scikit-learn/issues/21755 */display: inline-block !important;position: relative;}#sk-container-id-1 div.sk-text-repr-fallback {display: none;}</style><div id=\"sk-container-id-1\" class=\"sk-top-container\"><div class=\"sk-text-repr-fallback\"><pre>LearningShapelets(max_iter=200, n_shapelets_per_size={12: 6}, verbose=1,\n",
              "                  weight_regularizer=0.01)</pre><b>In a Jupyter environment, please rerun this cell to show the HTML representation or trust the notebook. <br />On GitHub, the HTML representation is unable to render, please try loading this page with nbviewer.org.</b></div><div class=\"sk-container\" hidden><div class=\"sk-item\"><div class=\"sk-estimator sk-toggleable\"><input class=\"sk-toggleable__control sk-hidden--visually\" id=\"sk-estimator-id-1\" type=\"checkbox\" checked><label for=\"sk-estimator-id-1\" class=\"sk-toggleable__label sk-toggleable__label-arrow\">LearningShapelets</label><div class=\"sk-toggleable__content\"><pre>LearningShapelets(max_iter=200, n_shapelets_per_size={12: 6}, verbose=1,\n",
              "                  weight_regularizer=0.01)</pre></div></div></div></div></div>"
            ]
          },
          "metadata": {},
          "execution_count": 36
        }
      ],
      "source": [
        "shp_clf.fit(body_gyro_x_train, y_train)"
      ]
    },
    {
      "cell_type": "code",
      "execution_count": null,
      "id": "2a4be02a-39be-43c4-bf6d-c63d12ccc308",
      "metadata": {
        "pycharm": {
          "name": "#%%\n"
        },
        "id": "2a4be02a-39be-43c4-bf6d-c63d12ccc308"
      },
      "outputs": [],
      "source": [
        "from sklearn.metrics import accuracy_score"
      ]
    },
    {
      "cell_type": "code",
      "execution_count": null,
      "id": "72ab62d7-41c2-412b-97bf-2906d28ba5fd",
      "metadata": {
        "pycharm": {
          "name": "#%%\n"
        },
        "colab": {
          "base_uri": "https://localhost:8080/"
        },
        "id": "72ab62d7-41c2-412b-97bf-2906d28ba5fd",
        "outputId": "7138f0bb-4bd2-46cf-ecf1-4c296b1caffa"
      },
      "outputs": [
        {
          "output_type": "stream",
          "name": "stdout",
          "text": [
            "29/29 [==============================] - 1s 12ms/step\n"
          ]
        }
      ],
      "source": [
        "predicted_locations = shp_clf.locate(body_gyro_x_train)"
      ]
    },
    {
      "cell_type": "code",
      "execution_count": null,
      "id": "45b3e17d-d214-482f-b2ac-06446b485b63",
      "metadata": {
        "pycharm": {
          "name": "#%%\n"
        },
        "colab": {
          "base_uri": "https://localhost:8080/",
          "height": 430
        },
        "id": "45b3e17d-d214-482f-b2ac-06446b485b63",
        "outputId": "ad78179e-8b7c-48d5-e9d4-a56a2a9e3c71"
      },
      "outputs": [
        {
          "output_type": "display_data",
          "data": {
            "text/plain": [
              "<Figure size 640x480 with 1 Axes>"
            ],
            "image/png": "[encoded data removed]"
          },
          "metadata": {}
        }
      ],
      "source": [
        "ts_id = 3915\n",
        "plt.figure()\n",
        "n_shapelets = sum(shapelet_sizes.values())\n",
        "\n",
        "plt.plot(body_gyro_x_train.T[ts_id])\n",
        "for idx_shp, shp in enumerate(shp_clf.shapelets_):\n",
        "    t0 = predicted_locations[ts_id, idx_shp]\n",
        "    plt.plot(np.arange(t0, t0 + len(shp)), shp, linewidth=2)"
      ]
    },
    {
      "cell_type": "code",
      "execution_count": null,
      "id": "37862839-6b43-4062-b26a-2c76fb7d8eb1",
      "metadata": {
        "colab": {
          "base_uri": "https://localhost:8080/",
          "height": 830
        },
        "id": "37862839-6b43-4062-b26a-2c76fb7d8eb1",
        "outputId": "c098037e-3e47-4ff9-8356-18c113cdf36d"
      },
      "outputs": [
        {
          "output_type": "display_data",
          "data": {
            "text/plain": [
              "<Figure size 1500x1000 with 1 Axes>"
            ],
            "image/png": "[encoded data removed]"
          },
          "metadata": {}
        }
      ],
      "source": [
        "plt.figure(figsize=(15,10))\n",
        "plt.plot(body_gyro_x_train.T[4871], color='green')\n",
        "plt.show()"
      ]
    },
    {
      "cell_type": "code",
      "execution_count": null,
      "id": "8af98825-738e-4852-a2ae-02913378b614",
      "metadata": {
        "colab": {
          "base_uri": "https://localhost:8080/",
          "height": 830
        },
        "id": "8af98825-738e-4852-a2ae-02913378b614",
        "outputId": "8e63bffb-66b8-4d1d-8c21-572a23e3c166"
      },
      "outputs": [
        {
          "output_type": "display_data",
          "data": {
            "text/plain": [
              "<Figure size 1500x1000 with 1 Axes>"
            ],
            "image/png": "[encoded data removed]"
          },
          "metadata": {}
        }
      ],
      "source": [
        "plt.figure(figsize=(15,10))\n",
        "plt.plot(body_gyro_x_train.T[3915], color='red')\n",
        "plt.show()"
      ]
    },
    {
      "cell_type": "code",
      "source": [
        "!pip install matrixprofile"
      ],
      "metadata": {
        "colab": {
          "base_uri": "https://localhost:8080/"
        },
        "id": "ckbtUq27Aarl",
        "outputId": "fced0d28-e791-483c-a7bb-352c43da66a5"
      },
      "id": "ckbtUq27Aarl",
      "execution_count": null,
      "outputs": [
        {
          "output_type": "stream",
          "name": "stdout",
          "text": [
            "Collecting matrixprofile\n",
            "  Downloading matrixprofile-1.1.10.tar.gz (331 kB)\n",
            "\u001b[2K     \u001b[90m━━━━━━━━━━━━━━━━━━━━━━━━━━━━━━━━━━━━━━━\u001b[0m \u001b[32m331.6/331.6 kB\u001b[0m \u001b[31m3.8 MB/s\u001b[0m eta \u001b[36m0:00:00\u001b[0m\n",
            "\u001b[?25h  \u001b[1;31merror\u001b[0m: \u001b[1msubprocess-exited-with-error\u001b[0m\n",
            "  \n",
            "  \u001b[31m×\u001b[0m \u001b[32mpython setup.py egg_info\u001b[0m did not run successfully.\n",
            "  \u001b[31m│\u001b[0m exit code: \u001b[1;36m1\u001b[0m\n",
            "  \u001b[31m╰─>\u001b[0m See above for output.\n",
            "  \n",
            "  \u001b[1;35mnote\u001b[0m: This error originates from a subprocess, and is likely not a problem with pip.\n",
            "  Preparing metadata (setup.py) ... \u001b[?25l\u001b[?25herror\n",
            "\u001b[1;31merror\u001b[0m: \u001b[1mmetadata-generation-failed\u001b[0m\n",
            "\n",
            "\u001b[31m×\u001b[0m Encountered error while generating package metadata.\n",
            "\u001b[31m╰─>\u001b[0m See above for output.\n",
            "\n",
            "\u001b[1;35mnote\u001b[0m: This is an issue with the package mentioned above, not pip.\n",
            "\u001b[1;36mhint\u001b[0m: See above for details.\n"
          ]
        }
      ]
    },
    {
      "cell_type": "code",
      "execution_count": null,
      "id": "c3f802ea-ba7d-41b9-9056-9488d67df9b3",
      "metadata": {
        "colab": {
          "base_uri": "https://localhost:8080/",
          "height": 339
        },
        "id": "c3f802ea-ba7d-41b9-9056-9488d67df9b3",
        "outputId": "de3d32cb-d346-415c-f79e-fbbf74d07ad1"
      },
      "outputs": [
        {
          "output_type": "error",
          "ename": "ModuleNotFoundError",
          "evalue": "ignored",
          "traceback": [
            "\u001b[0;31m---------------------------------------------------------------------------\u001b[0m",
            "\u001b[0;31mModuleNotFoundError\u001b[0m                       Traceback (most recent call last)",
            "\u001b[0;32m<ipython-input-45-0d00e7bfbb84>\u001b[0m in \u001b[0;36m<cell line: 1>\u001b[0;34m()\u001b[0m\n\u001b[0;32m----> 1\u001b[0;31m \u001b[0;32mfrom\u001b[0m \u001b[0mmatrixprofile\u001b[0m \u001b[0;32mimport\u001b[0m \u001b[0;34m*\u001b[0m\u001b[0;34m\u001b[0m\u001b[0;34m\u001b[0m\u001b[0m\n\u001b[0m\u001b[1;32m      2\u001b[0m \u001b[0mw\u001b[0m \u001b[0;34m=\u001b[0m \u001b[0;36m3\u001b[0m\u001b[0;34m\u001b[0m\u001b[0;34m\u001b[0m\u001b[0m\n\u001b[1;32m      3\u001b[0m \u001b[0mmp\u001b[0m\u001b[0;34m,\u001b[0m \u001b[0mmpi\u001b[0m \u001b[0;34m=\u001b[0m \u001b[0mmatrixProfile\u001b[0m\u001b[0;34m.\u001b[0m\u001b[0mstomp\u001b[0m\u001b[0;34m(\u001b[0m\u001b[0mts\u001b[0m\u001b[0;34m.\u001b[0m\u001b[0mvalues\u001b[0m\u001b[0;34m,\u001b[0m \u001b[0mw\u001b[0m\u001b[0;34m)\u001b[0m\u001b[0;34m\u001b[0m\u001b[0;34m\u001b[0m\u001b[0m\n",
            "\u001b[0;31mModuleNotFoundError\u001b[0m: No module named 'matrixprofile'",
            "",
            "\u001b[0;31m---------------------------------------------------------------------------\u001b[0;32m\nNOTE: If your import is failing due to a missing package, you can\nmanually install dependencies using either !pip or !apt.\n\nTo view examples of installing some common dependencies, click the\n\"Open Examples\" button below.\n\u001b[0;31m---------------------------------------------------------------------------\u001b[0m\n"
          ],
          "errorDetails": {
            "actions": [
              {
                "action": "open_url",
                "actionText": "Open Examples",
                "url": "/notebooks/snippets/importing_libraries.ipynb"
              }
            ]
          }
        }
      ],
      "source": [
        "from matrixprofile import *\n",
        "w = 3\n",
        "mp, mpi = matrixProfile.stomp(ts.values, w)"
      ]
    },
    {
      "cell_type": "markdown",
      "id": "a36f16fb-7168-485b-b5f7-4553bab90a3e",
      "metadata": {
        "id": "a36f16fb-7168-485b-b5f7-4553bab90a3e"
      },
      "source": [
        "# Transformations"
      ]
    },
    {
      "cell_type": "markdown",
      "id": "f292c669-dabf-494b-9962-8f76c7ea6940",
      "metadata": {
        "id": "f292c669-dabf-494b-9962-8f76c7ea6940"
      },
      "source": [
        "### Transformation I: Offset Translation"
      ]
    },
    {
      "cell_type": "code",
      "execution_count": null,
      "id": "57cd69ed-2a4c-4256-8727-14f622db76f5",
      "metadata": {
        "pycharm": {
          "name": "#%%\n"
        },
        "id": "57cd69ed-2a4c-4256-8727-14f622db76f5"
      },
      "outputs": [],
      "source": [
        "plt.figure(figsize=(15,10))\n",
        "plt.plot(body_gyro_x_train.T[3750] - body_gyro_x_train.T[3750].mean())\n",
        "plt.plot(body_gyro_x_train.T[3915] - body_gyro_x_train.T[3915].mean())\n",
        "plt.show()"
      ]
    },
    {
      "cell_type": "markdown",
      "id": "25f9c2b2-2fc4-4ccd-bb79-0a80f2c14048",
      "metadata": {
        "id": "25f9c2b2-2fc4-4ccd-bb79-0a80f2c14048"
      },
      "source": [
        "### Transformation II: Amplitude Scaling"
      ]
    },
    {
      "cell_type": "code",
      "execution_count": null,
      "id": "a443b233-d7d2-4467-a4e9-60fa4aeb44ae",
      "metadata": {
        "pycharm": {
          "name": "#%%\n"
        },
        "id": "a443b233-d7d2-4467-a4e9-60fa4aeb44ae"
      },
      "outputs": [],
      "source": [
        "plt.figure(figsize=(15,10))\n",
        "plt.plot((body_gyro_x_train.T[3750] - body_gyro_x_train.T[3750].mean())/body_gyro_x_train.T[3750].std())\n",
        "plt.plot((body_gyro_x_train.T[3915] - body_gyro_x_train.T[3915].mean())/body_gyro_x_train.T[3915].std())\n",
        "plt.show()"
      ]
    },
    {
      "cell_type": "code",
      "execution_count": null,
      "id": "04d72f73-715b-4e0a-89f3-8879d6d598db",
      "metadata": {
        "id": "04d72f73-715b-4e0a-89f3-8879d6d598db"
      },
      "outputs": [],
      "source": [
        "plt.figure(figsize=(15,10))\n",
        "scaler = TimeSeriesScalerMeanVariance(mu=0., std=1.)  # Rescale time series\n",
        "ts1_scaled = scaler.fit_transform(body_gyro_x_train.T[3750].values.reshape(1, -1)).flatten()\n",
        "ts2_scaled = scaler.fit_transform(body_gyro_x_train.T[3915].values.reshape(1, -1)).flatten()\n",
        "\n",
        "plt.plot(ts1_scaled)\n",
        "plt.plot(ts2_scaled)\n",
        "plt.show()"
      ]
    },
    {
      "cell_type": "markdown",
      "id": "b08e15de-947e-44a7-8e97-097a49d07bc1",
      "metadata": {
        "pycharm": {
          "name": "#%% md\n"
        },
        "id": "b08e15de-947e-44a7-8e97-097a49d07bc1"
      },
      "source": [
        "# Clustering"
      ]
    },
    {
      "cell_type": "markdown",
      "id": "95e6e3c4-d77a-4e7a-8ff1-fab70643684d",
      "metadata": {
        "tags": [],
        "id": "95e6e3c4-d77a-4e7a-8ff1-fab70643684d"
      },
      "source": [
        "# Preparazione delle classi"
      ]
    },
    {
      "cell_type": "code",
      "execution_count": null,
      "id": "f790c79a-ff40-4314-8d02-8148e1db4d67",
      "metadata": {
        "pycharm": {
          "name": "#%%\n"
        },
        "id": "f790c79a-ff40-4314-8d02-8148e1db4d67"
      },
      "outputs": [],
      "source": [
        "body_gyro_x_train = pd.read_csv('body_gyro_x_train.txt', delim_whitespace=True, header=None, encoding='latin-1')\n",
        "#body_gyro_x_train['subject'] = pd.read_csv('subject_train.txt', header=None, squeeze=True)\n",
        "y_train = pd.read_csv('y_train.txt', names=['Activity'], squeeze=True)\n",
        "y_train_labels = y_train.map({1: 'WALKING', 2:'WALKING_UPSTAIRS',3:'WALKING_DOWNSTAIRS', 4:'SITTING', 5:'STANDING',6:'LAYING'})\n",
        "\n",
        "# put all columns in a single dataframe\n",
        "#train = body_gyro_x_train\n",
        "body_gyro_x_train['Activity'] = y_train\n",
        "body_gyro_x_train['ActivityName'] = y_train_labels"
      ]
    },
    {
      "cell_type": "code",
      "execution_count": null,
      "id": "1195e7ca-bade-479f-b980-7cf082a3ff46",
      "metadata": {
        "id": "1195e7ca-bade-479f-b980-7cf082a3ff46"
      },
      "outputs": [],
      "source": [
        "sitting_train = []\n",
        "for i in range(len(body_gyro_x_train)):\n",
        "    if body_gyro_x_train.iloc[i]['ActivityName'] == 'SITTING':\n",
        "        sitting_train.append(i)\n",
        "\n",
        "standing_train = []\n",
        "for i in range(len(body_gyro_x_train)):\n",
        "    if body_gyro_x_train.iloc[i]['ActivityName'] == 'STANDING':\n",
        "        standing_train.append(i)\n",
        "\n",
        "laying_train = []\n",
        "for i in range(len(body_gyro_x_train)):\n",
        "    if body_gyro_x_train.iloc[i]['ActivityName'] == 'LAYING':\n",
        "        laying_train.append(i)"
      ]
    },
    {
      "cell_type": "raw",
      "id": "e1d4be67-7627-45dc-a65b-c5792f0b22e1",
      "metadata": {
        "id": "e1d4be67-7627-45dc-a65b-c5792f0b22e1"
      },
      "source": [
        "sitting_test = []\n",
        "for i in range(len(X_test)):\n",
        "    if X_test.iloc[i][563] == 'SITTING':\n",
        "        sitting_test.append(i)\n",
        "\n",
        "standing_test = []\n",
        "for i in range(len(X_test)):\n",
        "    if X_test.iloc[i][563] == 'STANDING':\n",
        "        standing_test.append(i)\n",
        "\n",
        "laying_test = []\n",
        "for i in range(len(X_test)):\n",
        "    if X_test.iloc[i][563] == 'LAYING':\n",
        "        laying_test.append(i)"
      ]
    },
    {
      "cell_type": "code",
      "execution_count": null,
      "id": "f946471a-44af-410b-95cc-ff1cbd8c9b0b",
      "metadata": {
        "id": "f946471a-44af-410b-95cc-ff1cbd8c9b0b"
      },
      "outputs": [],
      "source": [
        "droptrian = sitting_train + standing_train + laying_train"
      ]
    },
    {
      "cell_type": "code",
      "source": [
        "droptrian"
      ],
      "metadata": {
        "colab": {
          "base_uri": "https://localhost:8080/"
        },
        "id": "iHma-EB8A2C3",
        "outputId": "5b29b384-77e1-4582-e211-be159f44eb40"
      },
      "id": "iHma-EB8A2C3",
      "execution_count": null,
      "outputs": [
        {
          "output_type": "execute_result",
          "data": {
            "text/plain": [
              "[27,\n",
              " 28,\n",
              " 29,\n",
              " 30,\n",
              " 31,\n",
              " 32,\n",
              " 33,\n",
              " 34,\n",
              " 35,\n",
              " 36,\n",
              " 37,\n",
              " 38,\n",
              " 39,\n",
              " 40,\n",
              " 41,\n",
              " 42,\n",
              " 43,\n",
              " 44,\n",
              " 45,\n",
              " 46,\n",
              " 47,\n",
              " 48,\n",
              " 49,\n",
              " 50,\n",
              " 202,\n",
              " 203,\n",
              " 204,\n",
              " 205,\n",
              " 206,\n",
              " 207,\n",
              " 208,\n",
              " 209,\n",
              " 210,\n",
              " 211,\n",
              " 212,\n",
              " 225,\n",
              " 226,\n",
              " 227,\n",
              " 228,\n",
              " 229,\n",
              " 230,\n",
              " 231,\n",
              " 232,\n",
              " 233,\n",
              " 234,\n",
              " 235,\n",
              " 236,\n",
              " 378,\n",
              " 379,\n",
              " 380,\n",
              " 381,\n",
              " 382,\n",
              " 383,\n",
              " 384,\n",
              " 385,\n",
              " 386,\n",
              " 387,\n",
              " 388,\n",
              " 389,\n",
              " 390,\n",
              " 391,\n",
              " 392,\n",
              " 393,\n",
              " 394,\n",
              " 395,\n",
              " 396,\n",
              " 397,\n",
              " 398,\n",
              " 399,\n",
              " 400,\n",
              " 401,\n",
              " 402,\n",
              " 403,\n",
              " 552,\n",
              " 553,\n",
              " 554,\n",
              " 555,\n",
              " 556,\n",
              " 557,\n",
              " 558,\n",
              " 559,\n",
              " 560,\n",
              " 561,\n",
              " 562,\n",
              " 563,\n",
              " 564,\n",
              " 565,\n",
              " 566,\n",
              " 567,\n",
              " 568,\n",
              " 569,\n",
              " 570,\n",
              " 571,\n",
              " 572,\n",
              " 573,\n",
              " 574,\n",
              " 575,\n",
              " 576,\n",
              " 577,\n",
              " 716,\n",
              " 717,\n",
              " 718,\n",
              " 719,\n",
              " 720,\n",
              " 721,\n",
              " 722,\n",
              " 723,\n",
              " 724,\n",
              " 725,\n",
              " 726,\n",
              " 727,\n",
              " 728,\n",
              " 729,\n",
              " 730,\n",
              " 731,\n",
              " 732,\n",
              " 733,\n",
              " 734,\n",
              " 735,\n",
              " 736,\n",
              " 737,\n",
              " 738,\n",
              " 875,\n",
              " 876,\n",
              " 877,\n",
              " 878,\n",
              " 879,\n",
              " 880,\n",
              " 881,\n",
              " 882,\n",
              " 883,\n",
              " 884,\n",
              " 885,\n",
              " 886,\n",
              " 887,\n",
              " 888,\n",
              " 889,\n",
              " 890,\n",
              " 891,\n",
              " 892,\n",
              " 893,\n",
              " 894,\n",
              " 895,\n",
              " 1020,\n",
              " 1021,\n",
              " 1022,\n",
              " 1023,\n",
              " 1024,\n",
              " 1025,\n",
              " 1026,\n",
              " 1027,\n",
              " 1028,\n",
              " 1029,\n",
              " 1030,\n",
              " 1031,\n",
              " 1032,\n",
              " 1033,\n",
              " 1034,\n",
              " 1035,\n",
              " 1036,\n",
              " 1037,\n",
              " 1038,\n",
              " 1039,\n",
              " 1040,\n",
              " 1041,\n",
              " 1042,\n",
              " 1043,\n",
              " 1044,\n",
              " 1045,\n",
              " 1046,\n",
              " 1047,\n",
              " 1048,\n",
              " 1183,\n",
              " 1184,\n",
              " 1185,\n",
              " 1186,\n",
              " 1187,\n",
              " 1188,\n",
              " 1189,\n",
              " 1190,\n",
              " 1191,\n",
              " 1192,\n",
              " 1193,\n",
              " 1194,\n",
              " 1195,\n",
              " 1196,\n",
              " 1197,\n",
              " 1198,\n",
              " 1199,\n",
              " 1200,\n",
              " 1201,\n",
              " 1202,\n",
              " 1203,\n",
              " 1204,\n",
              " 1205,\n",
              " 1206,\n",
              " 1207,\n",
              " 1208,\n",
              " 1343,\n",
              " 1344,\n",
              " 1345,\n",
              " 1346,\n",
              " 1347,\n",
              " 1348,\n",
              " 1349,\n",
              " 1350,\n",
              " 1351,\n",
              " 1352,\n",
              " 1353,\n",
              " 1354,\n",
              " 1355,\n",
              " 1356,\n",
              " 1357,\n",
              " 1358,\n",
              " 1359,\n",
              " 1360,\n",
              " 1361,\n",
              " 1362,\n",
              " 1363,\n",
              " 1364,\n",
              " 1365,\n",
              " 1366,\n",
              " 1367,\n",
              " 1368,\n",
              " 1501,\n",
              " 1502,\n",
              " 1503,\n",
              " 1504,\n",
              " 1505,\n",
              " 1506,\n",
              " 1507,\n",
              " 1508,\n",
              " 1509,\n",
              " 1510,\n",
              " 1511,\n",
              " 1512,\n",
              " 1513,\n",
              " 1514,\n",
              " 1515,\n",
              " 1516,\n",
              " 1517,\n",
              " 1518,\n",
              " 1519,\n",
              " 1520,\n",
              " 1521,\n",
              " 1522,\n",
              " 1645,\n",
              " 1646,\n",
              " 1647,\n",
              " 1648,\n",
              " 1649,\n",
              " 1650,\n",
              " 1651,\n",
              " 1652,\n",
              " 1653,\n",
              " 1654,\n",
              " 1655,\n",
              " 1656,\n",
              " 1657,\n",
              " 1658,\n",
              " 1659,\n",
              " 1660,\n",
              " 1661,\n",
              " 1662,\n",
              " 1663,\n",
              " 1664,\n",
              " 1665,\n",
              " 1666,\n",
              " 1789,\n",
              " 1790,\n",
              " 1791,\n",
              " 1792,\n",
              " 1793,\n",
              " 1794,\n",
              " 1795,\n",
              " 1796,\n",
              " 1797,\n",
              " 1798,\n",
              " 1799,\n",
              " 1800,\n",
              " 1801,\n",
              " 1802,\n",
              " 1803,\n",
              " 1804,\n",
              " 1805,\n",
              " 1806,\n",
              " 1807,\n",
              " 1808,\n",
              " 1809,\n",
              " 1810,\n",
              " 1811,\n",
              " 1812,\n",
              " 1925,\n",
              " 1926,\n",
              " 1927,\n",
              " 1928,\n",
              " 1929,\n",
              " 1930,\n",
              " 1931,\n",
              " 1932,\n",
              " 1933,\n",
              " 1934,\n",
              " 1935,\n",
              " 1936,\n",
              " 1937,\n",
              " 1938,\n",
              " 1939,\n",
              " 1940,\n",
              " 1941,\n",
              " 1942,\n",
              " 1943,\n",
              " 1944,\n",
              " 1945,\n",
              " 1946,\n",
              " 1947,\n",
              " 1948,\n",
              " 1949,\n",
              " 1950,\n",
              " 2084,\n",
              " 2085,\n",
              " 2086,\n",
              " 2087,\n",
              " 2088,\n",
              " 2089,\n",
              " 2090,\n",
              " 2091,\n",
              " 2092,\n",
              " 2093,\n",
              " 2094,\n",
              " 2095,\n",
              " 2096,\n",
              " 2097,\n",
              " 2098,\n",
              " 2099,\n",
              " 2100,\n",
              " 2101,\n",
              " 2102,\n",
              " 2103,\n",
              " 2104,\n",
              " 2105,\n",
              " 2106,\n",
              " 2107,\n",
              " 2108,\n",
              " 2109,\n",
              " 2110,\n",
              " 2250,\n",
              " 2251,\n",
              " 2252,\n",
              " 2253,\n",
              " 2254,\n",
              " 2255,\n",
              " 2256,\n",
              " 2257,\n",
              " 2258,\n",
              " 2259,\n",
              " 2260,\n",
              " 2261,\n",
              " 2262,\n",
              " 2263,\n",
              " 2264,\n",
              " 2265,\n",
              " 2266,\n",
              " 2267,\n",
              " 2268,\n",
              " 2269,\n",
              " 2270,\n",
              " 2271,\n",
              " 2272,\n",
              " 2273,\n",
              " 2274,\n",
              " 2275,\n",
              " 2412,\n",
              " 2413,\n",
              " 2414,\n",
              " 2415,\n",
              " 2416,\n",
              " 2417,\n",
              " 2418,\n",
              " 2419,\n",
              " 2420,\n",
              " 2421,\n",
              " 2422,\n",
              " 2423,\n",
              " 2424,\n",
              " 2425,\n",
              " 2426,\n",
              " 2427,\n",
              " 2428,\n",
              " 2429,\n",
              " 2430,\n",
              " 2431,\n",
              " 2432,\n",
              " 2433,\n",
              " 2434,\n",
              " 2435,\n",
              " 2436,\n",
              " 2437,\n",
              " 2438,\n",
              " 2439,\n",
              " 2570,\n",
              " 2571,\n",
              " 2572,\n",
              " 2573,\n",
              " 2574,\n",
              " 2575,\n",
              " 2576,\n",
              " 2577,\n",
              " 2578,\n",
              " 2579,\n",
              " 2580,\n",
              " 2581,\n",
              " 2582,\n",
              " 2583,\n",
              " 2584,\n",
              " 2585,\n",
              " 2586,\n",
              " 2587,\n",
              " 2588,\n",
              " 2589,\n",
              " 2590,\n",
              " 2591,\n",
              " 2592,\n",
              " 2593,\n",
              " 2594,\n",
              " 2595,\n",
              " 2596,\n",
              " 2730,\n",
              " 2731,\n",
              " 2732,\n",
              " 2733,\n",
              " 2734,\n",
              " 2735,\n",
              " 2736,\n",
              " 2737,\n",
              " 2738,\n",
              " 2739,\n",
              " 2740,\n",
              " 2741,\n",
              " 2742,\n",
              " 2743,\n",
              " 2744,\n",
              " 2745,\n",
              " 2746,\n",
              " 2747,\n",
              " 2748,\n",
              " 2749,\n",
              " 2750,\n",
              " 2751,\n",
              " 2752,\n",
              " 2753,\n",
              " 2754,\n",
              " 2755,\n",
              " 2756,\n",
              " 2757,\n",
              " 2758,\n",
              " 2759,\n",
              " 2760,\n",
              " 2761,\n",
              " 2907,\n",
              " 2908,\n",
              " 2909,\n",
              " 2910,\n",
              " 2911,\n",
              " 2912,\n",
              " 2913,\n",
              " 2914,\n",
              " 2915,\n",
              " 2916,\n",
              " 2917,\n",
              " 2918,\n",
              " 2919,\n",
              " 2920,\n",
              " 2921,\n",
              " 2922,\n",
              " 2923,\n",
              " 2924,\n",
              " 2925,\n",
              " 2926,\n",
              " 2927,\n",
              " 2928,\n",
              " 2929,\n",
              " 2930,\n",
              " 2931,\n",
              " 2932,\n",
              " 2933,\n",
              " 2934,\n",
              " 2935,\n",
              " 2936,\n",
              " 2937,\n",
              " 3092,\n",
              " 3093,\n",
              " 3094,\n",
              " 3095,\n",
              " 3096,\n",
              " 3097,\n",
              " 3098,\n",
              " 3099,\n",
              " 3100,\n",
              " 3101,\n",
              " 3102,\n",
              " 3103,\n",
              " 3104,\n",
              " 3105,\n",
              " 3106,\n",
              " 3107,\n",
              " 3108,\n",
              " 3109,\n",
              " 3110,\n",
              " 3111,\n",
              " 3112,\n",
              " 3113,\n",
              " 3114,\n",
              " 3115,\n",
              " 3116,\n",
              " 3117,\n",
              " 3118,\n",
              " 3119,\n",
              " 3120,\n",
              " 3121,\n",
              " 3122,\n",
              " 3123,\n",
              " 3124,\n",
              " 3125,\n",
              " 3126,\n",
              " 3127,\n",
              " 3128,\n",
              " 3129,\n",
              " 3280,\n",
              " 3281,\n",
              " 3282,\n",
              " 3283,\n",
              " 3284,\n",
              " 3285,\n",
              " 3286,\n",
              " 3287,\n",
              " 3288,\n",
              " 3289,\n",
              " 3290,\n",
              " 3291,\n",
              " 3292,\n",
              " 3293,\n",
              " 3294,\n",
              " 3295,\n",
              " 3296,\n",
              " 3297,\n",
              " 3298,\n",
              " 3299,\n",
              " 3300,\n",
              " 3301,\n",
              " 3302,\n",
              " 3303,\n",
              " 3304,\n",
              " 3305,\n",
              " 3306,\n",
              " 3307,\n",
              " 3308,\n",
              " 3309,\n",
              " 3310,\n",
              " 3311,\n",
              " 3312,\n",
              " 3462,\n",
              " 3463,\n",
              " 3464,\n",
              " 3465,\n",
              " 3466,\n",
              " 3467,\n",
              " 3468,\n",
              " 3469,\n",
              " 3470,\n",
              " 3471,\n",
              " 3472,\n",
              " 3473,\n",
              " 3474,\n",
              " 3475,\n",
              " 3476,\n",
              " 3477,\n",
              " 3478,\n",
              " 3479,\n",
              " 3480,\n",
              " 3481,\n",
              " 3482,\n",
              " 3483,\n",
              " 3484,\n",
              " 3485,\n",
              " 3486,\n",
              " 3487,\n",
              " 3488,\n",
              " 3489,\n",
              " 3490,\n",
              " 3491,\n",
              " 3492,\n",
              " 3646,\n",
              " 3647,\n",
              " 3648,\n",
              " 3649,\n",
              " 3650,\n",
              " 3651,\n",
              " 3652,\n",
              " 3653,\n",
              " 3654,\n",
              " 3655,\n",
              " 3656,\n",
              " 3657,\n",
              " 3658,\n",
              " 3659,\n",
              " 3660,\n",
              " 3661,\n",
              " 3662,\n",
              " 3663,\n",
              " 3664,\n",
              " 3665,\n",
              " 3666,\n",
              " 3667,\n",
              " 3668,\n",
              " 3669,\n",
              " 3670,\n",
              " 3671,\n",
              " 3672,\n",
              " 3673,\n",
              " 3674,\n",
              " 3675,\n",
              " 3676,\n",
              " 3677,\n",
              " 3678,\n",
              " 3679,\n",
              " 3680,\n",
              " 3681,\n",
              " 3682,\n",
              " 3825,\n",
              " 3826,\n",
              " 3827,\n",
              " 3828,\n",
              " 3829,\n",
              " 3830,\n",
              " 3831,\n",
              " 3832,\n",
              " 3833,\n",
              " 3834,\n",
              " 3835,\n",
              " 3836,\n",
              " 3837,\n",
              " 3838,\n",
              " 3839,\n",
              " 3840,\n",
              " 3841,\n",
              " 3842,\n",
              " 3843,\n",
              " 3844,\n",
              " 3845,\n",
              " 3846,\n",
              " 3847,\n",
              " 3848,\n",
              " 3849,\n",
              " 3850,\n",
              " 3851,\n",
              " 3852,\n",
              " 3853,\n",
              " 3854,\n",
              " 3855,\n",
              " 3856,\n",
              " 3857,\n",
              " 3858,\n",
              " 3859,\n",
              " 3860,\n",
              " 4010,\n",
              " 4011,\n",
              " 4012,\n",
              " 4013,\n",
              " 4014,\n",
              " 4015,\n",
              " 4016,\n",
              " 4017,\n",
              " 4018,\n",
              " 4019,\n",
              " 4020,\n",
              " 4021,\n",
              " 4022,\n",
              " 4023,\n",
              " 4024,\n",
              " 4025,\n",
              " 4026,\n",
              " 4027,\n",
              " 4028,\n",
              " 4029,\n",
              " 4030,\n",
              " 4031,\n",
              " 4032,\n",
              " 4033,\n",
              " 4034,\n",
              " 4035,\n",
              " 4036,\n",
              " 4037,\n",
              " 4038,\n",
              " 4039,\n",
              " 4040,\n",
              " 4041,\n",
              " 4042,\n",
              " 4043,\n",
              " 4044,\n",
              " 4045,\n",
              " 4046,\n",
              " 4047,\n",
              " 4048,\n",
              " 4049,\n",
              " 4050,\n",
              " 4051,\n",
              " 4052,\n",
              " 4053,\n",
              " 4054,\n",
              " 4055,\n",
              " 4056,\n",
              " 4220,\n",
              " 4221,\n",
              " 4222,\n",
              " 4223,\n",
              " 4224,\n",
              " 4225,\n",
              " 4226,\n",
              " 4227,\n",
              " 4228,\n",
              " 4229,\n",
              " 4230,\n",
              " 4231,\n",
              " 4232,\n",
              " 4233,\n",
              " 4234,\n",
              " 4235,\n",
              " 4236,\n",
              " 4237,\n",
              " 4238,\n",
              " 4239,\n",
              " 4240,\n",
              " 4241,\n",
              " 4242,\n",
              " 4243,\n",
              " 4244,\n",
              " 4245,\n",
              " 4246,\n",
              " 4247,\n",
              " 4248,\n",
              " 4249,\n",
              " 4250,\n",
              " 4251,\n",
              " 4252,\n",
              " 4253,\n",
              " 4254,\n",
              " 4255,\n",
              " 4256,\n",
              " 4257,\n",
              " 4403,\n",
              " 4404,\n",
              " 4405,\n",
              " 4406,\n",
              " 4407,\n",
              " 4408,\n",
              " 4409,\n",
              " 4410,\n",
              " 4411,\n",
              " 4412,\n",
              " 4413,\n",
              " 4414,\n",
              " 4415,\n",
              " 4416,\n",
              " 4417,\n",
              " 4418,\n",
              " 4419,\n",
              " 4420,\n",
              " 4421,\n",
              " 4422,\n",
              " 4423,\n",
              " 4424,\n",
              " 4425,\n",
              " 4426,\n",
              " 4427,\n",
              " 4428,\n",
              " 4429,\n",
              " 4430,\n",
              " 4431,\n",
              " 4432,\n",
              " 4433,\n",
              " 4434,\n",
              " 4567,\n",
              " 4568,\n",
              " 4569,\n",
              " 4570,\n",
              " 4571,\n",
              " 4572,\n",
              " 4573,\n",
              " 4574,\n",
              " 4575,\n",
              " 4576,\n",
              " 4577,\n",
              " 4578,\n",
              " 4579,\n",
              " 4580,\n",
              " 4581,\n",
              " 4582,\n",
              " 4583,\n",
              " 4584,\n",
              " 4585,\n",
              " 4586,\n",
              " 4587,\n",
              " 4588,\n",
              " 4589,\n",
              " 4590,\n",
              " 4591,\n",
              " 4592,\n",
              " 4593,\n",
              " 4594,\n",
              " 4595,\n",
              " 4596,\n",
              " 4727,\n",
              " 4728,\n",
              " 4729,\n",
              " 4730,\n",
              " 4731,\n",
              " 4732,\n",
              " 4733,\n",
              " 4734,\n",
              " 4735,\n",
              " 4736,\n",
              " 4737,\n",
              " 4738,\n",
              " 4739,\n",
              " 4740,\n",
              " 4741,\n",
              " 4742,\n",
              " 4743,\n",
              " 4744,\n",
              " 4745,\n",
              " 4746,\n",
              " 4747,\n",
              " 4748,\n",
              " 4749,\n",
              " 4750,\n",
              " 4751,\n",
              " 4752,\n",
              " 4753,\n",
              " 4754,\n",
              " 4755,\n",
              " 4756,\n",
              " 4757,\n",
              " 4758,\n",
              " 4759,\n",
              " 4760,\n",
              " 4761,\n",
              " 4762,\n",
              " 4763,\n",
              " 4764,\n",
              " 4915,\n",
              " 4916,\n",
              " 4917,\n",
              " 4918,\n",
              " 4919,\n",
              " 4920,\n",
              " 4921,\n",
              " 4922,\n",
              " 4923,\n",
              " 4924,\n",
              " 4925,\n",
              " 4926,\n",
              " 4927,\n",
              " 4928,\n",
              " 4929,\n",
              " 4930,\n",
              " 4931,\n",
              " 4932,\n",
              " 4933,\n",
              " 4934,\n",
              " 4935,\n",
              " 4936,\n",
              " 4937,\n",
              " 4938,\n",
              " 4939,\n",
              " 4940,\n",
              " 4941,\n",
              " 4942,\n",
              " 4943,\n",
              " 4944,\n",
              " 5103,\n",
              " 5104,\n",
              " 5105,\n",
              " 5106,\n",
              " 5107,\n",
              " 5108,\n",
              " 5109,\n",
              " 5110,\n",
              " 5111,\n",
              " 5112,\n",
              " 5113,\n",
              " 5114,\n",
              " 5115,\n",
              " 5116,\n",
              " 5117,\n",
              " 5118,\n",
              " 5119,\n",
              " 5120,\n",
              " 5121,\n",
              " 5122,\n",
              " 5123,\n",
              " 5124,\n",
              " 5125,\n",
              " 5126,\n",
              " 5127,\n",
              " 5128,\n",
              " 5129,\n",
              " 5130,\n",
              " 5131,\n",
              " 5132,\n",
              " 5133,\n",
              " 5134,\n",
              " 5135,\n",
              " 5136,\n",
              " 5308,\n",
              " 5309,\n",
              " 5310,\n",
              " 5311,\n",
              " 5312,\n",
              " 5313,\n",
              " 5314,\n",
              " 5315,\n",
              " 5316,\n",
              " 5317,\n",
              " 5318,\n",
              " 5319,\n",
              " 5320,\n",
              " 5321,\n",
              " 5322,\n",
              " 5323,\n",
              " 5324,\n",
              " 5325,\n",
              " 5326,\n",
              " 5327,\n",
              " 5328,\n",
              " 5329,\n",
              " 5330,\n",
              " 5331,\n",
              " 5332,\n",
              " 5333,\n",
              " 5334,\n",
              " 5335,\n",
              " 5336,\n",
              " 5337,\n",
              " 5338,\n",
              " 5513,\n",
              " 5514,\n",
              " 5515,\n",
              " 5516,\n",
              " 5517,\n",
              " 5518,\n",
              " 5519,\n",
              " 5520,\n",
              " 5521,\n",
              " 5522,\n",
              " 5523,\n",
              " 5524,\n",
              " 5525,\n",
              " 5526,\n",
              " 5527,\n",
              " 5528,\n",
              " 5529,\n",
              " 5530,\n",
              " 5531,\n",
              " 5532,\n",
              " 5533,\n",
              " 5534,\n",
              " 5535,\n",
              " 5536,\n",
              " 5537,\n",
              " 5538,\n",
              " 5539,\n",
              " 5540,\n",
              " 5541,\n",
              " 5542,\n",
              " 5543,\n",
              " 5544,\n",
              " 5545,\n",
              " 5546,\n",
              " 5547,\n",
              " 5548,\n",
              " 5549,\n",
              " 5550,\n",
              " 5551,\n",
              " 5552,\n",
              " 5553,\n",
              " 5554,\n",
              " 5555,\n",
              " 5556,\n",
              " 5708,\n",
              " 5709,\n",
              " 5710,\n",
              " 5711,\n",
              " 5712,\n",
              " 5713,\n",
              " 5714,\n",
              " 5715,\n",
              " 5716,\n",
              " 5717,\n",
              " 5718,\n",
              " 5719,\n",
              " ...]"
            ]
          },
          "metadata": {},
          "execution_count": 49
        }
      ]
    },
    {
      "cell_type": "raw",
      "id": "f68ee771-ef4a-4e0d-805a-0c7bb7e666f7",
      "metadata": {
        "id": "f68ee771-ef4a-4e0d-805a-0c7bb7e666f7"
      },
      "source": [
        "droptest =sitting_test + standing_test + laying_test"
      ]
    },
    {
      "cell_type": "code",
      "execution_count": null,
      "id": "66a5ef40-4bb8-47d0-8244-2ec92a4980ce",
      "metadata": {
        "id": "66a5ef40-4bb8-47d0-8244-2ec92a4980ce"
      },
      "outputs": [],
      "source": [
        "body_gyro_x_train_sbilanciato = body_gyro_x_train.drop(droptrian)"
      ]
    },
    {
      "cell_type": "code",
      "source": [
        "body_gyro_x_train_sbilanciato"
      ],
      "metadata": {
        "colab": {
          "base_uri": "https://localhost:8080/",
          "height": 424
        },
        "id": "rOHQbvx1A5iw",
        "outputId": "bc9c8aaa-f1bf-459f-a6f2-56c91e695667"
      },
      "id": "rOHQbvx1A5iw",
      "execution_count": null,
      "outputs": [
        {
          "output_type": "execute_result",
          "data": {
            "text/plain": [
              "             0         1         2         3         4         5         6  \\\n",
              "78   -0.562411 -0.506874 -0.777167 -1.317128 -1.485695 -1.357972 -1.143074   \n",
              "79   -0.563775  0.142212  0.562869  0.469666  0.361988  0.276232 -0.094826   \n",
              "80    0.297386  0.644423  0.884905  0.911878  0.816883  0.822600  0.659113   \n",
              "81    0.619784  0.495909  0.477878  0.375607  0.352125  0.423482  0.489886   \n",
              "82    0.007298 -0.226077 -0.799019 -1.505011 -1.605516 -0.906175  0.176592   \n",
              "...        ...       ...       ...       ...       ...       ...       ...   \n",
              "7347 -0.503212 -0.473844 -0.249069 -0.027994 -0.059873 -0.084260  0.130789   \n",
              "7348 -0.174347  0.015408  0.087648 -0.032994 -0.170081 -0.051721  0.098896   \n",
              "7349  0.118356  0.137890  0.177420  0.169504  0.167615  0.166898  0.142442   \n",
              "7350 -0.378872 -0.373888 -0.330125 -0.344638 -0.382985 -0.405633 -0.499875   \n",
              "7351 -0.476779 -0.267912 -0.190566 -0.181934 -0.262956 -0.341160 -0.416740   \n",
              "\n",
              "             7         8         9  ...       120       121       122  \\\n",
              "78   -0.789846 -0.534126 -0.424622  ...  0.081963  0.552081  0.861181   \n",
              "79   -0.377850 -0.345064 -0.214542  ...  0.239230  0.557351  0.850572   \n",
              "80    0.476545  0.488207  0.459096  ...  0.342552  0.372020  0.469384   \n",
              "81    0.550503  0.597166  0.685611  ... -0.093727 -0.774953 -1.303948   \n",
              "82    0.881056  0.838081  0.614854  ... -0.556343 -0.567772 -0.626301   \n",
              "...        ...       ...       ...  ...       ...       ...       ...   \n",
              "7347  0.381967  0.609053  0.830623  ...  0.980709  1.013773  1.046258   \n",
              "7348  0.208322  0.402766  0.516898  ... -0.297251 -0.406554 -0.523906   \n",
              "7349  0.136183  0.100858  0.149397  ... -0.637173 -0.562788 -0.690228   \n",
              "7350 -0.606124 -0.585213 -0.328248  ... -0.123552 -0.228810 -0.211935   \n",
              "7351 -0.474856 -0.394974 -0.212864  ...  0.502682  0.598106  0.815793   \n",
              "\n",
              "           123       124       125       126       127  Activity  \\\n",
              "78    0.598609  0.212792  0.077756 -0.035121 -0.022209         1   \n",
              "79    0.853804  0.892525  0.897483  0.756824  0.735719         1   \n",
              "80    0.746403  0.896964  0.872712  0.615928  0.240994         1   \n",
              "81   -1.413177 -0.925724 -0.057964  0.543332  0.839719         1   \n",
              "82   -0.618758 -0.476247 -0.484642 -0.269121  0.001161         1   \n",
              "...        ...       ...       ...       ...       ...       ...   \n",
              "7347  0.966485  0.740581  0.512633  0.312086  0.169856         2   \n",
              "7348 -0.586418 -0.550446 -0.506336 -0.444789 -0.378067         2   \n",
              "7349 -0.694147 -0.704308 -0.760954 -0.677963 -0.627501         2   \n",
              "7350 -0.286205 -0.423730 -0.425461 -0.475547 -0.412959         2   \n",
              "7351  0.973228  1.004266  1.004855  1.015589  1.047599         2   \n",
              "\n",
              "          ActivityName  \n",
              "78             WALKING  \n",
              "79             WALKING  \n",
              "80             WALKING  \n",
              "81             WALKING  \n",
              "82             WALKING  \n",
              "...                ...  \n",
              "7347  WALKING_UPSTAIRS  \n",
              "7348  WALKING_UPSTAIRS  \n",
              "7349  WALKING_UPSTAIRS  \n",
              "7350  WALKING_UPSTAIRS  \n",
              "7351  WALKING_UPSTAIRS  \n",
              "\n",
              "[3285 rows x 130 columns]"
            ],
            "text/html": [
              "\n",
              "\n",
              "  <div id=\"df-8360fd1c-7c45-497f-8e06-62bc34c35af5\">\n",
              "    <div class=\"colab-df-container\">\n",
              "      <div>\n",
              "<style scoped>\n",
              "    .dataframe tbody tr th:only-of-type {\n",
              "        vertical-align: middle;\n",
              "    }\n",
              "\n",
              "    .dataframe tbody tr th {\n",
              "        vertical-align: top;\n",
              "    }\n",
              "\n",
              "    .dataframe thead th {\n",
              "        text-align: right;\n",
              "    }\n",
              "</style>\n",
              "<table border=\"1\" class=\"dataframe\">\n",
              "  <thead>\n",
              "    <tr style=\"text-align: right;\">\n",
              "      <th></th>\n",
              "      <th>0</th>\n",
              "      <th>1</th>\n",
              "      <th>2</th>\n",
              "      <th>3</th>\n",
              "      <th>4</th>\n",
              "      <th>5</th>\n",
              "      <th>6</th>\n",
              "      <th>7</th>\n",
              "      <th>8</th>\n",
              "      <th>9</th>\n",
              "      <th>...</th>\n",
              "      <th>120</th>\n",
              "      <th>121</th>\n",
              "      <th>122</th>\n",
              "      <th>123</th>\n",
              "      <th>124</th>\n",
              "      <th>125</th>\n",
              "      <th>126</th>\n",
              "      <th>127</th>\n",
              "      <th>Activity</th>\n",
              "      <th>ActivityName</th>\n",
              "    </tr>\n",
              "  </thead>\n",
              "  <tbody>\n",
              "    <tr>\n",
              "      <th>78</th>\n",
              "      <td>-0.562411</td>\n",
              "      <td>-0.506874</td>\n",
              "      <td>-0.777167</td>\n",
              "      <td>-1.317128</td>\n",
              "      <td>-1.485695</td>\n",
              "      <td>-1.357972</td>\n",
              "      <td>-1.143074</td>\n",
              "      <td>-0.789846</td>\n",
              "      <td>-0.534126</td>\n",
              "      <td>-0.424622</td>\n",
              "      <td>...</td>\n",
              "      <td>0.081963</td>\n",
              "      <td>0.552081</td>\n",
              "      <td>0.861181</td>\n",
              "      <td>0.598609</td>\n",
              "      <td>0.212792</td>\n",
              "      <td>0.077756</td>\n",
              "      <td>-0.035121</td>\n",
              "      <td>-0.022209</td>\n",
              "      <td>1</td>\n",
              "      <td>WALKING</td>\n",
              "    </tr>\n",
              "    <tr>\n",
              "      <th>79</th>\n",
              "      <td>-0.563775</td>\n",
              "      <td>0.142212</td>\n",
              "      <td>0.562869</td>\n",
              "      <td>0.469666</td>\n",
              "      <td>0.361988</td>\n",
              "      <td>0.276232</td>\n",
              "      <td>-0.094826</td>\n",
              "      <td>-0.377850</td>\n",
              "      <td>-0.345064</td>\n",
              "      <td>-0.214542</td>\n",
              "      <td>...</td>\n",
              "      <td>0.239230</td>\n",
              "      <td>0.557351</td>\n",
              "      <td>0.850572</td>\n",
              "      <td>0.853804</td>\n",
              "      <td>0.892525</td>\n",
              "      <td>0.897483</td>\n",
              "      <td>0.756824</td>\n",
              "      <td>0.735719</td>\n",
              "      <td>1</td>\n",
              "      <td>WALKING</td>\n",
              "    </tr>\n",
              "    <tr>\n",
              "      <th>80</th>\n",
              "      <td>0.297386</td>\n",
              "      <td>0.644423</td>\n",
              "      <td>0.884905</td>\n",
              "      <td>0.911878</td>\n",
              "      <td>0.816883</td>\n",
              "      <td>0.822600</td>\n",
              "      <td>0.659113</td>\n",
              "      <td>0.476545</td>\n",
              "      <td>0.488207</td>\n",
              "      <td>0.459096</td>\n",
              "      <td>...</td>\n",
              "      <td>0.342552</td>\n",
              "      <td>0.372020</td>\n",
              "      <td>0.469384</td>\n",
              "      <td>0.746403</td>\n",
              "      <td>0.896964</td>\n",
              "      <td>0.872712</td>\n",
              "      <td>0.615928</td>\n",
              "      <td>0.240994</td>\n",
              "      <td>1</td>\n",
              "      <td>WALKING</td>\n",
              "    </tr>\n",
              "    <tr>\n",
              "      <th>81</th>\n",
              "      <td>0.619784</td>\n",
              "      <td>0.495909</td>\n",
              "      <td>0.477878</td>\n",
              "      <td>0.375607</td>\n",
              "      <td>0.352125</td>\n",
              "      <td>0.423482</td>\n",
              "      <td>0.489886</td>\n",
              "      <td>0.550503</td>\n",
              "      <td>0.597166</td>\n",
              "      <td>0.685611</td>\n",
              "      <td>...</td>\n",
              "      <td>-0.093727</td>\n",
              "      <td>-0.774953</td>\n",
              "      <td>-1.303948</td>\n",
              "      <td>-1.413177</td>\n",
              "      <td>-0.925724</td>\n",
              "      <td>-0.057964</td>\n",
              "      <td>0.543332</td>\n",
              "      <td>0.839719</td>\n",
              "      <td>1</td>\n",
              "      <td>WALKING</td>\n",
              "    </tr>\n",
              "    <tr>\n",
              "      <th>82</th>\n",
              "      <td>0.007298</td>\n",
              "      <td>-0.226077</td>\n",
              "      <td>-0.799019</td>\n",
              "      <td>-1.505011</td>\n",
              "      <td>-1.605516</td>\n",
              "      <td>-0.906175</td>\n",
              "      <td>0.176592</td>\n",
              "      <td>0.881056</td>\n",
              "      <td>0.838081</td>\n",
              "      <td>0.614854</td>\n",
              "      <td>...</td>\n",
              "      <td>-0.556343</td>\n",
              "      <td>-0.567772</td>\n",
              "      <td>-0.626301</td>\n",
              "      <td>-0.618758</td>\n",
              "      <td>-0.476247</td>\n",
              "      <td>-0.484642</td>\n",
              "      <td>-0.269121</td>\n",
              "      <td>0.001161</td>\n",
              "      <td>1</td>\n",
              "      <td>WALKING</td>\n",
              "    </tr>\n",
              "    <tr>\n",
              "      <th>...</th>\n",
              "      <td>...</td>\n",
              "      <td>...</td>\n",
              "      <td>...</td>\n",
              "      <td>...</td>\n",
              "      <td>...</td>\n",
              "      <td>...</td>\n",
              "      <td>...</td>\n",
              "      <td>...</td>\n",
              "      <td>...</td>\n",
              "      <td>...</td>\n",
              "      <td>...</td>\n",
              "      <td>...</td>\n",
              "      <td>...</td>\n",
              "      <td>...</td>\n",
              "      <td>...</td>\n",
              "      <td>...</td>\n",
              "      <td>...</td>\n",
              "      <td>...</td>\n",
              "      <td>...</td>\n",
              "      <td>...</td>\n",
              "      <td>...</td>\n",
              "    </tr>\n",
              "    <tr>\n",
              "      <th>7347</th>\n",
              "      <td>-0.503212</td>\n",
              "      <td>-0.473844</td>\n",
              "      <td>-0.249069</td>\n",
              "      <td>-0.027994</td>\n",
              "      <td>-0.059873</td>\n",
              "      <td>-0.084260</td>\n",
              "      <td>0.130789</td>\n",
              "      <td>0.381967</td>\n",
              "      <td>0.609053</td>\n",
              "      <td>0.830623</td>\n",
              "      <td>...</td>\n",
              "      <td>0.980709</td>\n",
              "      <td>1.013773</td>\n",
              "      <td>1.046258</td>\n",
              "      <td>0.966485</td>\n",
              "      <td>0.740581</td>\n",
              "      <td>0.512633</td>\n",
              "      <td>0.312086</td>\n",
              "      <td>0.169856</td>\n",
              "      <td>2</td>\n",
              "      <td>WALKING_UPSTAIRS</td>\n",
              "    </tr>\n",
              "    <tr>\n",
              "      <th>7348</th>\n",
              "      <td>-0.174347</td>\n",
              "      <td>0.015408</td>\n",
              "      <td>0.087648</td>\n",
              "      <td>-0.032994</td>\n",
              "      <td>-0.170081</td>\n",
              "      <td>-0.051721</td>\n",
              "      <td>0.098896</td>\n",
              "      <td>0.208322</td>\n",
              "      <td>0.402766</td>\n",
              "      <td>0.516898</td>\n",
              "      <td>...</td>\n",
              "      <td>-0.297251</td>\n",
              "      <td>-0.406554</td>\n",
              "      <td>-0.523906</td>\n",
              "      <td>-0.586418</td>\n",
              "      <td>-0.550446</td>\n",
              "      <td>-0.506336</td>\n",
              "      <td>-0.444789</td>\n",
              "      <td>-0.378067</td>\n",
              "      <td>2</td>\n",
              "      <td>WALKING_UPSTAIRS</td>\n",
              "    </tr>\n",
              "    <tr>\n",
              "      <th>7349</th>\n",
              "      <td>0.118356</td>\n",
              "      <td>0.137890</td>\n",
              "      <td>0.177420</td>\n",
              "      <td>0.169504</td>\n",
              "      <td>0.167615</td>\n",
              "      <td>0.166898</td>\n",
              "      <td>0.142442</td>\n",
              "      <td>0.136183</td>\n",
              "      <td>0.100858</td>\n",
              "      <td>0.149397</td>\n",
              "      <td>...</td>\n",
              "      <td>-0.637173</td>\n",
              "      <td>-0.562788</td>\n",
              "      <td>-0.690228</td>\n",
              "      <td>-0.694147</td>\n",
              "      <td>-0.704308</td>\n",
              "      <td>-0.760954</td>\n",
              "      <td>-0.677963</td>\n",
              "      <td>-0.627501</td>\n",
              "      <td>2</td>\n",
              "      <td>WALKING_UPSTAIRS</td>\n",
              "    </tr>\n",
              "    <tr>\n",
              "      <th>7350</th>\n",
              "      <td>-0.378872</td>\n",
              "      <td>-0.373888</td>\n",
              "      <td>-0.330125</td>\n",
              "      <td>-0.344638</td>\n",
              "      <td>-0.382985</td>\n",
              "      <td>-0.405633</td>\n",
              "      <td>-0.499875</td>\n",
              "      <td>-0.606124</td>\n",
              "      <td>-0.585213</td>\n",
              "      <td>-0.328248</td>\n",
              "      <td>...</td>\n",
              "      <td>-0.123552</td>\n",
              "      <td>-0.228810</td>\n",
              "      <td>-0.211935</td>\n",
              "      <td>-0.286205</td>\n",
              "      <td>-0.423730</td>\n",
              "      <td>-0.425461</td>\n",
              "      <td>-0.475547</td>\n",
              "      <td>-0.412959</td>\n",
              "      <td>2</td>\n",
              "      <td>WALKING_UPSTAIRS</td>\n",
              "    </tr>\n",
              "    <tr>\n",
              "      <th>7351</th>\n",
              "      <td>-0.476779</td>\n",
              "      <td>-0.267912</td>\n",
              "      <td>-0.190566</td>\n",
              "      <td>-0.181934</td>\n",
              "      <td>-0.262956</td>\n",
              "      <td>-0.341160</td>\n",
              "      <td>-0.416740</td>\n",
              "      <td>-0.474856</td>\n",
              "      <td>-0.394974</td>\n",
              "      <td>-0.212864</td>\n",
              "      <td>...</td>\n",
              "      <td>0.502682</td>\n",
              "      <td>0.598106</td>\n",
              "      <td>0.815793</td>\n",
              "      <td>0.973228</td>\n",
              "      <td>1.004266</td>\n",
              "      <td>1.004855</td>\n",
              "      <td>1.015589</td>\n",
              "      <td>1.047599</td>\n",
              "      <td>2</td>\n",
              "      <td>WALKING_UPSTAIRS</td>\n",
              "    </tr>\n",
              "  </tbody>\n",
              "</table>\n",
              "<p>3285 rows × 130 columns</p>\n",
              "</div>\n",
              "      <button class=\"colab-df-convert\" onclick=\"convertToInteractive('df-8360fd1c-7c45-497f-8e06-62bc34c35af5')\"\n",
              "              title=\"Convert this dataframe to an interactive table.\"\n",
              "              style=\"display:none;\">\n",
              "\n",
              "  <svg xmlns=\"http://www.w3.org/2000/svg\" height=\"24px\"viewBox=\"0 0 24 24\"\n",
              "       width=\"24px\">\n",
              "    <path d=\"M0 0h24v24H0V0z\" fill=\"none\"/>\n",
              "    <path d=\"M18.56 5.44l.94 2.06.94-2.06 2.06-.94-2.06-.94-.94-2.06-.94 2.06-2.06.94zm-11 1L8.5 8.5l.94-2.06 2.06-.94-2.06-.94L8.5 2.5l-.94 2.06-2.06.94zm10 10l.94 2.06.94-2.06 2.06-.94-2.06-.94-.94-2.06-.94 2.06-2.06.94z\"/><path d=\"M17.41 7.96l-1.37-1.37c-.4-.4-.92-.59-1.43-.59-.52 0-1.04.2-1.43.59L10.3 9.45l-7.72 7.72c-.78.78-.78 2.05 0 2.83L4 21.41c.39.39.9.59 1.41.59.51 0 1.02-.2 1.41-.59l7.78-7.78 2.81-2.81c.8-.78.8-2.07 0-2.86zM5.41 20L4 18.59l7.72-7.72 1.47 1.35L5.41 20z\"/>\n",
              "  </svg>\n",
              "      </button>\n",
              "\n",
              "\n",
              "\n",
              "    <div id=\"df-96fb250d-6028-4fe5-8f8b-884db3e9fbfd\">\n",
              "      <button class=\"colab-df-quickchart\" onclick=\"quickchart('df-96fb250d-6028-4fe5-8f8b-884db3e9fbfd')\"\n",
              "              title=\"Suggest charts.\"\n",
              "              style=\"display:none;\">\n",
              "\n",
              "<svg xmlns=\"http://www.w3.org/2000/svg\" height=\"24px\"viewBox=\"0 0 24 24\"\n",
              "     width=\"24px\">\n",
              "    <g>\n",
              "        <path d=\"M19 3H5c-1.1 0-2 .9-2 2v14c0 1.1.9 2 2 2h14c1.1 0 2-.9 2-2V5c0-1.1-.9-2-2-2zM9 17H7v-7h2v7zm4 0h-2V7h2v10zm4 0h-2v-4h2v4z\"/>\n",
              "    </g>\n",
              "</svg>\n",
              "      </button>\n",
              "    </div>\n",
              "\n",
              "<style>\n",
              "  .colab-df-quickchart {\n",
              "    background-color: #E8F0FE;\n",
              "    border: none;\n",
              "    border-radius: 50%;\n",
              "    cursor: pointer;\n",
              "    display: none;\n",
              "    fill: #1967D2;\n",
              "    height: 32px;\n",
              "    padding: 0 0 0 0;\n",
              "    width: 32px;\n",
              "  }\n",
              "\n",
              "  .colab-df-quickchart:hover {\n",
              "    background-color: #E2EBFA;\n",
              "    box-shadow: 0px 1px 2px rgba(60, 64, 67, 0.3), 0px 1px 3px 1px rgba(60, 64, 67, 0.15);\n",
              "    fill: #174EA6;\n",
              "  }\n",
              "\n",
              "  [theme=dark] .colab-df-quickchart {\n",
              "    background-color: #3B4455;\n",
              "    fill: #D2E3FC;\n",
              "  }\n",
              "\n",
              "  [theme=dark] .colab-df-quickchart:hover {\n",
              "    background-color: #434B5C;\n",
              "    box-shadow: 0px 1px 3px 1px rgba(0, 0, 0, 0.15);\n",
              "    filter: drop-shadow(0px 1px 2px rgba(0, 0, 0, 0.3));\n",
              "    fill: #FFFFFF;\n",
              "  }\n",
              "</style>\n",
              "\n",
              "    <script>\n",
              "      async function quickchart(key) {\n",
              "        const containerElement = document.querySelector('#' + key);\n",
              "        const charts = await google.colab.kernel.invokeFunction(\n",
              "            'suggestCharts', [key], {});\n",
              "      }\n",
              "    </script>\n",
              "\n",
              "      <script>\n",
              "\n",
              "function displayQuickchartButton(domScope) {\n",
              "  let quickchartButtonEl =\n",
              "    domScope.querySelector('#df-96fb250d-6028-4fe5-8f8b-884db3e9fbfd button.colab-df-quickchart');\n",
              "  quickchartButtonEl.style.display =\n",
              "    google.colab.kernel.accessAllowed ? 'block' : 'none';\n",
              "}\n",
              "\n",
              "        displayQuickchartButton(document);\n",
              "      </script>\n",
              "      <style>\n",
              "    .colab-df-container {\n",
              "      display:flex;\n",
              "      flex-wrap:wrap;\n",
              "      gap: 12px;\n",
              "    }\n",
              "\n",
              "    .colab-df-convert {\n",
              "      background-color: #E8F0FE;\n",
              "      border: none;\n",
              "      border-radius: 50%;\n",
              "      cursor: pointer;\n",
              "      display: none;\n",
              "      fill: #1967D2;\n",
              "      height: 32px;\n",
              "      padding: 0 0 0 0;\n",
              "      width: 32px;\n",
              "    }\n",
              "\n",
              "    .colab-df-convert:hover {\n",
              "      background-color: #E2EBFA;\n",
              "      box-shadow: 0px 1px 2px rgba(60, 64, 67, 0.3), 0px 1px 3px 1px rgba(60, 64, 67, 0.15);\n",
              "      fill: #174EA6;\n",
              "    }\n",
              "\n",
              "    [theme=dark] .colab-df-convert {\n",
              "      background-color: #3B4455;\n",
              "      fill: #D2E3FC;\n",
              "    }\n",
              "\n",
              "    [theme=dark] .colab-df-convert:hover {\n",
              "      background-color: #434B5C;\n",
              "      box-shadow: 0px 1px 3px 1px rgba(0, 0, 0, 0.15);\n",
              "      filter: drop-shadow(0px 1px 2px rgba(0, 0, 0, 0.3));\n",
              "      fill: #FFFFFF;\n",
              "    }\n",
              "  </style>\n",
              "\n",
              "      <script>\n",
              "        const buttonEl =\n",
              "          document.querySelector('#df-8360fd1c-7c45-497f-8e06-62bc34c35af5 button.colab-df-convert');\n",
              "        buttonEl.style.display =\n",
              "          google.colab.kernel.accessAllowed ? 'block' : 'none';\n",
              "\n",
              "        async function convertToInteractive(key) {\n",
              "          const element = document.querySelector('#df-8360fd1c-7c45-497f-8e06-62bc34c35af5');\n",
              "          const dataTable =\n",
              "            await google.colab.kernel.invokeFunction('convertToInteractive',\n",
              "                                                     [key], {});\n",
              "          if (!dataTable) return;\n",
              "\n",
              "          const docLinkHtml = 'Like what you see? Visit the ' +\n",
              "            '<a target=\"_blank\" href=https://colab.research.google.com/notebooks/data_table.ipynb>data table notebook</a>'\n",
              "            + ' to learn more about interactive tables.';\n",
              "          element.innerHTML = '';\n",
              "          dataTable['output_type'] = 'display_data';\n",
              "          await google.colab.output.renderOutput(dataTable, element);\n",
              "          const docLink = document.createElement('div');\n",
              "          docLink.innerHTML = docLinkHtml;\n",
              "          element.appendChild(docLink);\n",
              "        }\n",
              "      </script>\n",
              "    </div>\n",
              "  </div>\n"
            ]
          },
          "metadata": {},
          "execution_count": 53
        }
      ]
    },
    {
      "cell_type": "raw",
      "id": "007d26ae-a9ed-44e7-88b3-0095dd48234d",
      "metadata": {
        "id": "007d26ae-a9ed-44e7-88b3-0095dd48234d"
      },
      "source": [
        "X_test_sbilanciato = X_test.drop(droptest)"
      ]
    },
    {
      "cell_type": "code",
      "execution_count": null,
      "id": "7302c75f-0ee0-45a2-8d03-5a97f9107e49",
      "metadata": {
        "id": "7302c75f-0ee0-45a2-8d03-5a97f9107e49"
      },
      "outputs": [],
      "source": [
        "body_gyro_x_train_sbilanciato = body_gyro_x_train_sbilanciato.drop(columns=['Activity'])"
      ]
    },
    {
      "cell_type": "code",
      "execution_count": null,
      "id": "87dfad5e-2c9a-4882-8b89-a0e7323cc270",
      "metadata": {
        "id": "87dfad5e-2c9a-4882-8b89-a0e7323cc270"
      },
      "outputs": [],
      "source": [
        "body_gyro_x_train_sbilanciato = body_gyro_x_train_sbilanciato.drop(columns=['ActivityName'])"
      ]
    },
    {
      "cell_type": "code",
      "source": [
        "body_gyro_x_train_sbilanciato"
      ],
      "metadata": {
        "colab": {
          "base_uri": "https://localhost:8080/",
          "height": 424
        },
        "id": "PCTExSHDBG6M",
        "outputId": "f4008a97-d51f-4b40-92f5-5372a4d91f5b"
      },
      "id": "PCTExSHDBG6M",
      "execution_count": null,
      "outputs": [
        {
          "output_type": "execute_result",
          "data": {
            "text/plain": [
              "           0         1         2         3         4         5         6    \\\n",
              "78   -0.562411 -0.506874 -0.777167 -1.317128 -1.485695 -1.357972 -1.143074   \n",
              "79   -0.563775  0.142212  0.562869  0.469666  0.361988  0.276232 -0.094826   \n",
              "80    0.297386  0.644423  0.884905  0.911878  0.816883  0.822600  0.659113   \n",
              "81    0.619784  0.495909  0.477878  0.375607  0.352125  0.423482  0.489886   \n",
              "82    0.007298 -0.226077 -0.799019 -1.505011 -1.605516 -0.906175  0.176592   \n",
              "...        ...       ...       ...       ...       ...       ...       ...   \n",
              "7347 -0.503212 -0.473844 -0.249069 -0.027994 -0.059873 -0.084260  0.130789   \n",
              "7348 -0.174347  0.015408  0.087648 -0.032994 -0.170081 -0.051721  0.098896   \n",
              "7349  0.118356  0.137890  0.177420  0.169504  0.167615  0.166898  0.142442   \n",
              "7350 -0.378872 -0.373888 -0.330125 -0.344638 -0.382985 -0.405633 -0.499875   \n",
              "7351 -0.476779 -0.267912 -0.190566 -0.181934 -0.262956 -0.341160 -0.416740   \n",
              "\n",
              "           7         8         9    ...       118       119       120  \\\n",
              "78   -0.789846 -0.534126 -0.424622  ... -0.036173 -0.089256  0.081963   \n",
              "79   -0.377850 -0.345064 -0.214542  ... -0.312779 -0.078742  0.239230   \n",
              "80    0.476545  0.488207  0.459096  ...  0.354583  0.259290  0.342552   \n",
              "81    0.550503  0.597166  0.685611  ...  0.501165  0.317108 -0.093727   \n",
              "82    0.881056  0.838081  0.614854  ...  0.044462 -0.248079 -0.556343   \n",
              "...        ...       ...       ...  ...       ...       ...       ...   \n",
              "7347  0.381967  0.609053  0.830623  ...  0.629654  0.863918  0.980709   \n",
              "7348  0.208322  0.402766  0.516898  ... -0.200444 -0.199221 -0.297251   \n",
              "7349  0.136183  0.100858  0.149397  ... -0.978920 -0.807291 -0.637173   \n",
              "7350 -0.606124 -0.585213 -0.328248  ... -0.447757 -0.249343 -0.123552   \n",
              "7351 -0.474856 -0.394974 -0.212864  ...  0.502491  0.492083  0.502682   \n",
              "\n",
              "           121       122       123       124       125       126       127  \n",
              "78    0.552081  0.861181  0.598609  0.212792  0.077756 -0.035121 -0.022209  \n",
              "79    0.557351  0.850572  0.853804  0.892525  0.897483  0.756824  0.735719  \n",
              "80    0.372020  0.469384  0.746403  0.896964  0.872712  0.615928  0.240994  \n",
              "81   -0.774953 -1.303948 -1.413177 -0.925724 -0.057964  0.543332  0.839719  \n",
              "82   -0.567772 -0.626301 -0.618758 -0.476247 -0.484642 -0.269121  0.001161  \n",
              "...        ...       ...       ...       ...       ...       ...       ...  \n",
              "7347  1.013773  1.046258  0.966485  0.740581  0.512633  0.312086  0.169856  \n",
              "7348 -0.406554 -0.523906 -0.586418 -0.550446 -0.506336 -0.444789 -0.378067  \n",
              "7349 -0.562788 -0.690228 -0.694147 -0.704308 -0.760954 -0.677963 -0.627501  \n",
              "7350 -0.228810 -0.211935 -0.286205 -0.423730 -0.425461 -0.475547 -0.412959  \n",
              "7351  0.598106  0.815793  0.973228  1.004266  1.004855  1.015589  1.047599  \n",
              "\n",
              "[3285 rows x 128 columns]"
            ],
            "text/html": [
              "\n",
              "\n",
              "  <div id=\"df-d3463027-bc40-45a2-a961-9e32808dee7b\">\n",
              "    <div class=\"colab-df-container\">\n",
              "      <div>\n",
              "<style scoped>\n",
              "    .dataframe tbody tr th:only-of-type {\n",
              "        vertical-align: middle;\n",
              "    }\n",
              "\n",
              "    .dataframe tbody tr th {\n",
              "        vertical-align: top;\n",
              "    }\n",
              "\n",
              "    .dataframe thead th {\n",
              "        text-align: right;\n",
              "    }\n",
              "</style>\n",
              "<table border=\"1\" class=\"dataframe\">\n",
              "  <thead>\n",
              "    <tr style=\"text-align: right;\">\n",
              "      <th></th>\n",
              "      <th>0</th>\n",
              "      <th>1</th>\n",
              "      <th>2</th>\n",
              "      <th>3</th>\n",
              "      <th>4</th>\n",
              "      <th>5</th>\n",
              "      <th>6</th>\n",
              "      <th>7</th>\n",
              "      <th>8</th>\n",
              "      <th>9</th>\n",
              "      <th>...</th>\n",
              "      <th>118</th>\n",
              "      <th>119</th>\n",
              "      <th>120</th>\n",
              "      <th>121</th>\n",
              "      <th>122</th>\n",
              "      <th>123</th>\n",
              "      <th>124</th>\n",
              "      <th>125</th>\n",
              "      <th>126</th>\n",
              "      <th>127</th>\n",
              "    </tr>\n",
              "  </thead>\n",
              "  <tbody>\n",
              "    <tr>\n",
              "      <th>78</th>\n",
              "      <td>-0.562411</td>\n",
              "      <td>-0.506874</td>\n",
              "      <td>-0.777167</td>\n",
              "      <td>-1.317128</td>\n",
              "      <td>-1.485695</td>\n",
              "      <td>-1.357972</td>\n",
              "      <td>-1.143074</td>\n",
              "      <td>-0.789846</td>\n",
              "      <td>-0.534126</td>\n",
              "      <td>-0.424622</td>\n",
              "      <td>...</td>\n",
              "      <td>-0.036173</td>\n",
              "      <td>-0.089256</td>\n",
              "      <td>0.081963</td>\n",
              "      <td>0.552081</td>\n",
              "      <td>0.861181</td>\n",
              "      <td>0.598609</td>\n",
              "      <td>0.212792</td>\n",
              "      <td>0.077756</td>\n",
              "      <td>-0.035121</td>\n",
              "      <td>-0.022209</td>\n",
              "    </tr>\n",
              "    <tr>\n",
              "      <th>79</th>\n",
              "      <td>-0.563775</td>\n",
              "      <td>0.142212</td>\n",
              "      <td>0.562869</td>\n",
              "      <td>0.469666</td>\n",
              "      <td>0.361988</td>\n",
              "      <td>0.276232</td>\n",
              "      <td>-0.094826</td>\n",
              "      <td>-0.377850</td>\n",
              "      <td>-0.345064</td>\n",
              "      <td>-0.214542</td>\n",
              "      <td>...</td>\n",
              "      <td>-0.312779</td>\n",
              "      <td>-0.078742</td>\n",
              "      <td>0.239230</td>\n",
              "      <td>0.557351</td>\n",
              "      <td>0.850572</td>\n",
              "      <td>0.853804</td>\n",
              "      <td>0.892525</td>\n",
              "      <td>0.897483</td>\n",
              "      <td>0.756824</td>\n",
              "      <td>0.735719</td>\n",
              "    </tr>\n",
              "    <tr>\n",
              "      <th>80</th>\n",
              "      <td>0.297386</td>\n",
              "      <td>0.644423</td>\n",
              "      <td>0.884905</td>\n",
              "      <td>0.911878</td>\n",
              "      <td>0.816883</td>\n",
              "      <td>0.822600</td>\n",
              "      <td>0.659113</td>\n",
              "      <td>0.476545</td>\n",
              "      <td>0.488207</td>\n",
              "      <td>0.459096</td>\n",
              "      <td>...</td>\n",
              "      <td>0.354583</td>\n",
              "      <td>0.259290</td>\n",
              "      <td>0.342552</td>\n",
              "      <td>0.372020</td>\n",
              "      <td>0.469384</td>\n",
              "      <td>0.746403</td>\n",
              "      <td>0.896964</td>\n",
              "      <td>0.872712</td>\n",
              "      <td>0.615928</td>\n",
              "      <td>0.240994</td>\n",
              "    </tr>\n",
              "    <tr>\n",
              "      <th>81</th>\n",
              "      <td>0.619784</td>\n",
              "      <td>0.495909</td>\n",
              "      <td>0.477878</td>\n",
              "      <td>0.375607</td>\n",
              "      <td>0.352125</td>\n",
              "      <td>0.423482</td>\n",
              "      <td>0.489886</td>\n",
              "      <td>0.550503</td>\n",
              "      <td>0.597166</td>\n",
              "      <td>0.685611</td>\n",
              "      <td>...</td>\n",
              "      <td>0.501165</td>\n",
              "      <td>0.317108</td>\n",
              "      <td>-0.093727</td>\n",
              "      <td>-0.774953</td>\n",
              "      <td>-1.303948</td>\n",
              "      <td>-1.413177</td>\n",
              "      <td>-0.925724</td>\n",
              "      <td>-0.057964</td>\n",
              "      <td>0.543332</td>\n",
              "      <td>0.839719</td>\n",
              "    </tr>\n",
              "    <tr>\n",
              "      <th>82</th>\n",
              "      <td>0.007298</td>\n",
              "      <td>-0.226077</td>\n",
              "      <td>-0.799019</td>\n",
              "      <td>-1.505011</td>\n",
              "      <td>-1.605516</td>\n",
              "      <td>-0.906175</td>\n",
              "      <td>0.176592</td>\n",
              "      <td>0.881056</td>\n",
              "      <td>0.838081</td>\n",
              "      <td>0.614854</td>\n",
              "      <td>...</td>\n",
              "      <td>0.044462</td>\n",
              "      <td>-0.248079</td>\n",
              "      <td>-0.556343</td>\n",
              "      <td>-0.567772</td>\n",
              "      <td>-0.626301</td>\n",
              "      <td>-0.618758</td>\n",
              "      <td>-0.476247</td>\n",
              "      <td>-0.484642</td>\n",
              "      <td>-0.269121</td>\n",
              "      <td>0.001161</td>\n",
              "    </tr>\n",
              "    <tr>\n",
              "      <th>...</th>\n",
              "      <td>...</td>\n",
              "      <td>...</td>\n",
              "      <td>...</td>\n",
              "      <td>...</td>\n",
              "      <td>...</td>\n",
              "      <td>...</td>\n",
              "      <td>...</td>\n",
              "      <td>...</td>\n",
              "      <td>...</td>\n",
              "      <td>...</td>\n",
              "      <td>...</td>\n",
              "      <td>...</td>\n",
              "      <td>...</td>\n",
              "      <td>...</td>\n",
              "      <td>...</td>\n",
              "      <td>...</td>\n",
              "      <td>...</td>\n",
              "      <td>...</td>\n",
              "      <td>...</td>\n",
              "      <td>...</td>\n",
              "      <td>...</td>\n",
              "    </tr>\n",
              "    <tr>\n",
              "      <th>7347</th>\n",
              "      <td>-0.503212</td>\n",
              "      <td>-0.473844</td>\n",
              "      <td>-0.249069</td>\n",
              "      <td>-0.027994</td>\n",
              "      <td>-0.059873</td>\n",
              "      <td>-0.084260</td>\n",
              "      <td>0.130789</td>\n",
              "      <td>0.381967</td>\n",
              "      <td>0.609053</td>\n",
              "      <td>0.830623</td>\n",
              "      <td>...</td>\n",
              "      <td>0.629654</td>\n",
              "      <td>0.863918</td>\n",
              "      <td>0.980709</td>\n",
              "      <td>1.013773</td>\n",
              "      <td>1.046258</td>\n",
              "      <td>0.966485</td>\n",
              "      <td>0.740581</td>\n",
              "      <td>0.512633</td>\n",
              "      <td>0.312086</td>\n",
              "      <td>0.169856</td>\n",
              "    </tr>\n",
              "    <tr>\n",
              "      <th>7348</th>\n",
              "      <td>-0.174347</td>\n",
              "      <td>0.015408</td>\n",
              "      <td>0.087648</td>\n",
              "      <td>-0.032994</td>\n",
              "      <td>-0.170081</td>\n",
              "      <td>-0.051721</td>\n",
              "      <td>0.098896</td>\n",
              "      <td>0.208322</td>\n",
              "      <td>0.402766</td>\n",
              "      <td>0.516898</td>\n",
              "      <td>...</td>\n",
              "      <td>-0.200444</td>\n",
              "      <td>-0.199221</td>\n",
              "      <td>-0.297251</td>\n",
              "      <td>-0.406554</td>\n",
              "      <td>-0.523906</td>\n",
              "      <td>-0.586418</td>\n",
              "      <td>-0.550446</td>\n",
              "      <td>-0.506336</td>\n",
              "      <td>-0.444789</td>\n",
              "      <td>-0.378067</td>\n",
              "    </tr>\n",
              "    <tr>\n",
              "      <th>7349</th>\n",
              "      <td>0.118356</td>\n",
              "      <td>0.137890</td>\n",
              "      <td>0.177420</td>\n",
              "      <td>0.169504</td>\n",
              "      <td>0.167615</td>\n",
              "      <td>0.166898</td>\n",
              "      <td>0.142442</td>\n",
              "      <td>0.136183</td>\n",
              "      <td>0.100858</td>\n",
              "      <td>0.149397</td>\n",
              "      <td>...</td>\n",
              "      <td>-0.978920</td>\n",
              "      <td>-0.807291</td>\n",
              "      <td>-0.637173</td>\n",
              "      <td>-0.562788</td>\n",
              "      <td>-0.690228</td>\n",
              "      <td>-0.694147</td>\n",
              "      <td>-0.704308</td>\n",
              "      <td>-0.760954</td>\n",
              "      <td>-0.677963</td>\n",
              "      <td>-0.627501</td>\n",
              "    </tr>\n",
              "    <tr>\n",
              "      <th>7350</th>\n",
              "      <td>-0.378872</td>\n",
              "      <td>-0.373888</td>\n",
              "      <td>-0.330125</td>\n",
              "      <td>-0.344638</td>\n",
              "      <td>-0.382985</td>\n",
              "      <td>-0.405633</td>\n",
              "      <td>-0.499875</td>\n",
              "      <td>-0.606124</td>\n",
              "      <td>-0.585213</td>\n",
              "      <td>-0.328248</td>\n",
              "      <td>...</td>\n",
              "      <td>-0.447757</td>\n",
              "      <td>-0.249343</td>\n",
              "      <td>-0.123552</td>\n",
              "      <td>-0.228810</td>\n",
              "      <td>-0.211935</td>\n",
              "      <td>-0.286205</td>\n",
              "      <td>-0.423730</td>\n",
              "      <td>-0.425461</td>\n",
              "      <td>-0.475547</td>\n",
              "      <td>-0.412959</td>\n",
              "    </tr>\n",
              "    <tr>\n",
              "      <th>7351</th>\n",
              "      <td>-0.476779</td>\n",
              "      <td>-0.267912</td>\n",
              "      <td>-0.190566</td>\n",
              "      <td>-0.181934</td>\n",
              "      <td>-0.262956</td>\n",
              "      <td>-0.341160</td>\n",
              "      <td>-0.416740</td>\n",
              "      <td>-0.474856</td>\n",
              "      <td>-0.394974</td>\n",
              "      <td>-0.212864</td>\n",
              "      <td>...</td>\n",
              "      <td>0.502491</td>\n",
              "      <td>0.492083</td>\n",
              "      <td>0.502682</td>\n",
              "      <td>0.598106</td>\n",
              "      <td>0.815793</td>\n",
              "      <td>0.973228</td>\n",
              "      <td>1.004266</td>\n",
              "      <td>1.004855</td>\n",
              "      <td>1.015589</td>\n",
              "      <td>1.047599</td>\n",
              "    </tr>\n",
              "  </tbody>\n",
              "</table>\n",
              "<p>3285 rows × 128 columns</p>\n",
              "</div>\n",
              "      <button class=\"colab-df-convert\" onclick=\"convertToInteractive('df-d3463027-bc40-45a2-a961-9e32808dee7b')\"\n",
              "              title=\"Convert this dataframe to an interactive table.\"\n",
              "              style=\"display:none;\">\n",
              "\n",
              "  <svg xmlns=\"http://www.w3.org/2000/svg\" height=\"24px\"viewBox=\"0 0 24 24\"\n",
              "       width=\"24px\">\n",
              "    <path d=\"M0 0h24v24H0V0z\" fill=\"none\"/>\n",
              "    <path d=\"M18.56 5.44l.94 2.06.94-2.06 2.06-.94-2.06-.94-.94-2.06-.94 2.06-2.06.94zm-11 1L8.5 8.5l.94-2.06 2.06-.94-2.06-.94L8.5 2.5l-.94 2.06-2.06.94zm10 10l.94 2.06.94-2.06 2.06-.94-2.06-.94-.94-2.06-.94 2.06-2.06.94z\"/><path d=\"M17.41 7.96l-1.37-1.37c-.4-.4-.92-.59-1.43-.59-.52 0-1.04.2-1.43.59L10.3 9.45l-7.72 7.72c-.78.78-.78 2.05 0 2.83L4 21.41c.39.39.9.59 1.41.59.51 0 1.02-.2 1.41-.59l7.78-7.78 2.81-2.81c.8-.78.8-2.07 0-2.86zM5.41 20L4 18.59l7.72-7.72 1.47 1.35L5.41 20z\"/>\n",
              "  </svg>\n",
              "      </button>\n",
              "\n",
              "\n",
              "\n",
              "    <div id=\"df-d6bd3df8-c07d-488e-b8e1-849af3140af5\">\n",
              "      <button class=\"colab-df-quickchart\" onclick=\"quickchart('df-d6bd3df8-c07d-488e-b8e1-849af3140af5')\"\n",
              "              title=\"Suggest charts.\"\n",
              "              style=\"display:none;\">\n",
              "\n",
              "<svg xmlns=\"http://www.w3.org/2000/svg\" height=\"24px\"viewBox=\"0 0 24 24\"\n",
              "     width=\"24px\">\n",
              "    <g>\n",
              "        <path d=\"M19 3H5c-1.1 0-2 .9-2 2v14c0 1.1.9 2 2 2h14c1.1 0 2-.9 2-2V5c0-1.1-.9-2-2-2zM9 17H7v-7h2v7zm4 0h-2V7h2v10zm4 0h-2v-4h2v4z\"/>\n",
              "    </g>\n",
              "</svg>\n",
              "      </button>\n",
              "    </div>\n",
              "\n",
              "<style>\n",
              "  .colab-df-quickchart {\n",
              "    background-color: #E8F0FE;\n",
              "    border: none;\n",
              "    border-radius: 50%;\n",
              "    cursor: pointer;\n",
              "    display: none;\n",
              "    fill: #1967D2;\n",
              "    height: 32px;\n",
              "    padding: 0 0 0 0;\n",
              "    width: 32px;\n",
              "  }\n",
              "\n",
              "  .colab-df-quickchart:hover {\n",
              "    background-color: #E2EBFA;\n",
              "    box-shadow: 0px 1px 2px rgba(60, 64, 67, 0.3), 0px 1px 3px 1px rgba(60, 64, 67, 0.15);\n",
              "    fill: #174EA6;\n",
              "  }\n",
              "\n",
              "  [theme=dark] .colab-df-quickchart {\n",
              "    background-color: #3B4455;\n",
              "    fill: #D2E3FC;\n",
              "  }\n",
              "\n",
              "  [theme=dark] .colab-df-quickchart:hover {\n",
              "    background-color: #434B5C;\n",
              "    box-shadow: 0px 1px 3px 1px rgba(0, 0, 0, 0.15);\n",
              "    filter: drop-shadow(0px 1px 2px rgba(0, 0, 0, 0.3));\n",
              "    fill: #FFFFFF;\n",
              "  }\n",
              "</style>\n",
              "\n",
              "    <script>\n",
              "      async function quickchart(key) {\n",
              "        const containerElement = document.querySelector('#' + key);\n",
              "        const charts = await google.colab.kernel.invokeFunction(\n",
              "            'suggestCharts', [key], {});\n",
              "      }\n",
              "    </script>\n",
              "\n",
              "      <script>\n",
              "\n",
              "function displayQuickchartButton(domScope) {\n",
              "  let quickchartButtonEl =\n",
              "    domScope.querySelector('#df-d6bd3df8-c07d-488e-b8e1-849af3140af5 button.colab-df-quickchart');\n",
              "  quickchartButtonEl.style.display =\n",
              "    google.colab.kernel.accessAllowed ? 'block' : 'none';\n",
              "}\n",
              "\n",
              "        displayQuickchartButton(document);\n",
              "      </script>\n",
              "      <style>\n",
              "    .colab-df-container {\n",
              "      display:flex;\n",
              "      flex-wrap:wrap;\n",
              "      gap: 12px;\n",
              "    }\n",
              "\n",
              "    .colab-df-convert {\n",
              "      background-color: #E8F0FE;\n",
              "      border: none;\n",
              "      border-radius: 50%;\n",
              "      cursor: pointer;\n",
              "      display: none;\n",
              "      fill: #1967D2;\n",
              "      height: 32px;\n",
              "      padding: 0 0 0 0;\n",
              "      width: 32px;\n",
              "    }\n",
              "\n",
              "    .colab-df-convert:hover {\n",
              "      background-color: #E2EBFA;\n",
              "      box-shadow: 0px 1px 2px rgba(60, 64, 67, 0.3), 0px 1px 3px 1px rgba(60, 64, 67, 0.15);\n",
              "      fill: #174EA6;\n",
              "    }\n",
              "\n",
              "    [theme=dark] .colab-df-convert {\n",
              "      background-color: #3B4455;\n",
              "      fill: #D2E3FC;\n",
              "    }\n",
              "\n",
              "    [theme=dark] .colab-df-convert:hover {\n",
              "      background-color: #434B5C;\n",
              "      box-shadow: 0px 1px 3px 1px rgba(0, 0, 0, 0.15);\n",
              "      filter: drop-shadow(0px 1px 2px rgba(0, 0, 0, 0.3));\n",
              "      fill: #FFFFFF;\n",
              "    }\n",
              "  </style>\n",
              "\n",
              "      <script>\n",
              "        const buttonEl =\n",
              "          document.querySelector('#df-d3463027-bc40-45a2-a961-9e32808dee7b button.colab-df-convert');\n",
              "        buttonEl.style.display =\n",
              "          google.colab.kernel.accessAllowed ? 'block' : 'none';\n",
              "\n",
              "        async function convertToInteractive(key) {\n",
              "          const element = document.querySelector('#df-d3463027-bc40-45a2-a961-9e32808dee7b');\n",
              "          const dataTable =\n",
              "            await google.colab.kernel.invokeFunction('convertToInteractive',\n",
              "                                                     [key], {});\n",
              "          if (!dataTable) return;\n",
              "\n",
              "          const docLinkHtml = 'Like what you see? Visit the ' +\n",
              "            '<a target=\"_blank\" href=https://colab.research.google.com/notebooks/data_table.ipynb>data table notebook</a>'\n",
              "            + ' to learn more about interactive tables.';\n",
              "          element.innerHTML = '';\n",
              "          dataTable['output_type'] = 'display_data';\n",
              "          await google.colab.output.renderOutput(dataTable, element);\n",
              "          const docLink = document.createElement('div');\n",
              "          docLink.innerHTML = docLinkHtml;\n",
              "          element.appendChild(docLink);\n",
              "        }\n",
              "      </script>\n",
              "    </div>\n",
              "  </div>\n"
            ]
          },
          "metadata": {},
          "execution_count": 56
        }
      ]
    },
    {
      "cell_type": "raw",
      "id": "2b1b3829-b3c7-47b6-8bae-dc9820f5b26f",
      "metadata": {
        "id": "2b1b3829-b3c7-47b6-8bae-dc9820f5b26f"
      },
      "source": [
        "X_test_sbilanciato = X_test_sbilanciato.drop(columns=['Activity'])"
      ]
    },
    {
      "cell_type": "raw",
      "id": "cfcb0ec1-024f-448c-b5a8-68927b09be94",
      "metadata": {
        "id": "cfcb0ec1-024f-448c-b5a8-68927b09be94"
      },
      "source": [
        "tmp = []\n",
        "for i in range(len(y_train)):\n",
        "    if y_train[i] == 1 or y_train[i] == 2 or y_train[i] == 3:\n",
        "        tmp.append(y_train[i])\n",
        "y_train_sbilanciato = pd.Series(tmp, copy=False)"
      ]
    },
    {
      "cell_type": "raw",
      "id": "b8cf7d23-c388-4b46-a1f6-461191d57762",
      "metadata": {
        "id": "b8cf7d23-c388-4b46-a1f6-461191d57762"
      },
      "source": [
        "tmp = []\n",
        "for i in range(len(y_test)):\n",
        "    if y_test[i] == 1 or y_test[i] == 2 or y_test[i] == 3:\n",
        "        tmp.append(y_test[i])\n",
        "y_test_sbilanciato = pd.Series(tmp, copy=False)"
      ]
    },
    {
      "cell_type": "markdown",
      "id": "8d0cfde9-b523-4432-8fd3-ca5121b99cfd",
      "metadata": {
        "pycharm": {
          "name": "#%% md\n"
        },
        "id": "8d0cfde9-b523-4432-8fd3-ca5121b99cfd"
      },
      "source": [
        "## Shape-based Clustering"
      ]
    },
    {
      "cell_type": "code",
      "execution_count": null,
      "id": "4676b4ff-a3ca-4d02-99fd-2b9fd609df4b",
      "metadata": {
        "pycharm": {
          "name": "#%%\n"
        },
        "id": "4676b4ff-a3ca-4d02-99fd-2b9fd609df4b"
      },
      "outputs": [],
      "source": [
        "from tslearn.clustering import TimeSeriesKMeans\n",
        "from tslearn.generators import random_walks\n",
        "from sklearn.metrics import silhouette_samples, silhouette_score"
      ]
    },
    {
      "cell_type": "code",
      "execution_count": null,
      "id": "c26aea65-2c6f-46d2-bd81-d93aed055b03",
      "metadata": {
        "id": "c26aea65-2c6f-46d2-bd81-d93aed055b03"
      },
      "outputs": [],
      "source": [
        "sse_list = []\n",
        "\n",
        "for k in range(1, 31):\n",
        "    kmeans = TimeSeriesKMeans(n_clusters=k, n_init=10, max_iter=100)\n",
        "    kmeans.fit(body_gyro_x_train_sbilanciato)\n",
        "    sse_list.append( kmeans.inertia_ )"
      ]
    },
    {
      "cell_type": "code",
      "execution_count": null,
      "id": "0487db90-be9c-4b90-967f-78ff9d21b941",
      "metadata": {
        "colab": {
          "base_uri": "https://localhost:8080/",
          "height": 479
        },
        "id": "0487db90-be9c-4b90-967f-78ff9d21b941",
        "outputId": "c2339176-1ce6-4803-e0ae-7b9b78965f04"
      },
      "outputs": [
        {
          "output_type": "display_data",
          "data": {
            "text/plain": [
              "<Figure size 640x480 with 1 Axes>"
            ],
            "image/png": "[encoded data removed]"
          },
          "metadata": {}
        }
      ],
      "source": [
        "values = [0,3,6,9,12,15,18,21,24,27,30]\n",
        "plt.rcParams['axes.facecolor'] = 'w'\n",
        "plt.plot(range(2, len(sse_list)+2), sse_list, marker='.', markersize=10, markerfacecolor='black')\n",
        "plt.ylabel('SSE score \\n', fontsize = 15, fontweight = 'bold')\n",
        "plt.xlabel('\\n Values of K', fontsize = 15, fontweight = 'bold')\n",
        "plt.xticks(values)\n",
        "plt.grid(True)\n",
        "plt.show()"
      ]
    },
    {
      "cell_type": "code",
      "execution_count": null,
      "id": "974b3b31-8159-451d-a025-7c84e32a0c7d",
      "metadata": {
        "colab": {
          "base_uri": "https://localhost:8080/",
          "height": 380
        },
        "id": "974b3b31-8159-451d-a025-7c84e32a0c7d",
        "outputId": "3afde6c4-4d80-4794-8df1-94386b4adc27"
      },
      "outputs": [
        {
          "output_type": "error",
          "ename": "KeyboardInterrupt",
          "evalue": "ignored",
          "traceback": [
            "\u001b[0;31m---------------------------------------------------------------------------\u001b[0m",
            "\u001b[0;31mKeyboardInterrupt\u001b[0m                         Traceback (most recent call last)",
            "\u001b[0;32m<ipython-input-60-19e3ce9bbae2>\u001b[0m in \u001b[0;36m<cell line: 5>\u001b[0;34m()\u001b[0m\n\u001b[1;32m      5\u001b[0m \u001b[0;32mfor\u001b[0m \u001b[0mnum_clusters\u001b[0m \u001b[0;32min\u001b[0m \u001b[0mrange_n_clusters\u001b[0m\u001b[0;34m:\u001b[0m\u001b[0;34m\u001b[0m\u001b[0;34m\u001b[0m\u001b[0m\n\u001b[1;32m      6\u001b[0m     \u001b[0mkmeans\u001b[0m \u001b[0;34m=\u001b[0m \u001b[0mTimeSeriesKMeans\u001b[0m\u001b[0;34m(\u001b[0m\u001b[0mn_clusters\u001b[0m\u001b[0;34m=\u001b[0m\u001b[0mnum_clusters\u001b[0m\u001b[0;34m,\u001b[0m \u001b[0mmetric\u001b[0m\u001b[0;34m=\u001b[0m\u001b[0;34m'dtw'\u001b[0m\u001b[0;34m)\u001b[0m\u001b[0;34m\u001b[0m\u001b[0;34m\u001b[0m\u001b[0m\n\u001b[0;32m----> 7\u001b[0;31m     \u001b[0mkmeans\u001b[0m\u001b[0;34m.\u001b[0m\u001b[0mfit\u001b[0m\u001b[0;34m(\u001b[0m\u001b[0mbody_gyro_x_train_sbilanciato\u001b[0m\u001b[0;34m)\u001b[0m\u001b[0;34m\u001b[0m\u001b[0;34m\u001b[0m\u001b[0m\n\u001b[0m\u001b[1;32m      8\u001b[0m     \u001b[0mcluster_labels\u001b[0m \u001b[0;34m=\u001b[0m \u001b[0mkmeans\u001b[0m\u001b[0;34m.\u001b[0m\u001b[0mlabels_\u001b[0m\u001b[0;34m\u001b[0m\u001b[0;34m\u001b[0m\u001b[0m\n\u001b[1;32m      9\u001b[0m     \u001b[0msilhouette_avg\u001b[0m\u001b[0;34m.\u001b[0m\u001b[0mappend\u001b[0m\u001b[0;34m(\u001b[0m\u001b[0msilhouette_score\u001b[0m\u001b[0;34m(\u001b[0m\u001b[0mbody_gyro_x_train_sbilanciato\u001b[0m\u001b[0;34m,\u001b[0m \u001b[0mkmeans\u001b[0m\u001b[0;34m.\u001b[0m\u001b[0mlabels_\u001b[0m\u001b[0;34m)\u001b[0m\u001b[0;34m)\u001b[0m\u001b[0;34m\u001b[0m\u001b[0;34m\u001b[0m\u001b[0m\n",
            "\u001b[0;32m/usr/local/lib/python3.10/dist-packages/tslearn/clustering/kmeans.py\u001b[0m in \u001b[0;36mfit\u001b[0;34m(self, X, y)\u001b[0m\n\u001b[1;32m    819\u001b[0m                     \u001b[0mprint\u001b[0m\u001b[0;34m(\u001b[0m\u001b[0;34m\"Init %d\"\u001b[0m \u001b[0;34m%\u001b[0m \u001b[0;34m(\u001b[0m\u001b[0mn_successful\u001b[0m \u001b[0;34m+\u001b[0m \u001b[0;36m1\u001b[0m\u001b[0;34m)\u001b[0m\u001b[0;34m)\u001b[0m\u001b[0;34m\u001b[0m\u001b[0;34m\u001b[0m\u001b[0m\n\u001b[1;32m    820\u001b[0m                 \u001b[0mn_attempts\u001b[0m \u001b[0;34m+=\u001b[0m \u001b[0;36m1\u001b[0m\u001b[0;34m\u001b[0m\u001b[0;34m\u001b[0m\u001b[0m\n\u001b[0;32m--> 821\u001b[0;31m                 \u001b[0mself\u001b[0m\u001b[0;34m.\u001b[0m\u001b[0m_fit_one_init\u001b[0m\u001b[0;34m(\u001b[0m\u001b[0mX_\u001b[0m\u001b[0;34m,\u001b[0m \u001b[0mx_squared_norms\u001b[0m\u001b[0;34m,\u001b[0m \u001b[0mrs\u001b[0m\u001b[0;34m)\u001b[0m\u001b[0;34m\u001b[0m\u001b[0;34m\u001b[0m\u001b[0m\n\u001b[0m\u001b[1;32m    822\u001b[0m                 \u001b[0;32mif\u001b[0m \u001b[0mself\u001b[0m\u001b[0;34m.\u001b[0m\u001b[0minertia_\u001b[0m \u001b[0;34m<\u001b[0m \u001b[0mmin_inertia\u001b[0m\u001b[0;34m:\u001b[0m\u001b[0;34m\u001b[0m\u001b[0;34m\u001b[0m\u001b[0m\n\u001b[1;32m    823\u001b[0m                     \u001b[0mbest_correct_centroids\u001b[0m \u001b[0;34m=\u001b[0m \u001b[0mself\u001b[0m\u001b[0;34m.\u001b[0m\u001b[0mcluster_centers_\u001b[0m\u001b[0;34m.\u001b[0m\u001b[0mcopy\u001b[0m\u001b[0;34m(\u001b[0m\u001b[0;34m)\u001b[0m\u001b[0;34m\u001b[0m\u001b[0;34m\u001b[0m\u001b[0m\n",
            "\u001b[0;32m/usr/local/lib/python3.10/dist-packages/tslearn/clustering/kmeans.py\u001b[0m in \u001b[0;36m_fit_one_init\u001b[0;34m(self, X, x_squared_norms, rs)\u001b[0m\n\u001b[1;32m    688\u001b[0m             \u001b[0;32mif\u001b[0m \u001b[0mself\u001b[0m\u001b[0;34m.\u001b[0m\u001b[0mverbose\u001b[0m\u001b[0;34m:\u001b[0m\u001b[0;34m\u001b[0m\u001b[0;34m\u001b[0m\u001b[0m\n\u001b[1;32m    689\u001b[0m                 \u001b[0mprint\u001b[0m\u001b[0;34m(\u001b[0m\u001b[0;34m\"%.3f\"\u001b[0m \u001b[0;34m%\u001b[0m \u001b[0mself\u001b[0m\u001b[0;34m.\u001b[0m\u001b[0minertia_\u001b[0m\u001b[0;34m,\u001b[0m \u001b[0mend\u001b[0m\u001b[0;34m=\u001b[0m\u001b[0;34m\" --> \"\u001b[0m\u001b[0;34m)\u001b[0m\u001b[0;34m\u001b[0m\u001b[0;34m\u001b[0m\u001b[0m\n\u001b[0;32m--> 690\u001b[0;31m             \u001b[0mself\u001b[0m\u001b[0;34m.\u001b[0m\u001b[0m_update_centroids\u001b[0m\u001b[0;34m(\u001b[0m\u001b[0mX\u001b[0m\u001b[0;34m)\u001b[0m\u001b[0;34m\u001b[0m\u001b[0;34m\u001b[0m\u001b[0m\n\u001b[0m\u001b[1;32m    691\u001b[0m \u001b[0;34m\u001b[0m\u001b[0m\n\u001b[1;32m    692\u001b[0m             \u001b[0;32mif\u001b[0m \u001b[0mnumpy\u001b[0m\u001b[0;34m.\u001b[0m\u001b[0mabs\u001b[0m\u001b[0;34m(\u001b[0m\u001b[0mold_inertia\u001b[0m \u001b[0;34m-\u001b[0m \u001b[0mself\u001b[0m\u001b[0;34m.\u001b[0m\u001b[0minertia_\u001b[0m\u001b[0;34m)\u001b[0m \u001b[0;34m<\u001b[0m \u001b[0mself\u001b[0m\u001b[0;34m.\u001b[0m\u001b[0mtol\u001b[0m\u001b[0;34m:\u001b[0m\u001b[0;34m\u001b[0m\u001b[0;34m\u001b[0m\u001b[0m\n",
            "\u001b[0;32m/usr/local/lib/python3.10/dist-packages/tslearn/clustering/kmeans.py\u001b[0m in \u001b[0;36m_update_centroids\u001b[0;34m(self, X)\u001b[0m\n\u001b[1;32m    745\u001b[0m         \u001b[0;32mfor\u001b[0m \u001b[0mk\u001b[0m \u001b[0;32min\u001b[0m \u001b[0mrange\u001b[0m\u001b[0;34m(\u001b[0m\u001b[0mself\u001b[0m\u001b[0;34m.\u001b[0m\u001b[0mn_clusters\u001b[0m\u001b[0;34m)\u001b[0m\u001b[0;34m:\u001b[0m\u001b[0;34m\u001b[0m\u001b[0;34m\u001b[0m\u001b[0m\n\u001b[1;32m    746\u001b[0m             \u001b[0;32mif\u001b[0m \u001b[0mself\u001b[0m\u001b[0;34m.\u001b[0m\u001b[0mmetric\u001b[0m \u001b[0;34m==\u001b[0m \u001b[0;34m\"dtw\"\u001b[0m\u001b[0;34m:\u001b[0m\u001b[0;34m\u001b[0m\u001b[0;34m\u001b[0m\u001b[0m\n\u001b[0;32m--> 747\u001b[0;31m                 self.cluster_centers_[k] = dtw_barycenter_averaging(\n\u001b[0m\u001b[1;32m    748\u001b[0m                     \u001b[0mX\u001b[0m\u001b[0;34m=\u001b[0m\u001b[0mX\u001b[0m\u001b[0;34m[\u001b[0m\u001b[0mself\u001b[0m\u001b[0;34m.\u001b[0m\u001b[0mlabels_\u001b[0m \u001b[0;34m==\u001b[0m \u001b[0mk\u001b[0m\u001b[0;34m]\u001b[0m\u001b[0;34m,\u001b[0m\u001b[0;34m\u001b[0m\u001b[0;34m\u001b[0m\u001b[0m\n\u001b[1;32m    749\u001b[0m                     \u001b[0mbarycenter_size\u001b[0m\u001b[0;34m=\u001b[0m\u001b[0;32mNone\u001b[0m\u001b[0;34m,\u001b[0m\u001b[0;34m\u001b[0m\u001b[0;34m\u001b[0m\u001b[0m\n",
            "\u001b[0;32m/usr/local/lib/python3.10/dist-packages/tslearn/barycenters/dba.py\u001b[0m in \u001b[0;36mdtw_barycenter_averaging\u001b[0;34m(X, barycenter_size, init_barycenter, max_iter, tol, weights, metric_params, verbose, n_init)\u001b[0m\n\u001b[1;32m    496\u001b[0m         \u001b[0;32mif\u001b[0m \u001b[0mverbose\u001b[0m\u001b[0;34m:\u001b[0m\u001b[0;34m\u001b[0m\u001b[0;34m\u001b[0m\u001b[0m\n\u001b[1;32m    497\u001b[0m             \u001b[0mprint\u001b[0m\u001b[0;34m(\u001b[0m\u001b[0;34m\"Attempt {}\"\u001b[0m\u001b[0;34m.\u001b[0m\u001b[0mformat\u001b[0m\u001b[0;34m(\u001b[0m\u001b[0mi\u001b[0m \u001b[0;34m+\u001b[0m \u001b[0;36m1\u001b[0m\u001b[0;34m)\u001b[0m\u001b[0;34m)\u001b[0m\u001b[0;34m\u001b[0m\u001b[0;34m\u001b[0m\u001b[0m\n\u001b[0;32m--> 498\u001b[0;31m         bary, loss = dtw_barycenter_averaging_one_init(\n\u001b[0m\u001b[1;32m    499\u001b[0m             \u001b[0mX\u001b[0m\u001b[0;34m=\u001b[0m\u001b[0mX\u001b[0m\u001b[0;34m,\u001b[0m\u001b[0;34m\u001b[0m\u001b[0;34m\u001b[0m\u001b[0m\n\u001b[1;32m    500\u001b[0m             \u001b[0mbarycenter_size\u001b[0m\u001b[0;34m=\u001b[0m\u001b[0mbarycenter_size\u001b[0m\u001b[0;34m,\u001b[0m\u001b[0;34m\u001b[0m\u001b[0;34m\u001b[0m\u001b[0m\n",
            "\u001b[0;32m/usr/local/lib/python3.10/dist-packages/tslearn/barycenters/dba.py\u001b[0m in \u001b[0;36mdtw_barycenter_averaging_one_init\u001b[0;34m(X, barycenter_size, init_barycenter, max_iter, tol, weights, metric_params, verbose)\u001b[0m\n\u001b[1;32m    589\u001b[0m     \u001b[0;32mfor\u001b[0m \u001b[0mit\u001b[0m \u001b[0;32min\u001b[0m \u001b[0mrange\u001b[0m\u001b[0;34m(\u001b[0m\u001b[0mmax_iter\u001b[0m\u001b[0;34m)\u001b[0m\u001b[0;34m:\u001b[0m\u001b[0;34m\u001b[0m\u001b[0;34m\u001b[0m\u001b[0m\n\u001b[1;32m    590\u001b[0m         \u001b[0mlist_p_k\u001b[0m\u001b[0;34m,\u001b[0m \u001b[0mcost\u001b[0m \u001b[0;34m=\u001b[0m \u001b[0m_mm_assignment\u001b[0m\u001b[0;34m(\u001b[0m\u001b[0mX_\u001b[0m\u001b[0;34m,\u001b[0m \u001b[0mbarycenter\u001b[0m\u001b[0;34m,\u001b[0m \u001b[0mweights\u001b[0m\u001b[0;34m,\u001b[0m \u001b[0mmetric_params\u001b[0m\u001b[0;34m)\u001b[0m\u001b[0;34m\u001b[0m\u001b[0;34m\u001b[0m\u001b[0m\n\u001b[0;32m--> 591\u001b[0;31m         diag_sum_v_k, list_w_k = _mm_valence_warping(list_p_k, barycenter_size,\n\u001b[0m\u001b[1;32m    592\u001b[0m                                                      weights)\n\u001b[1;32m    593\u001b[0m         \u001b[0;32mif\u001b[0m \u001b[0mverbose\u001b[0m\u001b[0;34m:\u001b[0m\u001b[0;34m\u001b[0m\u001b[0;34m\u001b[0m\u001b[0m\n",
            "\u001b[0;32m/usr/local/lib/python3.10/dist-packages/tslearn/barycenters/dba.py\u001b[0m in \u001b[0;36m_mm_valence_warping\u001b[0;34m(list_p_k, barycenter_size, weights)\u001b[0m\n\u001b[1;32m    301\u001b[0m        \u001b[0mPattern\u001b[0m \u001b[0mRecognition\u001b[0m\u001b[0;34m,\u001b[0m \u001b[0;36m74\u001b[0m\u001b[0;34m,\u001b[0m \u001b[0;36m340\u001b[0m\u001b[0;34m-\u001b[0m\u001b[0;36m358.\u001b[0m\u001b[0;34m\u001b[0m\u001b[0;34m\u001b[0m\u001b[0m\n\u001b[1;32m    302\u001b[0m     \"\"\"\n\u001b[0;32m--> 303\u001b[0;31m     list_v_k, list_w_k = _subgradient_valence_warping(\n\u001b[0m\u001b[1;32m    304\u001b[0m         \u001b[0mlist_p_k\u001b[0m\u001b[0;34m=\u001b[0m\u001b[0mlist_p_k\u001b[0m\u001b[0;34m,\u001b[0m\u001b[0;34m\u001b[0m\u001b[0;34m\u001b[0m\u001b[0m\n\u001b[1;32m    305\u001b[0m         \u001b[0mbarycenter_size\u001b[0m\u001b[0;34m=\u001b[0m\u001b[0mbarycenter_size\u001b[0m\u001b[0;34m,\u001b[0m\u001b[0;34m\u001b[0m\u001b[0;34m\u001b[0m\u001b[0m\n",
            "\u001b[0;32m/usr/local/lib/python3.10/dist-packages/tslearn/barycenters/dba.py\u001b[0m in \u001b[0;36m_subgradient_valence_warping\u001b[0;34m(list_p_k, barycenter_size, weights)\u001b[0m\n\u001b[1;32m    261\u001b[0m         \u001b[0;32mfor\u001b[0m \u001b[0mi\u001b[0m\u001b[0;34m,\u001b[0m \u001b[0mj\u001b[0m \u001b[0;32min\u001b[0m \u001b[0mp_k\u001b[0m\u001b[0;34m:\u001b[0m\u001b[0;34m\u001b[0m\u001b[0;34m\u001b[0m\u001b[0m\n\u001b[1;32m    262\u001b[0m             \u001b[0mw_k\u001b[0m\u001b[0;34m[\u001b[0m\u001b[0mi\u001b[0m\u001b[0;34m,\u001b[0m \u001b[0mj\u001b[0m\u001b[0;34m]\u001b[0m \u001b[0;34m=\u001b[0m \u001b[0;36m1.\u001b[0m\u001b[0;34m\u001b[0m\u001b[0;34m\u001b[0m\u001b[0m\n\u001b[0;32m--> 263\u001b[0;31m         \u001b[0mlist_w_k\u001b[0m\u001b[0;34m.\u001b[0m\u001b[0mappend\u001b[0m\u001b[0;34m(\u001b[0m\u001b[0mw_k\u001b[0m \u001b[0;34m*\u001b[0m \u001b[0mweights\u001b[0m\u001b[0;34m[\u001b[0m\u001b[0mk\u001b[0m\u001b[0;34m]\u001b[0m\u001b[0;34m)\u001b[0m\u001b[0;34m\u001b[0m\u001b[0;34m\u001b[0m\u001b[0m\n\u001b[0m\u001b[1;32m    264\u001b[0m         \u001b[0mlist_v_k\u001b[0m\u001b[0;34m.\u001b[0m\u001b[0mappend\u001b[0m\u001b[0;34m(\u001b[0m\u001b[0mw_k\u001b[0m\u001b[0;34m.\u001b[0m\u001b[0msum\u001b[0m\u001b[0;34m(\u001b[0m\u001b[0maxis\u001b[0m\u001b[0;34m=\u001b[0m\u001b[0;36m1\u001b[0m\u001b[0;34m)\u001b[0m \u001b[0;34m*\u001b[0m \u001b[0mweights\u001b[0m\u001b[0;34m[\u001b[0m\u001b[0mk\u001b[0m\u001b[0;34m]\u001b[0m\u001b[0;34m)\u001b[0m\u001b[0;34m\u001b[0m\u001b[0;34m\u001b[0m\u001b[0m\n\u001b[1;32m    265\u001b[0m     \u001b[0;32mreturn\u001b[0m \u001b[0mlist_v_k\u001b[0m\u001b[0;34m,\u001b[0m \u001b[0mlist_w_k\u001b[0m\u001b[0;34m\u001b[0m\u001b[0;34m\u001b[0m\u001b[0m\n",
            "\u001b[0;31mKeyboardInterrupt\u001b[0m: "
          ]
        }
      ],
      "source": [
        "values = [0,3,4 ,5, 6,9,12,15,18,21,24,27,30]\n",
        "plt.rcParams['axes.facecolor'] = 'w'\n",
        "range_n_clusters = [3, 4, 5, 6, 7, 8, 9, 10, 11, 12, 13, 14,15,16,17,18,19,20,21,22,23,24,25,26,27,28,29,30]\n",
        "silhouette_avg = []\n",
        "for num_clusters in range_n_clusters:\n",
        "    kmeans = TimeSeriesKMeans(n_clusters=num_clusters, metric='dtw')\n",
        "    kmeans.fit(body_gyro_x_train_sbilanciato)\n",
        "    cluster_labels = kmeans.labels_\n",
        "    silhouette_avg.append(silhouette_score(body_gyro_x_train_sbilanciato, kmeans.labels_))\n",
        "\n",
        "plt.plot(range_n_clusters,silhouette_avg, marker='.', markersize=10, markerfacecolor='black')\n",
        "plt.xlabel('\\n Values of K', fontsize = 15, fontweight = 'bold')\n",
        "plt.ylabel('Silhouette score \\n', fontsize = 15, fontweight = 'bold')\n",
        "plt.xticks(values)\n",
        "plt.grid(True)\n",
        "plt.show()"
      ]
    },
    {
      "cell_type": "code",
      "execution_count": null,
      "id": "d228d306-6486-42ad-90ee-f191b0e88d7c",
      "metadata": {
        "tags": [],
        "id": "d228d306-6486-42ad-90ee-f191b0e88d7c"
      },
      "outputs": [],
      "source": [
        "plt.rcParams['figure.figsize'] = [8,8]\n",
        "sns.set_style(\"whitegrid\")\n",
        "colors = plt.rcParams['axes.prop_cycle'].by_key()['color']\n",
        "\n",
        "inertia_list = []\n",
        "for num_clusters in range(1, 31):\n",
        "    kmeans_model = TimeSeriesKMeans(n_clusters=num_clusters, metric=\"dtw\", max_iter=100, random_state=0)\n",
        "    kmeans_model.fit(body_gyro_x_train_sbilanciato)\n",
        "    inertia_list.append(kmeans_model.inertia_)\n",
        "\n",
        "# plot the inertia curve\n",
        "plt.plot(range(1,31),inertia_list)\n",
        "plt.scatter(range(1,31),inertia_list)\n",
        "#plt.scatter(3, inertia_list[3], marker=\"X\", s=300, c=\"r\")\n",
        "plt.xlabel(\"Number of Clusters\", size=13)\n",
        "plt.ylabel(\"Inertia Value\", size=13)\n",
        "plt.title(\"Different Inertia Values for Different Number of Clusters\", size=17)"
      ]
    },
    {
      "cell_type": "code",
      "execution_count": null,
      "id": "86f19407-d0e5-4377-98ee-48dacbe51884",
      "metadata": {
        "pycharm": {
          "name": "#%%\n"
        },
        "id": "86f19407-d0e5-4377-98ee-48dacbe51884"
      },
      "outputs": [],
      "source": [
        "km_eu = TimeSeriesKMeans(n_clusters=11, metric=\"euclidean\", max_iter=100, random_state=0)\n",
        "km_eu.fit(body_gyro_x_train_sbilanciato)"
      ]
    },
    {
      "cell_type": "code",
      "execution_count": null,
      "id": "dafc2449-d8d4-4c7e-a236-8751c498ebe3",
      "metadata": {
        "pycharm": {
          "name": "#%%\n"
        },
        "id": "dafc2449-d8d4-4c7e-a236-8751c498ebe3"
      },
      "outputs": [],
      "source": [
        "km_eu.cluster_centers_.shape"
      ]
    },
    {
      "cell_type": "code",
      "execution_count": null,
      "id": "aaf270bd-7773-4c98-84de-a5dc76152b20",
      "metadata": {
        "pycharm": {
          "name": "#%%\n"
        },
        "id": "aaf270bd-7773-4c98-84de-a5dc76152b20"
      },
      "outputs": [],
      "source": [
        "plt.plot(np.squeeze(km_eu.cluster_centers_).T)\n",
        "plt.show()"
      ]
    },
    {
      "cell_type": "code",
      "execution_count": null,
      "id": "1a3bb55c-b5f0-4041-a6d1-0627d5054fe0",
      "metadata": {
        "pycharm": {
          "name": "#%%\n"
        },
        "id": "1a3bb55c-b5f0-4041-a6d1-0627d5054fe0"
      },
      "outputs": [],
      "source": [
        "np.unique(km_eu.labels_, return_counts=True)"
      ]
    },
    {
      "cell_type": "code",
      "execution_count": null,
      "id": "d846671d-d784-4ca8-8017-8753b1f75f0b",
      "metadata": {
        "pycharm": {
          "name": "#%%\n"
        },
        "id": "d846671d-d784-4ca8-8017-8753b1f75f0b"
      },
      "outputs": [],
      "source": [
        "km_eu.inertia_"
      ]
    },
    {
      "cell_type": "code",
      "execution_count": null,
      "id": "3d2913c3-dedc-4ea1-a5b2-2d6408e4b7e9",
      "metadata": {
        "pycharm": {
          "name": "#%%\n"
        },
        "id": "3d2913c3-dedc-4ea1-a5b2-2d6408e4b7e9"
      },
      "outputs": [],
      "source": [
        "km_dtw = TimeSeriesKMeans(n_clusters=11, metric=\"dtw\", max_iter=100, random_state=0)\n",
        "km_dtw.fit(body_gyro_x_train_sbilanciato)"
      ]
    },
    {
      "cell_type": "code",
      "execution_count": null,
      "id": "23e3f241-5c92-4af2-a585-fb9717638547",
      "metadata": {
        "pycharm": {
          "name": "#%%\n"
        },
        "id": "23e3f241-5c92-4af2-a585-fb9717638547"
      },
      "outputs": [],
      "source": [
        "plt.plot(np.squeeze(km_dtw.cluster_centers_).T)\n",
        "plt.show()"
      ]
    },
    {
      "cell_type": "code",
      "execution_count": null,
      "id": "8608dc98-85c3-4d05-8e7b-a9c14c7ac680",
      "metadata": {
        "id": "8608dc98-85c3-4d05-8e7b-a9c14c7ac680"
      },
      "outputs": [],
      "source": [
        "\n",
        "np.unique(km_dtw.labels_, return_counts=True)"
      ]
    },
    {
      "cell_type": "code",
      "execution_count": null,
      "id": "afbe02bf-4cef-433a-9d5a-f06129f7b3b5",
      "metadata": {
        "pycharm": {
          "name": "#%%\n"
        },
        "id": "afbe02bf-4cef-433a-9d5a-f06129f7b3b5"
      },
      "outputs": [],
      "source": [
        "km_dtw.inertia_"
      ]
    },
    {
      "cell_type": "code",
      "execution_count": 109,
      "id": "81045f3b-a401-43c5-bed8-2726df93b68f",
      "metadata": {
        "tags": [],
        "id": "81045f3b-a401-43c5-bed8-2726df93b68f",
        "colab": {
          "base_uri": "https://localhost:8080/",
          "height": 328
        },
        "outputId": "8854777d-143e-48cf-b642-8e312f71a1e9"
      },
      "outputs": [
        {
          "output_type": "error",
          "ename": "KeyboardInterrupt",
          "evalue": "ignored",
          "traceback": [
            "\u001b[0;31m---------------------------------------------------------------------------\u001b[0m",
            "\u001b[0;31mKeyboardInterrupt\u001b[0m                         Traceback (most recent call last)",
            "\u001b[0;32m<ipython-input-109-4718a64e5139>\u001b[0m in \u001b[0;36m<cell line: 2>\u001b[0;34m()\u001b[0m\n\u001b[1;32m      1\u001b[0m \u001b[0mkm_softdtw\u001b[0m \u001b[0;34m=\u001b[0m \u001b[0mTimeSeriesKMeans\u001b[0m\u001b[0;34m(\u001b[0m\u001b[0mn_clusters\u001b[0m\u001b[0;34m=\u001b[0m\u001b[0;36m11\u001b[0m\u001b[0;34m,\u001b[0m \u001b[0mmetric\u001b[0m\u001b[0;34m=\u001b[0m\u001b[0;34m\"softdtw\"\u001b[0m\u001b[0;34m,\u001b[0m \u001b[0mmax_iter\u001b[0m\u001b[0;34m=\u001b[0m\u001b[0;36m100\u001b[0m\u001b[0;34m,\u001b[0m \u001b[0mrandom_state\u001b[0m\u001b[0;34m=\u001b[0m\u001b[0;36m0\u001b[0m\u001b[0;34m)\u001b[0m\u001b[0;34m\u001b[0m\u001b[0;34m\u001b[0m\u001b[0m\n\u001b[0;32m----> 2\u001b[0;31m \u001b[0mkm_softdtw\u001b[0m\u001b[0;34m.\u001b[0m\u001b[0mfit\u001b[0m\u001b[0;34m(\u001b[0m\u001b[0mbody_gyro_x_train_sbilanciato\u001b[0m\u001b[0;34m)\u001b[0m\u001b[0;34m\u001b[0m\u001b[0;34m\u001b[0m\u001b[0m\n\u001b[0m",
            "\u001b[0;32m/usr/local/lib/python3.10/dist-packages/tslearn/clustering/kmeans.py\u001b[0m in \u001b[0;36mfit\u001b[0;34m(self, X, y)\u001b[0m\n\u001b[1;32m    819\u001b[0m                     \u001b[0mprint\u001b[0m\u001b[0;34m(\u001b[0m\u001b[0;34m\"Init %d\"\u001b[0m \u001b[0;34m%\u001b[0m \u001b[0;34m(\u001b[0m\u001b[0mn_successful\u001b[0m \u001b[0;34m+\u001b[0m \u001b[0;36m1\u001b[0m\u001b[0;34m)\u001b[0m\u001b[0;34m)\u001b[0m\u001b[0;34m\u001b[0m\u001b[0;34m\u001b[0m\u001b[0m\n\u001b[1;32m    820\u001b[0m                 \u001b[0mn_attempts\u001b[0m \u001b[0;34m+=\u001b[0m \u001b[0;36m1\u001b[0m\u001b[0;34m\u001b[0m\u001b[0;34m\u001b[0m\u001b[0m\n\u001b[0;32m--> 821\u001b[0;31m                 \u001b[0mself\u001b[0m\u001b[0;34m.\u001b[0m\u001b[0m_fit_one_init\u001b[0m\u001b[0;34m(\u001b[0m\u001b[0mX_\u001b[0m\u001b[0;34m,\u001b[0m \u001b[0mx_squared_norms\u001b[0m\u001b[0;34m,\u001b[0m \u001b[0mrs\u001b[0m\u001b[0;34m)\u001b[0m\u001b[0;34m\u001b[0m\u001b[0;34m\u001b[0m\u001b[0m\n\u001b[0m\u001b[1;32m    822\u001b[0m                 \u001b[0;32mif\u001b[0m \u001b[0mself\u001b[0m\u001b[0;34m.\u001b[0m\u001b[0minertia_\u001b[0m \u001b[0;34m<\u001b[0m \u001b[0mmin_inertia\u001b[0m\u001b[0;34m:\u001b[0m\u001b[0;34m\u001b[0m\u001b[0;34m\u001b[0m\u001b[0m\n\u001b[1;32m    823\u001b[0m                     \u001b[0mbest_correct_centroids\u001b[0m \u001b[0;34m=\u001b[0m \u001b[0mself\u001b[0m\u001b[0;34m.\u001b[0m\u001b[0mcluster_centers_\u001b[0m\u001b[0;34m.\u001b[0m\u001b[0mcopy\u001b[0m\u001b[0;34m(\u001b[0m\u001b[0;34m)\u001b[0m\u001b[0;34m\u001b[0m\u001b[0;34m\u001b[0m\u001b[0m\n",
            "\u001b[0;32m/usr/local/lib/python3.10/dist-packages/tslearn/clustering/kmeans.py\u001b[0m in \u001b[0;36m_fit_one_init\u001b[0;34m(self, X, x_squared_norms, rs)\u001b[0m\n\u001b[1;32m    685\u001b[0m \u001b[0;34m\u001b[0m\u001b[0m\n\u001b[1;32m    686\u001b[0m         \u001b[0;32mfor\u001b[0m \u001b[0mit\u001b[0m \u001b[0;32min\u001b[0m \u001b[0mrange\u001b[0m\u001b[0;34m(\u001b[0m\u001b[0mself\u001b[0m\u001b[0;34m.\u001b[0m\u001b[0mmax_iter\u001b[0m\u001b[0;34m)\u001b[0m\u001b[0;34m:\u001b[0m\u001b[0;34m\u001b[0m\u001b[0;34m\u001b[0m\u001b[0m\n\u001b[0;32m--> 687\u001b[0;31m             \u001b[0mself\u001b[0m\u001b[0;34m.\u001b[0m\u001b[0m_assign\u001b[0m\u001b[0;34m(\u001b[0m\u001b[0mX\u001b[0m\u001b[0;34m)\u001b[0m\u001b[0;34m\u001b[0m\u001b[0;34m\u001b[0m\u001b[0m\n\u001b[0m\u001b[1;32m    688\u001b[0m             \u001b[0;32mif\u001b[0m \u001b[0mself\u001b[0m\u001b[0;34m.\u001b[0m\u001b[0mverbose\u001b[0m\u001b[0;34m:\u001b[0m\u001b[0;34m\u001b[0m\u001b[0;34m\u001b[0m\u001b[0m\n\u001b[1;32m    689\u001b[0m                 \u001b[0mprint\u001b[0m\u001b[0;34m(\u001b[0m\u001b[0;34m\"%.3f\"\u001b[0m \u001b[0;34m%\u001b[0m \u001b[0mself\u001b[0m\u001b[0;34m.\u001b[0m\u001b[0minertia_\u001b[0m\u001b[0;34m,\u001b[0m \u001b[0mend\u001b[0m\u001b[0;34m=\u001b[0m\u001b[0;34m\" --> \"\u001b[0m\u001b[0;34m)\u001b[0m\u001b[0;34m\u001b[0m\u001b[0;34m\u001b[0m\u001b[0m\n",
            "\u001b[0;32m/usr/local/lib/python3.10/dist-packages/tslearn/clustering/kmeans.py\u001b[0m in \u001b[0;36m_assign\u001b[0;34m(self, X, update_class_attributes)\u001b[0m\n\u001b[1;32m    725\u001b[0m \u001b[0;34m\u001b[0m\u001b[0m\n\u001b[1;32m    726\u001b[0m     \u001b[0;32mdef\u001b[0m \u001b[0m_assign\u001b[0m\u001b[0;34m(\u001b[0m\u001b[0mself\u001b[0m\u001b[0;34m,\u001b[0m \u001b[0mX\u001b[0m\u001b[0;34m,\u001b[0m \u001b[0mupdate_class_attributes\u001b[0m\u001b[0;34m=\u001b[0m\u001b[0;32mTrue\u001b[0m\u001b[0;34m)\u001b[0m\u001b[0;34m:\u001b[0m\u001b[0;34m\u001b[0m\u001b[0;34m\u001b[0m\u001b[0m\n\u001b[0;32m--> 727\u001b[0;31m         \u001b[0mdists\u001b[0m \u001b[0;34m=\u001b[0m \u001b[0mself\u001b[0m\u001b[0;34m.\u001b[0m\u001b[0m_transform\u001b[0m\u001b[0;34m(\u001b[0m\u001b[0mX\u001b[0m\u001b[0;34m)\u001b[0m\u001b[0;34m\u001b[0m\u001b[0;34m\u001b[0m\u001b[0m\n\u001b[0m\u001b[1;32m    728\u001b[0m         \u001b[0mmatched_labels\u001b[0m \u001b[0;34m=\u001b[0m \u001b[0mdists\u001b[0m\u001b[0;34m.\u001b[0m\u001b[0margmin\u001b[0m\u001b[0;34m(\u001b[0m\u001b[0maxis\u001b[0m\u001b[0;34m=\u001b[0m\u001b[0;36m1\u001b[0m\u001b[0;34m)\u001b[0m\u001b[0;34m\u001b[0m\u001b[0;34m\u001b[0m\u001b[0m\n\u001b[1;32m    729\u001b[0m         \u001b[0;32mif\u001b[0m \u001b[0mupdate_class_attributes\u001b[0m\u001b[0;34m:\u001b[0m\u001b[0;34m\u001b[0m\u001b[0;34m\u001b[0m\u001b[0m\n",
            "\u001b[0;32m/usr/local/lib/python3.10/dist-packages/tslearn/clustering/kmeans.py\u001b[0m in \u001b[0;36m_transform\u001b[0;34m(self, X)\u001b[0m\n\u001b[1;32m    717\u001b[0m             )\n\u001b[1;32m    718\u001b[0m         \u001b[0;32melif\u001b[0m \u001b[0mself\u001b[0m\u001b[0;34m.\u001b[0m\u001b[0mmetric\u001b[0m \u001b[0;34m==\u001b[0m \u001b[0;34m\"softdtw\"\u001b[0m\u001b[0;34m:\u001b[0m\u001b[0;34m\u001b[0m\u001b[0;34m\u001b[0m\u001b[0m\n\u001b[0;32m--> 719\u001b[0;31m             \u001b[0;32mreturn\u001b[0m \u001b[0mcdist_soft_dtw\u001b[0m\u001b[0;34m(\u001b[0m\u001b[0mX\u001b[0m\u001b[0;34m,\u001b[0m \u001b[0mself\u001b[0m\u001b[0;34m.\u001b[0m\u001b[0mcluster_centers_\u001b[0m\u001b[0;34m,\u001b[0m \u001b[0;34m**\u001b[0m\u001b[0mmetric_params\u001b[0m\u001b[0;34m)\u001b[0m\u001b[0;34m\u001b[0m\u001b[0;34m\u001b[0m\u001b[0m\n\u001b[0m\u001b[1;32m    720\u001b[0m         \u001b[0;32melse\u001b[0m\u001b[0;34m:\u001b[0m\u001b[0;34m\u001b[0m\u001b[0;34m\u001b[0m\u001b[0m\n\u001b[1;32m    721\u001b[0m             raise ValueError(\n",
            "\u001b[0;32m/usr/local/lib/python3.10/dist-packages/tslearn/metrics/softdtw_variants.py\u001b[0m in \u001b[0;36mcdist_soft_dtw\u001b[0;34m(dataset1, dataset2, gamma, be)\u001b[0m\n\u001b[1;32m    599\u001b[0m                 \u001b[0mdists\u001b[0m\u001b[0;34m[\u001b[0m\u001b[0mi\u001b[0m\u001b[0;34m,\u001b[0m \u001b[0mj\u001b[0m\u001b[0;34m]\u001b[0m \u001b[0;34m=\u001b[0m \u001b[0mdists\u001b[0m\u001b[0;34m[\u001b[0m\u001b[0mj\u001b[0m\u001b[0;34m,\u001b[0m \u001b[0mi\u001b[0m\u001b[0;34m]\u001b[0m\u001b[0;34m\u001b[0m\u001b[0;34m\u001b[0m\u001b[0m\n\u001b[1;32m    600\u001b[0m             \u001b[0;32melse\u001b[0m\u001b[0;34m:\u001b[0m\u001b[0;34m\u001b[0m\u001b[0;34m\u001b[0m\u001b[0m\n\u001b[0;32m--> 601\u001b[0;31m                 \u001b[0mdists\u001b[0m\u001b[0;34m[\u001b[0m\u001b[0mi\u001b[0m\u001b[0;34m,\u001b[0m \u001b[0mj\u001b[0m\u001b[0;34m]\u001b[0m \u001b[0;34m=\u001b[0m \u001b[0msoft_dtw\u001b[0m\u001b[0;34m(\u001b[0m\u001b[0mts1_short\u001b[0m\u001b[0;34m,\u001b[0m \u001b[0mts2_short\u001b[0m\u001b[0;34m,\u001b[0m \u001b[0mgamma\u001b[0m\u001b[0;34m=\u001b[0m\u001b[0mgamma\u001b[0m\u001b[0;34m,\u001b[0m \u001b[0mbe\u001b[0m\u001b[0;34m=\u001b[0m\u001b[0mbe\u001b[0m\u001b[0;34m)\u001b[0m\u001b[0;34m\u001b[0m\u001b[0;34m\u001b[0m\u001b[0m\n\u001b[0m\u001b[1;32m    602\u001b[0m \u001b[0;34m\u001b[0m\u001b[0m\n\u001b[1;32m    603\u001b[0m     \u001b[0;32mreturn\u001b[0m \u001b[0mdists\u001b[0m\u001b[0;34m\u001b[0m\u001b[0;34m\u001b[0m\u001b[0m\n",
            "\u001b[0;32m/usr/local/lib/python3.10/dist-packages/tslearn/metrics/softdtw_variants.py\u001b[0m in \u001b[0;36msoft_dtw\u001b[0;34m(ts1, ts2, gamma, be)\u001b[0m\n\u001b[1;32m    426\u001b[0m     \u001b[0;32mif\u001b[0m \u001b[0mgamma\u001b[0m \u001b[0;34m==\u001b[0m \u001b[0;36m0.0\u001b[0m\u001b[0;34m:\u001b[0m\u001b[0;34m\u001b[0m\u001b[0;34m\u001b[0m\u001b[0m\n\u001b[1;32m    427\u001b[0m         \u001b[0;32mreturn\u001b[0m \u001b[0mdtw\u001b[0m\u001b[0;34m(\u001b[0m\u001b[0mts1\u001b[0m\u001b[0;34m,\u001b[0m \u001b[0mts2\u001b[0m\u001b[0;34m,\u001b[0m \u001b[0mbe\u001b[0m\u001b[0;34m=\u001b[0m\u001b[0mbe\u001b[0m\u001b[0;34m)\u001b[0m \u001b[0;34m**\u001b[0m \u001b[0;36m2\u001b[0m\u001b[0;34m\u001b[0m\u001b[0;34m\u001b[0m\u001b[0m\n\u001b[0;32m--> 428\u001b[0;31m     return SoftDTW(\n\u001b[0m\u001b[1;32m    429\u001b[0m         \u001b[0mSquaredEuclidean\u001b[0m\u001b[0;34m(\u001b[0m\u001b[0mts1\u001b[0m\u001b[0;34m[\u001b[0m\u001b[0;34m:\u001b[0m \u001b[0mts_size\u001b[0m\u001b[0;34m(\u001b[0m\u001b[0mts1\u001b[0m\u001b[0;34m)\u001b[0m\u001b[0;34m]\u001b[0m\u001b[0;34m,\u001b[0m \u001b[0mts2\u001b[0m\u001b[0;34m[\u001b[0m\u001b[0;34m:\u001b[0m \u001b[0mts_size\u001b[0m\u001b[0;34m(\u001b[0m\u001b[0mts2\u001b[0m\u001b[0;34m)\u001b[0m\u001b[0;34m]\u001b[0m\u001b[0;34m,\u001b[0m \u001b[0mbe\u001b[0m\u001b[0;34m=\u001b[0m\u001b[0mbe\u001b[0m\u001b[0;34m)\u001b[0m\u001b[0;34m,\u001b[0m\u001b[0;34m\u001b[0m\u001b[0;34m\u001b[0m\u001b[0m\n\u001b[1;32m    430\u001b[0m         \u001b[0mgamma\u001b[0m\u001b[0;34m=\u001b[0m\u001b[0mgamma\u001b[0m\u001b[0;34m,\u001b[0m\u001b[0;34m\u001b[0m\u001b[0;34m\u001b[0m\u001b[0m\n",
            "\u001b[0;32m/usr/local/lib/python3.10/dist-packages/tslearn/metrics/softdtw_variants.py\u001b[0m in \u001b[0;36m__init__\u001b[0;34m(self, D, gamma, be, compute_with_backend)\u001b[0m\n\u001b[1;32m    705\u001b[0m         \u001b[0mself\u001b[0m\u001b[0;34m.\u001b[0m\u001b[0mcompute_with_backend\u001b[0m \u001b[0;34m=\u001b[0m \u001b[0mcompute_with_backend\u001b[0m\u001b[0;34m\u001b[0m\u001b[0;34m\u001b[0m\u001b[0m\n\u001b[1;32m    706\u001b[0m         \u001b[0;32mif\u001b[0m \u001b[0mhasattr\u001b[0m\u001b[0;34m(\u001b[0m\u001b[0mD\u001b[0m\u001b[0;34m,\u001b[0m \u001b[0;34m\"compute\"\u001b[0m\u001b[0;34m)\u001b[0m\u001b[0;34m:\u001b[0m\u001b[0;34m\u001b[0m\u001b[0;34m\u001b[0m\u001b[0m\n\u001b[0;32m--> 707\u001b[0;31m             \u001b[0mself\u001b[0m\u001b[0;34m.\u001b[0m\u001b[0mD\u001b[0m \u001b[0;34m=\u001b[0m \u001b[0mD\u001b[0m\u001b[0;34m.\u001b[0m\u001b[0mcompute\u001b[0m\u001b[0;34m(\u001b[0m\u001b[0;34m)\u001b[0m\u001b[0;34m\u001b[0m\u001b[0;34m\u001b[0m\u001b[0m\n\u001b[0m\u001b[1;32m    708\u001b[0m         \u001b[0;32melse\u001b[0m\u001b[0;34m:\u001b[0m\u001b[0;34m\u001b[0m\u001b[0;34m\u001b[0m\u001b[0m\n\u001b[1;32m    709\u001b[0m             \u001b[0mself\u001b[0m\u001b[0;34m.\u001b[0m\u001b[0mD\u001b[0m \u001b[0;34m=\u001b[0m \u001b[0mD\u001b[0m\u001b[0;34m\u001b[0m\u001b[0;34m\u001b[0m\u001b[0m\n",
            "\u001b[0;32m/usr/local/lib/python3.10/dist-packages/tslearn/metrics/softdtw_variants.py\u001b[0m in \u001b[0;36mcompute\u001b[0;34m(self)\u001b[0m\n\u001b[1;32m    822\u001b[0m             \u001b[0mDistance\u001b[0m \u001b[0mmatrix\u001b[0m\u001b[0;34m.\u001b[0m\u001b[0;34m\u001b[0m\u001b[0;34m\u001b[0m\u001b[0m\n\u001b[1;32m    823\u001b[0m         \"\"\"\n\u001b[0;32m--> 824\u001b[0;31m         \u001b[0;32mreturn\u001b[0m \u001b[0mself\u001b[0m\u001b[0;34m.\u001b[0m\u001b[0mbe\u001b[0m\u001b[0;34m.\u001b[0m\u001b[0mpairwise_euclidean_distances\u001b[0m\u001b[0;34m(\u001b[0m\u001b[0mself\u001b[0m\u001b[0;34m.\u001b[0m\u001b[0mX\u001b[0m\u001b[0;34m,\u001b[0m \u001b[0mself\u001b[0m\u001b[0;34m.\u001b[0m\u001b[0mY\u001b[0m\u001b[0;34m)\u001b[0m \u001b[0;34m**\u001b[0m \u001b[0;36m2\u001b[0m\u001b[0;34m\u001b[0m\u001b[0;34m\u001b[0m\u001b[0m\n\u001b[0m\u001b[1;32m    825\u001b[0m \u001b[0;34m\u001b[0m\u001b[0m\n\u001b[1;32m    826\u001b[0m     \u001b[0;32mdef\u001b[0m \u001b[0mjacobian_product\u001b[0m\u001b[0;34m(\u001b[0m\u001b[0mself\u001b[0m\u001b[0;34m,\u001b[0m \u001b[0mE\u001b[0m\u001b[0;34m)\u001b[0m\u001b[0;34m:\u001b[0m\u001b[0;34m\u001b[0m\u001b[0;34m\u001b[0m\u001b[0m\n",
            "\u001b[0;32m/usr/local/lib/python3.10/dist-packages/sklearn/metrics/pairwise.py\u001b[0m in \u001b[0;36meuclidean_distances\u001b[0;34m(X, Y, Y_norm_squared, squared, X_norm_squared)\u001b[0m\n\u001b[1;32m    326\u001b[0m             )\n\u001b[1;32m    327\u001b[0m \u001b[0;34m\u001b[0m\u001b[0m\n\u001b[0;32m--> 328\u001b[0;31m     \u001b[0;32mreturn\u001b[0m \u001b[0m_euclidean_distances\u001b[0m\u001b[0;34m(\u001b[0m\u001b[0mX\u001b[0m\u001b[0;34m,\u001b[0m \u001b[0mY\u001b[0m\u001b[0;34m,\u001b[0m \u001b[0mX_norm_squared\u001b[0m\u001b[0;34m,\u001b[0m \u001b[0mY_norm_squared\u001b[0m\u001b[0;34m,\u001b[0m \u001b[0msquared\u001b[0m\u001b[0;34m)\u001b[0m\u001b[0;34m\u001b[0m\u001b[0;34m\u001b[0m\u001b[0m\n\u001b[0m\u001b[1;32m    329\u001b[0m \u001b[0;34m\u001b[0m\u001b[0m\n\u001b[1;32m    330\u001b[0m \u001b[0;34m\u001b[0m\u001b[0m\n",
            "\u001b[0;32m/usr/local/lib/python3.10/dist-packages/sklearn/metrics/pairwise.py\u001b[0m in \u001b[0;36m_euclidean_distances\u001b[0;34m(X, Y, X_norm_squared, Y_norm_squared, squared)\u001b[0m\n\u001b[1;32m    377\u001b[0m         \u001b[0mnp\u001b[0m\u001b[0;34m.\u001b[0m\u001b[0mfill_diagonal\u001b[0m\u001b[0;34m(\u001b[0m\u001b[0mdistances\u001b[0m\u001b[0;34m,\u001b[0m \u001b[0;36m0\u001b[0m\u001b[0;34m)\u001b[0m\u001b[0;34m\u001b[0m\u001b[0;34m\u001b[0m\u001b[0m\n\u001b[1;32m    378\u001b[0m \u001b[0;34m\u001b[0m\u001b[0m\n\u001b[0;32m--> 379\u001b[0;31m     \u001b[0;32mreturn\u001b[0m \u001b[0mdistances\u001b[0m \u001b[0;32mif\u001b[0m \u001b[0msquared\u001b[0m \u001b[0;32melse\u001b[0m \u001b[0mnp\u001b[0m\u001b[0;34m.\u001b[0m\u001b[0msqrt\u001b[0m\u001b[0;34m(\u001b[0m\u001b[0mdistances\u001b[0m\u001b[0;34m,\u001b[0m \u001b[0mout\u001b[0m\u001b[0;34m=\u001b[0m\u001b[0mdistances\u001b[0m\u001b[0;34m)\u001b[0m\u001b[0;34m\u001b[0m\u001b[0;34m\u001b[0m\u001b[0m\n\u001b[0m\u001b[1;32m    380\u001b[0m \u001b[0;34m\u001b[0m\u001b[0m\n\u001b[1;32m    381\u001b[0m \u001b[0;34m\u001b[0m\u001b[0m\n",
            "\u001b[0;31mKeyboardInterrupt\u001b[0m: "
          ]
        }
      ],
      "source": [
        "km_softdtw = TimeSeriesKMeans(n_clusters=11, metric=\"softdtw\", max_iter=100, random_state=0)\n",
        "km_softdtw.fit(body_gyro_x_train_sbilanciato)"
      ]
    },
    {
      "cell_type": "code",
      "execution_count": null,
      "id": "93e6caff-d5ff-4ccb-9635-8c2a97439e7b",
      "metadata": {
        "id": "93e6caff-d5ff-4ccb-9635-8c2a97439e7b"
      },
      "outputs": [],
      "source": [
        "plt.plot(np.squeeze(km_softdtw.cluster_centers_).T)\n",
        "plt.show()"
      ]
    },
    {
      "cell_type": "code",
      "execution_count": null,
      "id": "71e3f4c0-f531-4801-8a1e-6360dc5a462a",
      "metadata": {
        "id": "71e3f4c0-f531-4801-8a1e-6360dc5a462a"
      },
      "outputs": [],
      "source": [
        "km_softdtw.inertia_"
      ]
    },
    {
      "cell_type": "code",
      "execution_count": null,
      "id": "6326fa1d-84eb-4be6-ada3-98ec8a80d08f",
      "metadata": {
        "id": "6326fa1d-84eb-4be6-ada3-98ec8a80d08f"
      },
      "outputs": [],
      "source": [
        "np.unique(km_softdtw.labels_, return_counts=True)"
      ]
    },
    {
      "cell_type": "markdown",
      "source": [
        "##AGGLMERATIVE"
      ],
      "metadata": {
        "id": "SaKCXtAmaUmj"
      },
      "id": "SaKCXtAmaUmj"
    },
    {
      "cell_type": "code",
      "source": [
        "from sklearn.cluster import AgglomerativeClustering\n",
        "clustering = AgglomerativeClustering(n_clusters=6, linkage='single')\n",
        "clustering.fit(body_gyro_x_train_sbilanciato)"
      ],
      "metadata": {
        "colab": {
          "base_uri": "https://localhost:8080/",
          "height": 75
        },
        "id": "J0fZEjLjaWhn",
        "outputId": "b6f7836a-8f8e-413f-9ae8-52c3f56fff2a"
      },
      "id": "J0fZEjLjaWhn",
      "execution_count": null,
      "outputs": [
        {
          "output_type": "execute_result",
          "data": {
            "text/plain": [
              "AgglomerativeClustering(linkage='single', n_clusters=6)"
            ],
            "text/html": [
              "<style>#sk-container-id-3 {color: black;background-color: white;}#sk-container-id-3 pre{padding: 0;}#sk-container-id-3 div.sk-toggleable {background-color: white;}#sk-container-id-3 label.sk-toggleable__label {cursor: pointer;display: block;width: 100%;margin-bottom: 0;padding: 0.3em;box-sizing: border-box;text-align: center;}#sk-container-id-3 label.sk-toggleable__label-arrow:before {content: \"▸\";float: left;margin-right: 0.25em;color: #696969;}#sk-container-id-3 label.sk-toggleable__label-arrow:hover:before {color: black;}#sk-container-id-3 div.sk-estimator:hover label.sk-toggleable__label-arrow:before {color: black;}#sk-container-id-3 div.sk-toggleable__content {max-height: 0;max-width: 0;overflow: hidden;text-align: left;background-color: #f0f8ff;}#sk-container-id-3 div.sk-toggleable__content pre {margin: 0.2em;color: black;border-radius: 0.25em;background-color: #f0f8ff;}#sk-container-id-3 input.sk-toggleable__control:checked~div.sk-toggleable__content {max-height: 200px;max-width: 100%;overflow: auto;}#sk-container-id-3 input.sk-toggleable__control:checked~label.sk-toggleable__label-arrow:before {content: \"▾\";}#sk-container-id-3 div.sk-estimator input.sk-toggleable__control:checked~label.sk-toggleable__label {background-color: #d4ebff;}#sk-container-id-3 div.sk-label input.sk-toggleable__control:checked~label.sk-toggleable__label {background-color: #d4ebff;}#sk-container-id-3 input.sk-hidden--visually {border: 0;clip: rect(1px 1px 1px 1px);clip: rect(1px, 1px, 1px, 1px);height: 1px;margin: -1px;overflow: hidden;padding: 0;position: absolute;width: 1px;}#sk-container-id-3 div.sk-estimator {font-family: monospace;background-color: #f0f8ff;border: 1px dotted black;border-radius: 0.25em;box-sizing: border-box;margin-bottom: 0.5em;}#sk-container-id-3 div.sk-estimator:hover {background-color: #d4ebff;}#sk-container-id-3 div.sk-parallel-item::after {content: \"\";width: 100%;border-bottom: 1px solid gray;flex-grow: 1;}#sk-container-id-3 div.sk-label:hover label.sk-toggleable__label {background-color: #d4ebff;}#sk-container-id-3 div.sk-serial::before {content: \"\";position: absolute;border-left: 1px solid gray;box-sizing: border-box;top: 0;bottom: 0;left: 50%;z-index: 0;}#sk-container-id-3 div.sk-serial {display: flex;flex-direction: column;align-items: center;background-color: white;padding-right: 0.2em;padding-left: 0.2em;position: relative;}#sk-container-id-3 div.sk-item {position: relative;z-index: 1;}#sk-container-id-3 div.sk-parallel {display: flex;align-items: stretch;justify-content: center;background-color: white;position: relative;}#sk-container-id-3 div.sk-item::before, #sk-container-id-3 div.sk-parallel-item::before {content: \"\";position: absolute;border-left: 1px solid gray;box-sizing: border-box;top: 0;bottom: 0;left: 50%;z-index: -1;}#sk-container-id-3 div.sk-parallel-item {display: flex;flex-direction: column;z-index: 1;position: relative;background-color: white;}#sk-container-id-3 div.sk-parallel-item:first-child::after {align-self: flex-end;width: 50%;}#sk-container-id-3 div.sk-parallel-item:last-child::after {align-self: flex-start;width: 50%;}#sk-container-id-3 div.sk-parallel-item:only-child::after {width: 0;}#sk-container-id-3 div.sk-dashed-wrapped {border: 1px dashed gray;margin: 0 0.4em 0.5em 0.4em;box-sizing: border-box;padding-bottom: 0.4em;background-color: white;}#sk-container-id-3 div.sk-label label {font-family: monospace;font-weight: bold;display: inline-block;line-height: 1.2em;}#sk-container-id-3 div.sk-label-container {text-align: center;}#sk-container-id-3 div.sk-container {/* jupyter's `normalize.less` sets `[hidden] { display: none; }` but bootstrap.min.css set `[hidden] { display: none !important; }` so we also need the `!important` here to be able to override the default hidden behavior on the sphinx rendered scikit-learn.org. See: https://github.com/scikit-learn/scikit-learn/issues/21755 */display: inline-block !important;position: relative;}#sk-container-id-3 div.sk-text-repr-fallback {display: none;}</style><div id=\"sk-container-id-3\" class=\"sk-top-container\"><div class=\"sk-text-repr-fallback\"><pre>AgglomerativeClustering(linkage=&#x27;single&#x27;, n_clusters=6)</pre><b>In a Jupyter environment, please rerun this cell to show the HTML representation or trust the notebook. <br />On GitHub, the HTML representation is unable to render, please try loading this page with nbviewer.org.</b></div><div class=\"sk-container\" hidden><div class=\"sk-item\"><div class=\"sk-estimator sk-toggleable\"><input class=\"sk-toggleable__control sk-hidden--visually\" id=\"sk-estimator-id-3\" type=\"checkbox\" checked><label for=\"sk-estimator-id-3\" class=\"sk-toggleable__label sk-toggleable__label-arrow\">AgglomerativeClustering</label><div class=\"sk-toggleable__content\"><pre>AgglomerativeClustering(linkage=&#x27;single&#x27;, n_clusters=6)</pre></div></div></div></div></div>"
            ]
          },
          "metadata": {},
          "execution_count": 68
        }
      ]
    },
    {
      "cell_type": "code",
      "source": [
        "clustering.labels_"
      ],
      "metadata": {
        "colab": {
          "base_uri": "https://localhost:8080/"
        },
        "id": "1xlZJj-taliX",
        "outputId": "745a23df-9e16-4747-87dd-c71b33545947"
      },
      "id": "1xlZJj-taliX",
      "execution_count": null,
      "outputs": [
        {
          "output_type": "execute_result",
          "data": {
            "text/plain": [
              "array([0, 0, 0, ..., 0, 0, 0])"
            ]
          },
          "metadata": {},
          "execution_count": 69
        }
      ]
    },
    {
      "cell_type": "code",
      "source": [
        "pd.value_counts(clustering.labels_)"
      ],
      "metadata": {
        "colab": {
          "base_uri": "https://localhost:8080/"
        },
        "id": "j9_zmk5paloV",
        "outputId": "af5d94cb-2a04-436c-96ac-a37300148088"
      },
      "id": "j9_zmk5paloV",
      "execution_count": null,
      "outputs": [
        {
          "output_type": "execute_result",
          "data": {
            "text/plain": [
              "0    3278\n",
              "2       2\n",
              "1       2\n",
              "3       1\n",
              "4       1\n",
              "5       1\n",
              "dtype: int64"
            ]
          },
          "metadata": {},
          "execution_count": 70
        }
      ]
    },
    {
      "cell_type": "code",
      "source": [
        "def plot_dendrogram(clustering, **kwargs):\n",
        "    \"\"\"\n",
        "    Funzione per la visualizzazione del dendrogramma del clustering gerarchico.\n",
        "    Utilizza la libreria scipy per calcolare il dendrogramma.\n",
        "\n",
        "    Parametri:\n",
        "    - clustering: oggetto di clustering gerarchico già addestrato\n",
        "    - **kwargs: argomenti opzionali da passare alla funzione dendrogram()\n",
        "    \"\"\"\n",
        "    # Calcola la matrice di linkage utilizzando scipy\n",
        "    linkage_matrix = linkage(clustering.children_)\n",
        "    dendrogram(linkage_matrix, **kwargs)\n",
        "from scipy.cluster.hierarchy import linkage, dendrogram"
      ],
      "metadata": {
        "id": "FaLNqqdualsS"
      },
      "id": "FaLNqqdualsS",
      "execution_count": null,
      "outputs": []
    },
    {
      "cell_type": "code",
      "source": [
        "plt.title(\"Hierarchical Clustering Dendrogram\")\n",
        "plot_dendrogram(clustering, truncate_mode=\"lastp\")\n",
        "plt.xlabel(\"Number of points in node (or index of point if no parenthesis).\")\n",
        "plt.show()"
      ],
      "metadata": {
        "colab": {
          "base_uri": "https://localhost:8080/",
          "height": 500
        },
        "id": "rcES4K-salu_",
        "outputId": "edaaead7-6644-4c46-fc9f-31bbb45256c4"
      },
      "id": "rcES4K-salu_",
      "execution_count": null,
      "outputs": [
        {
          "output_type": "display_data",
          "data": {
            "text/plain": [
              "<Figure size 640x480 with 1 Axes>"
            ],
            "image/png": "[encoded data removed]"
          },
          "metadata": {}
        }
      ]
    },
    {
      "cell_type": "code",
      "source": [
        "print(pd.value_counts(clustering.labels_))\n",
        "print('silhouette', silhouette_score(body_gyro_x_train_sbilanciato, clustering.labels_))"
      ],
      "metadata": {
        "colab": {
          "base_uri": "https://localhost:8080/"
        },
        "id": "W09IFubGalzB",
        "outputId": "64887c2c-f7c8-4501-b90a-ae2491ba19a3"
      },
      "id": "W09IFubGalzB",
      "execution_count": null,
      "outputs": [
        {
          "output_type": "stream",
          "name": "stdout",
          "text": [
            "0    3278\n",
            "2       2\n",
            "1       2\n",
            "3       1\n",
            "4       1\n",
            "5       1\n",
            "dtype: int64\n",
            "silhouette 0.42322799343810374\n"
          ]
        }
      ]
    },
    {
      "cell_type": "markdown",
      "source": [
        "####COMPLETE"
      ],
      "metadata": {
        "id": "mLZDFg-xbBu6"
      },
      "id": "mLZDFg-xbBu6"
    },
    {
      "cell_type": "code",
      "source": [
        "from sklearn.cluster import AgglomerativeClustering\n",
        "clustering1 = AgglomerativeClustering(n_clusters=4, linkage='complete')\n",
        "clustering1.fit(body_gyro_x_train_sbilanciato)"
      ],
      "metadata": {
        "colab": {
          "base_uri": "https://localhost:8080/",
          "height": 75
        },
        "id": "Jp1neqRXal1S",
        "outputId": "d6a50935-0ddc-4464-8220-221bf50dcf9e"
      },
      "id": "Jp1neqRXal1S",
      "execution_count": null,
      "outputs": [
        {
          "output_type": "execute_result",
          "data": {
            "text/plain": [
              "AgglomerativeClustering(linkage='complete', n_clusters=4)"
            ],
            "text/html": [
              "<style>#sk-container-id-4 {color: black;background-color: white;}#sk-container-id-4 pre{padding: 0;}#sk-container-id-4 div.sk-toggleable {background-color: white;}#sk-container-id-4 label.sk-toggleable__label {cursor: pointer;display: block;width: 100%;margin-bottom: 0;padding: 0.3em;box-sizing: border-box;text-align: center;}#sk-container-id-4 label.sk-toggleable__label-arrow:before {content: \"▸\";float: left;margin-right: 0.25em;color: #696969;}#sk-container-id-4 label.sk-toggleable__label-arrow:hover:before {color: black;}#sk-container-id-4 div.sk-estimator:hover label.sk-toggleable__label-arrow:before {color: black;}#sk-container-id-4 div.sk-toggleable__content {max-height: 0;max-width: 0;overflow: hidden;text-align: left;background-color: #f0f8ff;}#sk-container-id-4 div.sk-toggleable__content pre {margin: 0.2em;color: black;border-radius: 0.25em;background-color: #f0f8ff;}#sk-container-id-4 input.sk-toggleable__control:checked~div.sk-toggleable__content {max-height: 200px;max-width: 100%;overflow: auto;}#sk-container-id-4 input.sk-toggleable__control:checked~label.sk-toggleable__label-arrow:before {content: \"▾\";}#sk-container-id-4 div.sk-estimator input.sk-toggleable__control:checked~label.sk-toggleable__label {background-color: #d4ebff;}#sk-container-id-4 div.sk-label input.sk-toggleable__control:checked~label.sk-toggleable__label {background-color: #d4ebff;}#sk-container-id-4 input.sk-hidden--visually {border: 0;clip: rect(1px 1px 1px 1px);clip: rect(1px, 1px, 1px, 1px);height: 1px;margin: -1px;overflow: hidden;padding: 0;position: absolute;width: 1px;}#sk-container-id-4 div.sk-estimator {font-family: monospace;background-color: #f0f8ff;border: 1px dotted black;border-radius: 0.25em;box-sizing: border-box;margin-bottom: 0.5em;}#sk-container-id-4 div.sk-estimator:hover {background-color: #d4ebff;}#sk-container-id-4 div.sk-parallel-item::after {content: \"\";width: 100%;border-bottom: 1px solid gray;flex-grow: 1;}#sk-container-id-4 div.sk-label:hover label.sk-toggleable__label {background-color: #d4ebff;}#sk-container-id-4 div.sk-serial::before {content: \"\";position: absolute;border-left: 1px solid gray;box-sizing: border-box;top: 0;bottom: 0;left: 50%;z-index: 0;}#sk-container-id-4 div.sk-serial {display: flex;flex-direction: column;align-items: center;background-color: white;padding-right: 0.2em;padding-left: 0.2em;position: relative;}#sk-container-id-4 div.sk-item {position: relative;z-index: 1;}#sk-container-id-4 div.sk-parallel {display: flex;align-items: stretch;justify-content: center;background-color: white;position: relative;}#sk-container-id-4 div.sk-item::before, #sk-container-id-4 div.sk-parallel-item::before {content: \"\";position: absolute;border-left: 1px solid gray;box-sizing: border-box;top: 0;bottom: 0;left: 50%;z-index: -1;}#sk-container-id-4 div.sk-parallel-item {display: flex;flex-direction: column;z-index: 1;position: relative;background-color: white;}#sk-container-id-4 div.sk-parallel-item:first-child::after {align-self: flex-end;width: 50%;}#sk-container-id-4 div.sk-parallel-item:last-child::after {align-self: flex-start;width: 50%;}#sk-container-id-4 div.sk-parallel-item:only-child::after {width: 0;}#sk-container-id-4 div.sk-dashed-wrapped {border: 1px dashed gray;margin: 0 0.4em 0.5em 0.4em;box-sizing: border-box;padding-bottom: 0.4em;background-color: white;}#sk-container-id-4 div.sk-label label {font-family: monospace;font-weight: bold;display: inline-block;line-height: 1.2em;}#sk-container-id-4 div.sk-label-container {text-align: center;}#sk-container-id-4 div.sk-container {/* jupyter's `normalize.less` sets `[hidden] { display: none; }` but bootstrap.min.css set `[hidden] { display: none !important; }` so we also need the `!important` here to be able to override the default hidden behavior on the sphinx rendered scikit-learn.org. See: https://github.com/scikit-learn/scikit-learn/issues/21755 */display: inline-block !important;position: relative;}#sk-container-id-4 div.sk-text-repr-fallback {display: none;}</style><div id=\"sk-container-id-4\" class=\"sk-top-container\"><div class=\"sk-text-repr-fallback\"><pre>AgglomerativeClustering(linkage=&#x27;complete&#x27;, n_clusters=4)</pre><b>In a Jupyter environment, please rerun this cell to show the HTML representation or trust the notebook. <br />On GitHub, the HTML representation is unable to render, please try loading this page with nbviewer.org.</b></div><div class=\"sk-container\" hidden><div class=\"sk-item\"><div class=\"sk-estimator sk-toggleable\"><input class=\"sk-toggleable__control sk-hidden--visually\" id=\"sk-estimator-id-4\" type=\"checkbox\" checked><label for=\"sk-estimator-id-4\" class=\"sk-toggleable__label sk-toggleable__label-arrow\">AgglomerativeClustering</label><div class=\"sk-toggleable__content\"><pre>AgglomerativeClustering(linkage=&#x27;complete&#x27;, n_clusters=4)</pre></div></div></div></div></div>"
            ]
          },
          "metadata": {},
          "execution_count": 77
        }
      ]
    },
    {
      "cell_type": "code",
      "source": [
        "clustering1.labels_"
      ],
      "metadata": {
        "colab": {
          "base_uri": "https://localhost:8080/"
        },
        "id": "PqwWzWbEbJ0P",
        "outputId": "1fd7b27a-76ee-48e2-f7e6-4dd8d495780b"
      },
      "id": "PqwWzWbEbJ0P",
      "execution_count": null,
      "outputs": [
        {
          "output_type": "execute_result",
          "data": {
            "text/plain": [
              "array([1, 1, 1, ..., 0, 1, 1])"
            ]
          },
          "metadata": {},
          "execution_count": 78
        }
      ]
    },
    {
      "cell_type": "code",
      "source": [
        "pd.value_counts(clustering.labels_)"
      ],
      "metadata": {
        "colab": {
          "base_uri": "https://localhost:8080/"
        },
        "id": "KwpRrRRnbKQt",
        "outputId": "4e56389b-5bdf-4a9f-8ee7-999255f16fb5"
      },
      "id": "KwpRrRRnbKQt",
      "execution_count": null,
      "outputs": [
        {
          "output_type": "execute_result",
          "data": {
            "text/plain": [
              "0    3278\n",
              "2       2\n",
              "1       2\n",
              "3       1\n",
              "4       1\n",
              "5       1\n",
              "dtype: int64"
            ]
          },
          "metadata": {},
          "execution_count": 79
        }
      ]
    },
    {
      "cell_type": "code",
      "source": [
        "plt.title(\"Hierarchical Clustering Dendrogram\")\n",
        "plot_dendrogram(clustering1, truncate_mode=\"lastp\")\n",
        "plt.xlabel(\"Number of points in node (or index of point if no parenthesis).\")\n",
        "plt.show()"
      ],
      "metadata": {
        "colab": {
          "base_uri": "https://localhost:8080/",
          "height": 500
        },
        "id": "IZaqh8EobLhY",
        "outputId": "6cf9bf12-e3e3-4217-8a76-e36c3c8148f0"
      },
      "id": "IZaqh8EobLhY",
      "execution_count": null,
      "outputs": [
        {
          "output_type": "display_data",
          "data": {
            "text/plain": [
              "<Figure size 640x480 with 1 Axes>"
            ],
            "image/png": "[encoded data removed]"
          },
          "metadata": {}
        }
      ]
    },
    {
      "cell_type": "code",
      "source": [
        "print(pd.value_counts(clustering1.labels_))\n",
        "print('silhouette', silhouette_score(body_gyro_x_train_sbilanciato, clustering1.labels_))"
      ],
      "metadata": {
        "colab": {
          "base_uri": "https://localhost:8080/"
        },
        "id": "w5knDznmbM2K",
        "outputId": "32991597-df7c-400d-8add-75a50d3bbee5"
      },
      "id": "w5knDznmbM2K",
      "execution_count": null,
      "outputs": [
        {
          "output_type": "stream",
          "name": "stdout",
          "text": [
            "1    2433\n",
            "0     841\n",
            "2      10\n",
            "3       1\n",
            "dtype: int64\n",
            "silhouette 0.05856578092571881\n"
          ]
        }
      ]
    },
    {
      "cell_type": "markdown",
      "source": [
        "####AVERAGE"
      ],
      "metadata": {
        "id": "OtmRJvsDbT8Q"
      },
      "id": "OtmRJvsDbT8Q"
    },
    {
      "cell_type": "code",
      "source": [
        "from sklearn.cluster import AgglomerativeClustering\n",
        "clustering2 = AgglomerativeClustering(n_clusters=6, linkage='average')\n",
        "clustering2.fit(body_gyro_x_train_sbilanciato)"
      ],
      "metadata": {
        "colab": {
          "base_uri": "https://localhost:8080/",
          "height": 75
        },
        "id": "hyOQvNgZbQLi",
        "outputId": "baf3f404-ee1f-439d-beb2-db8063d665ec"
      },
      "id": "hyOQvNgZbQLi",
      "execution_count": null,
      "outputs": [
        {
          "output_type": "execute_result",
          "data": {
            "text/plain": [
              "AgglomerativeClustering(linkage='average', n_clusters=6)"
            ],
            "text/html": [
              "<style>#sk-container-id-7 {color: black;background-color: white;}#sk-container-id-7 pre{padding: 0;}#sk-container-id-7 div.sk-toggleable {background-color: white;}#sk-container-id-7 label.sk-toggleable__label {cursor: pointer;display: block;width: 100%;margin-bottom: 0;padding: 0.3em;box-sizing: border-box;text-align: center;}#sk-container-id-7 label.sk-toggleable__label-arrow:before {content: \"▸\";float: left;margin-right: 0.25em;color: #696969;}#sk-container-id-7 label.sk-toggleable__label-arrow:hover:before {color: black;}#sk-container-id-7 div.sk-estimator:hover label.sk-toggleable__label-arrow:before {color: black;}#sk-container-id-7 div.sk-toggleable__content {max-height: 0;max-width: 0;overflow: hidden;text-align: left;background-color: #f0f8ff;}#sk-container-id-7 div.sk-toggleable__content pre {margin: 0.2em;color: black;border-radius: 0.25em;background-color: #f0f8ff;}#sk-container-id-7 input.sk-toggleable__control:checked~div.sk-toggleable__content {max-height: 200px;max-width: 100%;overflow: auto;}#sk-container-id-7 input.sk-toggleable__control:checked~label.sk-toggleable__label-arrow:before {content: \"▾\";}#sk-container-id-7 div.sk-estimator input.sk-toggleable__control:checked~label.sk-toggleable__label {background-color: #d4ebff;}#sk-container-id-7 div.sk-label input.sk-toggleable__control:checked~label.sk-toggleable__label {background-color: #d4ebff;}#sk-container-id-7 input.sk-hidden--visually {border: 0;clip: rect(1px 1px 1px 1px);clip: rect(1px, 1px, 1px, 1px);height: 1px;margin: -1px;overflow: hidden;padding: 0;position: absolute;width: 1px;}#sk-container-id-7 div.sk-estimator {font-family: monospace;background-color: #f0f8ff;border: 1px dotted black;border-radius: 0.25em;box-sizing: border-box;margin-bottom: 0.5em;}#sk-container-id-7 div.sk-estimator:hover {background-color: #d4ebff;}#sk-container-id-7 div.sk-parallel-item::after {content: \"\";width: 100%;border-bottom: 1px solid gray;flex-grow: 1;}#sk-container-id-7 div.sk-label:hover label.sk-toggleable__label {background-color: #d4ebff;}#sk-container-id-7 div.sk-serial::before {content: \"\";position: absolute;border-left: 1px solid gray;box-sizing: border-box;top: 0;bottom: 0;left: 50%;z-index: 0;}#sk-container-id-7 div.sk-serial {display: flex;flex-direction: column;align-items: center;background-color: white;padding-right: 0.2em;padding-left: 0.2em;position: relative;}#sk-container-id-7 div.sk-item {position: relative;z-index: 1;}#sk-container-id-7 div.sk-parallel {display: flex;align-items: stretch;justify-content: center;background-color: white;position: relative;}#sk-container-id-7 div.sk-item::before, #sk-container-id-7 div.sk-parallel-item::before {content: \"\";position: absolute;border-left: 1px solid gray;box-sizing: border-box;top: 0;bottom: 0;left: 50%;z-index: -1;}#sk-container-id-7 div.sk-parallel-item {display: flex;flex-direction: column;z-index: 1;position: relative;background-color: white;}#sk-container-id-7 div.sk-parallel-item:first-child::after {align-self: flex-end;width: 50%;}#sk-container-id-7 div.sk-parallel-item:last-child::after {align-self: flex-start;width: 50%;}#sk-container-id-7 div.sk-parallel-item:only-child::after {width: 0;}#sk-container-id-7 div.sk-dashed-wrapped {border: 1px dashed gray;margin: 0 0.4em 0.5em 0.4em;box-sizing: border-box;padding-bottom: 0.4em;background-color: white;}#sk-container-id-7 div.sk-label label {font-family: monospace;font-weight: bold;display: inline-block;line-height: 1.2em;}#sk-container-id-7 div.sk-label-container {text-align: center;}#sk-container-id-7 div.sk-container {/* jupyter's `normalize.less` sets `[hidden] { display: none; }` but bootstrap.min.css set `[hidden] { display: none !important; }` so we also need the `!important` here to be able to override the default hidden behavior on the sphinx rendered scikit-learn.org. See: https://github.com/scikit-learn/scikit-learn/issues/21755 */display: inline-block !important;position: relative;}#sk-container-id-7 div.sk-text-repr-fallback {display: none;}</style><div id=\"sk-container-id-7\" class=\"sk-top-container\"><div class=\"sk-text-repr-fallback\"><pre>AgglomerativeClustering(linkage=&#x27;average&#x27;, n_clusters=6)</pre><b>In a Jupyter environment, please rerun this cell to show the HTML representation or trust the notebook. <br />On GitHub, the HTML representation is unable to render, please try loading this page with nbviewer.org.</b></div><div class=\"sk-container\" hidden><div class=\"sk-item\"><div class=\"sk-estimator sk-toggleable\"><input class=\"sk-toggleable__control sk-hidden--visually\" id=\"sk-estimator-id-7\" type=\"checkbox\" checked><label for=\"sk-estimator-id-7\" class=\"sk-toggleable__label sk-toggleable__label-arrow\">AgglomerativeClustering</label><div class=\"sk-toggleable__content\"><pre>AgglomerativeClustering(linkage=&#x27;average&#x27;, n_clusters=6)</pre></div></div></div></div></div>"
            ]
          },
          "metadata": {},
          "execution_count": 89
        }
      ]
    },
    {
      "cell_type": "code",
      "source": [
        "clustering2.labels_"
      ],
      "metadata": {
        "colab": {
          "base_uri": "https://localhost:8080/"
        },
        "id": "Nbm4Lw1kbZD2",
        "outputId": "92f9a828-393b-4049-a020-7d7c22cc14d7"
      },
      "id": "Nbm4Lw1kbZD2",
      "execution_count": null,
      "outputs": [
        {
          "output_type": "execute_result",
          "data": {
            "text/plain": [
              "array([0, 0, 0, ..., 0, 0, 0])"
            ]
          },
          "metadata": {},
          "execution_count": 90
        }
      ]
    },
    {
      "cell_type": "code",
      "source": [
        "pd.value_counts(clustering2.labels_)"
      ],
      "metadata": {
        "colab": {
          "base_uri": "https://localhost:8080/"
        },
        "id": "h84t-7htbaxa",
        "outputId": "8552c938-6434-4f24-8dda-12caa18faf45"
      },
      "id": "h84t-7htbaxa",
      "execution_count": null,
      "outputs": [
        {
          "output_type": "execute_result",
          "data": {
            "text/plain": [
              "0    3272\n",
              "1       5\n",
              "2       4\n",
              "5       2\n",
              "3       1\n",
              "4       1\n",
              "dtype: int64"
            ]
          },
          "metadata": {},
          "execution_count": 91
        }
      ]
    },
    {
      "cell_type": "code",
      "source": [
        "plt.title(\"Hierarchical Clustering Dendrogram\")\n",
        "plot_dendrogram(clustering2, truncate_mode=\"lastp\")\n",
        "plt.xlabel(\"Number of points in node (or index of point if no parenthesis).\")\n",
        "plt.show()"
      ],
      "metadata": {
        "colab": {
          "base_uri": "https://localhost:8080/",
          "height": 500
        },
        "id": "MZPQ1JtEbcdB",
        "outputId": "7b52ee23-e1c2-4962-dba9-75f7a614f8d7"
      },
      "id": "MZPQ1JtEbcdB",
      "execution_count": null,
      "outputs": [
        {
          "output_type": "display_data",
          "data": {
            "text/plain": [
              "<Figure size 640x480 with 1 Axes>"
            ],
            "image/png": "[encoded data removed]"
          },
          "metadata": {}
        }
      ]
    },
    {
      "cell_type": "code",
      "source": [
        "print(pd.value_counts(clustering2.labels_))\n",
        "print('silhouette', silhouette_score(body_gyro_x_train_sbilanciato, clustering.labels_))"
      ],
      "metadata": {
        "colab": {
          "base_uri": "https://localhost:8080/"
        },
        "id": "fXSxXX-MbeXE",
        "outputId": "a2e8589a-70a0-4feb-ee18-943d48227cf5"
      },
      "id": "fXSxXX-MbeXE",
      "execution_count": null,
      "outputs": [
        {
          "output_type": "stream",
          "name": "stdout",
          "text": [
            "0    3272\n",
            "1       5\n",
            "2       4\n",
            "5       2\n",
            "3       1\n",
            "4       1\n",
            "dtype: int64\n",
            "silhouette 0.42322799343810374\n"
          ]
        }
      ]
    },
    {
      "cell_type": "markdown",
      "source": [
        "####ward"
      ],
      "metadata": {
        "id": "IyMMFV26bkWm"
      },
      "id": "IyMMFV26bkWm"
    },
    {
      "cell_type": "code",
      "source": [
        "from sklearn.cluster import AgglomerativeClustering\n",
        "clustering3 = AgglomerativeClustering(n_clusters=6, linkage='ward')\n",
        "clustering3.fit(body_gyro_x_train_sbilanciato)"
      ],
      "metadata": {
        "colab": {
          "base_uri": "https://localhost:8080/",
          "height": 75
        },
        "id": "LJ9uBoRzbjO5",
        "outputId": "eca5016d-ab8b-495b-8ca7-7e3908f2013f"
      },
      "id": "LJ9uBoRzbjO5",
      "execution_count": null,
      "outputs": [
        {
          "output_type": "execute_result",
          "data": {
            "text/plain": [
              "AgglomerativeClustering(n_clusters=6)"
            ],
            "text/html": [
              "<style>#sk-container-id-8 {color: black;background-color: white;}#sk-container-id-8 pre{padding: 0;}#sk-container-id-8 div.sk-toggleable {background-color: white;}#sk-container-id-8 label.sk-toggleable__label {cursor: pointer;display: block;width: 100%;margin-bottom: 0;padding: 0.3em;box-sizing: border-box;text-align: center;}#sk-container-id-8 label.sk-toggleable__label-arrow:before {content: \"▸\";float: left;margin-right: 0.25em;color: #696969;}#sk-container-id-8 label.sk-toggleable__label-arrow:hover:before {color: black;}#sk-container-id-8 div.sk-estimator:hover label.sk-toggleable__label-arrow:before {color: black;}#sk-container-id-8 div.sk-toggleable__content {max-height: 0;max-width: 0;overflow: hidden;text-align: left;background-color: #f0f8ff;}#sk-container-id-8 div.sk-toggleable__content pre {margin: 0.2em;color: black;border-radius: 0.25em;background-color: #f0f8ff;}#sk-container-id-8 input.sk-toggleable__control:checked~div.sk-toggleable__content {max-height: 200px;max-width: 100%;overflow: auto;}#sk-container-id-8 input.sk-toggleable__control:checked~label.sk-toggleable__label-arrow:before {content: \"▾\";}#sk-container-id-8 div.sk-estimator input.sk-toggleable__control:checked~label.sk-toggleable__label {background-color: #d4ebff;}#sk-container-id-8 div.sk-label input.sk-toggleable__control:checked~label.sk-toggleable__label {background-color: #d4ebff;}#sk-container-id-8 input.sk-hidden--visually {border: 0;clip: rect(1px 1px 1px 1px);clip: rect(1px, 1px, 1px, 1px);height: 1px;margin: -1px;overflow: hidden;padding: 0;position: absolute;width: 1px;}#sk-container-id-8 div.sk-estimator {font-family: monospace;background-color: #f0f8ff;border: 1px dotted black;border-radius: 0.25em;box-sizing: border-box;margin-bottom: 0.5em;}#sk-container-id-8 div.sk-estimator:hover {background-color: #d4ebff;}#sk-container-id-8 div.sk-parallel-item::after {content: \"\";width: 100%;border-bottom: 1px solid gray;flex-grow: 1;}#sk-container-id-8 div.sk-label:hover label.sk-toggleable__label {background-color: #d4ebff;}#sk-container-id-8 div.sk-serial::before {content: \"\";position: absolute;border-left: 1px solid gray;box-sizing: border-box;top: 0;bottom: 0;left: 50%;z-index: 0;}#sk-container-id-8 div.sk-serial {display: flex;flex-direction: column;align-items: center;background-color: white;padding-right: 0.2em;padding-left: 0.2em;position: relative;}#sk-container-id-8 div.sk-item {position: relative;z-index: 1;}#sk-container-id-8 div.sk-parallel {display: flex;align-items: stretch;justify-content: center;background-color: white;position: relative;}#sk-container-id-8 div.sk-item::before, #sk-container-id-8 div.sk-parallel-item::before {content: \"\";position: absolute;border-left: 1px solid gray;box-sizing: border-box;top: 0;bottom: 0;left: 50%;z-index: -1;}#sk-container-id-8 div.sk-parallel-item {display: flex;flex-direction: column;z-index: 1;position: relative;background-color: white;}#sk-container-id-8 div.sk-parallel-item:first-child::after {align-self: flex-end;width: 50%;}#sk-container-id-8 div.sk-parallel-item:last-child::after {align-self: flex-start;width: 50%;}#sk-container-id-8 div.sk-parallel-item:only-child::after {width: 0;}#sk-container-id-8 div.sk-dashed-wrapped {border: 1px dashed gray;margin: 0 0.4em 0.5em 0.4em;box-sizing: border-box;padding-bottom: 0.4em;background-color: white;}#sk-container-id-8 div.sk-label label {font-family: monospace;font-weight: bold;display: inline-block;line-height: 1.2em;}#sk-container-id-8 div.sk-label-container {text-align: center;}#sk-container-id-8 div.sk-container {/* jupyter's `normalize.less` sets `[hidden] { display: none; }` but bootstrap.min.css set `[hidden] { display: none !important; }` so we also need the `!important` here to be able to override the default hidden behavior on the sphinx rendered scikit-learn.org. See: https://github.com/scikit-learn/scikit-learn/issues/21755 */display: inline-block !important;position: relative;}#sk-container-id-8 div.sk-text-repr-fallback {display: none;}</style><div id=\"sk-container-id-8\" class=\"sk-top-container\"><div class=\"sk-text-repr-fallback\"><pre>AgglomerativeClustering(n_clusters=6)</pre><b>In a Jupyter environment, please rerun this cell to show the HTML representation or trust the notebook. <br />On GitHub, the HTML representation is unable to render, please try loading this page with nbviewer.org.</b></div><div class=\"sk-container\" hidden><div class=\"sk-item\"><div class=\"sk-estimator sk-toggleable\"><input class=\"sk-toggleable__control sk-hidden--visually\" id=\"sk-estimator-id-8\" type=\"checkbox\" checked><label for=\"sk-estimator-id-8\" class=\"sk-toggleable__label sk-toggleable__label-arrow\">AgglomerativeClustering</label><div class=\"sk-toggleable__content\"><pre>AgglomerativeClustering(n_clusters=6)</pre></div></div></div></div></div>"
            ]
          },
          "metadata": {},
          "execution_count": 94
        }
      ]
    },
    {
      "cell_type": "code",
      "source": [
        "clustering3.labels_"
      ],
      "metadata": {
        "colab": {
          "base_uri": "https://localhost:8080/"
        },
        "id": "8r6KGyp4bn8b",
        "outputId": "7b2930ff-d327-49e6-d847-9d87f384f262"
      },
      "id": "8r6KGyp4bn8b",
      "execution_count": null,
      "outputs": [
        {
          "output_type": "execute_result",
          "data": {
            "text/plain": [
              "array([3, 0, 5, ..., 4, 3, 2])"
            ]
          },
          "metadata": {},
          "execution_count": 95
        }
      ]
    },
    {
      "cell_type": "code",
      "source": [
        "pd.value_counts(clustering3.labels_)"
      ],
      "metadata": {
        "colab": {
          "base_uri": "https://localhost:8080/"
        },
        "id": "nqmSygA3bv7-",
        "outputId": "025af855-8165-4949-91ab-5b4153eb7d15"
      },
      "id": "nqmSygA3bv7-",
      "execution_count": null,
      "outputs": [
        {
          "output_type": "execute_result",
          "data": {
            "text/plain": [
              "0    791\n",
              "2    742\n",
              "5    536\n",
              "3    518\n",
              "4    422\n",
              "1    276\n",
              "dtype: int64"
            ]
          },
          "metadata": {},
          "execution_count": 96
        }
      ]
    },
    {
      "cell_type": "code",
      "source": [
        "plt.title(\"Hierarchical Clustering Dendrogram\")\n",
        "plot_dendrogram(clustering3, truncate_mode=\"lastp\")\n",
        "plt.xlabel(\"Number of points in node (or index of point if no parenthesis).\")\n",
        "plt.show()"
      ],
      "metadata": {
        "colab": {
          "base_uri": "https://localhost:8080/",
          "height": 500
        },
        "id": "Qy6Ag8_dbxM4",
        "outputId": "6886d81d-4368-4d8b-9b9e-2ac68b423293"
      },
      "id": "Qy6Ag8_dbxM4",
      "execution_count": null,
      "outputs": [
        {
          "output_type": "display_data",
          "data": {
            "text/plain": [
              "<Figure size 640x480 with 1 Axes>"
            ],
            "image/png": "[encoded data removed]"
          },
          "metadata": {}
        }
      ]
    },
    {
      "cell_type": "code",
      "source": [
        "print(pd.value_counts(clustering3.labels_))\n",
        "print('silhouette', silhouette_score(body_gyro_x_train_sbilanciato, clustering.labels_))"
      ],
      "metadata": {
        "colab": {
          "base_uri": "https://localhost:8080/"
        },
        "id": "hOBRuBBpbyzd",
        "outputId": "f1f20dbd-dbcb-4be2-abf8-2df797b8090d"
      },
      "id": "hOBRuBBpbyzd",
      "execution_count": null,
      "outputs": [
        {
          "output_type": "stream",
          "name": "stdout",
          "text": [
            "0    791\n",
            "2    742\n",
            "5    536\n",
            "3    518\n",
            "4    422\n",
            "1    276\n",
            "dtype: int64\n",
            "silhouette 0.42322799343810374\n"
          ]
        }
      ]
    },
    {
      "cell_type": "code",
      "source": [],
      "metadata": {
        "id": "ZykGEHQIb2c7"
      },
      "id": "ZykGEHQIb2c7",
      "execution_count": null,
      "outputs": []
    }
  ],
  "metadata": {
    "kernelspec": {
      "display_name": "Python 3 (ipykernel)",
      "language": "python",
      "name": "python3"
    },
    "language_info": {
      "codemirror_mode": {
        "name": "ipython",
        "version": 3
      },
      "file_extension": ".py",
      "mimetype": "text/x-python",
      "name": "python",
      "nbconvert_exporter": "python",
      "pygments_lexer": "ipython3",
      "version": "3.8.2"
    },
    "colab": {
      "provenance": []
    }
  },
  "nbformat": 4,
  "nbformat_minor": 5
}