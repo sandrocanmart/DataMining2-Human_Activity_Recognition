{
  "cells": [
    {
      "cell_type": "code",
      "execution_count": 2,
      "metadata": {
        "id": "jS367Y1OIAAK"
      },
      "outputs": [],
      "source": [
        "import numpy as np\n",
        "import pandas as pd\n",
        "import matplotlib.pyplot as plt\n",
        "import seaborn as sns\n",
        "\n",
        "import pickle\n",
        "from sklearn.tree import DecisionTreeClassifier as DTC\n",
        "from sklearn.metrics import confusion_matrix, classification_report, \\\n",
        "    PrecisionRecallDisplay, RocCurveDisplay, log_loss\n",
        "from sklearn.model_selection import train_test_split, GridSearchCV\n",
        "from sklearn.neighbors import KNeighborsClassifier as KNN\n",
        "from sklearn.neural_network import MLPClassifier\n",
        "\n",
        "import keras\n",
        "from keras.models import Sequential\n",
        "from keras.layers import Input, Dense, Dropout, AlphaDropout\n",
        "from keras.callbacks import EarlyStopping\n",
        "from keras.regularizers import l1, l2\n",
        "from keras.wrappers.scikit_learn import KerasClassifier\n",
        "from keras.utils import to_categorical\n",
        "from sklearn.metrics import accuracy_score, f1_score, classification_report, confusion_matrix\n",
        "from sklearn.metrics import roc_curve, auc, roc_auc_score,RocCurveDisplay\n"
      ]
    },
    {
      "cell_type": "markdown",
      "metadata": {},
      "source": [
        "# UTILITIES"
      ]
    },
    {
      "cell_type": "code",
      "execution_count": 3,
      "metadata": {
        "id": "Wu43zNziIHfZ"
      },
      "outputs": [],
      "source": [
        "import matplotlib_inline.backend_inline\n",
        "\n",
        "matplotlib_inline.backend_inline.set_matplotlib_formats('png', 'pdf')\n",
        "plt.rcParams.update({'font.size': 12,\n",
        "                     'xtick.labelsize' : 12,\n",
        "                     'ytick.labelsize' : 12,\n",
        "                     'axes.grid': False})\n",
        "\n",
        "my_colors = plt.rcParams['axes.prop_cycle'].by_key()['color']"
      ]
    },
    {
      "cell_type": "code",
      "execution_count": 4,
      "metadata": {
        "id": "ofWCnLnZIMUR"
      },
      "outputs": [],
      "source": [
        "def plot_scatter(X: 'reduced dataset', y: 'target variable',\n",
        "                 class_names: dict = None, figsize = (6, 4), ax = None,\n",
        "                 top_legend = True):\n",
        "    '''\n",
        "    class_names: dict mapping class numbers (y) to class names\n",
        "    '''\n",
        "    if ax is None:\n",
        "        fig, ax = plt.subplots(figsize = figsize)\n",
        "    scatter = ax.scatter(X[:, 0], X[:, 1], c = y, edgecolor = 'k', lw = 0.5)\n",
        "    handles, labels = scatter.legend_elements()\n",
        "    if class_names is not None:\n",
        "        # each item in labels has the format '$\\\\mathdefault{number}$'\n",
        "        keys = [int(''.join(filter(str.isdigit, string))) for string in labels]\n",
        "        labels = [class_names[i] for i in keys]\n",
        "    ax.set_xlabel('1st Component', fontsize = 14)\n",
        "    ax.set_ylabel('2nd Component', fontsize = 14)\n",
        "    ax.set_xticks([])\n",
        "    ax.set_yticks([])\n",
        "    if top_legend:\n",
        "        ax.legend(handles, labels, loc = 'lower center', ncol = 2,\n",
        "                  fontsize = 'small', bbox_to_anchor = (0, 1, 1, 1))\n",
        "    else:\n",
        "        ax.legend(handles, labels, fontsize = 'small',\n",
        "                  loc = 'center left',  bbox_to_anchor = (1.04, 0.5), borderaxespad = 0)"
      ]
    },
    {
      "cell_type": "code",
      "execution_count": 5,
      "metadata": {
        "id": "QgFuNf2qIMWh"
      },
      "outputs": [],
      "source": [
        "def report(results, n_top=3):\n",
        "    df = pd.DataFrame()\n",
        "    rank_names = []\n",
        "    score_names = []\n",
        "    for measure, values in results.items():\n",
        "        if 'rank' == measure[:4]:\n",
        "            rank_names.append(measure)\n",
        "            score_name = measure[5:]\n",
        "            score_names.append(score_name)\n",
        "            df[measure] = values\n",
        "    for score_name in score_names:\n",
        "        df['mean_'+score_name] = results['mean_'+score_name]\n",
        "        df['std_'+score_name] = results['std_'+score_name]\n",
        "    df = pd.concat((df, pd.DataFrame(results['params'])), axis=1)\n",
        "    df.sort_values(by=rank_names, inplace=True)\n",
        "    df.index.name = 'model_idx'\n",
        "    return df.head(n_top)"
      ]
    },
    {
      "cell_type": "code",
      "execution_count": 6,
      "metadata": {
        "id": "1EL5PgM9IMY1"
      },
      "outputs": [],
      "source": [
        "def plot_score(report:'cv_results_', score_name='score',\n",
        "               legend_name=None, ax=None):\n",
        "    if legend_name is None:\n",
        "        legend_name = score_name\n",
        "    if ax is None:\n",
        "        fig = plt.figure(figsize=(6,4))\n",
        "        ax = fig.add_subplot()\n",
        "\n",
        "    # test score\n",
        "    mean_val_score = report['mean_test_'+score_name]\n",
        "    std_val_score = report['std_test_'+score_name]\n",
        "    n = len(mean_val_score)\n",
        "    x = range(n)\n",
        "    ax.plot(x, mean_val_score, label='Validation set '+legend_name)\n",
        "    ax.fill_between(x, mean_val_score - std_val_score,\n",
        "                     mean_val_score + std_val_score, alpha = 0.2)\n",
        "\n",
        "    # train score\n",
        "    if 'mean_train_'+score_name in report:\n",
        "        mean_train_score = report['mean_train_'+score_name]\n",
        "        std_train_score = report['std_train_'+score_name]\n",
        "        ax.plot(x, mean_train_score, label='Train set '+legend_name)\n",
        "        ax.fill_between(x, mean_train_score - std_train_score,\n",
        "                        mean_train_score + std_train_score,\n",
        "                        alpha=0.2)\n",
        "    return ax"
      ]
    },
    {
      "cell_type": "code",
      "execution_count": 7,
      "metadata": {
        "id": "h2ZwMtxOIMbP"
      },
      "outputs": [],
      "source": [
        "def plot_confusion_mtx(cm: 'confusion matrix', labels = None,\n",
        "                       figsize = (3,3), binary = False, ax=None):\n",
        "    if ax is None:\n",
        "        fig = plt.figure(figsize=figsize)\n",
        "        ax = fig.add_subplot()\n",
        "    sns.heatmap(cm, annot = True, fmt = '0', annot_kws = {\"fontsize\": 16},\n",
        "                cmap = \"Blues\", cbar = False, ax = ax)\n",
        "    ax.set_xlabel('Predicted Class', fontsize = 14)\n",
        "    ax.set_ylabel('Actual Class', fontsize = 14)\n",
        "    if labels is None:\n",
        "        labels = range(1, cm.shape[1] + 1)\n",
        "    ax.set_xticks(ax.get_xticks(), labels)\n",
        "    ax.set_yticks(ax.get_yticks(), labels)\n",
        "    if binary:\n",
        "        ax.set_xticks([0.5,1.5], [r'+', r'$-$'], fontsize = 18)\n",
        "        ax.set_yticks([0.5,1.5], [r'+', r'$-$'], fontsize = 18)\n",
        "        ax.xaxis.tick_top()\n",
        "        ax.xaxis.set_label_position('top')\n",
        "    return ax"
      ]
    },
    {
      "cell_type": "code",
      "execution_count": 8,
      "metadata": {
        "id": "ze8lB7vrIMeG"
      },
      "outputs": [],
      "source": [
        "def plot_multiclass_roc(clf, X, y, clf_name='', ax=None):\n",
        "    if not isinstance(y, type(np.array([]))):\n",
        "        y = y.values\n",
        "    if ax is None:\n",
        "        fig = plt.figure(figsize = (6, 4))\n",
        "        ax = fig.add_subplot()\n",
        "    y_pred_proba = clf.predict_proba(X)\n",
        "    for i, label in enumerate(np.unique(y)):\n",
        "        class_i_arr = (y == label).astype(int)\n",
        "        class_i_prob_arr = y_pred_proba[:, i]\n",
        "        RocCurveDisplay.from_predictions(class_i_arr, class_i_prob_arr,\n",
        "                        name = clf_name + f'class {label}', ax = ax)\n",
        "    random = ax.plot(np.linspace(0,1,100), np.linspace(0,1,100), 'k--',\n",
        "                 label = 'Random Classifier')\n",
        "    ax.set_ylabel('True Positive Rate', fontsize = 14)\n",
        "    ax.set_xlabel('False Positive Rate', fontsize = 14)\n",
        "    return ax"
      ]
    },
    {
      "cell_type": "code",
      "execution_count": 9,
      "metadata": {
        "id": "33nBTNmbIUFW"
      },
      "outputs": [],
      "source": [
        "def plot_multiclass_lift(clf, X, y, clf_name='', ax=None,\n",
        "                          baseline = False):\n",
        "    if not isinstance(y, type(np.array([]))):\n",
        "        y = y.values\n",
        "    if ax is None:\n",
        "        fig = plt.figure(figsize = (6, 4))\n",
        "        ax = fig.add_subplot()\n",
        "    y_pred_proba = clf.predict_proba(X)\n",
        "    n_samples = X.shape[0]\n",
        "    for i, label in enumerate(np.unique(y)):\n",
        "        class_i_arr = (y == label).astype(int)\n",
        "        class_i_prob_arr = y_pred_proba[:, i]\n",
        "        idx = np.argsort(class_i_prob_arr)[::-1]\n",
        "        acc = np.cumsum(class_i_arr[idx])\n",
        "        perc_trues = acc / acc[-1]\n",
        "        cum_samples = np.arange(1, n_samples + 1)\n",
        "        perc_samples = cum_samples / n_samples\n",
        "        lift = perc_trues / perc_samples\n",
        "        ax.plot(lift, label = f'class {label}')\n",
        "    if baseline:\n",
        "        plt.axhline(y = 1, ls = '--', color = 'k')\n",
        "    xticks = np.linspace(0, n_samples, 6)\n",
        "    x_lab = np.around(np.linspace(0, 1, 6), decimals = 1)\n",
        "    ax.set_xticks(xticks, x_lab)\n",
        "    ax.set_xlabel('% of samples', fontsize = 14)\n",
        "    ax.set_ylabel('Cumulative', fontsize = 14)\n",
        "    return ax"
      ]
    },
    {
      "cell_type": "code",
      "execution_count": 10,
      "metadata": {
        "id": "sFDVMZ65IVoo"
      },
      "outputs": [],
      "source": [
        "def plot_multiclass_gain(clf, X, y, clf_name='', ax=None,\n",
        "                          baseline = False):\n",
        "    if not isinstance(y, type(np.array([]))):\n",
        "        y = y.values\n",
        "    if ax is None:\n",
        "        fig = plt.figure(figsize = (6, 4))\n",
        "        ax = fig.add_subplot()\n",
        "    y_pred_proba = clf.predict_proba(X)\n",
        "    n_samples = X.shape[0]\n",
        "    for i, label in enumerate(np.unique(y)):\n",
        "        class_i_arr = (y == label).astype(int)\n",
        "        class_i_prob_arr = y_pred_proba[:, i]\n",
        "        idx = np.argsort(class_i_prob_arr)[::-1]\n",
        "        acc = np.cumsum(class_i_arr[idx])\n",
        "        ax.plot(acc, label = f'class {label}')\n",
        "        if baseline:\n",
        "            plt.plot([0,n_samples], [0, acc[-1]], 'k--', lw=0.75,alpha=1.)\n",
        "    xticks = np.linspace(0, n_samples, 6)\n",
        "    x_lab = np.around(np.linspace(0, 1, 6), decimals = 1)\n",
        "    ax.set_xticks(xticks, x_lab)\n",
        "    ax.set_xlabel('% of samples', fontsize = 14)\n",
        "    ax.set_ylabel('Cumulative', fontsize = 14)\n",
        "    return ax"
      ]
    },
    {
      "cell_type": "code",
      "execution_count": 11,
      "metadata": {
        "id": "m5TBU94dIXfO"
      },
      "outputs": [],
      "source": [
        "def plot_multiclass_prec_rec(clf, X, y, clf_name='', ax=None):\n",
        "    if not isinstance(y, type(np.array([]))):\n",
        "        y = y.values\n",
        "    if ax is None:\n",
        "        fig = plt.figure(figsize = (6, 4))\n",
        "        ax = fig.add_subplot()\n",
        "    y_pred_proba = clf.predict_proba(X)\n",
        "    for i, label in enumerate(np.unique(y)):\n",
        "        class_i_arr = (y == label).astype(int)\n",
        "        class_i_prob_arr = y_pred_proba[:, i]\n",
        "        PrecisionRecallDisplay.from_predictions(class_i_arr, class_i_prob_arr,\n",
        "                        name = clf_name + f'class {label}', ax = ax),\n",
        "        ax.axhline(y = (class_i_arr.sum() / y.size), ls = '--', lw=0.75, alpha=1.,\n",
        "                        color = 'k')\n",
        "    ax.set_ylabel('Precision', fontsize = 14)\n",
        "    ax.set_xlabel('Recall', fontsize = 14)\n",
        "    return ax"
      ]
    },
    {
      "cell_type": "code",
      "execution_count": 18,
      "metadata": {
        "id": "CLUqP51vImHt"
      },
      "outputs": [],
      "source": [
        "def f1(y_true, y_pred):\n",
        "    prec = precision(y_true, y_pred)\n",
        "    rec = recall(y_true, y_pred)\n",
        "\n",
        "    return 2*((prec*rec)/(prec+rec+K.epsilon()))\n",
        "def recall(y_true, y_pred):\n",
        "    \"\"\"Recall metric.\n",
        "\n",
        "    Only computes a batch-wise average of recall.\n",
        "\n",
        "    Computes the recall, a metric for multi-label classification of\n",
        "    how many relevant items are selected.\n",
        "    \"\"\"\n",
        "    true_positives = K.sum(K.round(K.clip(y_true * y_pred, 0, 1)))\n",
        "    possible_positives = K.sum(K.round(K.clip(y_true, 0, 1)))\n",
        "    recall = true_positives / (possible_positives + K.epsilon())\n",
        "    return recall\n",
        "def precision(y_true, y_pred):\n",
        "    \"\"\"Precision metric.\n",
        "\n",
        "    Only computes a batch-wise average of precision.\n",
        "\n",
        "    Computes the precision, a metric for multi-label classification of\n",
        "    how many selected items are relevant.\n",
        "    \"\"\"\n",
        "    true_positives = K.sum(K.round(K.clip(y_true * y_pred, 0, 1)))\n",
        "    predicted_positives = K.sum(K.round(K.clip(y_pred, 0, 1)))\n",
        "    precision = true_positives / (predicted_positives + K.epsilon())\n",
        "    return precision"
      ]
    },
    {
      "cell_type": "code",
      "execution_count": 12,
      "metadata": {
        "id": "a6d4gom3IZMM"
      },
      "outputs": [],
      "source": [
        "\n",
        "X_train = pd.read_csv('X_train_no_red.csv', header = 0)\n",
        "y_train = pd.read_fwf('y_train.txt', header = None)\n",
        "X_test = pd.read_csv('X_test_no_red.csv', header = 0)\n",
        "y_test = pd.read_fwf('y_test.txt', header = None)"
      ]
    },
    {
      "cell_type": "code",
      "execution_count": 13,
      "metadata": {
        "id": "ug6QxAnZIgsQ"
      },
      "outputs": [],
      "source": [
        "X_train.columns = X_train.columns.astype(int)\n",
        "X_test.columns = X_test.columns.astype(int)"
      ]
    },
    {
      "cell_type": "code",
      "execution_count": 14,
      "metadata": {
        "id": "mq__XRG3Igux"
      },
      "outputs": [],
      "source": [
        "with open(\"features.txt\") as f:\n",
        "    lines = f.read().splitlines()"
      ]
    },
    {
      "cell_type": "code",
      "execution_count": 15,
      "metadata": {
        "id": "FyDUCCzNIgxC"
      },
      "outputs": [],
      "source": [
        "features = {}\n",
        "for line in lines:\n",
        "    idx, name = line.split()\n",
        "    features[int(idx)-1] = name"
      ]
    },
    {
      "cell_type": "code",
      "execution_count": 16,
      "metadata": {
        "id": "4hly38KCIg1s"
      },
      "outputs": [],
      "source": [
        "with open('activity_labels.txt') as f:\n",
        "    lines = f.read().splitlines()\n",
        "\n",
        "activities = {}\n",
        "for line in lines:\n",
        "    label, activity = line.split()\n",
        "    activities[int(label)] = activity"
      ]
    },
    {
      "cell_type": "markdown",
      "metadata": {
        "id": "kYwxjtN5I7-I"
      },
      "source": [
        "## DEEP NEURAL NETWORK"
      ]
    },
    {
      "cell_type": "code",
      "execution_count": 17,
      "metadata": {
        "id": "9d5f1blNImFZ"
      },
      "outputs": [],
      "source": [
        "from tensorflow import keras\n",
        "from keras.models import Sequential\n",
        "from keras.layers import Dense\n",
        "from keras.models import Sequential\n",
        "from keras.layers import Dense\n",
        "from keras.wrappers.scikit_learn import KerasClassifier\n",
        "from keras.optimizers import SGD\n",
        "from sklearn.model_selection import GridSearchCV\n",
        "from keras.regularizers import l2\n",
        "from keras import backend as K"
      ]
    },
    {
      "cell_type": "code",
      "execution_count": 19,
      "metadata": {
        "id": "WRd2K_d2ImNS"
      },
      "outputs": [],
      "source": [
        "n_classes = 6\n",
        "def build_model():\n",
        "\n",
        "    n_feature = X_train.shape[1]\n",
        "    model = Sequential()\n",
        "    model.add(Dense(128, input_dim=n_feature, activation='relu'))\n",
        "    model.add(Dense(64, activation='relu'))\n",
        "    model.add(Dense(n_classes, activation='softmax'))\n",
        "\n",
        "    model.compile(loss='sparse_categorical_crossentropy',\n",
        "                  optimizer=\"adam\", metrics=['accuracy'])\n",
        "    return model"
      ]
    },
    {
      "cell_type": "code",
      "execution_count": 20,
      "metadata": {
        "id": "iKeX43cgJooZ"
      },
      "outputs": [],
      "source": [
        "def build_model_1(optimizer='SGD'):\n",
        "    n_feature = X_train.shape[1]\n",
        "    model = Sequential()\n",
        "    model.add(Dense(32, input_dim=n_feature, activation='tanh'))\n",
        "    model.add(Dense(32, activation='tanh'))\n",
        "    model.add(Dense(32, activation='tanh'))\n",
        "    model.add(Dense(32, activation='tanh'))\n",
        "    model.add(Dense(32, activation='tanh'))\n",
        "    model.add(Dense(32, activation='tanh'))\n",
        "    model.add(Dense(32, activation='tanh'))\n",
        "    model.add(Dense(32, activation='tanh'))\n",
        "    # Linear\n",
        "    model.add(Dense(6, activation='softmax'))\n",
        "    model.compile(loss='SparseCategoricalCrossentropy', optimizer=optimizer, metrics=[f1])\n",
        "    return model"
      ]
    },
    {
      "cell_type": "code",
      "execution_count": 21,
      "metadata": {
        "id": "NOPcp_F7J0P8"
      },
      "outputs": [],
      "source": [
        "def build_model_2(optimizer='SGD'):\n",
        "    n_feature = X_train.shape[1]\n",
        "    model = Sequential()\n",
        "    model.add(Dense(128, input_dim=n_feature, activation='relu'))\n",
        "    model.add(Dense(32, activation='relu'))\n",
        "    model.add(Dense(32, activation='relu'))\n",
        "    model.add(Dense(32, activation='relu'))\n",
        "    model.add(Dense(32, activation='relu'))\n",
        "    # Linear\n",
        "    model.add(Dense(6, activation='softmax'))\n",
        "    model.compile(loss='SparseCategoricalCrossentropy', optimizer=optimizer, metrics=[f1])\n",
        "    return model"
      ]
    },
    {
      "cell_type": "code",
      "execution_count": 22,
      "metadata": {
        "id": "OMfyieKMcSsm"
      },
      "outputs": [],
      "source": [
        "def build_model_3(optimizer='SGD'):\n",
        "    n_feature = X_train.shape[1]\n",
        "    model = Sequential()\n",
        "    model.add(Dense(512, input_dim=n_feature, activation='tanh'))\n",
        "    model.add(Dense(64, activation='relu'))\n",
        "    model.add(Dense(64, activation='relu'))\n",
        "    model.add(Dense(64, activation='relu'))\n",
        "    model.add(Dense(64, activation='relu'))\n",
        "    # Linear\n",
        "    model.add(Dense(6, activation='softmax'))\n",
        "    model.compile(loss='SparseCategoricalCrossentropy', optimizer=optimizer, metrics=[f1])\n",
        "    return model"
      ]
    },
    {
      "cell_type": "markdown",
      "metadata": {
        "id": "l9T2GYNGaH9Z"
      },
      "source": [
        "## MODEL 1"
      ]
    },
    {
      "cell_type": "code",
      "execution_count": 25,
      "metadata": {
        "colab": {
          "base_uri": "https://localhost:8080/"
        },
        "id": "hMi1KhnoKDTj",
        "outputId": "be15b1b9-705f-4372-b76d-c958f15c26dd"
      },
      "outputs": [
        {
          "name": "stdout",
          "output_type": "stream",
          "text": [
            "Epoch 1/150\n",
            "736/736 [==============================] - 4s 4ms/step - loss: 0.8382 - f1: 2.9954 - val_loss: 0.4665 - val_f1: 1.5120\n",
            "Epoch 2/150\n",
            "736/736 [==============================] - 2s 3ms/step - loss: 0.3252 - f1: 1.4098 - val_loss: 0.2737 - val_f1: 1.3896\n",
            "Epoch 3/150\n",
            "736/736 [==============================] - 2s 3ms/step - loss: 0.2402 - f1: 1.3187 - val_loss: 0.2847 - val_f1: 1.2840\n",
            "Epoch 4/150\n",
            "736/736 [==============================] - 2s 3ms/step - loss: 0.2006 - f1: 1.2534 - val_loss: 0.3180 - val_f1: 1.2307\n",
            "Epoch 5/150\n",
            "736/736 [==============================] - 4s 5ms/step - loss: 0.1747 - f1: 1.2150 - val_loss: 0.2530 - val_f1: 1.1717\n",
            "Epoch 6/150\n",
            "736/736 [==============================] - 2s 3ms/step - loss: 0.1511 - f1: 1.1751 - val_loss: 0.3329 - val_f1: 1.1480\n",
            "Epoch 7/150\n",
            "736/736 [==============================] - 2s 3ms/step - loss: 0.1416 - f1: 1.1424 - val_loss: 0.1648 - val_f1: 1.1503\n",
            "Epoch 8/150\n",
            "736/736 [==============================] - 2s 3ms/step - loss: 0.1274 - f1: 1.1269 - val_loss: 0.1689 - val_f1: 1.1753\n",
            "Epoch 9/150\n",
            "736/736 [==============================] - 2s 3ms/step - loss: 0.1149 - f1: 1.1242 - val_loss: 0.3922 - val_f1: 1.1274\n",
            "Epoch 10/150\n",
            "736/736 [==============================] - 3s 4ms/step - loss: 0.1068 - f1: 1.1097 - val_loss: 0.1721 - val_f1: 1.1180\n",
            "Epoch 11/150\n",
            "736/736 [==============================] - 2s 3ms/step - loss: 0.1051 - f1: 1.1010 - val_loss: 0.2397 - val_f1: 1.1339\n",
            "Epoch 12/150\n",
            "736/736 [==============================] - 2s 3ms/step - loss: 0.0969 - f1: 1.0938 - val_loss: 1.1952 - val_f1: 1.0732\n",
            "Epoch 13/150\n",
            "736/736 [==============================] - 2s 3ms/step - loss: 0.0921 - f1: 1.0930 - val_loss: 0.2506 - val_f1: 1.1178\n",
            "Epoch 14/150\n",
            "736/736 [==============================] - 2s 3ms/step - loss: 0.0906 - f1: 1.0892 - val_loss: 0.1470 - val_f1: 1.1139\n",
            "Epoch 15/150\n",
            "736/736 [==============================] - 2s 3ms/step - loss: 0.0855 - f1: 1.0858 - val_loss: 0.1640 - val_f1: 1.1042\n",
            "Epoch 16/150\n",
            "736/736 [==============================] - 3s 4ms/step - loss: 0.0737 - f1: 1.0774 - val_loss: 0.1538 - val_f1: 1.1061\n",
            "Epoch 17/150\n",
            "736/736 [==============================] - 2s 3ms/step - loss: 0.0736 - f1: 1.0757 - val_loss: 0.1474 - val_f1: 1.1052\n",
            "Epoch 18/150\n",
            "736/736 [==============================] - 2s 3ms/step - loss: 0.0739 - f1: 1.0747 - val_loss: 0.1484 - val_f1: 1.0730\n",
            "Epoch 19/150\n",
            "736/736 [==============================] - 2s 3ms/step - loss: 0.0673 - f1: 1.0664 - val_loss: 0.1966 - val_f1: 1.0851\n",
            "Epoch 20/150\n",
            "736/736 [==============================] - 2s 3ms/step - loss: 0.0772 - f1: 1.0708 - val_loss: 0.1725 - val_f1: 1.1427\n",
            "Epoch 21/150\n",
            "736/736 [==============================] - 3s 4ms/step - loss: 0.0803 - f1: 1.0687 - val_loss: 0.1596 - val_f1: 1.0959\n",
            "Epoch 22/150\n",
            "736/736 [==============================] - 2s 3ms/step - loss: 0.0658 - f1: 1.0663 - val_loss: 0.1452 - val_f1: 1.0836\n",
            "Epoch 23/150\n",
            "736/736 [==============================] - 2s 3ms/step - loss: 0.0590 - f1: 1.0614 - val_loss: 0.1727 - val_f1: 1.0957\n",
            "Epoch 24/150\n",
            "736/736 [==============================] - 2s 3ms/step - loss: 0.0605 - f1: 1.0614 - val_loss: 0.1727 - val_f1: 1.0803\n",
            "Epoch 25/150\n",
            "736/736 [==============================] - 2s 3ms/step - loss: 0.0589 - f1: 1.0659 - val_loss: 0.1659 - val_f1: 1.0752\n",
            "Epoch 26/150\n",
            "736/736 [==============================] - 3s 3ms/step - loss: 0.0617 - f1: 1.0591 - val_loss: 0.2447 - val_f1: 1.1247\n",
            "Epoch 27/150\n",
            "736/736 [==============================] - 3s 4ms/step - loss: 0.0590 - f1: 1.0658 - val_loss: 0.1643 - val_f1: 1.0891\n",
            "Epoch 28/150\n",
            "736/736 [==============================] - 2s 3ms/step - loss: 0.0557 - f1: 1.0604 - val_loss: 0.1943 - val_f1: 1.0560\n",
            "Epoch 29/150\n",
            "736/736 [==============================] - 2s 3ms/step - loss: 0.0547 - f1: 1.0558 - val_loss: 0.1528 - val_f1: 1.0762\n",
            "Epoch 30/150\n",
            "736/736 [==============================] - 2s 3ms/step - loss: 0.0571 - f1: 1.0587 - val_loss: 0.1523 - val_f1: 1.0940\n",
            "Epoch 31/150\n",
            "736/736 [==============================] - 2s 3ms/step - loss: 0.0509 - f1: 1.0565 - val_loss: 0.1605 - val_f1: 1.0637\n",
            "Epoch 32/150\n",
            "736/736 [==============================] - 3s 4ms/step - loss: 0.0586 - f1: 1.0510 - val_loss: 0.2200 - val_f1: 1.1066\n",
            "Epoch 33/150\n",
            "736/736 [==============================] - 2s 3ms/step - loss: 0.0649 - f1: 1.0625 - val_loss: 0.1631 - val_f1: 1.0804\n",
            "Epoch 34/150\n",
            "736/736 [==============================] - 2s 3ms/step - loss: 0.0481 - f1: 1.0526 - val_loss: 0.2212 - val_f1: 1.0706\n",
            "Epoch 35/150\n",
            "736/736 [==============================] - 2s 3ms/step - loss: 0.0498 - f1: 1.0546 - val_loss: 0.1999 - val_f1: 1.0765\n",
            "Epoch 36/150\n",
            "736/736 [==============================] - 2s 3ms/step - loss: 0.0458 - f1: 1.0494 - val_loss: 0.2560 - val_f1: 1.1002\n",
            "Epoch 37/150\n",
            "736/736 [==============================] - 4s 5ms/step - loss: 0.0474 - f1: 1.0505 - val_loss: 0.1491 - val_f1: 1.0775\n",
            "Epoch 38/150\n",
            "736/736 [==============================] - 2s 3ms/step - loss: 0.0480 - f1: 1.0493 - val_loss: 0.2399 - val_f1: 1.1104\n",
            "Epoch 39/150\n",
            "736/736 [==============================] - 2s 3ms/step - loss: 0.0436 - f1: 1.0480 - val_loss: 0.1896 - val_f1: 1.0838\n",
            "Epoch 40/150\n",
            "736/736 [==============================] - 2s 3ms/step - loss: 0.0495 - f1: 1.0505 - val_loss: 0.1595 - val_f1: 1.0654\n",
            "Epoch 41/150\n",
            "736/736 [==============================] - 2s 3ms/step - loss: 0.0477 - f1: 1.0497 - val_loss: 0.1992 - val_f1: 1.0688\n",
            "Epoch 42/150\n",
            "736/736 [==============================] - 3s 4ms/step - loss: 0.0407 - f1: 1.0447 - val_loss: 0.1654 - val_f1: 1.0537\n",
            "Epoch 43/150\n",
            "736/736 [==============================] - 2s 3ms/step - loss: 0.0429 - f1: 1.0467 - val_loss: 0.1625 - val_f1: 1.0737\n",
            "Epoch 44/150\n",
            "736/736 [==============================] - 2s 3ms/step - loss: 0.0413 - f1: 1.0421 - val_loss: 0.1663 - val_f1: 1.0627\n",
            "Epoch 45/150\n",
            "736/736 [==============================] - 2s 3ms/step - loss: 0.0405 - f1: 1.0427 - val_loss: 0.7671 - val_f1: 1.0541\n",
            "Epoch 46/150\n",
            "736/736 [==============================] - 2s 3ms/step - loss: 0.0420 - f1: 1.0459 - val_loss: 0.1693 - val_f1: 1.0611\n",
            "Epoch 47/150\n",
            "736/736 [==============================] - 3s 4ms/step - loss: 0.0394 - f1: 1.0428 - val_loss: 0.2722 - val_f1: 1.0869\n",
            "Epoch 48/150\n",
            "736/736 [==============================] - 2s 3ms/step - loss: 0.0437 - f1: 1.0432 - val_loss: 2.4941 - val_f1: 1.3354\n",
            "Epoch 49/150\n",
            "736/736 [==============================] - 2s 3ms/step - loss: 0.1611 - f1: 1.0863 - val_loss: 0.1799 - val_f1: 1.0968\n",
            "Epoch 50/150\n",
            "736/736 [==============================] - 2s 3ms/step - loss: 0.0817 - f1: 1.0592 - val_loss: 0.2577 - val_f1: 1.1066\n",
            "Epoch 51/150\n",
            "736/736 [==============================] - 2s 3ms/step - loss: 0.0653 - f1: 1.0513 - val_loss: 0.3478 - val_f1: 1.0933\n",
            "Epoch 52/150\n",
            "736/736 [==============================] - 3s 3ms/step - loss: 0.0554 - f1: 1.0485 - val_loss: 0.2146 - val_f1: 1.0782\n",
            "Epoch 53/150\n",
            "736/736 [==============================] - 3s 4ms/step - loss: 0.0537 - f1: 1.0456 - val_loss: 0.4340 - val_f1: 1.0774\n",
            "Epoch 54/150\n",
            "736/736 [==============================] - 2s 3ms/step - loss: 0.0555 - f1: 1.0478 - val_loss: 0.1782 - val_f1: 1.0644\n",
            "Epoch 55/150\n",
            "736/736 [==============================] - 2s 3ms/step - loss: 0.0499 - f1: 1.0526 - val_loss: 0.1784 - val_f1: 1.0591\n",
            "Epoch 56/150\n",
            "736/736 [==============================] - 2s 3ms/step - loss: 0.0479 - f1: 1.0440 - val_loss: 0.2071 - val_f1: 1.0760\n",
            "Epoch 57/150\n",
            "736/736 [==============================] - 2s 3ms/step - loss: 0.0441 - f1: 1.0473 - val_loss: 0.5382 - val_f1: 1.0772\n",
            "Epoch 58/150\n",
            "736/736 [==============================] - 3s 4ms/step - loss: 0.0513 - f1: 1.0437 - val_loss: 0.1771 - val_f1: 1.0610\n",
            "Epoch 59/150\n",
            "736/736 [==============================] - 2s 3ms/step - loss: 0.0531 - f1: 1.0422 - val_loss: 0.1947 - val_f1: 1.0772\n",
            "Epoch 60/150\n",
            "736/736 [==============================] - 2s 3ms/step - loss: 0.0433 - f1: 1.0421 - val_loss: 0.1683 - val_f1: 1.0692\n",
            "Epoch 61/150\n",
            "736/736 [==============================] - 2s 3ms/step - loss: 0.0385 - f1: 1.0361 - val_loss: 0.1706 - val_f1: 1.0731\n",
            "Epoch 62/150\n",
            "736/736 [==============================] - 2s 3ms/step - loss: 0.0363 - f1: 1.0376 - val_loss: 0.2033 - val_f1: 1.0477\n",
            "Epoch 63/150\n",
            "736/736 [==============================] - 2s 3ms/step - loss: 0.0420 - f1: 1.0390 - val_loss: 0.1722 - val_f1: 1.0598\n",
            "Epoch 64/150\n",
            "736/736 [==============================] - 3s 4ms/step - loss: 0.0375 - f1: 1.0372 - val_loss: 0.1800 - val_f1: 1.0454\n",
            "Epoch 65/150\n",
            "736/736 [==============================] - 2s 3ms/step - loss: 0.0396 - f1: 1.0378 - val_loss: 0.1862 - val_f1: 1.0551\n",
            "Epoch 66/150\n",
            "736/736 [==============================] - 2s 3ms/step - loss: 0.0316 - f1: 1.0346 - val_loss: 0.1935 - val_f1: 1.0443\n",
            "Epoch 67/150\n",
            "736/736 [==============================] - 2s 3ms/step - loss: 0.0431 - f1: 1.0377 - val_loss: 0.2121 - val_f1: 1.0664\n",
            "Epoch 68/150\n",
            "736/736 [==============================] - 2s 3ms/step - loss: 0.0346 - f1: 1.0370 - val_loss: 0.1744 - val_f1: 1.0485\n",
            "Epoch 69/150\n",
            "736/736 [==============================] - 3s 4ms/step - loss: 0.0390 - f1: 1.0376 - val_loss: 0.2327 - val_f1: 1.0642\n",
            "Epoch 70/150\n",
            "736/736 [==============================] - 2s 3ms/step - loss: 0.0337 - f1: 1.0357 - val_loss: 0.1955 - val_f1: 1.0532\n",
            "Epoch 71/150\n",
            "736/736 [==============================] - 2s 3ms/step - loss: 0.0333 - f1: 1.0364 - val_loss: 0.1699 - val_f1: 1.0514\n",
            "Epoch 72/150\n",
            "736/736 [==============================] - 2s 3ms/step - loss: 0.0310 - f1: 1.0308 - val_loss: 0.2050 - val_f1: 1.0462\n",
            "Epoch 73/150\n",
            "736/736 [==============================] - 2s 3ms/step - loss: 0.0368 - f1: 1.0334 - val_loss: 0.1545 - val_f1: 1.0634\n",
            "Epoch 74/150\n",
            "736/736 [==============================] - 3s 3ms/step - loss: 0.0313 - f1: 1.0338 - val_loss: 0.1762 - val_f1: 1.0689\n",
            "Epoch 75/150\n",
            "736/736 [==============================] - 3s 4ms/step - loss: 0.0314 - f1: 1.0326 - val_loss: 0.1814 - val_f1: 1.0467\n",
            "Epoch 76/150\n",
            "736/736 [==============================] - 2s 3ms/step - loss: 0.0327 - f1: 1.0292 - val_loss: 0.1652 - val_f1: 1.0684\n",
            "Epoch 77/150\n",
            "736/736 [==============================] - 2s 3ms/step - loss: 0.0317 - f1: 1.0309 - val_loss: 0.1899 - val_f1: 1.0601\n",
            "Epoch 78/150\n",
            "736/736 [==============================] - 2s 3ms/step - loss: 0.0317 - f1: 1.0291 - val_loss: 0.1781 - val_f1: 1.0706\n",
            "Epoch 79/150\n",
            "736/736 [==============================] - 2s 3ms/step - loss: 0.0290 - f1: 1.0329 - val_loss: 0.1758 - val_f1: 1.0567\n",
            "Epoch 80/150\n",
            "736/736 [==============================] - 3s 4ms/step - loss: 0.0319 - f1: 1.0314 - val_loss: 0.3418 - val_f1: 1.0936\n",
            "Epoch 81/150\n",
            "736/736 [==============================] - 2s 3ms/step - loss: 0.0297 - f1: 1.0300 - val_loss: 0.1979 - val_f1: 1.0501\n",
            "Epoch 82/150\n",
            "736/736 [==============================] - 2s 3ms/step - loss: 0.0298 - f1: 1.0295 - val_loss: 0.1849 - val_f1: 1.0497\n",
            "Epoch 83/150\n",
            "736/736 [==============================] - 2s 3ms/step - loss: 0.0335 - f1: 1.0335 - val_loss: 0.2673 - val_f1: 1.0567\n",
            "Epoch 84/150\n",
            "736/736 [==============================] - 2s 3ms/step - loss: 0.0408 - f1: 1.0308 - val_loss: 0.1534 - val_f1: 1.0510\n",
            "Epoch 85/150\n",
            "736/736 [==============================] - 2s 3ms/step - loss: 0.0276 - f1: 1.0255 - val_loss: 0.1965 - val_f1: 1.0577\n",
            "Epoch 86/150\n",
            "736/736 [==============================] - 3s 4ms/step - loss: 0.0275 - f1: 1.0310 - val_loss: 0.1856 - val_f1: 1.0299\n",
            "Epoch 87/150\n",
            "736/736 [==============================] - 2s 3ms/step - loss: 0.0279 - f1: 1.0283 - val_loss: 0.1725 - val_f1: 1.0456\n",
            "Epoch 88/150\n",
            "736/736 [==============================] - 2s 3ms/step - loss: 0.0262 - f1: 1.0302 - val_loss: 0.1965 - val_f1: 1.0397\n",
            "Epoch 89/150\n",
            "736/736 [==============================] - 2s 3ms/step - loss: 0.0352 - f1: 1.0287 - val_loss: 0.1869 - val_f1: 1.0582\n",
            "Epoch 90/150\n",
            "736/736 [==============================] - 2s 3ms/step - loss: 0.0282 - f1: 1.0283 - val_loss: 0.2085 - val_f1: 1.0421\n",
            "Epoch 91/150\n",
            "736/736 [==============================] - 4s 5ms/step - loss: 0.0299 - f1: 1.0258 - val_loss: 0.1893 - val_f1: 1.0508\n",
            "Epoch 92/150\n",
            "736/736 [==============================] - 2s 3ms/step - loss: 0.0261 - f1: 1.0255 - val_loss: 0.1918 - val_f1: 1.0325\n",
            "Epoch 93/150\n",
            "736/736 [==============================] - 2s 3ms/step - loss: 0.0223 - f1: 1.0236 - val_loss: 0.1816 - val_f1: 1.0484\n",
            "Epoch 94/150\n",
            "736/736 [==============================] - 2s 3ms/step - loss: 0.0214 - f1: 1.0208 - val_loss: 0.2713 - val_f1: 1.0527\n",
            "Epoch 95/150\n",
            "736/736 [==============================] - 2s 3ms/step - loss: 0.0238 - f1: 1.0240 - val_loss: 0.2011 - val_f1: 1.0415\n",
            "Epoch 96/150\n",
            "736/736 [==============================] - 3s 4ms/step - loss: 0.0253 - f1: 1.0232 - val_loss: 0.2545 - val_f1: 1.0581\n",
            "Epoch 97/150\n",
            "736/736 [==============================] - 3s 4ms/step - loss: 0.0238 - f1: 1.0217 - val_loss: 0.3777 - val_f1: 1.0629\n",
            "Epoch 98/150\n",
            "736/736 [==============================] - 2s 3ms/step - loss: 0.0258 - f1: 1.0245 - val_loss: 0.2396 - val_f1: 1.0542\n",
            "Epoch 99/150\n",
            "736/736 [==============================] - 2s 3ms/step - loss: 0.0250 - f1: 1.0234 - val_loss: 0.2695 - val_f1: 1.0384\n",
            "Epoch 100/150\n",
            "736/736 [==============================] - 2s 3ms/step - loss: 0.0233 - f1: 1.0250 - val_loss: 0.1943 - val_f1: 1.0393\n",
            "Epoch 101/150\n",
            "736/736 [==============================] - 3s 4ms/step - loss: 0.0233 - f1: 1.0215 - val_loss: 0.2045 - val_f1: 1.0353\n",
            "Epoch 102/150\n",
            "736/736 [==============================] - 3s 4ms/step - loss: 0.0241 - f1: 1.0213 - val_loss: 0.2652 - val_f1: 1.0485\n",
            "Epoch 103/150\n",
            "736/736 [==============================] - 2s 3ms/step - loss: 0.0187 - f1: 1.0202 - val_loss: 0.2820 - val_f1: 1.0384\n",
            "Epoch 104/150\n",
            "736/736 [==============================] - 2s 3ms/step - loss: 0.0252 - f1: 1.0249 - val_loss: 0.2164 - val_f1: 1.0451\n",
            "Epoch 105/150\n",
            "736/736 [==============================] - 2s 3ms/step - loss: 0.0197 - f1: 1.0197 - val_loss: 0.2174 - val_f1: 1.0388\n",
            "Epoch 106/150\n",
            "736/736 [==============================] - 2s 3ms/step - loss: 0.0217 - f1: 1.0208 - val_loss: 0.2458 - val_f1: 1.0511\n",
            "Epoch 107/150\n",
            "736/736 [==============================] - 3s 4ms/step - loss: 0.0182 - f1: 1.0210 - val_loss: 0.2551 - val_f1: 1.0493\n",
            "Epoch 108/150\n",
            "736/736 [==============================] - 2s 3ms/step - loss: 0.0172 - f1: 1.0190 - val_loss: 0.2272 - val_f1: 1.0333\n",
            "Epoch 109/150\n",
            "736/736 [==============================] - 2s 3ms/step - loss: 0.0474 - f1: 1.0264 - val_loss: 0.1830 - val_f1: 1.0640\n",
            "Epoch 110/150\n",
            "736/736 [==============================] - 2s 3ms/step - loss: 0.0196 - f1: 1.0186 - val_loss: 0.3649 - val_f1: 1.0595\n",
            "Epoch 111/150\n",
            "736/736 [==============================] - 2s 3ms/step - loss: 0.0279 - f1: 1.0217 - val_loss: 0.1818 - val_f1: 1.0390\n",
            "Epoch 112/150\n",
            "736/736 [==============================] - 3s 4ms/step - loss: 0.0206 - f1: 1.0196 - val_loss: 0.2187 - val_f1: 1.0374\n",
            "Epoch 113/150\n",
            "736/736 [==============================] - 2s 3ms/step - loss: 0.0233 - f1: 1.0217 - val_loss: 0.1816 - val_f1: 1.0379\n",
            "Epoch 114/150\n",
            "736/736 [==============================] - 2s 3ms/step - loss: 0.0215 - f1: 1.0228 - val_loss: 0.3002 - val_f1: 1.0582\n",
            "Epoch 115/150\n",
            "736/736 [==============================] - 2s 3ms/step - loss: 0.0204 - f1: 1.0175 - val_loss: 0.2852 - val_f1: 1.0453\n",
            "Epoch 116/150\n",
            "736/736 [==============================] - 2s 3ms/step - loss: 0.0189 - f1: 1.0185 - val_loss: 0.2107 - val_f1: 1.0357\n",
            "Epoch 117/150\n",
            "736/736 [==============================] - 3s 4ms/step - loss: 0.0211 - f1: 1.0205 - val_loss: 0.2388 - val_f1: 1.0416\n",
            "Epoch 118/150\n",
            "736/736 [==============================] - 3s 4ms/step - loss: 0.0270 - f1: 1.0185 - val_loss: 0.2274 - val_f1: 1.0698\n",
            "Epoch 119/150\n",
            "736/736 [==============================] - 2s 3ms/step - loss: 0.0283 - f1: 1.0240 - val_loss: 0.1886 - val_f1: 1.0344\n",
            "Epoch 120/150\n",
            "736/736 [==============================] - 2s 3ms/step - loss: 0.0185 - f1: 1.0178 - val_loss: 0.2398 - val_f1: 1.0471\n",
            "Epoch 121/150\n",
            "736/736 [==============================] - 2s 3ms/step - loss: 0.0171 - f1: 1.0171 - val_loss: 0.2574 - val_f1: 1.0588\n",
            "Epoch 122/150\n",
            "736/736 [==============================] - 3s 4ms/step - loss: 0.0189 - f1: 1.0177 - val_loss: 0.2049 - val_f1: 1.0386\n",
            "Epoch 123/150\n",
            "736/736 [==============================] - 3s 3ms/step - loss: 0.0176 - f1: 1.0182 - val_loss: 0.2163 - val_f1: 1.0366\n",
            "Epoch 124/150\n",
            "736/736 [==============================] - 2s 3ms/step - loss: 0.0171 - f1: 1.0166 - val_loss: 0.2486 - val_f1: 1.0460\n",
            "Epoch 125/150\n",
            "736/736 [==============================] - 2s 3ms/step - loss: 0.0245 - f1: 1.0212 - val_loss: 0.2224 - val_f1: 1.0635\n",
            "Epoch 126/150\n",
            "736/736 [==============================] - 2s 3ms/step - loss: 0.0265 - f1: 1.0194 - val_loss: 0.1956 - val_f1: 1.0436\n",
            "Epoch 127/150\n",
            "736/736 [==============================] - 2s 3ms/step - loss: 0.0224 - f1: 1.0209 - val_loss: 0.1944 - val_f1: 1.0450\n",
            "Epoch 128/150\n",
            "736/736 [==============================] - 3s 4ms/step - loss: 0.0272 - f1: 1.0177 - val_loss: 0.3138 - val_f1: 1.0678\n",
            "Epoch 129/150\n",
            "736/736 [==============================] - 2s 3ms/step - loss: 0.0354 - f1: 1.0284 - val_loss: 0.2170 - val_f1: 1.1513\n",
            "Epoch 130/150\n",
            "736/736 [==============================] - 2s 3ms/step - loss: 0.0192 - f1: 1.0227 - val_loss: 0.2403 - val_f1: 1.0365\n",
            "Epoch 131/150\n",
            "736/736 [==============================] - 2s 3ms/step - loss: 0.0195 - f1: 1.0148 - val_loss: 0.2201 - val_f1: 1.0647\n",
            "Epoch 132/150\n",
            "736/736 [==============================] - 2s 3ms/step - loss: 0.0142 - f1: 1.0140 - val_loss: 0.1964 - val_f1: 1.0306\n",
            "Epoch 133/150\n",
            "736/736 [==============================] - 3s 4ms/step - loss: 0.0262 - f1: 1.0199 - val_loss: 0.1890 - val_f1: 1.0348\n",
            "Epoch 134/150\n",
            "736/736 [==============================] - 3s 3ms/step - loss: 0.0164 - f1: 1.0147 - val_loss: 0.2065 - val_f1: 1.0356\n",
            "Epoch 135/150\n",
            "736/736 [==============================] - 2s 3ms/step - loss: 0.0139 - f1: 1.0139 - val_loss: 0.2036 - val_f1: 1.0391\n",
            "Epoch 136/150\n",
            "736/736 [==============================] - 2s 3ms/step - loss: 0.0143 - f1: 1.0151 - val_loss: 0.2994 - val_f1: 1.0515\n",
            "Epoch 137/150\n",
            "736/736 [==============================] - 2s 3ms/step - loss: 0.0176 - f1: 1.0164 - val_loss: 0.1984 - val_f1: 1.0415\n",
            "Epoch 138/150\n",
            "736/736 [==============================] - 3s 4ms/step - loss: 0.0131 - f1: 1.0107 - val_loss: 0.2330 - val_f1: 1.0442\n",
            "Epoch 139/150\n",
            "736/736 [==============================] - 3s 3ms/step - loss: 0.0317 - f1: 1.0255 - val_loss: 0.2102 - val_f1: 1.0395\n",
            "Epoch 140/150\n",
            "736/736 [==============================] - 2s 3ms/step - loss: 0.0173 - f1: 1.0171 - val_loss: 0.2051 - val_f1: 1.0299\n",
            "Epoch 141/150\n",
            "736/736 [==============================] - 2s 3ms/step - loss: 0.0250 - f1: 1.0180 - val_loss: 0.1833 - val_f1: 1.0501\n",
            "Epoch 142/150\n",
            "736/736 [==============================] - 2s 3ms/step - loss: 0.0120 - f1: 1.0136 - val_loss: 0.1873 - val_f1: 1.0377\n",
            "Epoch 143/150\n",
            "736/736 [==============================] - 2s 3ms/step - loss: 0.0145 - f1: 1.0129 - val_loss: 0.3641 - val_f1: 1.0382\n",
            "Epoch 144/150\n",
            "736/736 [==============================] - 3s 4ms/step - loss: 0.0209 - f1: 1.0181 - val_loss: 0.3263 - val_f1: 1.0458\n",
            "Epoch 145/150\n",
            "736/736 [==============================] - 2s 3ms/step - loss: 0.0156 - f1: 1.0141 - val_loss: 0.2162 - val_f1: 1.0401\n",
            "Epoch 146/150\n",
            "736/736 [==============================] - 2s 3ms/step - loss: 0.0146 - f1: 1.0130 - val_loss: 0.1917 - val_f1: 1.0431\n",
            "Epoch 147/150\n",
            "736/736 [==============================] - 2s 3ms/step - loss: 0.0172 - f1: 1.0154 - val_loss: 0.2207 - val_f1: 1.0287\n",
            "Epoch 148/150\n",
            "736/736 [==============================] - 2s 3ms/step - loss: 0.0155 - f1: 1.0124 - val_loss: 0.1978 - val_f1: 1.0317\n",
            "Epoch 149/150\n",
            "736/736 [==============================] - 3s 4ms/step - loss: 0.0125 - f1: 1.0125 - val_loss: 0.2361 - val_f1: 1.0269\n",
            "Epoch 150/150\n",
            "736/736 [==============================] - 2s 3ms/step - loss: 0.0154 - f1: 1.0124 - val_loss: 0.2188 - val_f1: 1.0461\n"
          ]
        }
      ],
      "source": [
        "model1 = build_model_1()\n",
        "history1 = model1.fit(X_train, y_train, validation_data=(X_test, y_test), epochs=150, batch_size=10).history\n",
        "\n"
      ]
    },
    {
      "cell_type": "code",
      "execution_count": 27,
      "metadata": {
        "colab": {
          "base_uri": "https://localhost:8080/"
        },
        "id": "qZ5Xvux4VVAz",
        "outputId": "62cc7434-14af-4f0c-984e-d45db97f76cf"
      },
      "outputs": [
        {
          "name": "stderr",
          "output_type": "stream",
          "text": [
            "<ipython-input-27-b1cc05791d37>:1: DeprecationWarning: KerasClassifier is deprecated, use Sci-Keras (https://github.com/adriangb/scikeras) instead. See https://www.adriangb.com/scikeras/stable/migration.html for help migrating.\n",
            "  model1 = KerasClassifier(build_fn=build_model_1)\n"
          ]
        },
        {
          "name": "stdout",
          "output_type": "stream",
          "text": [
            "Epoch 1/300\n",
            "589/589 [==============================] - 4s 3ms/step - loss: 0.8978 - f1: 2.6058 - val_loss: 0.5722 - val_f1: 1.4386\n",
            "Epoch 2/300\n",
            "589/589 [==============================] - 2s 4ms/step - loss: 0.3945 - f1: 1.3156 - val_loss: 0.6812 - val_f1: 0.9309\n",
            "Epoch 3/300\n",
            "589/589 [==============================] - 2s 3ms/step - loss: 0.2661 - f1: 1.1708 - val_loss: 0.8318 - val_f1: 0.9699\n",
            "Epoch 4/300\n",
            "589/589 [==============================] - 2s 3ms/step - loss: 0.2129 - f1: 1.0997 - val_loss: 0.2142 - val_f1: 1.0255\n",
            "Epoch 5/300\n",
            "589/589 [==============================] - 2s 3ms/step - loss: 0.1829 - f1: 1.0640 - val_loss: 0.2100 - val_f1: 1.0266\n",
            "Epoch 6/300\n",
            "589/589 [==============================] - 2s 3ms/step - loss: 0.1701 - f1: 1.0515 - val_loss: 0.1859 - val_f1: 0.9979\n",
            "Epoch 7/300\n",
            "589/589 [==============================] - 2s 3ms/step - loss: 0.1496 - f1: 1.0339 - val_loss: 0.2681 - val_f1: 0.9811\n",
            "Epoch 8/300\n",
            "589/589 [==============================] - 2s 3ms/step - loss: 0.1278 - f1: 1.0058 - val_loss: 0.1852 - val_f1: 0.9583\n",
            "Epoch 9/300\n",
            "589/589 [==============================] - 2s 4ms/step - loss: 0.1235 - f1: 1.0086 - val_loss: 0.2824 - val_f1: 0.9379\n",
            "Epoch 10/300\n",
            "589/589 [==============================] - 2s 3ms/step - loss: 0.1146 - f1: 0.9930 - val_loss: 0.2173 - val_f1: 0.9975\n",
            "Epoch 11/300\n",
            "589/589 [==============================] - 2s 3ms/step - loss: 0.1079 - f1: 0.9848 - val_loss: 0.2390 - val_f1: 0.9456\n",
            "Epoch 12/300\n",
            "589/589 [==============================] - 2s 3ms/step - loss: 0.1017 - f1: 0.9956 - val_loss: 0.1596 - val_f1: 0.9447\n",
            "Epoch 13/300\n",
            "589/589 [==============================] - 2s 3ms/step - loss: 0.0913 - f1: 0.9843 - val_loss: 0.1654 - val_f1: 0.9361\n",
            "Epoch 14/300\n",
            "589/589 [==============================] - 2s 3ms/step - loss: 0.0950 - f1: 0.9854 - val_loss: 0.3205 - val_f1: 0.9473\n",
            "Epoch 15/300\n",
            "589/589 [==============================] - 2s 3ms/step - loss: 0.0783 - f1: 0.9719 - val_loss: 0.1782 - val_f1: 0.9139\n",
            "Epoch 16/300\n",
            "589/589 [==============================] - 3s 5ms/step - loss: 0.0873 - f1: 0.9738 - val_loss: 0.1886 - val_f1: 0.9250\n",
            "Epoch 17/300\n",
            "589/589 [==============================] - 3s 6ms/step - loss: 0.0761 - f1: 0.9742 - val_loss: 0.1762 - val_f1: 0.9194\n",
            "Epoch 18/300\n",
            "589/589 [==============================] - 2s 3ms/step - loss: 0.0740 - f1: 0.9609 - val_loss: 0.3024 - val_f1: 0.9618\n",
            "Epoch 19/300\n",
            "589/589 [==============================] - 2s 3ms/step - loss: 0.0808 - f1: 0.9601 - val_loss: 0.1392 - val_f1: 0.9580\n",
            "Epoch 20/300\n",
            "589/589 [==============================] - 2s 3ms/step - loss: 0.0719 - f1: 0.9653 - val_loss: 0.1621 - val_f1: 0.9262\n",
            "Epoch 21/300\n",
            "589/589 [==============================] - 2s 3ms/step - loss: 0.0677 - f1: 0.9537 - val_loss: 0.1234 - val_f1: 0.9445\n",
            "Epoch 22/300\n",
            "589/589 [==============================] - 2s 4ms/step - loss: 0.0692 - f1: 0.9649 - val_loss: 0.1699 - val_f1: 0.9116\n",
            "Epoch 23/300\n",
            "589/589 [==============================] - 2s 4ms/step - loss: 0.0745 - f1: 0.9598 - val_loss: 0.3698 - val_f1: 0.9262\n",
            "Epoch 24/300\n",
            "589/589 [==============================] - 2s 3ms/step - loss: 0.0625 - f1: 0.9579 - val_loss: 0.1542 - val_f1: 0.9228\n",
            "Epoch 25/300\n",
            "589/589 [==============================] - 2s 3ms/step - loss: 0.0612 - f1: 0.9584 - val_loss: 0.2259 - val_f1: 0.9250\n",
            "Epoch 26/300\n",
            "589/589 [==============================] - 2s 3ms/step - loss: 0.0586 - f1: 0.9580 - val_loss: 0.1487 - val_f1: 0.9139\n",
            "Epoch 27/300\n",
            "589/589 [==============================] - 2s 3ms/step - loss: 0.0576 - f1: 0.9543 - val_loss: 0.1746 - val_f1: 0.9210\n",
            "Epoch 28/300\n",
            "589/589 [==============================] - 2s 3ms/step - loss: 0.0653 - f1: 0.9559 - val_loss: 0.1128 - val_f1: 0.9661\n",
            "Epoch 29/300\n",
            "589/589 [==============================] - 2s 4ms/step - loss: 0.0549 - f1: 0.9491 - val_loss: 0.1761 - val_f1: 0.9342\n",
            "Epoch 30/300\n",
            "589/589 [==============================] - 2s 4ms/step - loss: 0.0498 - f1: 0.9464 - val_loss: 0.1536 - val_f1: 0.9147\n",
            "Epoch 31/300\n",
            "589/589 [==============================] - 2s 3ms/step - loss: 0.0497 - f1: 0.9514 - val_loss: 0.1854 - val_f1: 0.9173\n",
            "Epoch 32/300\n",
            "589/589 [==============================] - 2s 3ms/step - loss: 0.0500 - f1: 0.9539 - val_loss: 0.1590 - val_f1: 0.9114\n",
            "Epoch 33/300\n",
            "589/589 [==============================] - 2s 3ms/step - loss: 0.0452 - f1: 0.9459 - val_loss: 0.1662 - val_f1: 0.9078\n",
            "Epoch 34/300\n",
            "589/589 [==============================] - 2s 3ms/step - loss: 0.0581 - f1: 0.9493 - val_loss: 0.1825 - val_f1: 0.9094\n",
            "Epoch 35/300\n",
            "589/589 [==============================] - 2s 3ms/step - loss: 0.0456 - f1: 0.9463 - val_loss: 0.1651 - val_f1: 0.9054\n",
            "Epoch 36/300\n",
            "589/589 [==============================] - 2s 3ms/step - loss: 0.0498 - f1: 0.9457 - val_loss: 0.1260 - val_f1: 0.9222\n",
            "Epoch 37/300\n",
            "589/589 [==============================] - 3s 4ms/step - loss: 0.0437 - f1: 0.9452 - val_loss: 0.4243 - val_f1: 0.9304\n",
            "Epoch 38/300\n",
            "589/589 [==============================] - 2s 3ms/step - loss: 0.0756 - f1: 0.9548 - val_loss: 0.1816 - val_f1: 0.9175\n",
            "Epoch 39/300\n",
            "589/589 [==============================] - 2s 3ms/step - loss: 0.0497 - f1: 0.9437 - val_loss: 0.2616 - val_f1: 0.9059\n",
            "Epoch 40/300\n",
            "589/589 [==============================] - 2s 3ms/step - loss: 0.0520 - f1: 0.9470 - val_loss: 0.3285 - val_f1: 0.9306\n",
            "Epoch 41/300\n",
            "589/589 [==============================] - 2s 3ms/step - loss: 0.0425 - f1: 0.9425 - val_loss: 0.2388 - val_f1: 0.9344\n",
            "Epoch 42/300\n",
            "589/589 [==============================] - 2s 3ms/step - loss: 0.0402 - f1: 0.9419 - val_loss: 0.1966 - val_f1: 0.9077\n",
            "Epoch 43/300\n",
            "589/589 [==============================] - 2s 3ms/step - loss: 0.0386 - f1: 0.9398 - val_loss: 0.1823 - val_f1: 0.8969\n",
            "Epoch 44/300\n",
            "589/589 [==============================] - 2s 4ms/step - loss: 0.0430 - f1: 0.9420 - val_loss: 0.1535 - val_f1: 0.9101\n",
            "Epoch 45/300\n",
            "589/589 [==============================] - 2s 3ms/step - loss: 0.0369 - f1: 0.9381 - val_loss: 0.1379 - val_f1: 0.9055\n",
            "Epoch 46/300\n",
            "589/589 [==============================] - 2s 3ms/step - loss: 0.0398 - f1: 0.9418 - val_loss: 0.1628 - val_f1: 0.8952\n",
            "Epoch 47/300\n",
            "589/589 [==============================] - 2s 3ms/step - loss: 0.0480 - f1: 0.9453 - val_loss: 0.1334 - val_f1: 0.9195\n",
            "Epoch 48/300\n",
            "589/589 [==============================] - 2s 3ms/step - loss: 0.0954 - f1: 0.9477 - val_loss: 0.3580 - val_f1: 0.9231\n",
            "Epoch 49/300\n",
            "589/589 [==============================] - 2s 3ms/step - loss: 0.0571 - f1: 0.9504 - val_loss: 0.1602 - val_f1: 0.9087\n",
            "Epoch 50/300\n",
            "589/589 [==============================] - 2s 3ms/step - loss: 0.0414 - f1: 0.9397 - val_loss: 0.1318 - val_f1: 0.9140\n",
            "Epoch 51/300\n",
            "589/589 [==============================] - 2s 4ms/step - loss: 0.0362 - f1: 0.9404 - val_loss: 0.1684 - val_f1: 0.9141\n",
            "Epoch 52/300\n",
            "589/589 [==============================] - 2s 4ms/step - loss: 0.0366 - f1: 0.9418 - val_loss: 0.1653 - val_f1: 0.9128\n",
            "Epoch 53/300\n",
            "589/589 [==============================] - 2s 3ms/step - loss: 0.0379 - f1: 0.9400 - val_loss: 0.1522 - val_f1: 0.9058\n",
            "Epoch 54/300\n",
            "589/589 [==============================] - 2s 3ms/step - loss: 0.0365 - f1: 0.9356 - val_loss: 0.1306 - val_f1: 0.9242\n",
            "Epoch 55/300\n",
            "589/589 [==============================] - 3s 5ms/step - loss: 0.0337 - f1: 0.9345 - val_loss: 0.1594 - val_f1: 0.8952\n",
            "Epoch 56/300\n",
            "589/589 [==============================] - 3s 4ms/step - loss: 0.0337 - f1: 0.9356 - val_loss: 0.1592 - val_f1: 0.9074\n",
            "Epoch 57/300\n",
            "589/589 [==============================] - 4s 6ms/step - loss: 0.0356 - f1: 0.9375 - val_loss: 0.4498 - val_f1: 0.9337\n",
            "Epoch 58/300\n",
            "589/589 [==============================] - 2s 3ms/step - loss: 0.0377 - f1: 0.9356 - val_loss: 0.1526 - val_f1: 0.8986\n",
            "Epoch 59/300\n",
            "589/589 [==============================] - 2s 3ms/step - loss: 0.0349 - f1: 0.9389 - val_loss: 0.1353 - val_f1: 0.9175\n",
            "Epoch 60/300\n",
            "589/589 [==============================] - 2s 3ms/step - loss: 0.0347 - f1: 0.9354 - val_loss: 0.1350 - val_f1: 0.9127\n",
            "Epoch 61/300\n",
            "589/589 [==============================] - 2s 3ms/step - loss: 0.0307 - f1: 0.9348 - val_loss: 0.2105 - val_f1: 0.8952\n",
            "Epoch 62/300\n",
            "589/589 [==============================] - 2s 3ms/step - loss: 0.0317 - f1: 0.9319 - val_loss: 0.1575 - val_f1: 0.9011\n",
            "Epoch 63/300\n",
            "589/589 [==============================] - 2s 3ms/step - loss: 0.0272 - f1: 0.9308 - val_loss: 0.1753 - val_f1: 0.8878\n",
            "Epoch 64/300\n",
            "589/589 [==============================] - 2s 4ms/step - loss: 0.0353 - f1: 0.9371 - val_loss: 0.1584 - val_f1: 0.9189\n",
            "Epoch 65/300\n",
            "589/589 [==============================] - 2s 3ms/step - loss: 0.0271 - f1: 0.9286 - val_loss: 0.1587 - val_f1: 0.9033\n",
            "Epoch 66/300\n",
            "589/589 [==============================] - 2s 3ms/step - loss: 0.0285 - f1: 0.9280 - val_loss: 0.1977 - val_f1: 0.9059\n",
            "Epoch 67/300\n",
            "589/589 [==============================] - 2s 3ms/step - loss: 0.0287 - f1: 0.9297 - val_loss: 0.1649 - val_f1: 0.8966\n",
            "Epoch 68/300\n",
            "589/589 [==============================] - 2s 3ms/step - loss: 0.0330 - f1: 0.9296 - val_loss: 0.1724 - val_f1: 0.9070\n",
            "Epoch 69/300\n",
            "589/589 [==============================] - 2s 3ms/step - loss: 0.0251 - f1: 0.9266 - val_loss: 0.2667 - val_f1: 0.9027\n",
            "Epoch 70/300\n",
            "589/589 [==============================] - 2s 3ms/step - loss: 0.0269 - f1: 0.9289 - val_loss: 0.1523 - val_f1: 0.8925\n",
            "Epoch 71/300\n",
            "589/589 [==============================] - 2s 4ms/step - loss: 0.0337 - f1: 0.9304 - val_loss: 0.1475 - val_f1: 0.9189\n",
            "Epoch 72/300\n",
            "589/589 [==============================] - 2s 4ms/step - loss: 0.0261 - f1: 0.9267 - val_loss: 0.1305 - val_f1: 0.9268\n",
            "Epoch 73/300\n",
            "589/589 [==============================] - 2s 3ms/step - loss: 0.0308 - f1: 0.9273 - val_loss: 0.1258 - val_f1: 0.9202\n",
            "Epoch 74/300\n",
            "589/589 [==============================] - 2s 3ms/step - loss: 0.0353 - f1: 0.9287 - val_loss: 0.1449 - val_f1: 0.9030\n",
            "Epoch 75/300\n",
            "589/589 [==============================] - 2s 3ms/step - loss: 0.0364 - f1: 0.9313 - val_loss: 0.2213 - val_f1: 0.9122\n",
            "Epoch 76/300\n",
            "589/589 [==============================] - 2s 3ms/step - loss: 0.0276 - f1: 0.9288 - val_loss: 0.1579 - val_f1: 0.9085\n",
            "Epoch 77/300\n",
            "589/589 [==============================] - 2s 3ms/step - loss: 0.0233 - f1: 0.9277 - val_loss: 0.1649 - val_f1: 0.8927\n",
            "Epoch 78/300\n",
            "589/589 [==============================] - 2s 3ms/step - loss: 0.0218 - f1: 0.9237 - val_loss: 0.1912 - val_f1: 0.8885\n",
            "Epoch 79/300\n",
            "589/589 [==============================] - 3s 5ms/step - loss: 0.0308 - f1: 0.9278 - val_loss: 0.1957 - val_f1: 0.8978\n",
            "Epoch 80/300\n",
            "589/589 [==============================] - 2s 3ms/step - loss: 0.0227 - f1: 0.9247 - val_loss: 0.1540 - val_f1: 0.9006\n",
            "Epoch 81/300\n",
            "589/589 [==============================] - 2s 3ms/step - loss: 0.0227 - f1: 0.9241 - val_loss: 0.2400 - val_f1: 0.9026\n",
            "Epoch 82/300\n",
            "589/589 [==============================] - 2s 3ms/step - loss: 0.0256 - f1: 0.9266 - val_loss: 0.2258 - val_f1: 0.8870\n",
            "Epoch 83/300\n",
            "589/589 [==============================] - 2s 3ms/step - loss: 0.0497 - f1: 0.9308 - val_loss: 0.1662 - val_f1: 0.9054\n",
            "Epoch 84/300\n",
            "589/589 [==============================] - 2s 3ms/step - loss: 0.0261 - f1: 0.9257 - val_loss: 0.6869 - val_f1: 0.9182\n",
            "Epoch 85/300\n",
            "589/589 [==============================] - 2s 3ms/step - loss: 0.0276 - f1: 0.9276 - val_loss: 0.1373 - val_f1: 0.9087\n",
            "Epoch 86/300\n",
            "589/589 [==============================] - 2s 4ms/step - loss: 0.0240 - f1: 0.9261 - val_loss: 0.1592 - val_f1: 0.8950\n",
            "Epoch 87/300\n",
            "589/589 [==============================] - 2s 3ms/step - loss: 0.0339 - f1: 0.9254 - val_loss: 1.8018 - val_f1: 0.9052\n",
            "Epoch 88/300\n",
            "589/589 [==============================] - 2s 3ms/step - loss: 0.0395 - f1: 0.9285 - val_loss: 0.1809 - val_f1: 0.9041\n",
            "Epoch 89/300\n",
            "589/589 [==============================] - 2s 3ms/step - loss: 0.0243 - f1: 0.9229 - val_loss: 0.1728 - val_f1: 0.8938\n",
            "Epoch 90/300\n",
            "589/589 [==============================] - 2s 3ms/step - loss: 0.0246 - f1: 0.9237 - val_loss: 0.1319 - val_f1: 0.9066\n",
            "Epoch 91/300\n",
            "589/589 [==============================] - 2s 3ms/step - loss: 0.0263 - f1: 0.9242 - val_loss: 0.1478 - val_f1: 0.9011\n",
            "Epoch 92/300\n",
            "589/589 [==============================] - 2s 3ms/step - loss: 0.0201 - f1: 0.9208 - val_loss: 0.2072 - val_f1: 0.8952\n",
            "Epoch 93/300\n",
            "589/589 [==============================] - 2s 3ms/step - loss: 0.0303 - f1: 0.9278 - val_loss: 0.1348 - val_f1: 0.8912\n",
            "Epoch 94/300\n",
            "589/589 [==============================] - 2s 4ms/step - loss: 0.0189 - f1: 0.9187 - val_loss: 0.1486 - val_f1: 0.8878\n",
            "Epoch 95/300\n",
            "589/589 [==============================] - 2s 3ms/step - loss: 0.0229 - f1: 0.9228 - val_loss: 0.1488 - val_f1: 0.8966\n",
            "Epoch 96/300\n",
            "589/589 [==============================] - 2s 3ms/step - loss: 0.0211 - f1: 0.9227 - val_loss: 0.1428 - val_f1: 0.9087\n",
            "Epoch 97/300\n",
            "589/589 [==============================] - 2s 3ms/step - loss: 0.0247 - f1: 0.9229 - val_loss: 0.1544 - val_f1: 0.8963\n",
            "Epoch 98/300\n",
            "589/589 [==============================] - 2s 3ms/step - loss: 0.0205 - f1: 0.9193 - val_loss: 0.1554 - val_f1: 0.8939\n",
            "Epoch 99/300\n",
            "589/589 [==============================] - 2s 3ms/step - loss: 0.0205 - f1: 0.9213 - val_loss: 0.1260 - val_f1: 0.8960\n",
            "Epoch 100/300\n",
            "589/589 [==============================] - 2s 3ms/step - loss: 0.0245 - f1: 0.9252 - val_loss: 0.1450 - val_f1: 0.9099\n",
            "Epoch 101/300\n",
            "589/589 [==============================] - 2s 4ms/step - loss: 0.0195 - f1: 0.9186 - val_loss: 0.1571 - val_f1: 0.9094\n",
            "Epoch 102/300\n",
            "589/589 [==============================] - 2s 3ms/step - loss: 0.0209 - f1: 0.9203 - val_loss: 0.1285 - val_f1: 0.9085\n",
            "Epoch 103/300\n",
            "589/589 [==============================] - 2s 3ms/step - loss: 0.0172 - f1: 0.9187 - val_loss: 0.1496 - val_f1: 0.8944\n",
            "Epoch 104/300\n",
            "589/589 [==============================] - 2s 3ms/step - loss: 0.0173 - f1: 0.9211 - val_loss: 1.7132 - val_f1: 0.8786\n",
            "Epoch 105/300\n",
            "589/589 [==============================] - 2s 3ms/step - loss: 0.0505 - f1: 0.9317 - val_loss: 0.1353 - val_f1: 0.8960\n",
            "Epoch 106/300\n",
            "589/589 [==============================] - 2s 3ms/step - loss: 0.0271 - f1: 0.9240 - val_loss: 0.1300 - val_f1: 0.9045\n",
            "Epoch 107/300\n",
            "589/589 [==============================] - 2s 3ms/step - loss: 0.0178 - f1: 0.9209 - val_loss: 0.1943 - val_f1: 0.8878\n",
            "Epoch 108/300\n",
            "589/589 [==============================] - 2s 4ms/step - loss: 0.0187 - f1: 0.9188 - val_loss: 0.1880 - val_f1: 0.8910\n",
            "Epoch 109/300\n",
            "589/589 [==============================] - 2s 4ms/step - loss: 0.0194 - f1: 0.9222 - val_loss: 0.1449 - val_f1: 0.8912\n",
            "Epoch 110/300\n",
            "589/589 [==============================] - 2s 3ms/step - loss: 0.0168 - f1: 0.9158 - val_loss: 0.1852 - val_f1: 0.8878\n",
            "Epoch 111/300\n",
            "589/589 [==============================] - 2s 3ms/step - loss: 0.0149 - f1: 0.9169 - val_loss: 0.1851 - val_f1: 0.8824\n",
            "Epoch 112/300\n",
            "589/589 [==============================] - 2s 3ms/step - loss: 0.0171 - f1: 0.9175 - val_loss: 0.2100 - val_f1: 0.8863\n",
            "Epoch 113/300\n",
            "589/589 [==============================] - 2s 3ms/step - loss: 0.0213 - f1: 0.9195 - val_loss: 0.1946 - val_f1: 0.8925\n",
            "Epoch 114/300\n",
            "589/589 [==============================] - 2s 3ms/step - loss: 0.0181 - f1: 0.9171 - val_loss: 0.1864 - val_f1: 0.8878\n",
            "Epoch 115/300\n",
            "589/589 [==============================] - 2s 4ms/step - loss: 0.0181 - f1: 0.9190 - val_loss: 0.1795 - val_f1: 0.8848\n",
            "Epoch 116/300\n",
            "589/589 [==============================] - 3s 5ms/step - loss: 0.0148 - f1: 0.9163 - val_loss: 0.1801 - val_f1: 0.8903\n",
            "Epoch 117/300\n",
            "589/589 [==============================] - 2s 3ms/step - loss: 0.0156 - f1: 0.9169 - val_loss: 0.1537 - val_f1: 0.8858\n",
            "Epoch 118/300\n",
            "589/589 [==============================] - 2s 3ms/step - loss: 0.0239 - f1: 0.9147 - val_loss: 0.1321 - val_f1: 0.8898\n",
            "Epoch 119/300\n",
            "589/589 [==============================] - 2s 3ms/step - loss: 0.0409 - f1: 0.9190 - val_loss: 0.1631 - val_f1: 0.9003\n",
            "Epoch 120/300\n",
            "589/589 [==============================] - 2s 3ms/step - loss: 0.0163 - f1: 0.9158 - val_loss: 0.1821 - val_f1: 0.9006\n",
            "Epoch 121/300\n",
            "589/589 [==============================] - 2s 3ms/step - loss: 0.0168 - f1: 0.9153 - val_loss: 0.1474 - val_f1: 0.8905\n",
            "Epoch 122/300\n",
            "589/589 [==============================] - 2s 4ms/step - loss: 0.0195 - f1: 0.9169 - val_loss: 0.1754 - val_f1: 0.8857\n",
            "Epoch 123/300\n",
            "589/589 [==============================] - 2s 3ms/step - loss: 0.0163 - f1: 0.9156 - val_loss: 0.1342 - val_f1: 0.8955\n",
            "Epoch 124/300\n",
            "589/589 [==============================] - 2s 3ms/step - loss: 0.0128 - f1: 0.9132 - val_loss: 0.2041 - val_f1: 0.8831\n",
            "Epoch 125/300\n",
            "589/589 [==============================] - 2s 3ms/step - loss: 0.0162 - f1: 0.9158 - val_loss: 0.1488 - val_f1: 0.8901\n",
            "Epoch 126/300\n",
            "589/589 [==============================] - 2s 3ms/step - loss: 0.0154 - f1: 0.9152 - val_loss: 0.1452 - val_f1: 0.8871\n",
            "Epoch 127/300\n",
            "589/589 [==============================] - 2s 3ms/step - loss: 0.0137 - f1: 0.9153 - val_loss: 0.1714 - val_f1: 0.8763\n",
            "Epoch 128/300\n",
            "589/589 [==============================] - 2s 3ms/step - loss: 0.0138 - f1: 0.9132 - val_loss: 0.1483 - val_f1: 0.8837\n",
            "Epoch 129/300\n",
            "589/589 [==============================] - 2s 4ms/step - loss: 0.0160 - f1: 0.9134 - val_loss: 0.1816 - val_f1: 0.8816\n",
            "Epoch 130/300\n",
            "589/589 [==============================] - 3s 5ms/step - loss: 0.0141 - f1: 0.9136 - val_loss: 0.1710 - val_f1: 0.8817\n",
            "Epoch 131/300\n",
            "589/589 [==============================] - 2s 3ms/step - loss: 0.0130 - f1: 0.9115 - val_loss: 0.1571 - val_f1: 0.9054\n",
            "Epoch 132/300\n",
            "589/589 [==============================] - 2s 4ms/step - loss: 0.0133 - f1: 0.9115 - val_loss: 0.1597 - val_f1: 0.8878\n",
            "Epoch 133/300\n",
            "589/589 [==============================] - 2s 3ms/step - loss: 0.0162 - f1: 0.9127 - val_loss: 0.1671 - val_f1: 0.8985\n",
            "Epoch 134/300\n",
            "589/589 [==============================] - 2s 3ms/step - loss: 0.0126 - f1: 0.9106 - val_loss: 0.3943 - val_f1: 0.9108\n",
            "Epoch 135/300\n",
            "589/589 [==============================] - 2s 4ms/step - loss: 0.0133 - f1: 0.9140 - val_loss: 0.1996 - val_f1: 0.8788\n",
            "Epoch 136/300\n",
            "589/589 [==============================] - 2s 4ms/step - loss: 0.0158 - f1: 0.9131 - val_loss: 0.1533 - val_f1: 0.8898\n",
            "Epoch 137/300\n",
            "589/589 [==============================] - 2s 3ms/step - loss: 0.0106 - f1: 0.9112 - val_loss: 0.1755 - val_f1: 0.8793\n",
            "Epoch 138/300\n",
            "589/589 [==============================] - 2s 3ms/step - loss: 0.0120 - f1: 0.9121 - val_loss: 0.2209 - val_f1: 0.8878\n",
            "Epoch 139/300\n",
            "589/589 [==============================] - 2s 3ms/step - loss: 0.0096 - f1: 0.9105 - val_loss: 0.1673 - val_f1: 0.8756\n",
            "Epoch 140/300\n",
            "589/589 [==============================] - 2s 3ms/step - loss: 0.0183 - f1: 0.9168 - val_loss: 0.1497 - val_f1: 0.8898\n",
            "Epoch 141/300\n",
            "589/589 [==============================] - 2s 4ms/step - loss: 0.0142 - f1: 0.9138 - val_loss: 0.1754 - val_f1: 0.8829\n",
            "Epoch 142/300\n",
            "589/589 [==============================] - 2s 3ms/step - loss: 0.0138 - f1: 0.9121 - val_loss: 0.1659 - val_f1: 0.8837\n",
            "Epoch 143/300\n",
            "589/589 [==============================] - 2s 4ms/step - loss: 0.0093 - f1: 0.9115 - val_loss: 0.1554 - val_f1: 0.8912\n",
            "Epoch 144/300\n",
            "589/589 [==============================] - 2s 3ms/step - loss: 0.0128 - f1: 0.9141 - val_loss: 0.1769 - val_f1: 0.8835\n",
            "Epoch 145/300\n",
            "589/589 [==============================] - 2s 3ms/step - loss: 0.0146 - f1: 0.9143 - val_loss: 0.1648 - val_f1: 0.8946\n",
            "Epoch 146/300\n",
            "589/589 [==============================] - 2s 3ms/step - loss: 0.0225 - f1: 0.9213 - val_loss: 0.1628 - val_f1: 0.8844\n",
            "Epoch 147/300\n",
            "589/589 [==============================] - 2s 3ms/step - loss: 0.0093 - f1: 0.9141 - val_loss: 0.1599 - val_f1: 0.8851\n",
            "Epoch 148/300\n",
            "589/589 [==============================] - 2s 3ms/step - loss: 0.0125 - f1: 0.9119 - val_loss: 0.1992 - val_f1: 0.8756\n",
            "Epoch 149/300\n",
            "589/589 [==============================] - 2s 3ms/step - loss: 0.0123 - f1: 0.9116 - val_loss: 0.1839 - val_f1: 0.8822\n",
            "Epoch 150/300\n",
            "589/589 [==============================] - 2s 4ms/step - loss: 0.0133 - f1: 0.9122 - val_loss: 0.1717 - val_f1: 0.8979\n",
            "Epoch 151/300\n",
            "589/589 [==============================] - 2s 3ms/step - loss: 0.0080 - f1: 0.9093 - val_loss: 0.1970 - val_f1: 0.8862\n",
            "Epoch 152/300\n",
            "589/589 [==============================] - 2s 3ms/step - loss: 0.0121 - f1: 0.9088 - val_loss: 0.2003 - val_f1: 0.8810\n",
            "Epoch 153/300\n",
            "589/589 [==============================] - 2s 3ms/step - loss: 0.0128 - f1: 0.9107 - val_loss: 0.2012 - val_f1: 0.8750\n",
            "Epoch 154/300\n",
            "589/589 [==============================] - 2s 3ms/step - loss: 0.0111 - f1: 0.9116 - val_loss: 0.1632 - val_f1: 0.8797\n",
            "Epoch 155/300\n",
            "589/589 [==============================] - 2s 3ms/step - loss: 0.0099 - f1: 0.9104 - val_loss: 0.2099 - val_f1: 0.8831\n",
            "Epoch 156/300\n",
            "589/589 [==============================] - 2s 3ms/step - loss: 0.0093 - f1: 0.9133 - val_loss: 0.2063 - val_f1: 0.8797\n",
            "Epoch 157/300\n",
            "589/589 [==============================] - 2s 4ms/step - loss: 0.0127 - f1: 0.9105 - val_loss: 0.2186 - val_f1: 0.8975\n",
            "Epoch 158/300\n",
            "589/589 [==============================] - 2s 4ms/step - loss: 0.0140 - f1: 0.9134 - val_loss: 0.1539 - val_f1: 0.8923\n",
            "Epoch 159/300\n",
            "589/589 [==============================] - 2s 3ms/step - loss: 0.0096 - f1: 0.9109 - val_loss: 0.1652 - val_f1: 0.8772\n",
            "Epoch 160/300\n",
            "589/589 [==============================] - 2s 3ms/step - loss: 0.0106 - f1: 0.9109 - val_loss: 0.1940 - val_f1: 0.8770\n",
            "Epoch 161/300\n",
            "589/589 [==============================] - 2s 3ms/step - loss: 0.0091 - f1: 0.9088 - val_loss: 0.1694 - val_f1: 0.8782\n",
            "Epoch 162/300\n",
            "589/589 [==============================] - 2s 3ms/step - loss: 0.0145 - f1: 0.9120 - val_loss: 0.2977 - val_f1: 0.8858\n",
            "Epoch 163/300\n",
            "589/589 [==============================] - 2s 3ms/step - loss: 0.0310 - f1: 0.9146 - val_loss: 0.1329 - val_f1: 0.8988\n",
            "Epoch 164/300\n",
            "589/589 [==============================] - 2s 4ms/step - loss: 0.0082 - f1: 0.9107 - val_loss: 0.1674 - val_f1: 0.8814\n",
            "Epoch 165/300\n",
            "589/589 [==============================] - 2s 4ms/step - loss: 0.0052 - f1: 0.9044 - val_loss: 0.1789 - val_f1: 0.8795\n",
            "Epoch 166/300\n",
            "589/589 [==============================] - 2s 3ms/step - loss: 0.0094 - f1: 0.9087 - val_loss: 0.1677 - val_f1: 0.8810\n",
            "Epoch 167/300\n",
            "589/589 [==============================] - 2s 3ms/step - loss: 0.0130 - f1: 0.9113 - val_loss: 0.1757 - val_f1: 0.8781\n",
            "Epoch 168/300\n",
            "589/589 [==============================] - 2s 3ms/step - loss: 0.0147 - f1: 0.9140 - val_loss: 0.1771 - val_f1: 0.8834\n",
            "Epoch 169/300\n",
            "589/589 [==============================] - 2s 3ms/step - loss: 0.0061 - f1: 0.9085 - val_loss: 0.1778 - val_f1: 0.8773\n",
            "Epoch 170/300\n",
            "589/589 [==============================] - 2s 3ms/step - loss: 0.0030 - f1: 0.9052 - val_loss: 0.1894 - val_f1: 0.8808\n",
            "Epoch 171/300\n",
            "589/589 [==============================] - 2s 3ms/step - loss: 0.0127 - f1: 0.9093 - val_loss: 0.1662 - val_f1: 0.8905\n",
            "Epoch 172/300\n",
            "589/589 [==============================] - 2s 4ms/step - loss: 0.0085 - f1: 0.9088 - val_loss: 0.1655 - val_f1: 0.8763\n",
            "Epoch 173/300\n",
            "589/589 [==============================] - 2s 3ms/step - loss: 0.0116 - f1: 0.9093 - val_loss: 0.2055 - val_f1: 0.8783\n",
            "Epoch 174/300\n",
            "589/589 [==============================] - 2s 3ms/step - loss: 0.0109 - f1: 0.9090 - val_loss: 0.1485 - val_f1: 0.8790\n",
            "Epoch 175/300\n",
            "589/589 [==============================] - 2s 3ms/step - loss: 0.0079 - f1: 0.9076 - val_loss: 0.1972 - val_f1: 0.8720\n",
            "Epoch 176/300\n",
            "589/589 [==============================] - 2s 3ms/step - loss: 0.0127 - f1: 0.9109 - val_loss: 0.1738 - val_f1: 0.8810\n",
            "Epoch 177/300\n",
            "589/589 [==============================] - 2s 3ms/step - loss: 0.0097 - f1: 0.9100 - val_loss: 0.1952 - val_f1: 0.8794\n",
            "Epoch 178/300\n",
            "589/589 [==============================] - 2s 3ms/step - loss: 0.0169 - f1: 0.9113 - val_loss: 0.1904 - val_f1: 0.8966\n",
            "Epoch 179/300\n",
            "589/589 [==============================] - 2s 4ms/step - loss: 0.0052 - f1: 0.9082 - val_loss: 0.1789 - val_f1: 0.8736\n",
            "Epoch 180/300\n",
            "589/589 [==============================] - 2s 4ms/step - loss: 0.0054 - f1: 0.9038 - val_loss: 0.1976 - val_f1: 0.8756\n",
            "Epoch 181/300\n",
            "589/589 [==============================] - 2s 3ms/step - loss: 0.0064 - f1: 0.9066 - val_loss: 0.2089 - val_f1: 0.8741\n",
            "Epoch 182/300\n",
            "589/589 [==============================] - 2s 3ms/step - loss: 0.0020 - f1: 0.9045 - val_loss: 0.2108 - val_f1: 0.8721\n",
            "Epoch 183/300\n",
            "589/589 [==============================] - 2s 3ms/step - loss: 0.0140 - f1: 0.9067 - val_loss: 0.1874 - val_f1: 0.8912\n",
            "Epoch 184/300\n",
            "589/589 [==============================] - 2s 3ms/step - loss: 0.0101 - f1: 0.9111 - val_loss: 0.2003 - val_f1: 0.8790\n",
            "Epoch 185/300\n",
            "589/589 [==============================] - 2s 3ms/step - loss: 0.0116 - f1: 0.9075 - val_loss: 0.1705 - val_f1: 0.8851\n",
            "Epoch 186/300\n",
            "589/589 [==============================] - 2s 4ms/step - loss: 0.0047 - f1: 0.9069 - val_loss: 0.1965 - val_f1: 0.8756\n",
            "Epoch 187/300\n",
            "589/589 [==============================] - 2s 4ms/step - loss: 0.0065 - f1: 0.9054 - val_loss: 0.1804 - val_f1: 0.8822\n",
            "Epoch 188/300\n",
            "589/589 [==============================] - 2s 3ms/step - loss: 0.0087 - f1: 0.9081 - val_loss: 0.1861 - val_f1: 0.8770\n",
            "Epoch 189/300\n",
            "589/589 [==============================] - 2s 3ms/step - loss: 0.0067 - f1: 0.9077 - val_loss: 0.1789 - val_f1: 0.8835\n",
            "Epoch 190/300\n",
            "589/589 [==============================] - 2s 3ms/step - loss: 0.0060 - f1: 0.9055 - val_loss: 0.1715 - val_f1: 0.8763\n",
            "Epoch 191/300\n",
            "589/589 [==============================] - 2s 3ms/step - loss: 0.0048 - f1: 0.9062 - val_loss: 0.2205 - val_f1: 0.8734\n",
            "Epoch 192/300\n",
            "589/589 [==============================] - 2s 3ms/step - loss: 0.0073 - f1: 0.9069 - val_loss: 0.1927 - val_f1: 0.8776\n",
            "Epoch 193/300\n",
            "589/589 [==============================] - 2s 3ms/step - loss: 0.0014 - f1: 0.9041 - val_loss: 0.2335 - val_f1: 0.8754\n",
            "Epoch 194/300\n",
            "589/589 [==============================] - 3s 4ms/step - loss: 0.0222 - f1: 0.9107 - val_loss: 0.1708 - val_f1: 0.8912\n",
            "Epoch 195/300\n",
            "589/589 [==============================] - 2s 3ms/step - loss: 0.0173 - f1: 0.9096 - val_loss: 0.1797 - val_f1: 0.8831\n",
            "Epoch 196/300\n",
            "589/589 [==============================] - 2s 3ms/step - loss: 0.0104 - f1: 0.9105 - val_loss: 0.1689 - val_f1: 0.9000\n",
            "Epoch 197/300\n",
            "589/589 [==============================] - 2s 3ms/step - loss: 0.0145 - f1: 0.9105 - val_loss: 0.1598 - val_f1: 0.8831\n",
            "Epoch 198/300\n",
            "589/589 [==============================] - 2s 3ms/step - loss: 0.0146 - f1: 0.9109 - val_loss: 0.2079 - val_f1: 0.8891\n",
            "Epoch 199/300\n",
            "589/589 [==============================] - 2s 3ms/step - loss: 0.0041 - f1: 0.9064 - val_loss: 0.1973 - val_f1: 0.8758\n",
            "Epoch 200/300\n",
            "589/589 [==============================] - 2s 3ms/step - loss: 0.0101 - f1: 0.9081 - val_loss: 0.1927 - val_f1: 0.8790\n",
            "Epoch 201/300\n",
            "589/589 [==============================] - 2s 4ms/step - loss: 0.0068 - f1: 0.9082 - val_loss: 0.2050 - val_f1: 0.8802\n",
            "Epoch 202/300\n",
            "589/589 [==============================] - 2s 3ms/step - loss: 0.0060 - f1: 0.9085 - val_loss: 0.1969 - val_f1: 0.8774\n",
            "Epoch 203/300\n",
            "589/589 [==============================] - 2s 3ms/step - loss: 0.0144 - f1: 0.9137 - val_loss: 0.1674 - val_f1: 0.8943\n",
            "Epoch 204/300\n",
            "589/589 [==============================] - 2s 3ms/step - loss: 0.0041 - f1: 0.9058 - val_loss: 0.2009 - val_f1: 0.8782\n",
            "Epoch 205/300\n",
            "589/589 [==============================] - 2s 3ms/step - loss: 0.0026 - f1: 0.9041 - val_loss: 0.2006 - val_f1: 0.8721\n",
            "Epoch 206/300\n",
            "589/589 [==============================] - 2s 3ms/step - loss: 0.0048 - f1: 0.9058 - val_loss: 0.2183 - val_f1: 0.8753\n",
            "Epoch 207/300\n",
            "589/589 [==============================] - 2s 3ms/step - loss: 0.0107 - f1: 0.9088 - val_loss: 0.1581 - val_f1: 0.8777\n",
            "Epoch 208/300\n",
            "589/589 [==============================] - 2s 4ms/step - loss: 0.0028 - f1: 0.9051 - val_loss: 0.2053 - val_f1: 0.8729\n",
            "Epoch 209/300\n",
            "589/589 [==============================] - 2s 3ms/step - loss: 0.0081 - f1: 0.9057 - val_loss: 0.1692 - val_f1: 0.8750\n",
            "Epoch 210/300\n",
            "589/589 [==============================] - 2s 3ms/step - loss: 0.0017 - f1: 0.9053 - val_loss: 0.2048 - val_f1: 0.8768\n",
            "Epoch 211/300\n",
            "589/589 [==============================] - 2s 3ms/step - loss: 0.0045 - f1: 0.9049 - val_loss: 0.2588 - val_f1: 0.8869\n",
            "Epoch 212/300\n",
            "589/589 [==============================] - 2s 3ms/step - loss: 0.0048 - f1: 0.9064 - val_loss: 0.2017 - val_f1: 0.8763\n",
            "Epoch 213/300\n",
            "589/589 [==============================] - 2s 3ms/step - loss: 0.0123 - f1: 0.9057 - val_loss: 0.2002 - val_f1: 0.8783\n",
            "Epoch 214/300\n",
            "589/589 [==============================] - 2s 3ms/step - loss: 0.0077 - f1: 0.9065 - val_loss: 0.1951 - val_f1: 0.8756\n",
            "Epoch 215/300\n",
            "589/589 [==============================] - 6s 9ms/step - loss: 0.0126 - f1: 0.9074 - val_loss: 0.1766 - val_f1: 0.8804\n",
            "Epoch 216/300\n",
            "589/589 [==============================] - 5s 8ms/step - loss: 0.0015 - f1: 0.9062 - val_loss: 1.6919 - val_f1: 0.8576\n",
            "Epoch 217/300\n",
            "589/589 [==============================] - 4s 6ms/step - loss: 0.0462 - f1: 0.9224 - val_loss: 0.1966 - val_f1: 0.8885\n",
            "Epoch 218/300\n",
            "589/589 [==============================] - 6s 10ms/step - loss: 0.0206 - f1: 0.9180 - val_loss: 0.1588 - val_f1: 0.8946\n",
            "Epoch 219/300\n",
            "589/589 [==============================] - 4s 6ms/step - loss: 0.0162 - f1: 0.9174 - val_loss: 0.1883 - val_f1: 0.8918\n",
            "Epoch 220/300\n",
            "589/589 [==============================] - 3s 5ms/step - loss: 0.0196 - f1: 0.9179 - val_loss: 0.2010 - val_f1: 0.8918\n",
            "Epoch 221/300\n",
            "589/589 [==============================] - 3s 5ms/step - loss: 0.0248 - f1: 0.9185 - val_loss: 0.1741 - val_f1: 0.8963\n",
            "Epoch 222/300\n",
            "589/589 [==============================] - 4s 6ms/step - loss: 0.0131 - f1: 0.9156 - val_loss: 0.1704 - val_f1: 0.8878\n",
            "Epoch 223/300\n",
            "589/589 [==============================] - 2s 3ms/step - loss: 0.0167 - f1: 0.9148 - val_loss: 0.1588 - val_f1: 0.9065\n",
            "Epoch 224/300\n",
            "589/589 [==============================] - 2s 3ms/step - loss: 0.0112 - f1: 0.9114 - val_loss: 0.1762 - val_f1: 0.8905\n",
            "Epoch 225/300\n",
            "589/589 [==============================] - 2s 3ms/step - loss: 0.0185 - f1: 0.9155 - val_loss: 0.1916 - val_f1: 0.8910\n",
            "Epoch 226/300\n",
            "589/589 [==============================] - 2s 4ms/step - loss: 0.0140 - f1: 0.9103 - val_loss: 0.1448 - val_f1: 0.8905\n",
            "Epoch 227/300\n",
            "589/589 [==============================] - 2s 4ms/step - loss: 0.0117 - f1: 0.9121 - val_loss: 0.1792 - val_f1: 0.8888\n",
            "Epoch 228/300\n",
            "589/589 [==============================] - 2s 4ms/step - loss: 0.0116 - f1: 0.9129 - val_loss: 0.1904 - val_f1: 0.8917\n",
            "Epoch 229/300\n",
            "589/589 [==============================] - 2s 3ms/step - loss: 0.0137 - f1: 0.9125 - val_loss: 0.1575 - val_f1: 0.8880\n",
            "Epoch 230/300\n",
            "589/589 [==============================] - 2s 3ms/step - loss: 0.0116 - f1: 0.9105 - val_loss: 0.2528 - val_f1: 0.8837\n",
            "Epoch 231/300\n",
            "589/589 [==============================] - 2s 3ms/step - loss: 0.0123 - f1: 0.9121 - val_loss: 0.1598 - val_f1: 0.8918\n",
            "Epoch 232/300\n",
            "589/589 [==============================] - 2s 3ms/step - loss: 0.0135 - f1: 0.9141 - val_loss: 0.2000 - val_f1: 0.8862\n",
            "Epoch 233/300\n",
            "589/589 [==============================] - 2s 3ms/step - loss: 0.0187 - f1: 0.9124 - val_loss: 0.2016 - val_f1: 0.8793\n",
            "Epoch 234/300\n",
            "589/589 [==============================] - 2s 3ms/step - loss: 0.0056 - f1: 0.9091 - val_loss: 0.1789 - val_f1: 0.8851\n",
            "Epoch 235/300\n",
            "589/589 [==============================] - 3s 4ms/step - loss: 0.0101 - f1: 0.9082 - val_loss: 0.1984 - val_f1: 0.8817\n",
            "Epoch 236/300\n",
            "589/589 [==============================] - 2s 3ms/step - loss: 0.0107 - f1: 0.9110 - val_loss: 0.1909 - val_f1: 0.8909\n",
            "Epoch 237/300\n",
            "589/589 [==============================] - 2s 3ms/step - loss: 0.0067 - f1: 0.9091 - val_loss: 0.1765 - val_f1: 0.8858\n",
            "Epoch 238/300\n",
            "589/589 [==============================] - 2s 3ms/step - loss: 0.0101 - f1: 0.9104 - val_loss: 0.1757 - val_f1: 0.8834\n",
            "Epoch 239/300\n",
            "589/589 [==============================] - 2s 3ms/step - loss: 0.0201 - f1: 0.9091 - val_loss: 0.1710 - val_f1: 0.8842\n",
            "Epoch 240/300\n",
            "589/589 [==============================] - 2s 3ms/step - loss: 0.0173 - f1: 0.9080 - val_loss: 0.1513 - val_f1: 0.8930\n",
            "Epoch 241/300\n",
            "589/589 [==============================] - 2s 3ms/step - loss: 0.0086 - f1: 0.9095 - val_loss: 0.1591 - val_f1: 0.8895\n",
            "Epoch 242/300\n",
            "589/589 [==============================] - 3s 4ms/step - loss: 0.0115 - f1: 0.9099 - val_loss: 0.1897 - val_f1: 0.8824\n",
            "Epoch 243/300\n",
            "589/589 [==============================] - 2s 3ms/step - loss: 0.0124 - f1: 0.9118 - val_loss: 0.1602 - val_f1: 0.8851\n",
            "Epoch 244/300\n",
            "589/589 [==============================] - 2s 3ms/step - loss: 0.0077 - f1: 0.9063 - val_loss: 0.1505 - val_f1: 0.8864\n",
            "Epoch 245/300\n",
            "589/589 [==============================] - 2s 3ms/step - loss: 0.0092 - f1: 0.9074 - val_loss: 0.1850 - val_f1: 0.8869\n",
            "Epoch 246/300\n",
            "589/589 [==============================] - 2s 3ms/step - loss: 0.0120 - f1: 0.9104 - val_loss: 0.1942 - val_f1: 0.8802\n",
            "Epoch 247/300\n",
            "589/589 [==============================] - 2s 3ms/step - loss: 0.0162 - f1: 0.9121 - val_loss: 0.1513 - val_f1: 0.8931\n",
            "Epoch 248/300\n",
            "589/589 [==============================] - 2s 3ms/step - loss: 0.0308 - f1: 0.9098 - val_loss: 0.9508 - val_f1: 0.9243\n",
            "Epoch 249/300\n",
            "589/589 [==============================] - 2s 4ms/step - loss: 0.0101 - f1: 0.9075 - val_loss: 0.1714 - val_f1: 0.8822\n",
            "Epoch 250/300\n",
            "589/589 [==============================] - 2s 3ms/step - loss: 0.0042 - f1: 0.9071 - val_loss: 0.1793 - val_f1: 0.8743\n",
            "Epoch 251/300\n",
            "589/589 [==============================] - 2s 3ms/step - loss: 0.0130 - f1: 0.9077 - val_loss: 0.1704 - val_f1: 0.8804\n",
            "Epoch 252/300\n",
            "589/589 [==============================] - 2s 3ms/step - loss: 0.0030 - f1: 0.9050 - val_loss: 0.1923 - val_f1: 0.8768\n",
            "Epoch 253/300\n",
            "589/589 [==============================] - 2s 3ms/step - loss: 0.0122 - f1: 0.9092 - val_loss: 0.1712 - val_f1: 0.8863\n",
            "Epoch 254/300\n",
            "589/589 [==============================] - 2s 3ms/step - loss: 0.0094 - f1: 0.9087 - val_loss: 0.1723 - val_f1: 0.8955\n",
            "Epoch 255/300\n",
            "589/589 [==============================] - 2s 3ms/step - loss: 0.0136 - f1: 0.9115 - val_loss: 0.1549 - val_f1: 0.8871\n",
            "Epoch 256/300\n",
            "589/589 [==============================] - 3s 4ms/step - loss: 0.0021 - f1: 0.9038 - val_loss: 0.1728 - val_f1: 0.8804\n",
            "Epoch 257/300\n",
            "589/589 [==============================] - 2s 3ms/step - loss: 0.0120 - f1: 0.9094 - val_loss: 0.2081 - val_f1: 0.8807\n",
            "Epoch 258/300\n",
            "589/589 [==============================] - 2s 3ms/step - loss: 0.0032 - f1: 0.9040 - val_loss: 0.2671 - val_f1: 0.8909\n",
            "Epoch 259/300\n",
            "589/589 [==============================] - 2s 3ms/step - loss: 0.0050 - f1: 0.9066 - val_loss: 0.1776 - val_f1: 0.8799\n",
            "Epoch 260/300\n",
            "589/589 [==============================] - 2s 3ms/step - loss: 0.0054 - f1: 0.9051 - val_loss: 0.1910 - val_f1: 0.8809\n",
            "Epoch 261/300\n",
            "589/589 [==============================] - 2s 3ms/step - loss: 0.0088 - f1: 0.9066 - val_loss: 0.1457 - val_f1: 0.8851\n",
            "Epoch 262/300\n",
            "589/589 [==============================] - 2s 3ms/step - loss: 0.0102 - f1: 0.9102 - val_loss: 0.2174 - val_f1: 0.8816\n",
            "Epoch 263/300\n",
            "589/589 [==============================] - 3s 4ms/step - loss: 0.0090 - f1: 0.9060 - val_loss: 0.2110 - val_f1: 0.8756\n",
            "Epoch 264/300\n",
            "589/589 [==============================] - 2s 3ms/step - loss: 0.0090 - f1: 0.9098 - val_loss: 0.1851 - val_f1: 0.8774\n",
            "Epoch 265/300\n",
            "589/589 [==============================] - 2s 3ms/step - loss: 9.9762e-04 - f1: 0.9027 - val_loss: 0.1749 - val_f1: 0.8750\n",
            "Epoch 266/300\n",
            "589/589 [==============================] - 2s 3ms/step - loss: 7.5079e-04 - f1: 0.9031 - val_loss: 0.1849 - val_f1: 0.8777\n",
            "Epoch 267/300\n",
            "589/589 [==============================] - 2s 3ms/step - loss: 6.5052e-04 - f1: 0.9025 - val_loss: 0.1914 - val_f1: 0.8734\n",
            "Epoch 268/300\n",
            "589/589 [==============================] - 2s 3ms/step - loss: 6.0786e-04 - f1: 0.9028 - val_loss: 0.1933 - val_f1: 0.8761\n",
            "Epoch 269/300\n",
            "589/589 [==============================] - 2s 3ms/step - loss: 5.3834e-04 - f1: 0.9033 - val_loss: 0.1942 - val_f1: 0.8768\n",
            "Epoch 270/300\n",
            "589/589 [==============================] - 3s 4ms/step - loss: 5.3200e-04 - f1: 0.9025 - val_loss: 0.2075 - val_f1: 0.8729\n",
            "Epoch 271/300\n",
            "589/589 [==============================] - 2s 3ms/step - loss: 4.8749e-04 - f1: 0.9023 - val_loss: 0.2046 - val_f1: 0.8736\n",
            "Epoch 272/300\n",
            "589/589 [==============================] - 2s 3ms/step - loss: 4.9593e-04 - f1: 0.9026 - val_loss: 0.2089 - val_f1: 0.8723\n",
            "Epoch 273/300\n",
            "589/589 [==============================] - 2s 3ms/step - loss: 4.3897e-04 - f1: 0.9027 - val_loss: 0.2074 - val_f1: 0.8740\n",
            "Epoch 274/300\n",
            "589/589 [==============================] - 2s 3ms/step - loss: 4.2646e-04 - f1: 0.9007 - val_loss: 0.2113 - val_f1: 0.8729\n",
            "Epoch 275/300\n",
            "589/589 [==============================] - 2s 3ms/step - loss: 4.0603e-04 - f1: 0.9008 - val_loss: 0.2064 - val_f1: 0.8743\n",
            "Epoch 276/300\n",
            "589/589 [==============================] - 2s 3ms/step - loss: 4.1642e-04 - f1: 0.9025 - val_loss: 0.2112 - val_f1: 0.8736\n",
            "Epoch 277/300\n",
            "589/589 [==============================] - 3s 4ms/step - loss: 3.9901e-04 - f1: 0.9031 - val_loss: 0.2149 - val_f1: 0.8729\n",
            "Epoch 278/300\n",
            "589/589 [==============================] - 2s 3ms/step - loss: 3.8542e-04 - f1: 0.9025 - val_loss: 0.2196 - val_f1: 0.8696\n",
            "Epoch 279/300\n",
            "589/589 [==============================] - 2s 3ms/step - loss: 3.7523e-04 - f1: 0.9025 - val_loss: 0.2184 - val_f1: 0.8716\n",
            "Epoch 280/300\n",
            "589/589 [==============================] - 2s 3ms/step - loss: 3.7219e-04 - f1: 0.9025 - val_loss: 0.2205 - val_f1: 0.8696\n",
            "Epoch 281/300\n",
            "589/589 [==============================] - 2s 3ms/step - loss: 3.6383e-04 - f1: 0.9026 - val_loss: 0.2219 - val_f1: 0.8689\n",
            "Epoch 282/300\n",
            "589/589 [==============================] - 2s 3ms/step - loss: 3.5747e-04 - f1: 0.9023 - val_loss: 0.2205 - val_f1: 0.8702\n",
            "Epoch 283/300\n",
            "589/589 [==============================] - 2s 3ms/step - loss: 3.4985e-04 - f1: 0.9028 - val_loss: 0.2223 - val_f1: 0.8682\n",
            "Epoch 284/300\n",
            "589/589 [==============================] - 3s 5ms/step - loss: 3.4242e-04 - f1: 0.9025 - val_loss: 0.2262 - val_f1: 0.8687\n",
            "Epoch 285/300\n",
            "589/589 [==============================] - 2s 3ms/step - loss: 3.3722e-04 - f1: 0.9031 - val_loss: 0.2208 - val_f1: 0.8696\n",
            "Epoch 286/300\n",
            "589/589 [==============================] - 2s 3ms/step - loss: 3.3093e-04 - f1: 0.9021 - val_loss: 0.2252 - val_f1: 0.8693\n",
            "Epoch 287/300\n",
            "589/589 [==============================] - 2s 3ms/step - loss: 3.2313e-04 - f1: 0.9031 - val_loss: 0.2256 - val_f1: 0.8700\n",
            "Epoch 288/300\n",
            "589/589 [==============================] - 2s 3ms/step - loss: 3.2207e-04 - f1: 0.9032 - val_loss: 0.2279 - val_f1: 0.8687\n",
            "Epoch 289/300\n",
            "589/589 [==============================] - 2s 3ms/step - loss: 3.1801e-04 - f1: 0.9030 - val_loss: 0.2265 - val_f1: 0.8693\n",
            "Epoch 290/300\n",
            "589/589 [==============================] - 2s 3ms/step - loss: 3.1255e-04 - f1: 0.9030 - val_loss: 0.2241 - val_f1: 0.8725\n",
            "Epoch 291/300\n",
            "589/589 [==============================] - 3s 5ms/step - loss: 3.0800e-04 - f1: 0.9025 - val_loss: 0.2260 - val_f1: 0.8698\n",
            "Epoch 292/300\n",
            "589/589 [==============================] - 2s 3ms/step - loss: 3.0408e-04 - f1: 0.9025 - val_loss: 0.2277 - val_f1: 0.8704\n",
            "Epoch 293/300\n",
            "589/589 [==============================] - 2s 3ms/step - loss: 2.9830e-04 - f1: 0.9027 - val_loss: 0.2273 - val_f1: 0.8707\n",
            "Epoch 294/300\n",
            "589/589 [==============================] - 2s 3ms/step - loss: 2.9651e-04 - f1: 0.9030 - val_loss: 0.2293 - val_f1: 0.8693\n",
            "Epoch 295/300\n",
            "589/589 [==============================] - 2s 3ms/step - loss: 2.9234e-04 - f1: 0.9024 - val_loss: 0.2277 - val_f1: 0.8707\n",
            "Epoch 296/300\n",
            "589/589 [==============================] - 2s 3ms/step - loss: 2.8833e-04 - f1: 0.9025 - val_loss: 0.2274 - val_f1: 0.8707\n",
            "Epoch 297/300\n",
            "589/589 [==============================] - 2s 3ms/step - loss: 2.8511e-04 - f1: 0.9030 - val_loss: 0.2316 - val_f1: 0.8693\n",
            "Epoch 298/300\n",
            "589/589 [==============================] - 3s 5ms/step - loss: 2.8157e-04 - f1: 0.9031 - val_loss: 0.2321 - val_f1: 0.8687\n",
            "Epoch 299/300\n",
            "589/589 [==============================] - 2s 3ms/step - loss: 2.7890e-04 - f1: 0.9030 - val_loss: 0.2313 - val_f1: 0.8693\n",
            "Epoch 300/300\n",
            "589/589 [==============================] - 2s 3ms/step - loss: 2.7510e-04 - f1: 0.9024 - val_loss: 0.2309 - val_f1: 0.8693\n"
          ]
        },
        {
          "data": {
            "text/plain": [
              "<keras.callbacks.History at 0x7c4b0811f9a0>"
            ]
          },
          "execution_count": 27,
          "metadata": {},
          "output_type": "execute_result"
        }
      ],
      "source": [
        "model1 = KerasClassifier(build_fn=build_model_1)\n",
        "model1.fit(X_train, y_train, validation_split=0.2, epochs=300, batch_size=10)"
      ]
    },
    {
      "cell_type": "code",
      "execution_count": 30,
      "metadata": {
        "colab": {
          "base_uri": "https://localhost:8080/"
        },
        "id": "ZEaNNzacW8eV",
        "outputId": "d92463fa-2413-43f0-e252-a3e2c2a56239"
      },
      "outputs": [
        {
          "name": "stdout",
          "output_type": "stream",
          "text": [
            "93/93 [==============================] - 0s 3ms/step\n",
            "93/93 [==============================] - 0s 2ms/step\n",
            "Accuracy 0.9372242958941296\n",
            "F1-score [0.93398058 0.92946058 0.93532338 0.91648822 0.92902066 0.97616778]\n",
            "              precision    recall  f1-score   support\n",
            "\n",
            "           1       0.90      0.97      0.93       496\n",
            "           2       0.91      0.95      0.93       471\n",
            "           3       0.98      0.90      0.94       420\n",
            "           4       0.97      0.87      0.92       491\n",
            "           5       0.89      0.97      0.93       532\n",
            "           6       1.00      0.95      0.98       537\n",
            "\n",
            "    accuracy                           0.94      2947\n",
            "   macro avg       0.94      0.94      0.94      2947\n",
            "weighted avg       0.94      0.94      0.94      2947\n",
            "\n"
          ]
        }
      ],
      "source": [
        "#model1 = KerasClassifier(build_fn=build_model_1)\n",
        "#model1.fit(X_train, y_train, validation_split=0.2, epochs=300, batch_size=10)\n",
        "\n",
        "y_pred = model1.predict(X_test).astype(int)\n",
        "\n",
        "y_scores = model1.predict_proba(X_test)\n",
        "\n",
        "print('Accuracy %s' % accuracy_score(y_test, y_pred))\n",
        "\n",
        "print('F1-score %s' % f1_score(y_test, y_pred, average=None))\n",
        "\n",
        "print(classification_report(y_test, y_pred))"
      ]
    },
    {
      "cell_type": "code",
      "execution_count": 54,
      "metadata": {
        "colab": {
          "base_uri": "https://localhost:8080/",
          "height": 897
        },
        "id": "Vnl1FoOAYKM4",
        "outputId": "80acc14b-f57a-4496-ec58-0d86ffd1e253"
      },
      "outputs": [
        {
          "data": {
            "application/pdf": "[encoded data removed]",
            "image/png": "[encoded data removed]",
            "text/plain": [
              "<Figure size 640x480 with 1 Axes>"
            ]
          },
          "metadata": {},
          "output_type": "display_data"
        },
        {
          "data": {
            "application/pdf": "[encoded data removed]",
            "image/png": "[encoded data removed]",
            "text/plain": [
              "<Figure size 640x480 with 1 Axes>"
            ]
          },
          "metadata": {},
          "output_type": "display_data"
        }
      ],
      "source": [
        "plt.plot(history1['loss'])\n",
        "plt.xlabel('Epochs')\n",
        "plt.ylabel('Loss')\n",
        "plt.show()\n",
        "plt.plot(history1['val_loss'])\n",
        "plt.xlabel('Epochs')\n",
        "plt.ylabel('Val_loss')\n",
        "plt.show()"
      ]
    },
    {
      "cell_type": "code",
      "execution_count": 41,
      "metadata": {
        "colab": {
          "base_uri": "https://localhost:8080/",
          "height": 182
        },
        "id": "9rGBh2tIZI63",
        "outputId": "29710253-5337-4fec-89d0-f5c832819900"
      },
      "outputs": [
        {
          "ename": "AttributeError",
          "evalue": "ignored",
          "output_type": "error",
          "traceback": [
            "\u001b[0;31m---------------------------------------------------------------------------\u001b[0m",
            "\u001b[0;31mAttributeError\u001b[0m                            Traceback (most recent call last)",
            "\u001b[0;32m<ipython-input-41-73c5e1327121>\u001b[0m in \u001b[0;36m<cell line: 1>\u001b[0;34m()\u001b[0m\n\u001b[0;32m----> 1\u001b[0;31m \u001b[0mtest_loss_1\u001b[0m\u001b[0;34m,\u001b[0m \u001b[0mtest_acc_1\u001b[0m \u001b[0;34m=\u001b[0m \u001b[0mmodel1\u001b[0m\u001b[0;34m.\u001b[0m\u001b[0mevaluate\u001b[0m\u001b[0;34m(\u001b[0m\u001b[0mX_test\u001b[0m\u001b[0;34m,\u001b[0m \u001b[0my_test\u001b[0m\u001b[0;34m)\u001b[0m\u001b[0;34m\u001b[0m\u001b[0;34m\u001b[0m\u001b[0m\n\u001b[0m\u001b[1;32m      2\u001b[0m \u001b[0mprint\u001b[0m\u001b[0;34m(\u001b[0m\u001b[0;34m'Loss %f, Accuracy %f'\u001b[0m \u001b[0;34m%\u001b[0m \u001b[0;34m(\u001b[0m\u001b[0mtest_loss_1\u001b[0m\u001b[0;34m,\u001b[0m \u001b[0mtest_acc_1\u001b[0m\u001b[0;34m)\u001b[0m\u001b[0;34m)\u001b[0m\u001b[0;34m\u001b[0m\u001b[0;34m\u001b[0m\u001b[0m\n",
            "\u001b[0;31mAttributeError\u001b[0m: 'KerasClassifier' object has no attribute 'evaluate'"
          ]
        }
      ],
      "source": [
        "test_loss_1, test_acc_1 = model1.evaluate(X_test, y_test)\n",
        "print('Loss %f, Accuracy %f' % (test_loss_1, test_acc_1))"
      ]
    },
    {
      "cell_type": "code",
      "execution_count": 55,
      "metadata": {
        "colab": {
          "base_uri": "https://localhost:8080/",
          "height": 457
        },
        "id": "2Nkkq2HFV1XD",
        "outputId": "d007ced9-32da-4e06-cbce-39a957e487a6"
      },
      "outputs": [
        {
          "data": {
            "application/pdf": "[encoded data removed]",
            "image/png": "[encoded data removed]",
            "text/plain": [
              "<Figure size 640x480 with 1 Axes>"
            ]
          },
          "metadata": {},
          "output_type": "display_data"
        }
      ],
      "source": [
        "#history = clf.history_\n",
        "plt.plot(history1['loss'], label='Train')\n",
        "plt.plot(history1['val_loss'], label='Val')\n",
        "plt.xlabel('Epochs')\n",
        "plt.ylabel('Loss')\n",
        "plt.legend()\n",
        "plt.show()"
      ]
    },
    {
      "cell_type": "code",
      "execution_count": null,
      "metadata": {
        "id": "NN7zpFInV1gm"
      },
      "outputs": [],
      "source": []
    },
    {
      "cell_type": "markdown",
      "metadata": {
        "id": "58gz_zfcaMql"
      },
      "source": [
        "## MODEL 2"
      ]
    },
    {
      "cell_type": "code",
      "execution_count": null,
      "metadata": {
        "colab": {
          "base_uri": "https://localhost:8080/",
          "height": 1000
        },
        "id": "Kv7Lg4V3QuiC",
        "outputId": "3ff94776-e5aa-4ffd-e540-efe7dbf18c96"
      },
      "outputs": [],
      "source": [
        "model2 = build_model_2()\n",
        "history2 = model2.fit(X_train, y_train, validation_data=(X_test, y_test), epochs=150, batch_size=50).history\n"
      ]
    },
    {
      "cell_type": "code",
      "execution_count": 47,
      "metadata": {
        "colab": {
          "base_uri": "https://localhost:8080/"
        },
        "id": "C6jK6ArOaF7O",
        "outputId": "3645057b-9cb9-485b-dd86-1e04478f8ffe"
      },
      "outputs": [
        {
          "name": "stderr",
          "output_type": "stream",
          "text": [
            "<ipython-input-47-8df8d6868eaf>:1: DeprecationWarning: KerasClassifier is deprecated, use Sci-Keras (https://github.com/adriangb/scikeras) instead. See https://www.adriangb.com/scikeras/stable/migration.html for help migrating.\n",
            "  model2 = KerasClassifier(build_fn=build_model_2)\n"
          ]
        },
        {
          "name": "stdout",
          "output_type": "stream",
          "text": [
            "Epoch 1/150\n",
            "118/118 [==============================] - 3s 17ms/step - loss: 1.3585 - f1: 4.6768 - val_loss: 0.9855 - val_f1: 4.3567\n",
            "Epoch 2/150\n",
            "118/118 [==============================] - 2s 14ms/step - loss: 0.8235 - f1: 2.8636 - val_loss: 0.6371 - val_f1: 1.7561\n",
            "Epoch 3/150\n",
            "118/118 [==============================] - 1s 5ms/step - loss: 0.5727 - f1: 1.5730 - val_loss: 0.5439 - val_f1: 1.4531\n",
            "Epoch 4/150\n",
            "118/118 [==============================] - 0s 4ms/step - loss: 0.4543 - f1: 1.3979 - val_loss: 0.3602 - val_f1: 1.3780\n",
            "Epoch 5/150\n",
            "118/118 [==============================] - 0s 4ms/step - loss: 0.3851 - f1: 1.3316 - val_loss: 0.3186 - val_f1: 1.2823\n",
            "Epoch 6/150\n",
            "118/118 [==============================] - 0s 4ms/step - loss: 0.3355 - f1: 1.2864 - val_loss: 0.2695 - val_f1: 1.2597\n",
            "Epoch 7/150\n",
            "118/118 [==============================] - 0s 4ms/step - loss: 0.3246 - f1: 1.2657 - val_loss: 0.3730 - val_f1: 1.1319\n",
            "Epoch 8/150\n",
            "118/118 [==============================] - 0s 4ms/step - loss: 0.2875 - f1: 1.2250 - val_loss: 0.4407 - val_f1: 1.1652\n",
            "Epoch 9/150\n",
            "118/118 [==============================] - 0s 4ms/step - loss: 0.2498 - f1: 1.1868 - val_loss: 1.0376 - val_f1: 1.1250\n",
            "Epoch 10/150\n",
            "118/118 [==============================] - 0s 4ms/step - loss: 0.2384 - f1: 1.1550 - val_loss: 0.2189 - val_f1: 1.1256\n",
            "Epoch 11/150\n",
            "118/118 [==============================] - 0s 4ms/step - loss: 0.2234 - f1: 1.1475 - val_loss: 0.1781 - val_f1: 1.0941\n",
            "Epoch 12/150\n",
            "118/118 [==============================] - 0s 4ms/step - loss: 0.2017 - f1: 1.1211 - val_loss: 0.2091 - val_f1: 1.0872\n",
            "Epoch 13/150\n",
            "118/118 [==============================] - 1s 4ms/step - loss: 0.1999 - f1: 1.1151 - val_loss: 0.1873 - val_f1: 1.0758\n",
            "Epoch 14/150\n",
            "118/118 [==============================] - 1s 5ms/step - loss: 0.1819 - f1: 1.1050 - val_loss: 0.2195 - val_f1: 1.0751\n",
            "Epoch 15/150\n",
            "118/118 [==============================] - 0s 4ms/step - loss: 0.2233 - f1: 1.1056 - val_loss: 0.1815 - val_f1: 1.0780\n",
            "Epoch 16/150\n",
            "118/118 [==============================] - 0s 4ms/step - loss: 0.1709 - f1: 1.0720 - val_loss: 0.3246 - val_f1: 1.0510\n",
            "Epoch 17/150\n",
            "118/118 [==============================] - 1s 5ms/step - loss: 0.1491 - f1: 1.0773 - val_loss: 0.1862 - val_f1: 1.0447\n",
            "Epoch 18/150\n",
            "118/118 [==============================] - 0s 4ms/step - loss: 0.1535 - f1: 1.0574 - val_loss: 0.1419 - val_f1: 1.0264\n",
            "Epoch 19/150\n",
            "118/118 [==============================] - 0s 4ms/step - loss: 0.1370 - f1: 1.0524 - val_loss: 0.1674 - val_f1: 1.0410\n",
            "Epoch 20/150\n",
            "118/118 [==============================] - 0s 4ms/step - loss: 0.1361 - f1: 1.0388 - val_loss: 0.1325 - val_f1: 1.0241\n",
            "Epoch 21/150\n",
            "118/118 [==============================] - 0s 4ms/step - loss: 0.1241 - f1: 1.0314 - val_loss: 0.1502 - val_f1: 1.0227\n",
            "Epoch 22/150\n",
            "118/118 [==============================] - 0s 4ms/step - loss: 0.1724 - f1: 1.0496 - val_loss: 0.1637 - val_f1: 1.0365\n",
            "Epoch 23/150\n",
            "118/118 [==============================] - 1s 5ms/step - loss: 0.1217 - f1: 1.0247 - val_loss: 0.2517 - val_f1: 1.0326\n",
            "Epoch 24/150\n",
            "118/118 [==============================] - 1s 6ms/step - loss: 0.1222 - f1: 1.0217 - val_loss: 0.2948 - val_f1: 1.0331\n",
            "Epoch 25/150\n",
            "118/118 [==============================] - 1s 6ms/step - loss: 0.1172 - f1: 1.0175 - val_loss: 0.1512 - val_f1: 1.0354\n",
            "Epoch 26/150\n",
            "118/118 [==============================] - 1s 7ms/step - loss: 0.1144 - f1: 1.0131 - val_loss: 0.1352 - val_f1: 1.0133\n",
            "Epoch 27/150\n",
            "118/118 [==============================] - 1s 6ms/step - loss: 0.1040 - f1: 1.0140 - val_loss: 0.1915 - val_f1: 1.0328\n",
            "Epoch 28/150\n",
            "118/118 [==============================] - 0s 4ms/step - loss: 0.0930 - f1: 1.0062 - val_loss: 0.1156 - val_f1: 0.9999\n",
            "Epoch 29/150\n",
            "118/118 [==============================] - 0s 4ms/step - loss: 0.0937 - f1: 0.9968 - val_loss: 0.1378 - val_f1: 1.0075\n",
            "Epoch 30/150\n",
            "118/118 [==============================] - 0s 4ms/step - loss: 0.0945 - f1: 0.9985 - val_loss: 0.1460 - val_f1: 0.9934\n",
            "Epoch 31/150\n",
            "118/118 [==============================] - 0s 4ms/step - loss: 0.0814 - f1: 0.9950 - val_loss: 0.2469 - val_f1: 1.0169\n",
            "Epoch 32/150\n",
            "118/118 [==============================] - 0s 4ms/step - loss: 0.0808 - f1: 0.9885 - val_loss: 0.1075 - val_f1: 0.9886\n",
            "Epoch 33/150\n",
            "118/118 [==============================] - 0s 4ms/step - loss: 0.0838 - f1: 0.9913 - val_loss: 0.1123 - val_f1: 0.9878\n",
            "Epoch 34/150\n",
            "118/118 [==============================] - 0s 4ms/step - loss: 0.0749 - f1: 0.9836 - val_loss: 0.2131 - val_f1: 1.0038\n",
            "Epoch 35/150\n",
            "118/118 [==============================] - 1s 4ms/step - loss: 0.1016 - f1: 0.9939 - val_loss: 0.1199 - val_f1: 0.9996\n",
            "Epoch 36/150\n",
            "118/118 [==============================] - 1s 5ms/step - loss: 0.0784 - f1: 0.9832 - val_loss: 0.2297 - val_f1: 1.0098\n",
            "Epoch 37/150\n",
            "118/118 [==============================] - 0s 4ms/step - loss: 0.0861 - f1: 0.9829 - val_loss: 0.1133 - val_f1: 1.0089\n",
            "Epoch 38/150\n",
            "118/118 [==============================] - 0s 4ms/step - loss: 0.0684 - f1: 0.9819 - val_loss: 0.1321 - val_f1: 0.9883\n",
            "Epoch 39/150\n",
            "118/118 [==============================] - 1s 4ms/step - loss: 0.0706 - f1: 0.9768 - val_loss: 0.3376 - val_f1: 0.9981\n",
            "Epoch 40/150\n",
            "118/118 [==============================] - 0s 4ms/step - loss: 0.0833 - f1: 0.9797 - val_loss: 0.1994 - val_f1: 0.9927\n",
            "Epoch 41/150\n",
            "118/118 [==============================] - 1s 5ms/step - loss: 0.0642 - f1: 0.9730 - val_loss: 0.1406 - val_f1: 0.9775\n",
            "Epoch 42/150\n",
            "118/118 [==============================] - 1s 5ms/step - loss: 0.0793 - f1: 0.9720 - val_loss: 0.1072 - val_f1: 0.9779\n",
            "Epoch 43/150\n",
            "118/118 [==============================] - 0s 4ms/step - loss: 0.0636 - f1: 0.9701 - val_loss: 0.1682 - val_f1: 0.9759\n",
            "Epoch 44/150\n",
            "118/118 [==============================] - 0s 4ms/step - loss: 0.0602 - f1: 0.9698 - val_loss: 0.1443 - val_f1: 0.9810\n",
            "Epoch 45/150\n",
            "118/118 [==============================] - 0s 4ms/step - loss: 0.0721 - f1: 0.9718 - val_loss: 0.1046 - val_f1: 0.9730\n",
            "Epoch 46/150\n",
            "118/118 [==============================] - 1s 5ms/step - loss: 0.0562 - f1: 0.9654 - val_loss: 0.1023 - val_f1: 0.9705\n",
            "Epoch 47/150\n",
            "118/118 [==============================] - 1s 5ms/step - loss: 0.0670 - f1: 0.9662 - val_loss: 0.2249 - val_f1: 0.9911\n",
            "Epoch 48/150\n",
            "118/118 [==============================] - 1s 7ms/step - loss: 0.0599 - f1: 0.9659 - val_loss: 0.1972 - val_f1: 0.9913\n",
            "Epoch 49/150\n",
            "118/118 [==============================] - 1s 6ms/step - loss: 0.0669 - f1: 0.9659 - val_loss: 0.1086 - val_f1: 0.9756\n",
            "Epoch 50/150\n",
            "118/118 [==============================] - 1s 6ms/step - loss: 0.0546 - f1: 0.9662 - val_loss: 0.1042 - val_f1: 0.9647\n",
            "Epoch 51/150\n",
            "118/118 [==============================] - 1s 5ms/step - loss: 0.0732 - f1: 0.9645 - val_loss: 0.1026 - val_f1: 0.9767\n",
            "Epoch 52/150\n",
            "118/118 [==============================] - 0s 4ms/step - loss: 0.0588 - f1: 0.9666 - val_loss: 0.1003 - val_f1: 0.9686\n",
            "Epoch 53/150\n",
            "118/118 [==============================] - 0s 4ms/step - loss: 0.0550 - f1: 0.9612 - val_loss: 0.1438 - val_f1: 0.9710\n",
            "Epoch 54/150\n",
            "118/118 [==============================] - 0s 4ms/step - loss: 0.0524 - f1: 0.9602 - val_loss: 0.1274 - val_f1: 0.9695\n",
            "Epoch 55/150\n",
            "118/118 [==============================] - 0s 4ms/step - loss: 0.0617 - f1: 0.9617 - val_loss: 0.0963 - val_f1: 0.9667\n",
            "Epoch 56/150\n",
            "118/118 [==============================] - 0s 4ms/step - loss: 0.0538 - f1: 0.9603 - val_loss: 0.1043 - val_f1: 0.9678\n",
            "Epoch 57/150\n",
            "118/118 [==============================] - 0s 4ms/step - loss: 0.0561 - f1: 0.9591 - val_loss: 0.1042 - val_f1: 0.9665\n",
            "Epoch 58/150\n",
            "118/118 [==============================] - 1s 5ms/step - loss: 0.0546 - f1: 0.9562 - val_loss: 0.1067 - val_f1: 0.9694\n",
            "Epoch 59/150\n",
            "118/118 [==============================] - 0s 4ms/step - loss: 0.0573 - f1: 0.9584 - val_loss: 0.5471 - val_f1: 0.9690\n",
            "Epoch 60/150\n",
            "118/118 [==============================] - 0s 4ms/step - loss: 0.0642 - f1: 0.9631 - val_loss: 0.1649 - val_f1: 0.9738\n",
            "Epoch 61/150\n",
            "118/118 [==============================] - 0s 4ms/step - loss: 0.0544 - f1: 0.9622 - val_loss: 0.1177 - val_f1: 0.9688\n",
            "Epoch 62/150\n",
            "118/118 [==============================] - 0s 4ms/step - loss: 0.0487 - f1: 0.9568 - val_loss: 0.1099 - val_f1: 0.9644\n",
            "Epoch 63/150\n",
            "118/118 [==============================] - 0s 4ms/step - loss: 0.0506 - f1: 0.9526 - val_loss: 0.1178 - val_f1: 0.9651\n",
            "Epoch 64/150\n",
            "118/118 [==============================] - 0s 4ms/step - loss: 0.0495 - f1: 0.9532 - val_loss: 0.1183 - val_f1: 0.9639\n",
            "Epoch 65/150\n",
            "118/118 [==============================] - 1s 5ms/step - loss: 0.0532 - f1: 0.9536 - val_loss: 0.1087 - val_f1: 0.9644\n",
            "Epoch 66/150\n",
            "118/118 [==============================] - 0s 4ms/step - loss: 0.0522 - f1: 0.9501 - val_loss: 0.1459 - val_f1: 0.9823\n",
            "Epoch 67/150\n",
            "118/118 [==============================] - 0s 4ms/step - loss: 0.0477 - f1: 0.9528 - val_loss: 0.1152 - val_f1: 0.9630\n",
            "Epoch 68/150\n",
            "118/118 [==============================] - 1s 8ms/step - loss: 0.0613 - f1: 0.9571 - val_loss: 0.1202 - val_f1: 0.9663\n",
            "Epoch 69/150\n",
            "118/118 [==============================] - 1s 5ms/step - loss: 0.0461 - f1: 0.9581 - val_loss: 0.1026 - val_f1: 0.9611\n",
            "Epoch 70/150\n",
            "118/118 [==============================] - 1s 6ms/step - loss: 0.0482 - f1: 0.9549 - val_loss: 0.1022 - val_f1: 0.9639\n",
            "Epoch 71/150\n",
            "118/118 [==============================] - 1s 7ms/step - loss: 0.0473 - f1: 0.9498 - val_loss: 0.1072 - val_f1: 0.9646\n",
            "Epoch 72/150\n",
            "118/118 [==============================] - 1s 7ms/step - loss: 0.0453 - f1: 0.9494 - val_loss: 0.1475 - val_f1: 0.9625\n",
            "Epoch 73/150\n",
            "118/118 [==============================] - 1s 7ms/step - loss: 0.0559 - f1: 0.9543 - val_loss: 0.1054 - val_f1: 0.9615\n",
            "Epoch 74/150\n",
            "118/118 [==============================] - 1s 4ms/step - loss: 0.0435 - f1: 0.9506 - val_loss: 0.1017 - val_f1: 0.9581\n",
            "Epoch 75/150\n",
            "118/118 [==============================] - 0s 4ms/step - loss: 0.0412 - f1: 0.9492 - val_loss: 0.4535 - val_f1: 0.9808\n",
            "Epoch 76/150\n",
            "118/118 [==============================] - 1s 4ms/step - loss: 0.0490 - f1: 0.9525 - val_loss: 0.1677 - val_f1: 0.9658\n",
            "Epoch 77/150\n",
            "118/118 [==============================] - 0s 4ms/step - loss: 0.0431 - f1: 0.9493 - val_loss: 0.1725 - val_f1: 0.9664\n",
            "Epoch 78/150\n",
            "118/118 [==============================] - 0s 4ms/step - loss: 0.0357 - f1: 0.9451 - val_loss: 0.2747 - val_f1: 0.9681\n",
            "Epoch 79/150\n",
            "118/118 [==============================] - 0s 4ms/step - loss: 0.0537 - f1: 0.9501 - val_loss: 0.1874 - val_f1: 0.9618\n",
            "Epoch 80/150\n",
            "118/118 [==============================] - 0s 4ms/step - loss: 0.0416 - f1: 0.9454 - val_loss: 0.1131 - val_f1: 0.9607\n",
            "Epoch 81/150\n",
            "118/118 [==============================] - 1s 4ms/step - loss: 0.0417 - f1: 0.9474 - val_loss: 0.0978 - val_f1: 0.9543\n",
            "Epoch 82/150\n",
            "118/118 [==============================] - 0s 4ms/step - loss: 0.2023 - f1: 0.9866 - val_loss: 0.1051 - val_f1: 1.0046\n",
            "Epoch 83/150\n",
            "118/118 [==============================] - 0s 4ms/step - loss: 0.0554 - f1: 0.9661 - val_loss: 0.1022 - val_f1: 0.9820\n",
            "Epoch 84/150\n",
            "118/118 [==============================] - 0s 4ms/step - loss: 0.0504 - f1: 0.9608 - val_loss: 0.0967 - val_f1: 0.9612\n",
            "Epoch 85/150\n",
            "118/118 [==============================] - 0s 4ms/step - loss: 0.0500 - f1: 0.9510 - val_loss: 0.1012 - val_f1: 0.9585\n",
            "Epoch 86/150\n",
            "118/118 [==============================] - 0s 4ms/step - loss: 0.0604 - f1: 0.9495 - val_loss: 0.1092 - val_f1: 0.9885\n",
            "Epoch 87/150\n",
            "118/118 [==============================] - 0s 4ms/step - loss: 0.0417 - f1: 0.9476 - val_loss: 0.1183 - val_f1: 0.9515\n",
            "Epoch 88/150\n",
            "118/118 [==============================] - 0s 4ms/step - loss: 0.0430 - f1: 0.9447 - val_loss: 0.1028 - val_f1: 0.9548\n",
            "Epoch 89/150\n",
            "118/118 [==============================] - 0s 4ms/step - loss: 0.0506 - f1: 0.9498 - val_loss: 0.1160 - val_f1: 0.9522\n",
            "Epoch 90/150\n",
            "118/118 [==============================] - 0s 4ms/step - loss: 0.0385 - f1: 0.9413 - val_loss: 0.1139 - val_f1: 0.9566\n",
            "Epoch 91/150\n",
            "118/118 [==============================] - 0s 4ms/step - loss: 0.0494 - f1: 0.9491 - val_loss: 0.1024 - val_f1: 0.9529\n",
            "Epoch 92/150\n",
            "118/118 [==============================] - 1s 4ms/step - loss: 0.0457 - f1: 0.9471 - val_loss: 0.1256 - val_f1: 0.9598\n",
            "Epoch 93/150\n",
            "118/118 [==============================] - 1s 4ms/step - loss: 0.0515 - f1: 0.9496 - val_loss: 0.1541 - val_f1: 0.9616\n",
            "Epoch 94/150\n",
            "118/118 [==============================] - 1s 6ms/step - loss: 0.0357 - f1: 0.9450 - val_loss: 0.1081 - val_f1: 0.9579\n",
            "Epoch 95/150\n",
            "118/118 [==============================] - 1s 7ms/step - loss: 0.0481 - f1: 0.9497 - val_loss: 0.1770 - val_f1: 0.9603\n",
            "Epoch 96/150\n",
            "118/118 [==============================] - 1s 7ms/step - loss: 0.0438 - f1: 0.9450 - val_loss: 0.1012 - val_f1: 0.9535\n",
            "Epoch 97/150\n",
            "118/118 [==============================] - 1s 7ms/step - loss: 0.0337 - f1: 0.9451 - val_loss: 0.1289 - val_f1: 0.9509\n",
            "Epoch 98/150\n",
            "118/118 [==============================] - 1s 4ms/step - loss: 0.0354 - f1: 0.9432 - val_loss: 0.1053 - val_f1: 0.9520\n",
            "Epoch 99/150\n",
            "118/118 [==============================] - 0s 4ms/step - loss: 0.0384 - f1: 0.9426 - val_loss: 0.1391 - val_f1: 0.9499\n",
            "Epoch 100/150\n",
            "118/118 [==============================] - 0s 4ms/step - loss: 0.0361 - f1: 0.9392 - val_loss: 0.1046 - val_f1: 0.9543\n",
            "Epoch 101/150\n",
            "118/118 [==============================] - 1s 4ms/step - loss: 0.0364 - f1: 0.9452 - val_loss: 0.1098 - val_f1: 0.9505\n",
            "Epoch 102/150\n",
            "118/118 [==============================] - 0s 4ms/step - loss: 0.0313 - f1: 0.9383 - val_loss: 0.1114 - val_f1: 0.9526\n",
            "Epoch 103/150\n",
            "118/118 [==============================] - 0s 4ms/step - loss: 0.0362 - f1: 0.9424 - val_loss: 0.1947 - val_f1: 0.9513\n",
            "Epoch 104/150\n",
            "118/118 [==============================] - 1s 5ms/step - loss: 0.0382 - f1: 0.9438 - val_loss: 0.1060 - val_f1: 0.9487\n",
            "Epoch 105/150\n",
            "118/118 [==============================] - 0s 4ms/step - loss: 0.0389 - f1: 0.9400 - val_loss: 0.2122 - val_f1: 0.9575\n",
            "Epoch 106/150\n",
            "118/118 [==============================] - 0s 4ms/step - loss: 0.0303 - f1: 0.9395 - val_loss: 0.1056 - val_f1: 0.9546\n",
            "Epoch 107/150\n",
            "118/118 [==============================] - 0s 4ms/step - loss: 0.0297 - f1: 0.9378 - val_loss: 0.1756 - val_f1: 0.9500\n",
            "Epoch 108/150\n",
            "118/118 [==============================] - 1s 5ms/step - loss: 0.0401 - f1: 0.9373 - val_loss: 0.1129 - val_f1: 0.9489\n",
            "Epoch 109/150\n",
            "118/118 [==============================] - 0s 4ms/step - loss: 0.0387 - f1: 0.9430 - val_loss: 0.2511 - val_f1: 0.9718\n",
            "Epoch 110/150\n",
            "118/118 [==============================] - 0s 4ms/step - loss: 0.0320 - f1: 0.9387 - val_loss: 0.1037 - val_f1: 0.9521\n",
            "Epoch 111/150\n",
            "118/118 [==============================] - 0s 4ms/step - loss: 0.0301 - f1: 0.9387 - val_loss: 0.1930 - val_f1: 0.9605\n",
            "Epoch 112/150\n",
            "118/118 [==============================] - 0s 4ms/step - loss: 0.0341 - f1: 0.9377 - val_loss: 0.1769 - val_f1: 0.9564\n",
            "Epoch 113/150\n",
            "118/118 [==============================] - 1s 4ms/step - loss: 0.0303 - f1: 0.9406 - val_loss: 0.2355 - val_f1: 0.9612\n",
            "Epoch 114/150\n",
            "118/118 [==============================] - 1s 8ms/step - loss: 0.0541 - f1: 0.9439 - val_loss: 0.1618 - val_f1: 0.9571\n",
            "Epoch 115/150\n",
            "118/118 [==============================] - 1s 5ms/step - loss: 0.0309 - f1: 0.9403 - val_loss: 0.1006 - val_f1: 0.9481\n",
            "Epoch 116/150\n",
            "118/118 [==============================] - 2s 15ms/step - loss: 0.0408 - f1: 0.9387 - val_loss: 0.2440 - val_f1: 0.9738\n",
            "Epoch 117/150\n",
            "118/118 [==============================] - 1s 6ms/step - loss: 0.0306 - f1: 0.9368 - val_loss: 0.1691 - val_f1: 0.9567\n",
            "Epoch 118/150\n",
            "118/118 [==============================] - 1s 6ms/step - loss: 0.0582 - f1: 0.9451 - val_loss: 0.1305 - val_f1: 0.9515\n",
            "Epoch 119/150\n",
            "118/118 [==============================] - 1s 5ms/step - loss: 0.0274 - f1: 0.9345 - val_loss: 0.1422 - val_f1: 0.9572\n",
            "Epoch 120/150\n",
            "118/118 [==============================] - 1s 4ms/step - loss: 0.0260 - f1: 0.9327 - val_loss: 0.1043 - val_f1: 0.9465\n",
            "Epoch 121/150\n",
            "118/118 [==============================] - 1s 4ms/step - loss: 0.0471 - f1: 0.9428 - val_loss: 0.1038 - val_f1: 0.9525\n",
            "Epoch 122/150\n",
            "118/118 [==============================] - 0s 4ms/step - loss: 0.0286 - f1: 0.9374 - val_loss: 0.1077 - val_f1: 0.9478\n",
            "Epoch 123/150\n",
            "118/118 [==============================] - 1s 5ms/step - loss: 0.0243 - f1: 0.9341 - val_loss: 0.1143 - val_f1: 0.9450\n",
            "Epoch 124/150\n",
            "118/118 [==============================] - 0s 4ms/step - loss: 0.0259 - f1: 0.9357 - val_loss: 0.1050 - val_f1: 0.9444\n",
            "Epoch 125/150\n",
            "118/118 [==============================] - 1s 4ms/step - loss: 0.0378 - f1: 0.9419 - val_loss: 0.1095 - val_f1: 0.9439\n",
            "Epoch 126/150\n",
            "118/118 [==============================] - 0s 4ms/step - loss: 0.0295 - f1: 0.9364 - val_loss: 0.1599 - val_f1: 0.9545\n",
            "Epoch 127/150\n",
            "118/118 [==============================] - 1s 4ms/step - loss: 0.0313 - f1: 0.9360 - val_loss: 0.2421 - val_f1: 0.9645\n",
            "Epoch 128/150\n",
            "118/118 [==============================] - 0s 4ms/step - loss: 0.0328 - f1: 0.9393 - val_loss: 0.1097 - val_f1: 0.9480\n",
            "Epoch 129/150\n",
            "118/118 [==============================] - 0s 4ms/step - loss: 0.0256 - f1: 0.9353 - val_loss: 0.1071 - val_f1: 0.9491\n",
            "Epoch 130/150\n",
            "118/118 [==============================] - 0s 4ms/step - loss: 0.0309 - f1: 0.9353 - val_loss: 0.1050 - val_f1: 0.9425\n",
            "Epoch 131/150\n",
            "118/118 [==============================] - 0s 4ms/step - loss: 0.0253 - f1: 0.9327 - val_loss: 0.1031 - val_f1: 0.9447\n",
            "Epoch 132/150\n",
            "118/118 [==============================] - 1s 4ms/step - loss: 0.0324 - f1: 0.9364 - val_loss: 0.1084 - val_f1: 0.9469\n",
            "Epoch 133/150\n",
            "118/118 [==============================] - 1s 4ms/step - loss: 0.0283 - f1: 0.9355 - val_loss: 0.1054 - val_f1: 0.9453\n",
            "Epoch 134/150\n",
            "118/118 [==============================] - 0s 4ms/step - loss: 0.0261 - f1: 0.9349 - val_loss: 0.3981 - val_f1: 0.9597\n",
            "Epoch 135/150\n",
            "118/118 [==============================] - 0s 4ms/step - loss: 0.0274 - f1: 0.9349 - val_loss: 0.1115 - val_f1: 0.9418\n",
            "Epoch 136/150\n",
            "118/118 [==============================] - 1s 5ms/step - loss: 0.0232 - f1: 0.9291 - val_loss: 0.1093 - val_f1: 0.9427\n",
            "Epoch 137/150\n",
            "118/118 [==============================] - 0s 4ms/step - loss: 0.0310 - f1: 0.9327 - val_loss: 0.1119 - val_f1: 0.9468\n",
            "Epoch 138/150\n",
            "118/118 [==============================] - 1s 5ms/step - loss: 0.0358 - f1: 0.9327 - val_loss: 0.1091 - val_f1: 0.9581\n",
            "Epoch 139/150\n",
            "118/118 [==============================] - 1s 6ms/step - loss: 0.0288 - f1: 0.9350 - val_loss: 0.1232 - val_f1: 0.9538\n",
            "Epoch 140/150\n",
            "118/118 [==============================] - 1s 5ms/step - loss: 0.0215 - f1: 0.9309 - val_loss: 0.1058 - val_f1: 0.9420\n",
            "Epoch 141/150\n",
            "118/118 [==============================] - 1s 6ms/step - loss: 0.0285 - f1: 0.9313 - val_loss: 0.1665 - val_f1: 0.9512\n",
            "Epoch 142/150\n",
            "118/118 [==============================] - 1s 7ms/step - loss: 0.0274 - f1: 0.9340 - val_loss: 0.1470 - val_f1: 0.9467\n",
            "Epoch 143/150\n",
            "118/118 [==============================] - 1s 4ms/step - loss: 0.0222 - f1: 0.9339 - val_loss: 0.1247 - val_f1: 0.9453\n",
            "Epoch 144/150\n",
            "118/118 [==============================] - 0s 4ms/step - loss: 0.0259 - f1: 0.9307 - val_loss: 0.1087 - val_f1: 0.9404\n",
            "Epoch 145/150\n",
            "118/118 [==============================] - 0s 4ms/step - loss: 0.0509 - f1: 0.9351 - val_loss: 0.3093 - val_f1: 0.9978\n",
            "Epoch 146/150\n",
            "118/118 [==============================] - 0s 4ms/step - loss: 0.0273 - f1: 0.9374 - val_loss: 0.1101 - val_f1: 0.9461\n",
            "Epoch 147/150\n",
            "118/118 [==============================] - 0s 4ms/step - loss: 0.0232 - f1: 0.9305 - val_loss: 0.1306 - val_f1: 0.9426\n",
            "Epoch 148/150\n",
            "118/118 [==============================] - 0s 4ms/step - loss: 0.0308 - f1: 0.9362 - val_loss: 0.2702 - val_f1: 0.9458\n",
            "Epoch 149/150\n",
            "118/118 [==============================] - 0s 4ms/step - loss: 0.0226 - f1: 0.9330 - val_loss: 0.1280 - val_f1: 0.9470\n",
            "Epoch 150/150\n",
            "118/118 [==============================] - 0s 4ms/step - loss: 0.0170 - f1: 0.9258 - val_loss: 0.1100 - val_f1: 0.9401\n"
          ]
        },
        {
          "data": {
            "text/plain": [
              "<keras.callbacks.History at 0x7c4b0872aaa0>"
            ]
          },
          "execution_count": 47,
          "metadata": {},
          "output_type": "execute_result"
        }
      ],
      "source": [
        "model2 = KerasClassifier(build_fn=build_model_2)\n",
        "model2.fit(X_train, y_train, validation_split=0.2, epochs=150, batch_size=50)"
      ]
    },
    {
      "cell_type": "code",
      "execution_count": null,
      "metadata": {
        "colab": {
          "base_uri": "https://localhost:8080/",
          "height": 1000
        },
        "id": "voK49AojRd7v",
        "outputId": "90b881a0-ea4a-4970-b00f-c126df24f00f"
      },
      "outputs": [],
      "source": [
        "history30 = model2.fit(X_train, y_train, validation_data=(X_test, y_test), epochs=150, batch_size=100).history"
      ]
    },
    {
      "cell_type": "code",
      "execution_count": null,
      "metadata": {
        "id": "iwP1UwWyeAUu"
      },
      "outputs": [],
      "source": [
        "plt.plot(history2['loss'], label='Loss 50 (batch_size)')\n",
        "plt.plot(history30['loss'], label='Loss 100 (batch_size)')\n",
        "plt.xlabel('Epochs')\n",
        "plt.ylabel('Loss')\n",
        "plt.legend()\n",
        "plt.show()"
      ]
    },
    {
      "cell_type": "code",
      "execution_count": 48,
      "metadata": {
        "colab": {
          "base_uri": "https://localhost:8080/"
        },
        "id": "38suj0unaF9f",
        "outputId": "9196005d-c8b0-47ad-eb33-4a23cb40e5d9"
      },
      "outputs": [
        {
          "name": "stdout",
          "output_type": "stream",
          "text": [
            "93/93 [==============================] - 0s 2ms/step\n",
            "93/93 [==============================] - 0s 2ms/step\n",
            "Accuracy 0.9412962334577536\n",
            "F1-score [0.94527363 0.92763158 0.92450639 0.91789474 0.92968037 0.99533147]\n",
            "              precision    recall  f1-score   support\n",
            "\n",
            "           1       0.93      0.96      0.95       496\n",
            "           2       0.96      0.90      0.93       471\n",
            "           3       0.90      0.95      0.92       420\n",
            "           4       0.95      0.89      0.92       491\n",
            "           5       0.90      0.96      0.93       532\n",
            "           6       1.00      0.99      1.00       537\n",
            "\n",
            "    accuracy                           0.94      2947\n",
            "   macro avg       0.94      0.94      0.94      2947\n",
            "weighted avg       0.94      0.94      0.94      2947\n",
            "\n"
          ]
        }
      ],
      "source": [
        "y_pred = model2.predict(X_test).astype(int)\n",
        "\n",
        "y_scores = model2.predict_proba(X_test)\n",
        "\n",
        "print('Accuracy %s' % accuracy_score(y_test, y_pred))\n",
        "\n",
        "print('F1-score %s' % f1_score(y_test, y_pred, average=None))\n",
        "\n",
        "print(classification_report(y_test, y_pred, target_names=activities.values()))"
      ]
    },
    {
      "cell_type": "code",
      "execution_count": 57,
      "metadata": {
        "colab": {
          "base_uri": "https://localhost:8080/",
          "height": 457
        },
        "id": "BjdZkVMmaF_o",
        "outputId": "e8c3ab8a-6435-453a-a0b4-15a3ca43f827"
      },
      "outputs": [
        {
          "data": {
            "application/pdf": "[encoded data removed]",
            "image/png": "[encoded data removed]",
            "text/plain": [
              "<Figure size 640x480 with 1 Axes>"
            ]
          },
          "metadata": {},
          "output_type": "display_data"
        }
      ],
      "source": [
        "#history = clf.history_\n",
        "plt.plot(history2['f1'], label='Train')\n",
        "plt.plot(history2['val_f1'], label='Val')\n",
        "plt.xlabel('Epochs')\n",
        "plt.ylabel('F1-score')\n",
        "plt.legend()\n",
        "plt.show()"
      ]
    },
    {
      "cell_type": "code",
      "execution_count": null,
      "metadata": {
        "id": "lrL1w_iEaGF9"
      },
      "outputs": [],
      "source": [
        "#history = clf.history_\n",
        "plt.plot(history2['loss'], label='Train')\n",
        "plt.plot(history2['val_loss'], label='Val')\n",
        "plt.xlabel('Epochs')\n",
        "plt.ylabel('Accuracy')\n",
        "plt.legend()\n",
        "plt.show()"
      ]
    },
    {
      "cell_type": "markdown",
      "metadata": {
        "id": "MZ0upDyMdqHn"
      },
      "source": [
        "## MODEL 3"
      ]
    },
    {
      "cell_type": "code",
      "execution_count": null,
      "metadata": {
        "colab": {
          "base_uri": "https://localhost:8080/",
          "height": 1000
        },
        "id": "BSisDKO_aEBZ",
        "outputId": "2f2c42c0-3b2d-43e4-a5c6-9372878b1f67"
      },
      "outputs": [],
      "source": [
        "model4 = build_model_3()\n",
        "history4 = model4.fit(X_train, y_train, validation_data=(X_test, y_test), epochs=150, batch_size=50).history"
      ]
    },
    {
      "cell_type": "code",
      "execution_count": 24,
      "metadata": {
        "colab": {
          "base_uri": "https://localhost:8080/"
        },
        "id": "DBJdL9gWd4wO",
        "outputId": "f66c9b7f-65c8-455e-c9fe-50a6128f5206"
      },
      "outputs": [
        {
          "name": "stderr",
          "output_type": "stream",
          "text": [
            "<ipython-input-24-34de15553259>:1: DeprecationWarning: KerasClassifier is deprecated, use Sci-Keras (https://github.com/adriangb/scikeras) instead. See https://www.adriangb.com/scikeras/stable/migration.html for help migrating.\n",
            "  model4 = KerasClassifier(build_fn=build_model_3)\n"
          ]
        },
        {
          "name": "stdout",
          "output_type": "stream",
          "text": [
            "Epoch 1/150\n",
            "118/118 [==============================] - 2s 11ms/step - loss: 1.1412 - f1: 4.3040 - val_loss: 0.7238 - val_f1: 2.6878\n",
            "Epoch 2/150\n",
            "118/118 [==============================] - 1s 6ms/step - loss: 0.5964 - f1: 1.6210 - val_loss: 0.4858 - val_f1: 1.4335\n",
            "Epoch 3/150\n",
            "118/118 [==============================] - 1s 10ms/step - loss: 0.4320 - f1: 1.3663 - val_loss: 0.3618 - val_f1: 1.2561\n",
            "Epoch 4/150\n",
            "118/118 [==============================] - 1s 6ms/step - loss: 0.3768 - f1: 1.3169 - val_loss: 0.3010 - val_f1: 1.3011\n",
            "Epoch 5/150\n",
            "118/118 [==============================] - 1s 5ms/step - loss: 0.3094 - f1: 1.2697 - val_loss: 0.3186 - val_f1: 1.2257\n",
            "Epoch 6/150\n",
            "118/118 [==============================] - 1s 5ms/step - loss: 0.2578 - f1: 1.2205 - val_loss: 0.2255 - val_f1: 1.1529\n",
            "Epoch 7/150\n",
            "118/118 [==============================] - 1s 6ms/step - loss: 0.2411 - f1: 1.2006 - val_loss: 0.1990 - val_f1: 1.1926\n",
            "Epoch 8/150\n",
            "118/118 [==============================] - 1s 6ms/step - loss: 0.2081 - f1: 1.1542 - val_loss: 0.1610 - val_f1: 1.1260\n",
            "Epoch 9/150\n",
            "118/118 [==============================] - 1s 6ms/step - loss: 0.2149 - f1: 1.1245 - val_loss: 0.1687 - val_f1: 1.0966\n",
            "Epoch 10/150\n",
            "118/118 [==============================] - 1s 6ms/step - loss: 0.1898 - f1: 1.1147 - val_loss: 0.2247 - val_f1: 1.1005\n",
            "Epoch 11/150\n",
            "118/118 [==============================] - 1s 9ms/step - loss: 0.1817 - f1: 1.1026 - val_loss: 0.1528 - val_f1: 1.0832\n",
            "Epoch 12/150\n",
            "118/118 [==============================] - 1s 9ms/step - loss: 0.1617 - f1: 1.0882 - val_loss: 0.1643 - val_f1: 1.0791\n",
            "Epoch 13/150\n",
            "118/118 [==============================] - 1s 8ms/step - loss: 0.1745 - f1: 1.0770 - val_loss: 0.1468 - val_f1: 1.0764\n",
            "Epoch 14/150\n",
            "118/118 [==============================] - 1s 11ms/step - loss: 0.1334 - f1: 1.0587 - val_loss: 0.1315 - val_f1: 1.0539\n",
            "Epoch 15/150\n",
            "118/118 [==============================] - 2s 14ms/step - loss: 0.1457 - f1: 1.0576 - val_loss: 0.1466 - val_f1: 1.0571\n",
            "Epoch 16/150\n",
            "118/118 [==============================] - 1s 11ms/step - loss: 0.1365 - f1: 1.0529 - val_loss: 0.2120 - val_f1: 1.0644\n",
            "Epoch 17/150\n",
            "118/118 [==============================] - 1s 11ms/step - loss: 0.1260 - f1: 1.0445 - val_loss: 0.1403 - val_f1: 1.0373\n",
            "Epoch 18/150\n",
            "118/118 [==============================] - 1s 9ms/step - loss: 0.1258 - f1: 1.0345 - val_loss: 0.2050 - val_f1: 1.0457\n",
            "Epoch 19/150\n",
            "118/118 [==============================] - 1s 9ms/step - loss: 0.1323 - f1: 1.0369 - val_loss: 0.2498 - val_f1: 1.0637\n",
            "Epoch 20/150\n",
            "118/118 [==============================] - 1s 10ms/step - loss: 0.1192 - f1: 1.0278 - val_loss: 0.2104 - val_f1: 1.0448\n",
            "Epoch 21/150\n",
            "118/118 [==============================] - 1s 9ms/step - loss: 0.1008 - f1: 1.0117 - val_loss: 0.1824 - val_f1: 1.0324\n",
            "Epoch 22/150\n",
            "118/118 [==============================] - 1s 10ms/step - loss: 0.1041 - f1: 1.0155 - val_loss: 0.1182 - val_f1: 1.0211\n",
            "Epoch 23/150\n",
            "118/118 [==============================] - 1s 8ms/step - loss: 0.0990 - f1: 1.0109 - val_loss: 0.6559 - val_f1: 0.9825\n",
            "Epoch 24/150\n",
            "118/118 [==============================] - 1s 9ms/step - loss: 0.1028 - f1: 1.0080 - val_loss: 0.1169 - val_f1: 1.0155\n",
            "Epoch 25/150\n",
            "118/118 [==============================] - 2s 14ms/step - loss: 0.0954 - f1: 1.0062 - val_loss: 0.1357 - val_f1: 1.0300\n",
            "Epoch 26/150\n",
            "118/118 [==============================] - 1s 12ms/step - loss: 0.0997 - f1: 1.0004 - val_loss: 0.1221 - val_f1: 1.0214\n",
            "Epoch 27/150\n",
            "118/118 [==============================] - 1s 9ms/step - loss: 0.0965 - f1: 1.0032 - val_loss: 0.1205 - val_f1: 1.0095\n",
            "Epoch 28/150\n",
            "118/118 [==============================] - 1s 6ms/step - loss: 0.0760 - f1: 0.9930 - val_loss: 0.1368 - val_f1: 1.0108\n",
            "Epoch 29/150\n",
            "118/118 [==============================] - 1s 5ms/step - loss: 0.0922 - f1: 0.9889 - val_loss: 0.1327 - val_f1: 1.0130\n",
            "Epoch 30/150\n",
            "118/118 [==============================] - 1s 6ms/step - loss: 0.0852 - f1: 0.9836 - val_loss: 0.1278 - val_f1: 1.0139\n",
            "Epoch 31/150\n",
            "118/118 [==============================] - 1s 6ms/step - loss: 0.0791 - f1: 0.9859 - val_loss: 0.1755 - val_f1: 1.0066\n",
            "Epoch 32/150\n",
            "118/118 [==============================] - 1s 5ms/step - loss: 0.0792 - f1: 0.9848 - val_loss: 0.1155 - val_f1: 0.9967\n",
            "Epoch 33/150\n",
            "118/118 [==============================] - 1s 6ms/step - loss: 0.0781 - f1: 0.9777 - val_loss: 0.1979 - val_f1: 1.0194\n",
            "Epoch 34/150\n",
            "118/118 [==============================] - 1s 5ms/step - loss: 0.0604 - f1: 0.9735 - val_loss: 0.1119 - val_f1: 0.9987\n",
            "Epoch 35/150\n",
            "118/118 [==============================] - 1s 5ms/step - loss: 0.0790 - f1: 0.9781 - val_loss: 0.1103 - val_f1: 0.9956\n",
            "Epoch 36/150\n",
            "118/118 [==============================] - 1s 6ms/step - loss: 0.0650 - f1: 0.9775 - val_loss: 0.1661 - val_f1: 1.0008\n",
            "Epoch 37/150\n",
            "118/118 [==============================] - 1s 5ms/step - loss: 0.0707 - f1: 0.9746 - val_loss: 0.1068 - val_f1: 0.9917\n",
            "Epoch 38/150\n",
            "118/118 [==============================] - 1s 5ms/step - loss: 0.0632 - f1: 0.9726 - val_loss: 0.1391 - val_f1: 0.9941\n",
            "Epoch 39/150\n",
            "118/118 [==============================] - 1s 6ms/step - loss: 0.0722 - f1: 0.9751 - val_loss: 0.4497 - val_f1: 1.0009\n",
            "Epoch 40/150\n",
            "118/118 [==============================] - 1s 6ms/step - loss: 0.0705 - f1: 0.9743 - val_loss: 0.1922 - val_f1: 1.0099\n",
            "Epoch 41/150\n",
            "118/118 [==============================] - 1s 6ms/step - loss: 0.0832 - f1: 0.9775 - val_loss: 0.1088 - val_f1: 0.9896\n",
            "Epoch 42/150\n",
            "118/118 [==============================] - 1s 8ms/step - loss: 0.0642 - f1: 0.9701 - val_loss: 0.1858 - val_f1: 1.0002\n",
            "Epoch 43/150\n",
            "118/118 [==============================] - 1s 8ms/step - loss: 0.0605 - f1: 0.9651 - val_loss: 0.1308 - val_f1: 0.9942\n",
            "Epoch 44/150\n",
            "118/118 [==============================] - 1s 7ms/step - loss: 0.0655 - f1: 0.9678 - val_loss: 0.1471 - val_f1: 0.9944\n",
            "Epoch 45/150\n",
            "118/118 [==============================] - 1s 5ms/step - loss: 0.0565 - f1: 0.9635 - val_loss: 0.1412 - val_f1: 0.9851\n",
            "Epoch 46/150\n",
            "118/118 [==============================] - 1s 6ms/step - loss: 0.0667 - f1: 0.9693 - val_loss: 0.1394 - val_f1: 0.9960\n",
            "Epoch 47/150\n",
            "118/118 [==============================] - 1s 6ms/step - loss: 0.0531 - f1: 0.9588 - val_loss: 0.4358 - val_f1: 1.0018\n",
            "Epoch 48/150\n",
            "118/118 [==============================] - 1s 5ms/step - loss: 0.0660 - f1: 0.9672 - val_loss: 0.1142 - val_f1: 0.9862\n",
            "Epoch 49/150\n",
            "118/118 [==============================] - 1s 5ms/step - loss: 0.0622 - f1: 0.9652 - val_loss: 0.1063 - val_f1: 0.9807\n",
            "Epoch 50/150\n",
            "118/118 [==============================] - 1s 6ms/step - loss: 0.0560 - f1: 0.9577 - val_loss: 0.1106 - val_f1: 0.9797\n",
            "Epoch 51/150\n",
            "118/118 [==============================] - 1s 10ms/step - loss: 0.0658 - f1: 0.9633 - val_loss: 0.5003 - val_f1: 0.9769\n",
            "Epoch 52/150\n",
            "118/118 [==============================] - 1s 9ms/step - loss: 0.0590 - f1: 0.9665 - val_loss: 0.1080 - val_f1: 0.9729\n",
            "Epoch 53/150\n",
            "118/118 [==============================] - 1s 10ms/step - loss: 0.0531 - f1: 0.9605 - val_loss: 0.1970 - val_f1: 0.9939\n",
            "Epoch 54/150\n",
            "118/118 [==============================] - 1s 9ms/step - loss: 0.0647 - f1: 0.9588 - val_loss: 0.1298 - val_f1: 0.9925\n",
            "Epoch 55/150\n",
            "118/118 [==============================] - 1s 10ms/step - loss: 0.0518 - f1: 0.9616 - val_loss: 0.5274 - val_f1: 0.9943\n",
            "Epoch 56/150\n",
            "118/118 [==============================] - 2s 17ms/step - loss: 0.0556 - f1: 0.9562 - val_loss: 0.1365 - val_f1: 0.9866\n",
            "Epoch 57/150\n",
            "118/118 [==============================] - 1s 11ms/step - loss: 0.0499 - f1: 0.9554 - val_loss: 0.1968 - val_f1: 0.9842\n",
            "Epoch 58/150\n",
            "118/118 [==============================] - 1s 8ms/step - loss: 0.0441 - f1: 0.9540 - val_loss: 0.1069 - val_f1: 0.9665\n",
            "Epoch 59/150\n",
            "118/118 [==============================] - 1s 9ms/step - loss: 0.0518 - f1: 0.9551 - val_loss: 0.1112 - val_f1: 0.9765\n",
            "Epoch 60/150\n",
            "118/118 [==============================] - 1s 6ms/step - loss: 0.0505 - f1: 0.9510 - val_loss: 0.0995 - val_f1: 0.9729\n",
            "Epoch 61/150\n",
            "118/118 [==============================] - 1s 5ms/step - loss: 0.0478 - f1: 0.9540 - val_loss: 0.1015 - val_f1: 0.9700\n",
            "Epoch 62/150\n",
            "118/118 [==============================] - 1s 6ms/step - loss: 0.0589 - f1: 0.9540 - val_loss: 0.1516 - val_f1: 0.9849\n",
            "Epoch 63/150\n",
            "118/118 [==============================] - 1s 6ms/step - loss: 0.0464 - f1: 0.9546 - val_loss: 0.1214 - val_f1: 0.9726\n",
            "Epoch 64/150\n",
            "118/118 [==============================] - 1s 6ms/step - loss: 0.0510 - f1: 0.9520 - val_loss: 0.1995 - val_f1: 0.9838\n",
            "Epoch 65/150\n",
            "118/118 [==============================] - 1s 5ms/step - loss: 0.0502 - f1: 0.9556 - val_loss: 0.1066 - val_f1: 0.9691\n",
            "Epoch 66/150\n",
            "118/118 [==============================] - 1s 5ms/step - loss: 0.0534 - f1: 0.9558 - val_loss: 0.1926 - val_f1: 0.9841\n",
            "Epoch 67/150\n",
            "118/118 [==============================] - 1s 5ms/step - loss: 0.0444 - f1: 0.9477 - val_loss: 0.1239 - val_f1: 0.9805\n",
            "Epoch 68/150\n",
            "118/118 [==============================] - 1s 5ms/step - loss: 0.0558 - f1: 0.9610 - val_loss: 0.1066 - val_f1: 0.9707\n",
            "Epoch 69/150\n",
            "118/118 [==============================] - 1s 6ms/step - loss: 0.0456 - f1: 0.9523 - val_loss: 0.1329 - val_f1: 0.9705\n",
            "Epoch 70/150\n",
            "118/118 [==============================] - 1s 6ms/step - loss: 0.0544 - f1: 0.9529 - val_loss: 0.1020 - val_f1: 0.9759\n",
            "Epoch 71/150\n",
            "118/118 [==============================] - 1s 5ms/step - loss: 0.0417 - f1: 0.9524 - val_loss: 0.1066 - val_f1: 0.9656\n",
            "Epoch 72/150\n",
            "118/118 [==============================] - 1s 7ms/step - loss: 0.0509 - f1: 0.9451 - val_loss: 0.1152 - val_f1: 0.9749\n",
            "Epoch 73/150\n",
            "118/118 [==============================] - 1s 8ms/step - loss: 0.0416 - f1: 0.9515 - val_loss: 0.1053 - val_f1: 0.9645\n",
            "Epoch 74/150\n",
            "118/118 [==============================] - 1s 9ms/step - loss: 0.0507 - f1: 0.9492 - val_loss: 0.3380 - val_f1: 0.9989\n",
            "Epoch 75/150\n",
            "118/118 [==============================] - 1s 6ms/step - loss: 0.0438 - f1: 0.9471 - val_loss: 0.1128 - val_f1: 0.9687\n",
            "Epoch 76/150\n",
            "118/118 [==============================] - 1s 6ms/step - loss: 0.0407 - f1: 0.9478 - val_loss: 0.1355 - val_f1: 0.9650\n",
            "Epoch 77/150\n",
            "118/118 [==============================] - 1s 6ms/step - loss: 0.0424 - f1: 0.9461 - val_loss: 0.1095 - val_f1: 0.9631\n",
            "Epoch 78/150\n",
            "118/118 [==============================] - 1s 5ms/step - loss: 0.0399 - f1: 0.9422 - val_loss: 0.1213 - val_f1: 0.9704\n",
            "Epoch 79/150\n",
            "118/118 [==============================] - 1s 6ms/step - loss: 0.0437 - f1: 0.9500 - val_loss: 0.1107 - val_f1: 0.9678\n",
            "Epoch 80/150\n",
            "118/118 [==============================] - 1s 5ms/step - loss: 0.0413 - f1: 0.9474 - val_loss: 0.1067 - val_f1: 0.9664\n",
            "Epoch 81/150\n",
            "118/118 [==============================] - 1s 5ms/step - loss: 0.0432 - f1: 0.9468 - val_loss: 0.1036 - val_f1: 0.9683\n",
            "Epoch 82/150\n",
            "118/118 [==============================] - 1s 6ms/step - loss: 0.0439 - f1: 0.9435 - val_loss: 0.1276 - val_f1: 0.9743\n",
            "Epoch 83/150\n",
            "118/118 [==============================] - 1s 5ms/step - loss: 0.0415 - f1: 0.9458 - val_loss: 0.1413 - val_f1: 0.9674\n",
            "Epoch 84/150\n",
            "118/118 [==============================] - 1s 6ms/step - loss: 0.0354 - f1: 0.9480 - val_loss: 0.1282 - val_f1: 0.9601\n",
            "Epoch 85/150\n",
            "118/118 [==============================] - 1s 6ms/step - loss: 0.0481 - f1: 0.9473 - val_loss: 0.1066 - val_f1: 0.9666\n",
            "Epoch 86/150\n",
            "118/118 [==============================] - 1s 5ms/step - loss: 0.0444 - f1: 0.9456 - val_loss: 0.1514 - val_f1: 0.9756\n",
            "Epoch 87/150\n",
            "118/118 [==============================] - 1s 5ms/step - loss: 0.0417 - f1: 0.9473 - val_loss: 0.2407 - val_f1: 0.9747\n",
            "Epoch 88/150\n",
            "118/118 [==============================] - 1s 5ms/step - loss: 0.0371 - f1: 0.9431 - val_loss: 0.1164 - val_f1: 0.9622\n",
            "Epoch 89/150\n",
            "118/118 [==============================] - 1s 5ms/step - loss: 0.0410 - f1: 0.9472 - val_loss: 0.1582 - val_f1: 0.9735\n",
            "Epoch 90/150\n",
            "118/118 [==============================] - 1s 5ms/step - loss: 0.0410 - f1: 0.9449 - val_loss: 0.1137 - val_f1: 0.9624\n",
            "Epoch 91/150\n",
            "118/118 [==============================] - 1s 8ms/step - loss: 0.0404 - f1: 0.9452 - val_loss: 0.1051 - val_f1: 0.9605\n",
            "Epoch 92/150\n",
            "118/118 [==============================] - 1s 8ms/step - loss: 0.0388 - f1: 0.9427 - val_loss: 0.1216 - val_f1: 0.9616\n",
            "Epoch 93/150\n",
            "118/118 [==============================] - 1s 8ms/step - loss: 0.0336 - f1: 0.9407 - val_loss: 0.1221 - val_f1: 0.9596\n",
            "Epoch 94/150\n",
            "118/118 [==============================] - 1s 6ms/step - loss: 0.0380 - f1: 0.9440 - val_loss: 0.1040 - val_f1: 0.9636\n",
            "Epoch 95/150\n",
            "118/118 [==============================] - 1s 6ms/step - loss: 0.0354 - f1: 0.9433 - val_loss: 0.1203 - val_f1: 0.9642\n",
            "Epoch 96/150\n",
            "118/118 [==============================] - 1s 5ms/step - loss: 0.0373 - f1: 0.9420 - val_loss: 0.1110 - val_f1: 0.9615\n",
            "Epoch 97/150\n",
            "118/118 [==============================] - 1s 6ms/step - loss: 0.0394 - f1: 0.9416 - val_loss: 0.3339 - val_f1: 0.9908\n",
            "Epoch 98/150\n",
            "118/118 [==============================] - 1s 6ms/step - loss: 0.0412 - f1: 0.9465 - val_loss: 0.1012 - val_f1: 0.9658\n",
            "Epoch 99/150\n",
            "118/118 [==============================] - 1s 5ms/step - loss: 0.0315 - f1: 0.9371 - val_loss: 0.1359 - val_f1: 0.9661\n",
            "Epoch 100/150\n",
            "118/118 [==============================] - 1s 6ms/step - loss: 0.0364 - f1: 0.9408 - val_loss: 0.1104 - val_f1: 0.9587\n",
            "Epoch 101/150\n",
            "118/118 [==============================] - 1s 6ms/step - loss: 0.0602 - f1: 0.9513 - val_loss: 0.1140 - val_f1: 0.9616\n",
            "Epoch 102/150\n",
            "118/118 [==============================] - 1s 5ms/step - loss: 0.0304 - f1: 0.9429 - val_loss: 0.1435 - val_f1: 0.9639\n",
            "Epoch 103/150\n",
            "118/118 [==============================] - 1s 6ms/step - loss: 0.0405 - f1: 0.9408 - val_loss: 0.1082 - val_f1: 0.9630\n",
            "Epoch 104/150\n",
            "118/118 [==============================] - 1s 6ms/step - loss: 0.0357 - f1: 0.9409 - val_loss: 0.1674 - val_f1: 0.9690\n",
            "Epoch 105/150\n",
            "118/118 [==============================] - 1s 5ms/step - loss: 0.0335 - f1: 0.9395 - val_loss: 0.1378 - val_f1: 0.9612\n",
            "Epoch 106/150\n",
            "118/118 [==============================] - 1s 5ms/step - loss: 0.0473 - f1: 0.9467 - val_loss: 0.1947 - val_f1: 0.9717\n",
            "Epoch 107/150\n",
            "118/118 [==============================] - 1s 6ms/step - loss: 0.0396 - f1: 0.9445 - val_loss: 0.1203 - val_f1: 0.9620\n",
            "Epoch 108/150\n",
            "118/118 [==============================] - 1s 5ms/step - loss: 0.0333 - f1: 0.9399 - val_loss: 0.1094 - val_f1: 0.9596\n",
            "Epoch 109/150\n",
            "118/118 [==============================] - 1s 7ms/step - loss: 0.0332 - f1: 0.9398 - val_loss: 0.1083 - val_f1: 0.9632\n",
            "Epoch 110/150\n",
            "118/118 [==============================] - 1s 8ms/step - loss: 0.0389 - f1: 0.9405 - val_loss: 0.1370 - val_f1: 0.9631\n",
            "Epoch 111/150\n",
            "118/118 [==============================] - 1s 9ms/step - loss: 0.0379 - f1: 0.9399 - val_loss: 0.1395 - val_f1: 0.9699\n",
            "Epoch 112/150\n",
            "118/118 [==============================] - 1s 7ms/step - loss: 0.0372 - f1: 0.9413 - val_loss: 0.1059 - val_f1: 0.9603\n",
            "Epoch 113/150\n",
            "118/118 [==============================] - 1s 6ms/step - loss: 0.0315 - f1: 0.9381 - val_loss: 0.1098 - val_f1: 0.9572\n",
            "Epoch 114/150\n",
            "118/118 [==============================] - 1s 6ms/step - loss: 0.0317 - f1: 0.9363 - val_loss: 0.1247 - val_f1: 0.9601\n",
            "Epoch 115/150\n",
            "118/118 [==============================] - 1s 6ms/step - loss: 0.0299 - f1: 0.9356 - val_loss: 0.1944 - val_f1: 0.9616\n",
            "Epoch 116/150\n",
            "118/118 [==============================] - 1s 6ms/step - loss: 0.0382 - f1: 0.9388 - val_loss: 0.1278 - val_f1: 0.9596\n",
            "Epoch 117/150\n",
            "118/118 [==============================] - 1s 5ms/step - loss: 0.0335 - f1: 0.9351 - val_loss: 0.1150 - val_f1: 0.9567\n",
            "Epoch 118/150\n",
            "118/118 [==============================] - 1s 6ms/step - loss: 0.0305 - f1: 0.9382 - val_loss: 0.1448 - val_f1: 0.9582\n",
            "Epoch 119/150\n",
            "118/118 [==============================] - 1s 6ms/step - loss: 0.0309 - f1: 0.9338 - val_loss: 0.2083 - val_f1: 0.9690\n",
            "Epoch 120/150\n",
            "118/118 [==============================] - 1s 6ms/step - loss: 0.0300 - f1: 0.9377 - val_loss: 0.1525 - val_f1: 0.9601\n",
            "Epoch 121/150\n",
            "118/118 [==============================] - 1s 6ms/step - loss: 0.0311 - f1: 0.9373 - val_loss: 0.1734 - val_f1: 0.9699\n",
            "Epoch 122/150\n",
            "118/118 [==============================] - 1s 6ms/step - loss: 0.0330 - f1: 0.9367 - val_loss: 0.2716 - val_f1: 0.9683\n",
            "Epoch 123/150\n",
            "118/118 [==============================] - 1s 6ms/step - loss: 0.0377 - f1: 0.9421 - val_loss: 0.1102 - val_f1: 0.9622\n",
            "Epoch 124/150\n",
            "118/118 [==============================] - 1s 5ms/step - loss: 0.0293 - f1: 0.9362 - val_loss: 0.2242 - val_f1: 0.9667\n",
            "Epoch 125/150\n",
            "118/118 [==============================] - 1s 6ms/step - loss: 0.0395 - f1: 0.9397 - val_loss: 0.1180 - val_f1: 0.9582\n",
            "Epoch 126/150\n",
            "118/118 [==============================] - 1s 6ms/step - loss: 0.0252 - f1: 0.9341 - val_loss: 0.1290 - val_f1: 0.9522\n",
            "Epoch 127/150\n",
            "118/118 [==============================] - 1s 8ms/step - loss: 0.0336 - f1: 0.9364 - val_loss: 0.1199 - val_f1: 0.9557\n",
            "Epoch 128/150\n",
            "118/118 [==============================] - 1s 8ms/step - loss: 0.0318 - f1: 0.9377 - val_loss: 0.1316 - val_f1: 0.9593\n",
            "Epoch 129/150\n",
            "118/118 [==============================] - 1s 8ms/step - loss: 0.0258 - f1: 0.9345 - val_loss: 0.1214 - val_f1: 0.9527\n",
            "Epoch 130/150\n",
            "118/118 [==============================] - 1s 6ms/step - loss: 0.0319 - f1: 0.9338 - val_loss: 0.1109 - val_f1: 0.9555\n",
            "Epoch 131/150\n",
            "118/118 [==============================] - 1s 5ms/step - loss: 0.0303 - f1: 0.9357 - val_loss: 0.1174 - val_f1: 0.9597\n",
            "Epoch 132/150\n",
            "118/118 [==============================] - 1s 5ms/step - loss: 0.0259 - f1: 0.9337 - val_loss: 0.1125 - val_f1: 0.9513\n",
            "Epoch 133/150\n",
            "118/118 [==============================] - 1s 6ms/step - loss: 0.0264 - f1: 0.9332 - val_loss: 0.1120 - val_f1: 0.9550\n",
            "Epoch 134/150\n",
            "118/118 [==============================] - 1s 5ms/step - loss: 0.0282 - f1: 0.9343 - val_loss: 0.1261 - val_f1: 0.9525\n",
            "Epoch 135/150\n",
            "118/118 [==============================] - 1s 5ms/step - loss: 0.0283 - f1: 0.9345 - val_loss: 0.1350 - val_f1: 0.9526\n",
            "Epoch 136/150\n",
            "118/118 [==============================] - 1s 6ms/step - loss: 0.0306 - f1: 0.9350 - val_loss: 0.1348 - val_f1: 0.9585\n",
            "Epoch 137/150\n",
            "118/118 [==============================] - 1s 5ms/step - loss: 0.0248 - f1: 0.9343 - val_loss: 0.1192 - val_f1: 0.9483\n",
            "Epoch 138/150\n",
            "118/118 [==============================] - 1s 6ms/step - loss: 0.0428 - f1: 0.9387 - val_loss: 0.1043 - val_f1: 0.9576\n",
            "Epoch 139/150\n",
            "118/118 [==============================] - 1s 5ms/step - loss: 0.1475 - f1: 0.9737 - val_loss: 0.1558 - val_f1: 0.9824\n",
            "Epoch 140/150\n",
            "118/118 [==============================] - 1s 6ms/step - loss: 0.0367 - f1: 0.9386 - val_loss: 0.1187 - val_f1: 0.9723\n",
            "Epoch 141/150\n",
            "118/118 [==============================] - 1s 6ms/step - loss: 0.0293 - f1: 0.9390 - val_loss: 0.1185 - val_f1: 0.9667\n",
            "Epoch 142/150\n",
            "118/118 [==============================] - 1s 5ms/step - loss: 0.0445 - f1: 0.9427 - val_loss: 0.2238 - val_f1: 0.9631\n",
            "Epoch 143/150\n",
            "118/118 [==============================] - 1s 6ms/step - loss: 0.0326 - f1: 0.9345 - val_loss: 0.1516 - val_f1: 0.9730\n",
            "Epoch 144/150\n",
            "118/118 [==============================] - 1s 6ms/step - loss: 0.0270 - f1: 0.9353 - val_loss: 0.1388 - val_f1: 0.9643\n",
            "Epoch 145/150\n",
            "118/118 [==============================] - 1s 5ms/step - loss: 0.0263 - f1: 0.9310 - val_loss: 0.1201 - val_f1: 0.9640\n",
            "Epoch 146/150\n",
            "118/118 [==============================] - 1s 8ms/step - loss: 0.0279 - f1: 0.9351 - val_loss: 0.1327 - val_f1: 0.9590\n",
            "Epoch 147/150\n",
            "118/118 [==============================] - 1s 8ms/step - loss: 0.0296 - f1: 0.9332 - val_loss: 0.1655 - val_f1: 0.9616\n",
            "Epoch 148/150\n",
            "118/118 [==============================] - 1s 7ms/step - loss: 0.0459 - f1: 0.9357 - val_loss: 0.1117 - val_f1: 0.9661\n",
            "Epoch 149/150\n",
            "118/118 [==============================] - 1s 6ms/step - loss: 0.0269 - f1: 0.9341 - val_loss: 0.1724 - val_f1: 0.9640\n",
            "Epoch 150/150\n",
            "118/118 [==============================] - 1s 6ms/step - loss: 0.0270 - f1: 0.9355 - val_loss: 0.1613 - val_f1: 0.9581\n"
          ]
        },
        {
          "data": {
            "text/plain": [
              "<keras.callbacks.History at 0x790928cd1030>"
            ]
          },
          "execution_count": 24,
          "metadata": {},
          "output_type": "execute_result"
        }
      ],
      "source": [
        "model4 = KerasClassifier(build_fn=build_model_3)\n",
        "model4.fit(X_train, y_train, validation_split=0.2, epochs=150, batch_size=50)"
      ]
    },
    {
      "cell_type": "code",
      "execution_count": 25,
      "metadata": {
        "colab": {
          "base_uri": "https://localhost:8080/"
        },
        "id": "Ig83C26yeE2n",
        "outputId": "74cfb25b-4eea-417f-cb59-9c3ec1771541"
      },
      "outputs": [
        {
          "name": "stdout",
          "output_type": "stream",
          "text": [
            "93/93 [==============================] - 0s 2ms/step\n",
            "93/93 [==============================] - 0s 2ms/step\n",
            "Accuracy 0.9253478113335596\n",
            "F1-score [0.92761905 0.91166848 0.94247246 0.88387824 0.90333618 0.98102467]\n",
            "              precision    recall  f1-score   support\n",
            "\n",
            "           1       0.88      0.98      0.93       496\n",
            "           2       0.94      0.89      0.91       471\n",
            "           3       0.97      0.92      0.94       420\n",
            "           4       0.99      0.80      0.88       491\n",
            "           5       0.83      0.99      0.90       532\n",
            "           6       1.00      0.96      0.98       537\n",
            "\n",
            "    accuracy                           0.93      2947\n",
            "   macro avg       0.93      0.92      0.92      2947\n",
            "weighted avg       0.93      0.93      0.93      2947\n",
            "\n"
          ]
        }
      ],
      "source": [
        "y_pred = model4.predict(X_test).astype(int)\n",
        "\n",
        "y_scores = model4.predict_proba(X_test)\n",
        "\n",
        "print('Accuracy %s' % accuracy_score(y_test, y_pred))\n",
        "\n",
        "print('F1-score %s' % f1_score(y_test, y_pred, average=None))\n",
        "\n",
        "print(classification_report(y_test, y_pred))"
      ]
    },
    {
      "cell_type": "markdown",
      "metadata": {
        "id": "9Nh7tAKkDDmh"
      },
      "source": [
        "## EARLY STOPPING"
      ]
    },
    {
      "cell_type": "code",
      "execution_count": 27,
      "metadata": {
        "id": "ehybfksiKQJ_"
      },
      "outputs": [],
      "source": [
        "from keras.callbacks import EarlyStopping, ModelCheckpoint"
      ]
    },
    {
      "cell_type": "code",
      "execution_count": 28,
      "metadata": {
        "id": "pOSxeTlPfb8L"
      },
      "outputs": [],
      "source": [
        "es = EarlyStopping(monitor='val_accuracy', patience=50, verbose=True)\n",
        "mc = ModelCheckpoint('best_model_NOREG.h5', monitor='val_accuracy', save_best_only=True)"
      ]
    },
    {
      "cell_type": "code",
      "execution_count": 29,
      "metadata": {
        "colab": {
          "base_uri": "https://localhost:8080/"
        },
        "id": "jXWz0m1LKwTo",
        "outputId": "1bfcf7f4-c7a8-43a9-f956-fde75a0b47fc"
      },
      "outputs": [
        {
          "name": "stderr",
          "output_type": "stream",
          "text": [
            "<ipython-input-29-53515d6a812b>:1: DeprecationWarning: KerasClassifier is deprecated, use Sci-Keras (https://github.com/adriangb/scikeras) instead. See https://www.adriangb.com/scikeras/stable/migration.html for help migrating.\n",
            "  clf = KerasClassifier(build_model_3, callbacks=[es, mc])\n"
          ]
        }
      ],
      "source": [
        "clf = KerasClassifier(build_model_3, callbacks=[es, mc])"
      ]
    },
    {
      "cell_type": "code",
      "execution_count": 30,
      "metadata": {
        "colab": {
          "base_uri": "https://localhost:8080/"
        },
        "id": "qoZjzb-sLAyA",
        "outputId": "417015ff-c45f-4996-9cc4-65e8a708ac75"
      },
      "outputs": [
        {
          "name": "stdout",
          "output_type": "stream",
          "text": [
            "Epoch 1/150\n",
            "171/184 [==========================>...] - ETA: 0s - loss: 1.1482 - f1: 3.6963"
          ]
        },
        {
          "name": "stderr",
          "output_type": "stream",
          "text": [
            "WARNING:tensorflow:Early stopping conditioned on metric `val_accuracy` which is not available. Available metrics are: loss,f1,val_loss,val_f1\n",
            "WARNING:tensorflow:Can save best model only with val_accuracy available, skipping.\n"
          ]
        },
        {
          "name": "stdout",
          "output_type": "stream",
          "text": [
            "\b\b\b\b\b\b\b\b\b\b\b\b\b\b\b\b\b\b\b\b\b\b\b\b\b\b\b\b\b\b\b\b\b\b\b\b\b\b\b\b\b\b\b\b\b\b\b\b\b\b\b\b\b\b\b\b\b\b\b\b\b\b\b\b\b\b\b\b\b\b\b\b\b\b\b\b\b\b\r184/184 [==============================] - 3s 7ms/step - loss: 1.1141 - f1: 3.5637 - val_loss: 0.5784 - val_f1: 1.6238\n",
            "Epoch 2/150\n",
            "175/184 [===========================>..] - ETA: 0s - loss: 0.4900 - f1: 1.4234"
          ]
        },
        {
          "name": "stderr",
          "output_type": "stream",
          "text": [
            "WARNING:tensorflow:Early stopping conditioned on metric `val_accuracy` which is not available. Available metrics are: loss,f1,val_loss,val_f1\n",
            "WARNING:tensorflow:Can save best model only with val_accuracy available, skipping.\n"
          ]
        },
        {
          "name": "stdout",
          "output_type": "stream",
          "text": [
            "\b\b\b\b\b\b\b\b\b\b\b\b\b\b\b\b\b\b\b\b\b\b\b\b\b\b\b\b\b\b\b\b\b\b\b\b\b\b\b\b\b\b\b\b\b\b\b\b\b\b\b\b\b\b\b\b\b\b\b\b\b\b\b\b\b\b\b\b\b\b\b\b\b\b\b\b\b\b\r184/184 [==============================] - 1s 5ms/step - loss: 0.4829 - f1: 1.4171 - val_loss: 0.3392 - val_f1: 1.2370\n",
            "Epoch 3/150\n",
            "180/184 [============================>.] - ETA: 0s - loss: 0.3377 - f1: 1.2633"
          ]
        },
        {
          "name": "stderr",
          "output_type": "stream",
          "text": [
            "WARNING:tensorflow:Early stopping conditioned on metric `val_accuracy` which is not available. Available metrics are: loss,f1,val_loss,val_f1\n",
            "WARNING:tensorflow:Can save best model only with val_accuracy available, skipping.\n"
          ]
        },
        {
          "name": "stdout",
          "output_type": "stream",
          "text": [
            "\b\b\b\b\b\b\b\b\b\b\b\b\b\b\b\b\b\b\b\b\b\b\b\b\b\b\b\b\b\b\b\b\b\b\b\b\b\b\b\b\b\b\b\b\b\b\b\b\b\b\b\b\b\b\b\b\b\b\b\b\b\b\b\b\b\b\b\b\b\b\b\b\b\b\b\b\b\b\r184/184 [==============================] - 1s 4ms/step - loss: 0.3361 - f1: 1.2628 - val_loss: 0.2392 - val_f1: 1.1869\n",
            "Epoch 4/150\n",
            "177/184 [===========================>..] - ETA: 0s - loss: 0.2731 - f1: 1.1954"
          ]
        },
        {
          "name": "stderr",
          "output_type": "stream",
          "text": [
            "WARNING:tensorflow:Early stopping conditioned on metric `val_accuracy` which is not available. Available metrics are: loss,f1,val_loss,val_f1\n",
            "WARNING:tensorflow:Can save best model only with val_accuracy available, skipping.\n"
          ]
        },
        {
          "name": "stdout",
          "output_type": "stream",
          "text": [
            "\b\b\b\b\b\b\b\b\b\b\b\b\b\b\b\b\b\b\b\b\b\b\b\b\b\b\b\b\b\b\b\b\b\b\b\b\b\b\b\b\b\b\b\b\b\b\b\b\b\b\b\b\b\b\b\b\b\b\b\b\b\b\b\b\b\b\b\b\b\b\b\b\b\b\b\b\b\b\r184/184 [==============================] - 1s 4ms/step - loss: 0.2709 - f1: 1.1939 - val_loss: 0.2109 - val_f1: 1.1178\n",
            "Epoch 5/150\n",
            "182/184 [============================>.] - ETA: 0s - loss: 0.2375 - f1: 1.1521"
          ]
        },
        {
          "name": "stderr",
          "output_type": "stream",
          "text": [
            "WARNING:tensorflow:Early stopping conditioned on metric `val_accuracy` which is not available. Available metrics are: loss,f1,val_loss,val_f1\n",
            "WARNING:tensorflow:Can save best model only with val_accuracy available, skipping.\n"
          ]
        },
        {
          "name": "stdout",
          "output_type": "stream",
          "text": [
            "\b\b\b\b\b\b\b\b\b\b\b\b\b\b\b\b\b\b\b\b\b\b\b\b\b\b\b\b\b\b\b\b\b\b\b\b\b\b\b\b\b\b\b\b\b\b\b\b\b\b\b\b\b\b\b\b\b\b\b\b\b\b\b\b\b\b\b\b\b\b\b\b\b\b\b\b\b\b\r184/184 [==============================] - 1s 4ms/step - loss: 0.2380 - f1: 1.1519 - val_loss: 0.2826 - val_f1: 1.0699\n",
            "Epoch 6/150\n",
            "182/184 [============================>.] - ETA: 0s - loss: 0.2028 - f1: 1.1189"
          ]
        },
        {
          "name": "stderr",
          "output_type": "stream",
          "text": [
            "WARNING:tensorflow:Early stopping conditioned on metric `val_accuracy` which is not available. Available metrics are: loss,f1,val_loss,val_f1\n",
            "WARNING:tensorflow:Can save best model only with val_accuracy available, skipping.\n"
          ]
        },
        {
          "name": "stdout",
          "output_type": "stream",
          "text": [
            "\b\b\b\b\b\b\b\b\b\b\b\b\b\b\b\b\b\b\b\b\b\b\b\b\b\b\b\b\b\b\b\b\b\b\b\b\b\b\b\b\b\b\b\b\b\b\b\b\b\b\b\b\b\b\b\b\b\b\b\b\b\b\b\b\b\b\b\b\b\b\b\b\b\b\b\b\b\b\r184/184 [==============================] - 1s 4ms/step - loss: 0.2019 - f1: 1.1179 - val_loss: 0.2023 - val_f1: 1.0786\n",
            "Epoch 7/150\n",
            "171/184 [==========================>...] - ETA: 0s - loss: 0.1921 - f1: 1.1007"
          ]
        },
        {
          "name": "stderr",
          "output_type": "stream",
          "text": [
            "WARNING:tensorflow:Early stopping conditioned on metric `val_accuracy` which is not available. Available metrics are: loss,f1,val_loss,val_f1\n",
            "WARNING:tensorflow:Can save best model only with val_accuracy available, skipping.\n"
          ]
        },
        {
          "name": "stdout",
          "output_type": "stream",
          "text": [
            "\b\b\b\b\b\b\b\b\b\b\b\b\b\b\b\b\b\b\b\b\b\b\b\b\b\b\b\b\b\b\b\b\b\b\b\b\b\b\b\b\b\b\b\b\b\b\b\b\b\b\b\b\b\b\b\b\b\b\b\b\b\b\b\b\b\b\b\b\b\b\b\b\b\b\b\b\b\b\r184/184 [==============================] - 1s 4ms/step - loss: 0.1878 - f1: 1.0976 - val_loss: 0.1616 - val_f1: 1.0370\n",
            "Epoch 8/150\n",
            "180/184 [============================>.] - ETA: 0s - loss: 0.1688 - f1: 1.0791"
          ]
        },
        {
          "name": "stderr",
          "output_type": "stream",
          "text": [
            "WARNING:tensorflow:Early stopping conditioned on metric `val_accuracy` which is not available. Available metrics are: loss,f1,val_loss,val_f1\n",
            "WARNING:tensorflow:Can save best model only with val_accuracy available, skipping.\n"
          ]
        },
        {
          "name": "stdout",
          "output_type": "stream",
          "text": [
            "\b\b\b\b\b\b\b\b\b\b\b\b\b\b\b\b\b\b\b\b\b\b\b\b\b\b\b\b\b\b\b\b\b\b\b\b\b\b\b\b\b\b\b\b\b\b\b\b\b\b\b\b\b\b\b\b\b\b\b\b\b\b\b\b\b\b\b\b\b\b\b\b\b\b\b\b\b\b\r184/184 [==============================] - 1s 4ms/step - loss: 0.1696 - f1: 1.0792 - val_loss: 0.1968 - val_f1: 1.0957\n",
            "Epoch 9/150\n",
            "181/184 [============================>.] - ETA: 0s - loss: 0.1527 - f1: 1.0748"
          ]
        },
        {
          "name": "stderr",
          "output_type": "stream",
          "text": [
            "WARNING:tensorflow:Early stopping conditioned on metric `val_accuracy` which is not available. Available metrics are: loss,f1,val_loss,val_f1\n",
            "WARNING:tensorflow:Can save best model only with val_accuracy available, skipping.\n"
          ]
        },
        {
          "name": "stdout",
          "output_type": "stream",
          "text": [
            "\b\b\b\b\b\b\b\b\b\b\b\b\b\b\b\b\b\b\b\b\b\b\b\b\b\b\b\b\b\b\b\b\b\b\b\b\b\b\b\b\b\b\b\b\b\b\b\b\b\b\b\b\b\b\b\b\b\b\b\b\b\b\b\b\b\b\b\b\b\b\b\b\b\b\b\b\b\b\r184/184 [==============================] - 1s 4ms/step - loss: 0.1539 - f1: 1.0760 - val_loss: 0.2056 - val_f1: 1.0749\n",
            "Epoch 10/150\n",
            "179/184 [============================>.] - ETA: 0s - loss: 0.1440 - f1: 1.0520"
          ]
        },
        {
          "name": "stderr",
          "output_type": "stream",
          "text": [
            "WARNING:tensorflow:Early stopping conditioned on metric `val_accuracy` which is not available. Available metrics are: loss,f1,val_loss,val_f1\n",
            "WARNING:tensorflow:Can save best model only with val_accuracy available, skipping.\n"
          ]
        },
        {
          "name": "stdout",
          "output_type": "stream",
          "text": [
            "\b\b\b\b\b\b\b\b\b\b\b\b\b\b\b\b\b\b\b\b\b\b\b\b\b\b\b\b\b\b\b\b\b\b\b\b\b\b\b\b\b\b\b\b\b\b\b\b\b\b\b\b\b\b\b\b\b\b\b\b\b\b\b\b\b\b\b\b\b\b\b\b\b\b\b\b\b\b\r184/184 [==============================] - 1s 5ms/step - loss: 0.1427 - f1: 1.0531 - val_loss: 0.1371 - val_f1: 1.0054\n",
            "Epoch 11/150\n",
            "177/184 [===========================>..] - ETA: 0s - loss: 0.1267 - f1: 1.0316"
          ]
        },
        {
          "name": "stderr",
          "output_type": "stream",
          "text": [
            "WARNING:tensorflow:Early stopping conditioned on metric `val_accuracy` which is not available. Available metrics are: loss,f1,val_loss,val_f1\n",
            "WARNING:tensorflow:Can save best model only with val_accuracy available, skipping.\n"
          ]
        },
        {
          "name": "stdout",
          "output_type": "stream",
          "text": [
            "\b\b\b\b\b\b\b\b\b\b\b\b\b\b\b\b\b\b\b\b\b\b\b\b\b\b\b\b\b\b\b\b\b\b\b\b\b\b\b\b\b\b\b\b\b\b\b\b\b\b\b\b\b\b\b\b\b\b\b\b\b\b\b\b\b\b\b\b\b\b\b\b\b\b\b\b\b\b\r184/184 [==============================] - 1s 6ms/step - loss: 0.1315 - f1: 1.0331 - val_loss: 0.1709 - val_f1: 1.0085\n",
            "Epoch 12/150\n",
            "181/184 [============================>.] - ETA: 0s - loss: 0.1245 - f1: 1.0309"
          ]
        },
        {
          "name": "stderr",
          "output_type": "stream",
          "text": [
            "WARNING:tensorflow:Early stopping conditioned on metric `val_accuracy` which is not available. Available metrics are: loss,f1,val_loss,val_f1\n",
            "WARNING:tensorflow:Can save best model only with val_accuracy available, skipping.\n"
          ]
        },
        {
          "name": "stdout",
          "output_type": "stream",
          "text": [
            "\b\b\b\b\b\b\b\b\b\b\b\b\b\b\b\b\b\b\b\b\b\b\b\b\b\b\b\b\b\b\b\b\b\b\b\b\b\b\b\b\b\b\b\b\b\b\b\b\b\b\b\b\b\b\b\b\b\b\b\b\b\b\b\b\b\b\b\b\b\b\b\b\b\b\b\b\b\b\r184/184 [==============================] - 1s 6ms/step - loss: 0.1244 - f1: 1.0320 - val_loss: 0.2827 - val_f1: 1.0119\n",
            "Epoch 13/150\n",
            "173/184 [===========================>..] - ETA: 0s - loss: 0.1120 - f1: 1.0202"
          ]
        },
        {
          "name": "stderr",
          "output_type": "stream",
          "text": [
            "WARNING:tensorflow:Early stopping conditioned on metric `val_accuracy` which is not available. Available metrics are: loss,f1,val_loss,val_f1\n",
            "WARNING:tensorflow:Can save best model only with val_accuracy available, skipping.\n"
          ]
        },
        {
          "name": "stdout",
          "output_type": "stream",
          "text": [
            "\b\b\b\b\b\b\b\b\b\b\b\b\b\b\b\b\b\b\b\b\b\b\b\b\b\b\b\b\b\b\b\b\b\b\b\b\b\b\b\b\b\b\b\b\b\b\b\b\b\b\b\b\b\b\b\b\b\b\b\b\b\b\b\b\b\b\b\b\b\b\b\b\b\b\b\b\b\b\r184/184 [==============================] - 1s 5ms/step - loss: 0.1107 - f1: 1.0192 - val_loss: 0.1952 - val_f1: 1.0166\n",
            "Epoch 14/150\n",
            "176/184 [===========================>..] - ETA: 0s - loss: 0.1181 - f1: 1.0156"
          ]
        },
        {
          "name": "stderr",
          "output_type": "stream",
          "text": [
            "WARNING:tensorflow:Early stopping conditioned on metric `val_accuracy` which is not available. Available metrics are: loss,f1,val_loss,val_f1\n",
            "WARNING:tensorflow:Can save best model only with val_accuracy available, skipping.\n"
          ]
        },
        {
          "name": "stdout",
          "output_type": "stream",
          "text": [
            "\b\b\b\b\b\b\b\b\b\b\b\b\b\b\b\b\b\b\b\b\b\b\b\b\b\b\b\b\b\b\b\b\b\b\b\b\b\b\b\b\b\b\b\b\b\b\b\b\b\b\b\b\b\b\b\b\b\b\b\b\b\b\b\b\b\b\b\b\b\b\b\b\b\b\b\b\b\b\r184/184 [==============================] - 1s 4ms/step - loss: 0.1167 - f1: 1.0169 - val_loss: 0.1883 - val_f1: 0.9967\n",
            "Epoch 15/150\n",
            "178/184 [============================>.] - ETA: 0s - loss: 0.1102 - f1: 1.0192"
          ]
        },
        {
          "name": "stderr",
          "output_type": "stream",
          "text": [
            "WARNING:tensorflow:Early stopping conditioned on metric `val_accuracy` which is not available. Available metrics are: loss,f1,val_loss,val_f1\n",
            "WARNING:tensorflow:Can save best model only with val_accuracy available, skipping.\n"
          ]
        },
        {
          "name": "stdout",
          "output_type": "stream",
          "text": [
            "\b\b\b\b\b\b\b\b\b\b\b\b\b\b\b\b\b\b\b\b\b\b\b\b\b\b\b\b\b\b\b\b\b\b\b\b\b\b\b\b\b\b\b\b\b\b\b\b\b\b\b\b\b\b\b\b\b\b\b\b\b\b\b\b\b\b\b\b\b\b\b\b\b\b\b\b\b\b\r184/184 [==============================] - 1s 4ms/step - loss: 0.1095 - f1: 1.0188 - val_loss: 0.1303 - val_f1: 0.9870\n",
            "Epoch 16/150\n",
            "175/184 [===========================>..] - ETA: 0s - loss: 0.1016 - f1: 1.0009"
          ]
        },
        {
          "name": "stderr",
          "output_type": "stream",
          "text": [
            "WARNING:tensorflow:Early stopping conditioned on metric `val_accuracy` which is not available. Available metrics are: loss,f1,val_loss,val_f1\n",
            "WARNING:tensorflow:Can save best model only with val_accuracy available, skipping.\n"
          ]
        },
        {
          "name": "stdout",
          "output_type": "stream",
          "text": [
            "\b\b\b\b\b\b\b\b\b\b\b\b\b\b\b\b\b\b\b\b\b\b\b\b\b\b\b\b\b\b\b\b\b\b\b\b\b\b\b\b\b\b\b\b\b\b\b\b\b\b\b\b\b\b\b\b\b\b\b\b\b\b\b\b\b\b\b\b\b\b\b\b\b\b\b\b\b\b\r184/184 [==============================] - 1s 4ms/step - loss: 0.1029 - f1: 1.0030 - val_loss: 0.1231 - val_f1: 0.9752\n",
            "Epoch 17/150\n",
            "171/184 [==========================>...] - ETA: 0s - loss: 0.0968 - f1: 1.0034"
          ]
        },
        {
          "name": "stderr",
          "output_type": "stream",
          "text": [
            "WARNING:tensorflow:Early stopping conditioned on metric `val_accuracy` which is not available. Available metrics are: loss,f1,val_loss,val_f1\n",
            "WARNING:tensorflow:Can save best model only with val_accuracy available, skipping.\n"
          ]
        },
        {
          "name": "stdout",
          "output_type": "stream",
          "text": [
            "\b\b\b\b\b\b\b\b\b\b\b\b\b\b\b\b\b\b\b\b\b\b\b\b\b\b\b\b\b\b\b\b\b\b\b\b\b\b\b\b\b\b\b\b\b\b\b\b\b\b\b\b\b\b\b\b\b\b\b\b\b\b\b\b\b\b\b\b\b\b\b\b\b\b\b\b\b\b\r184/184 [==============================] - 1s 5ms/step - loss: 0.0956 - f1: 1.0013 - val_loss: 0.1825 - val_f1: 0.9692\n",
            "Epoch 18/150\n",
            "179/184 [============================>.] - ETA: 0s - loss: 0.0907 - f1: 0.9975"
          ]
        },
        {
          "name": "stderr",
          "output_type": "stream",
          "text": [
            "WARNING:tensorflow:Early stopping conditioned on metric `val_accuracy` which is not available. Available metrics are: loss,f1,val_loss,val_f1\n",
            "WARNING:tensorflow:Can save best model only with val_accuracy available, skipping.\n"
          ]
        },
        {
          "name": "stdout",
          "output_type": "stream",
          "text": [
            "\b\b\b\b\b\b\b\b\b\b\b\b\b\b\b\b\b\b\b\b\b\b\b\b\b\b\b\b\b\b\b\b\b\b\b\b\b\b\b\b\b\b\b\b\b\b\b\b\b\b\b\b\b\b\b\b\b\b\b\b\b\b\b\b\b\b\b\b\b\b\b\b\b\b\b\b\b\b\r184/184 [==============================] - 1s 4ms/step - loss: 0.0924 - f1: 0.9988 - val_loss: 0.1476 - val_f1: 0.9616\n",
            "Epoch 19/150\n",
            "171/184 [==========================>...] - ETA: 0s - loss: 0.0879 - f1: 0.9918"
          ]
        },
        {
          "name": "stderr",
          "output_type": "stream",
          "text": [
            "WARNING:tensorflow:Early stopping conditioned on metric `val_accuracy` which is not available. Available metrics are: loss,f1,val_loss,val_f1\n",
            "WARNING:tensorflow:Can save best model only with val_accuracy available, skipping.\n"
          ]
        },
        {
          "name": "stdout",
          "output_type": "stream",
          "text": [
            "\b\b\b\b\b\b\b\b\b\b\b\b\b\b\b\b\b\b\b\b\b\b\b\b\b\b\b\b\b\b\b\b\b\b\b\b\b\b\b\b\b\b\b\b\b\b\b\b\b\b\b\b\b\b\b\b\b\b\b\b\b\b\b\b\b\b\b\b\b\b\b\b\b\b\b\b\b\b\r184/184 [==============================] - 1s 4ms/step - loss: 0.0867 - f1: 0.9898 - val_loss: 0.1313 - val_f1: 0.9548\n",
            "Epoch 20/150\n",
            "178/184 [============================>.] - ETA: 0s - loss: 0.0926 - f1: 0.9924"
          ]
        },
        {
          "name": "stderr",
          "output_type": "stream",
          "text": [
            "WARNING:tensorflow:Early stopping conditioned on metric `val_accuracy` which is not available. Available metrics are: loss,f1,val_loss,val_f1\n",
            "WARNING:tensorflow:Can save best model only with val_accuracy available, skipping.\n"
          ]
        },
        {
          "name": "stdout",
          "output_type": "stream",
          "text": [
            "\b\b\b\b\b\b\b\b\b\b\b\b\b\b\b\b\b\b\b\b\b\b\b\b\b\b\b\b\b\b\b\b\b\b\b\b\b\b\b\b\b\b\b\b\b\b\b\b\b\b\b\b\b\b\b\b\b\b\b\b\b\b\b\b\b\b\b\b\b\b\b\b\b\b\b\b\b\b\r184/184 [==============================] - 1s 4ms/step - loss: 0.0913 - f1: 0.9927 - val_loss: 0.1659 - val_f1: 0.9621\n",
            "Epoch 21/150\n",
            "177/184 [===========================>..] - ETA: 0s - loss: 0.0878 - f1: 0.9884"
          ]
        },
        {
          "name": "stderr",
          "output_type": "stream",
          "text": [
            "WARNING:tensorflow:Early stopping conditioned on metric `val_accuracy` which is not available. Available metrics are: loss,f1,val_loss,val_f1\n",
            "WARNING:tensorflow:Can save best model only with val_accuracy available, skipping.\n"
          ]
        },
        {
          "name": "stdout",
          "output_type": "stream",
          "text": [
            "\b\b\b\b\b\b\b\b\b\b\b\b\b\b\b\b\b\b\b\b\b\b\b\b\b\b\b\b\b\b\b\b\b\b\b\b\b\b\b\b\b\b\b\b\b\b\b\b\b\b\b\b\b\b\b\b\b\b\b\b\b\b\b\b\b\b\b\b\b\b\b\b\b\b\b\b\b\b\r184/184 [==============================] - 1s 4ms/step - loss: 0.0902 - f1: 0.9886 - val_loss: 0.1282 - val_f1: 0.9646\n",
            "Epoch 22/150\n",
            "171/184 [==========================>...] - ETA: 0s - loss: 0.0890 - f1: 0.9885"
          ]
        },
        {
          "name": "stderr",
          "output_type": "stream",
          "text": [
            "WARNING:tensorflow:Early stopping conditioned on metric `val_accuracy` which is not available. Available metrics are: loss,f1,val_loss,val_f1\n",
            "WARNING:tensorflow:Can save best model only with val_accuracy available, skipping.\n"
          ]
        },
        {
          "name": "stdout",
          "output_type": "stream",
          "text": [
            "\b\b\b\b\b\b\b\b\b\b\b\b\b\b\b\b\b\b\b\b\b\b\b\b\b\b\b\b\b\b\b\b\b\b\b\b\b\b\b\b\b\b\b\b\b\b\b\b\b\b\b\b\b\b\b\b\b\b\b\b\b\b\b\b\b\b\b\b\b\b\b\b\b\b\b\b\b\b\r184/184 [==============================] - 1s 4ms/step - loss: 0.0869 - f1: 0.9870 - val_loss: 0.1285 - val_f1: 0.9568\n",
            "Epoch 23/150\n",
            "177/184 [===========================>..] - ETA: 0s - loss: 0.0808 - f1: 0.9777"
          ]
        },
        {
          "name": "stderr",
          "output_type": "stream",
          "text": [
            "WARNING:tensorflow:Early stopping conditioned on metric `val_accuracy` which is not available. Available metrics are: loss,f1,val_loss,val_f1\n",
            "WARNING:tensorflow:Can save best model only with val_accuracy available, skipping.\n"
          ]
        },
        {
          "name": "stdout",
          "output_type": "stream",
          "text": [
            "\b\b\b\b\b\b\b\b\b\b\b\b\b\b\b\b\b\b\b\b\b\b\b\b\b\b\b\b\b\b\b\b\b\b\b\b\b\b\b\b\b\b\b\b\b\b\b\b\b\b\b\b\b\b\b\b\b\b\b\b\b\b\b\b\b\b\b\b\b\b\b\b\b\b\b\b\b\b\r184/184 [==============================] - 1s 4ms/step - loss: 0.0790 - f1: 0.9764 - val_loss: 0.1259 - val_f1: 0.9619\n",
            "Epoch 24/150\n",
            "181/184 [============================>.] - ETA: 0s - loss: 0.0702 - f1: 0.9784"
          ]
        },
        {
          "name": "stderr",
          "output_type": "stream",
          "text": [
            "WARNING:tensorflow:Early stopping conditioned on metric `val_accuracy` which is not available. Available metrics are: loss,f1,val_loss,val_f1\n",
            "WARNING:tensorflow:Can save best model only with val_accuracy available, skipping.\n"
          ]
        },
        {
          "name": "stdout",
          "output_type": "stream",
          "text": [
            "\b\b\b\b\b\b\b\b\b\b\b\b\b\b\b\b\b\b\b\b\b\b\b\b\b\b\b\b\b\b\b\b\b\b\b\b\b\b\b\b\b\b\b\b\b\b\b\b\b\b\b\b\b\b\b\b\b\b\b\b\b\b\b\b\b\b\b\b\b\b\b\b\b\b\b\b\b\b\r184/184 [==============================] - 1s 4ms/step - loss: 0.0698 - f1: 0.9783 - val_loss: 0.1626 - val_f1: 0.9517\n",
            "Epoch 25/150\n",
            "182/184 [============================>.] - ETA: 0s - loss: 0.0894 - f1: 0.9782"
          ]
        },
        {
          "name": "stderr",
          "output_type": "stream",
          "text": [
            "WARNING:tensorflow:Early stopping conditioned on metric `val_accuracy` which is not available. Available metrics are: loss,f1,val_loss,val_f1\n",
            "WARNING:tensorflow:Can save best model only with val_accuracy available, skipping.\n"
          ]
        },
        {
          "name": "stdout",
          "output_type": "stream",
          "text": [
            "\b\b\b\b\b\b\b\b\b\b\b\b\b\b\b\b\b\b\b\b\b\b\b\b\b\b\b\b\b\b\b\b\b\b\b\b\b\b\b\b\b\b\b\b\b\b\b\b\b\b\b\b\b\b\b\b\b\b\b\b\b\b\b\b\b\b\b\b\b\b\b\b\b\b\b\b\b\b\r184/184 [==============================] - 1s 6ms/step - loss: 0.0889 - f1: 0.9777 - val_loss: 0.1181 - val_f1: 0.9531\n",
            "Epoch 26/150\n",
            "183/184 [============================>.] - ETA: 0s - loss: 0.0743 - f1: 0.9760"
          ]
        },
        {
          "name": "stderr",
          "output_type": "stream",
          "text": [
            "WARNING:tensorflow:Early stopping conditioned on metric `val_accuracy` which is not available. Available metrics are: loss,f1,val_loss,val_f1\n",
            "WARNING:tensorflow:Can save best model only with val_accuracy available, skipping.\n"
          ]
        },
        {
          "name": "stdout",
          "output_type": "stream",
          "text": [
            "\b\b\b\b\b\b\b\b\b\b\b\b\b\b\b\b\b\b\b\b\b\b\b\b\b\b\b\b\b\b\b\b\b\b\b\b\b\b\b\b\b\b\b\b\b\b\b\b\b\b\b\b\b\b\b\b\b\b\b\b\b\b\b\b\b\b\b\b\b\b\b\b\b\b\b\b\b\b\r184/184 [==============================] - 1s 7ms/step - loss: 0.0740 - f1: 0.9753 - val_loss: 0.1092 - val_f1: 0.9562\n",
            "Epoch 27/150\n",
            "182/184 [============================>.] - ETA: 0s - loss: 0.0605 - f1: 0.9657"
          ]
        },
        {
          "name": "stderr",
          "output_type": "stream",
          "text": [
            "WARNING:tensorflow:Early stopping conditioned on metric `val_accuracy` which is not available. Available metrics are: loss,f1,val_loss,val_f1\n",
            "WARNING:tensorflow:Can save best model only with val_accuracy available, skipping.\n"
          ]
        },
        {
          "name": "stdout",
          "output_type": "stream",
          "text": [
            "\b\b\b\b\b\b\b\b\b\b\b\b\b\b\b\b\b\b\b\b\b\b\b\b\b\b\b\b\b\b\b\b\b\b\b\b\b\b\b\b\b\b\b\b\b\b\b\b\b\b\b\b\b\b\b\b\b\b\b\b\b\b\b\b\b\b\b\b\b\b\b\b\b\b\b\b\b\b\r184/184 [==============================] - 1s 7ms/step - loss: 0.0606 - f1: 0.9662 - val_loss: 0.1517 - val_f1: 0.9500\n",
            "Epoch 28/150\n",
            "176/184 [===========================>..] - ETA: 0s - loss: 0.0763 - f1: 0.9747"
          ]
        },
        {
          "name": "stderr",
          "output_type": "stream",
          "text": [
            "WARNING:tensorflow:Early stopping conditioned on metric `val_accuracy` which is not available. Available metrics are: loss,f1,val_loss,val_f1\n",
            "WARNING:tensorflow:Can save best model only with val_accuracy available, skipping.\n"
          ]
        },
        {
          "name": "stdout",
          "output_type": "stream",
          "text": [
            "\b\b\b\b\b\b\b\b\b\b\b\b\b\b\b\b\b\b\b\b\b\b\b\b\b\b\b\b\b\b\b\b\b\b\b\b\b\b\b\b\b\b\b\b\b\b\b\b\b\b\b\b\b\b\b\b\b\b\b\b\b\b\b\b\b\b\b\b\b\b\b\b\b\b\b\b\b\b\r184/184 [==============================] - 1s 8ms/step - loss: 0.0750 - f1: 0.9750 - val_loss: 0.2361 - val_f1: 0.9644\n",
            "Epoch 29/150\n",
            "179/184 [============================>.] - ETA: 0s - loss: 0.0673 - f1: 0.9720"
          ]
        },
        {
          "name": "stderr",
          "output_type": "stream",
          "text": [
            "WARNING:tensorflow:Early stopping conditioned on metric `val_accuracy` which is not available. Available metrics are: loss,f1,val_loss,val_f1\n",
            "WARNING:tensorflow:Can save best model only with val_accuracy available, skipping.\n"
          ]
        },
        {
          "name": "stdout",
          "output_type": "stream",
          "text": [
            "\b\b\b\b\b\b\b\b\b\b\b\b\b\b\b\b\b\b\b\b\b\b\b\b\b\b\b\b\b\b\b\b\b\b\b\b\b\b\b\b\b\b\b\b\b\b\b\b\b\b\b\b\b\b\b\b\b\b\b\b\b\b\b\b\b\b\b\b\b\b\b\b\b\b\b\b\b\b\r184/184 [==============================] - 1s 6ms/step - loss: 0.0663 - f1: 0.9720 - val_loss: 0.1163 - val_f1: 0.9439\n",
            "Epoch 30/150\n",
            "183/184 [============================>.] - ETA: 0s - loss: 0.0658 - f1: 0.9644"
          ]
        },
        {
          "name": "stderr",
          "output_type": "stream",
          "text": [
            "WARNING:tensorflow:Early stopping conditioned on metric `val_accuracy` which is not available. Available metrics are: loss,f1,val_loss,val_f1\n",
            "WARNING:tensorflow:Can save best model only with val_accuracy available, skipping.\n"
          ]
        },
        {
          "name": "stdout",
          "output_type": "stream",
          "text": [
            "\b\b\b\b\b\b\b\b\b\b\b\b\b\b\b\b\b\b\b\b\b\b\b\b\b\b\b\b\b\b\b\b\b\b\b\b\b\b\b\b\b\b\b\b\b\b\b\b\b\b\b\b\b\b\b\b\b\b\b\b\b\b\b\b\b\b\b\b\b\b\b\b\b\b\b\b\b\b\r184/184 [==============================] - 1s 6ms/step - loss: 0.0660 - f1: 0.9648 - val_loss: 0.2551 - val_f1: 0.9599\n",
            "Epoch 31/150\n",
            "170/184 [==========================>...] - ETA: 0s - loss: 0.0614 - f1: 0.9675"
          ]
        },
        {
          "name": "stderr",
          "output_type": "stream",
          "text": [
            "WARNING:tensorflow:Early stopping conditioned on metric `val_accuracy` which is not available. Available metrics are: loss,f1,val_loss,val_f1\n",
            "WARNING:tensorflow:Can save best model only with val_accuracy available, skipping.\n"
          ]
        },
        {
          "name": "stdout",
          "output_type": "stream",
          "text": [
            "\b\b\b\b\b\b\b\b\b\b\b\b\b\b\b\b\b\b\b\b\b\b\b\b\b\b\b\b\b\b\b\b\b\b\b\b\b\b\b\b\b\b\b\b\b\b\b\b\b\b\b\b\b\b\b\b\b\b\b\b\b\b\b\b\b\b\b\b\b\b\b\b\b\b\b\b\b\b\r184/184 [==============================] - 1s 5ms/step - loss: 0.0609 - f1: 0.9664 - val_loss: 0.1666 - val_f1: 0.9467\n",
            "Epoch 32/150\n",
            "177/184 [===========================>..] - ETA: 0s - loss: 0.0636 - f1: 0.9613"
          ]
        },
        {
          "name": "stderr",
          "output_type": "stream",
          "text": [
            "WARNING:tensorflow:Early stopping conditioned on metric `val_accuracy` which is not available. Available metrics are: loss,f1,val_loss,val_f1\n",
            "WARNING:tensorflow:Can save best model only with val_accuracy available, skipping.\n"
          ]
        },
        {
          "name": "stdout",
          "output_type": "stream",
          "text": [
            "\b\b\b\b\b\b\b\b\b\b\b\b\b\b\b\b\b\b\b\b\b\b\b\b\b\b\b\b\b\b\b\b\b\b\b\b\b\b\b\b\b\b\b\b\b\b\b\b\b\b\b\b\b\b\b\b\b\b\b\b\b\b\b\b\b\b\b\b\b\b\b\b\b\b\b\b\b\b\r184/184 [==============================] - 1s 5ms/step - loss: 0.0645 - f1: 0.9615 - val_loss: 0.1225 - val_f1: 0.9388\n",
            "Epoch 33/150\n",
            "179/184 [============================>.] - ETA: 0s - loss: 0.0626 - f1: 0.9638"
          ]
        },
        {
          "name": "stderr",
          "output_type": "stream",
          "text": [
            "WARNING:tensorflow:Early stopping conditioned on metric `val_accuracy` which is not available. Available metrics are: loss,f1,val_loss,val_f1\n",
            "WARNING:tensorflow:Can save best model only with val_accuracy available, skipping.\n"
          ]
        },
        {
          "name": "stdout",
          "output_type": "stream",
          "text": [
            "\b\b\b\b\b\b\b\b\b\b\b\b\b\b\b\b\b\b\b\b\b\b\b\b\b\b\b\b\b\b\b\b\b\b\b\b\b\b\b\b\b\b\b\b\b\b\b\b\b\b\b\b\b\b\b\b\b\b\b\b\b\b\b\b\b\b\b\b\b\b\b\b\b\b\b\b\b\b\r184/184 [==============================] - 1s 5ms/step - loss: 0.0621 - f1: 0.9644 - val_loss: 0.1275 - val_f1: 0.9392\n",
            "Epoch 34/150\n",
            "183/184 [============================>.] - ETA: 0s - loss: 0.0553 - f1: 0.9559"
          ]
        },
        {
          "name": "stderr",
          "output_type": "stream",
          "text": [
            "WARNING:tensorflow:Early stopping conditioned on metric `val_accuracy` which is not available. Available metrics are: loss,f1,val_loss,val_f1\n",
            "WARNING:tensorflow:Can save best model only with val_accuracy available, skipping.\n"
          ]
        },
        {
          "name": "stdout",
          "output_type": "stream",
          "text": [
            "\b\b\b\b\b\b\b\b\b\b\b\b\b\b\b\b\b\b\b\b\b\b\b\b\b\b\b\b\b\b\b\b\b\b\b\b\b\b\b\b\b\b\b\b\b\b\b\b\b\b\b\b\b\b\b\b\b\b\b\b\b\b\b\b\b\b\b\b\b\b\b\b\b\b\b\b\b\b\r184/184 [==============================] - 1s 5ms/step - loss: 0.0553 - f1: 0.9566 - val_loss: 0.1100 - val_f1: 0.9396\n",
            "Epoch 35/150\n",
            "175/184 [===========================>..] - ETA: 0s - loss: 0.0602 - f1: 0.9653"
          ]
        },
        {
          "name": "stderr",
          "output_type": "stream",
          "text": [
            "WARNING:tensorflow:Early stopping conditioned on metric `val_accuracy` which is not available. Available metrics are: loss,f1,val_loss,val_f1\n",
            "WARNING:tensorflow:Can save best model only with val_accuracy available, skipping.\n"
          ]
        },
        {
          "name": "stdout",
          "output_type": "stream",
          "text": [
            "\b\b\b\b\b\b\b\b\b\b\b\b\b\b\b\b\b\b\b\b\b\b\b\b\b\b\b\b\b\b\b\b\b\b\b\b\b\b\b\b\b\b\b\b\b\b\b\b\b\b\b\b\b\b\b\b\b\b\b\b\b\b\b\b\b\b\b\b\b\b\b\b\b\b\b\b\b\b\r184/184 [==============================] - 1s 5ms/step - loss: 0.0606 - f1: 0.9650 - val_loss: 0.1050 - val_f1: 0.9385\n",
            "Epoch 36/150\n",
            "182/184 [============================>.] - ETA: 0s - loss: 0.0598 - f1: 0.9562"
          ]
        },
        {
          "name": "stderr",
          "output_type": "stream",
          "text": [
            "WARNING:tensorflow:Early stopping conditioned on metric `val_accuracy` which is not available. Available metrics are: loss,f1,val_loss,val_f1\n",
            "WARNING:tensorflow:Can save best model only with val_accuracy available, skipping.\n"
          ]
        },
        {
          "name": "stdout",
          "output_type": "stream",
          "text": [
            "\b\b\b\b\b\b\b\b\b\b\b\b\b\b\b\b\b\b\b\b\b\b\b\b\b\b\b\b\b\b\b\b\b\b\b\b\b\b\b\b\b\b\b\b\b\b\b\b\b\b\b\b\b\b\b\b\b\b\b\b\b\b\b\b\b\b\b\b\b\b\b\b\b\b\b\b\b\b\r184/184 [==============================] - 1s 7ms/step - loss: 0.0624 - f1: 0.9567 - val_loss: 0.1549 - val_f1: 0.9436\n",
            "Epoch 37/150\n",
            "182/184 [============================>.] - ETA: 0s - loss: 0.0587 - f1: 0.9619"
          ]
        },
        {
          "name": "stderr",
          "output_type": "stream",
          "text": [
            "WARNING:tensorflow:Early stopping conditioned on metric `val_accuracy` which is not available. Available metrics are: loss,f1,val_loss,val_f1\n",
            "WARNING:tensorflow:Can save best model only with val_accuracy available, skipping.\n"
          ]
        },
        {
          "name": "stdout",
          "output_type": "stream",
          "text": [
            "\b\b\b\b\b\b\b\b\b\b\b\b\b\b\b\b\b\b\b\b\b\b\b\b\b\b\b\b\b\b\b\b\b\b\b\b\b\b\b\b\b\b\b\b\b\b\b\b\b\b\b\b\b\b\b\b\b\b\b\b\b\b\b\b\b\b\b\b\b\b\b\b\b\b\b\b\b\b\r184/184 [==============================] - 2s 8ms/step - loss: 0.0583 - f1: 0.9612 - val_loss: 0.1101 - val_f1: 0.9378\n",
            "Epoch 38/150\n",
            "180/184 [============================>.] - ETA: 0s - loss: 0.0579 - f1: 0.9579"
          ]
        },
        {
          "name": "stderr",
          "output_type": "stream",
          "text": [
            "WARNING:tensorflow:Early stopping conditioned on metric `val_accuracy` which is not available. Available metrics are: loss,f1,val_loss,val_f1\n",
            "WARNING:tensorflow:Can save best model only with val_accuracy available, skipping.\n"
          ]
        },
        {
          "name": "stdout",
          "output_type": "stream",
          "text": [
            "\b\b\b\b\b\b\b\b\b\b\b\b\b\b\b\b\b\b\b\b\b\b\b\b\b\b\b\b\b\b\b\b\b\b\b\b\b\b\b\b\b\b\b\b\b\b\b\b\b\b\b\b\b\b\b\b\b\b\b\b\b\b\b\b\b\b\b\b\b\b\b\b\b\b\b\b\b\b\r184/184 [==============================] - 2s 9ms/step - loss: 0.0575 - f1: 0.9575 - val_loss: 0.1137 - val_f1: 0.9439\n",
            "Epoch 39/150\n",
            "178/184 [============================>.] - ETA: 0s - loss: 0.0599 - f1: 0.9611"
          ]
        },
        {
          "name": "stderr",
          "output_type": "stream",
          "text": [
            "WARNING:tensorflow:Early stopping conditioned on metric `val_accuracy` which is not available. Available metrics are: loss,f1,val_loss,val_f1\n",
            "WARNING:tensorflow:Can save best model only with val_accuracy available, skipping.\n"
          ]
        },
        {
          "name": "stdout",
          "output_type": "stream",
          "text": [
            "\b\b\b\b\b\b\b\b\b\b\b\b\b\b\b\b\b\b\b\b\b\b\b\b\b\b\b\b\b\b\b\b\b\b\b\b\b\b\b\b\b\b\b\b\b\b\b\b\b\b\b\b\b\b\b\b\b\b\b\b\b\b\b\b\b\b\b\b\b\b\b\b\b\b\b\b\b\b\r184/184 [==============================] - 1s 5ms/step - loss: 0.0587 - f1: 0.9600 - val_loss: 0.1216 - val_f1: 0.9375\n",
            "Epoch 40/150\n",
            "171/184 [==========================>...] - ETA: 0s - loss: 0.0573 - f1: 0.9615"
          ]
        },
        {
          "name": "stderr",
          "output_type": "stream",
          "text": [
            "WARNING:tensorflow:Early stopping conditioned on metric `val_accuracy` which is not available. Available metrics are: loss,f1,val_loss,val_f1\n",
            "WARNING:tensorflow:Can save best model only with val_accuracy available, skipping.\n"
          ]
        },
        {
          "name": "stdout",
          "output_type": "stream",
          "text": [
            "\b\b\b\b\b\b\b\b\b\b\b\b\b\b\b\b\b\b\b\b\b\b\b\b\b\b\b\b\b\b\b\b\b\b\b\b\b\b\b\b\b\b\b\b\b\b\b\b\b\b\b\b\b\b\b\b\b\b\b\b\b\b\b\b\b\b\b\b\b\b\b\b\b\b\b\b\b\b\r184/184 [==============================] - 1s 4ms/step - loss: 0.0566 - f1: 0.9608 - val_loss: 0.1091 - val_f1: 0.9358\n",
            "Epoch 41/150\n",
            "177/184 [===========================>..] - ETA: 0s - loss: 0.0555 - f1: 0.9572"
          ]
        },
        {
          "name": "stderr",
          "output_type": "stream",
          "text": [
            "WARNING:tensorflow:Early stopping conditioned on metric `val_accuracy` which is not available. Available metrics are: loss,f1,val_loss,val_f1\n",
            "WARNING:tensorflow:Can save best model only with val_accuracy available, skipping.\n"
          ]
        },
        {
          "name": "stdout",
          "output_type": "stream",
          "text": [
            "\b\b\b\b\b\b\b\b\b\b\b\b\b\b\b\b\b\b\b\b\b\b\b\b\b\b\b\b\b\b\b\b\b\b\b\b\b\b\b\b\b\b\b\b\b\b\b\b\b\b\b\b\b\b\b\b\b\b\b\b\b\b\b\b\b\b\b\b\b\b\b\b\b\b\b\b\b\b\r184/184 [==============================] - 1s 4ms/step - loss: 0.0553 - f1: 0.9574 - val_loss: 0.1139 - val_f1: 0.9341\n",
            "Epoch 42/150\n",
            "175/184 [===========================>..] - ETA: 0s - loss: 0.0506 - f1: 0.9545"
          ]
        },
        {
          "name": "stderr",
          "output_type": "stream",
          "text": [
            "WARNING:tensorflow:Early stopping conditioned on metric `val_accuracy` which is not available. Available metrics are: loss,f1,val_loss,val_f1\n",
            "WARNING:tensorflow:Can save best model only with val_accuracy available, skipping.\n"
          ]
        },
        {
          "name": "stdout",
          "output_type": "stream",
          "text": [
            "\b\b\b\b\b\b\b\b\b\b\b\b\b\b\b\b\b\b\b\b\b\b\b\b\b\b\b\b\b\b\b\b\b\b\b\b\b\b\b\b\b\b\b\b\b\b\b\b\b\b\b\b\b\b\b\b\b\b\b\b\b\b\b\b\b\b\b\b\b\b\b\b\b\b\b\b\b\b\r184/184 [==============================] - 1s 4ms/step - loss: 0.0495 - f1: 0.9531 - val_loss: 0.1196 - val_f1: 0.9355\n",
            "Epoch 43/150\n",
            "175/184 [===========================>..] - ETA: 0s - loss: 0.0513 - f1: 0.9530"
          ]
        },
        {
          "name": "stderr",
          "output_type": "stream",
          "text": [
            "WARNING:tensorflow:Early stopping conditioned on metric `val_accuracy` which is not available. Available metrics are: loss,f1,val_loss,val_f1\n",
            "WARNING:tensorflow:Can save best model only with val_accuracy available, skipping.\n"
          ]
        },
        {
          "name": "stdout",
          "output_type": "stream",
          "text": [
            "\b\b\b\b\b\b\b\b\b\b\b\b\b\b\b\b\b\b\b\b\b\b\b\b\b\b\b\b\b\b\b\b\b\b\b\b\b\b\b\b\b\b\b\b\b\b\b\b\b\b\b\b\b\b\b\b\b\b\b\b\b\b\b\b\b\b\b\b\b\b\b\b\b\b\b\b\b\b\r184/184 [==============================] - 1s 4ms/step - loss: 0.0512 - f1: 0.9526 - val_loss: 0.1212 - val_f1: 0.9365\n",
            "Epoch 44/150\n",
            "177/184 [===========================>..] - ETA: 0s - loss: 0.0489 - f1: 0.9522"
          ]
        },
        {
          "name": "stderr",
          "output_type": "stream",
          "text": [
            "WARNING:tensorflow:Early stopping conditioned on metric `val_accuracy` which is not available. Available metrics are: loss,f1,val_loss,val_f1\n",
            "WARNING:tensorflow:Can save best model only with val_accuracy available, skipping.\n"
          ]
        },
        {
          "name": "stdout",
          "output_type": "stream",
          "text": [
            "\b\b\b\b\b\b\b\b\b\b\b\b\b\b\b\b\b\b\b\b\b\b\b\b\b\b\b\b\b\b\b\b\b\b\b\b\b\b\b\b\b\b\b\b\b\b\b\b\b\b\b\b\b\b\b\b\b\b\b\b\b\b\b\b\b\b\b\b\b\b\b\b\b\b\b\b\b\b\r184/184 [==============================] - 1s 4ms/step - loss: 0.0487 - f1: 0.9518 - val_loss: 0.1086 - val_f1: 0.9344\n",
            "Epoch 45/150\n",
            "179/184 [============================>.] - ETA: 0s - loss: 0.0520 - f1: 0.9522"
          ]
        },
        {
          "name": "stderr",
          "output_type": "stream",
          "text": [
            "WARNING:tensorflow:Early stopping conditioned on metric `val_accuracy` which is not available. Available metrics are: loss,f1,val_loss,val_f1\n",
            "WARNING:tensorflow:Can save best model only with val_accuracy available, skipping.\n"
          ]
        },
        {
          "name": "stdout",
          "output_type": "stream",
          "text": [
            "\b\b\b\b\b\b\b\b\b\b\b\b\b\b\b\b\b\b\b\b\b\b\b\b\b\b\b\b\b\b\b\b\b\b\b\b\b\b\b\b\b\b\b\b\b\b\b\b\b\b\b\b\b\b\b\b\b\b\b\b\b\b\b\b\b\b\b\b\b\b\b\b\b\b\b\b\b\b\r184/184 [==============================] - 1s 4ms/step - loss: 0.0532 - f1: 0.9535 - val_loss: 0.1385 - val_f1: 0.9558\n",
            "Epoch 46/150\n",
            "177/184 [===========================>..] - ETA: 0s - loss: 0.0501 - f1: 0.9525"
          ]
        },
        {
          "name": "stderr",
          "output_type": "stream",
          "text": [
            "WARNING:tensorflow:Early stopping conditioned on metric `val_accuracy` which is not available. Available metrics are: loss,f1,val_loss,val_f1\n",
            "WARNING:tensorflow:Can save best model only with val_accuracy available, skipping.\n"
          ]
        },
        {
          "name": "stdout",
          "output_type": "stream",
          "text": [
            "\b\b\b\b\b\b\b\b\b\b\b\b\b\b\b\b\b\b\b\b\b\b\b\b\b\b\b\b\b\b\b\b\b\b\b\b\b\b\b\b\b\b\b\b\b\b\b\b\b\b\b\b\b\b\b\b\b\b\b\b\b\b\b\b\b\b\b\b\b\b\b\b\b\b\b\b\b\b\r184/184 [==============================] - 1s 5ms/step - loss: 0.0494 - f1: 0.9520 - val_loss: 0.1103 - val_f1: 0.9324\n",
            "Epoch 47/150\n",
            "172/184 [===========================>..] - ETA: 0s - loss: 0.0449 - f1: 0.9509"
          ]
        },
        {
          "name": "stderr",
          "output_type": "stream",
          "text": [
            "WARNING:tensorflow:Early stopping conditioned on metric `val_accuracy` which is not available. Available metrics are: loss,f1,val_loss,val_f1\n",
            "WARNING:tensorflow:Can save best model only with val_accuracy available, skipping.\n"
          ]
        },
        {
          "name": "stdout",
          "output_type": "stream",
          "text": [
            "\b\b\b\b\b\b\b\b\b\b\b\b\b\b\b\b\b\b\b\b\b\b\b\b\b\b\b\b\b\b\b\b\b\b\b\b\b\b\b\b\b\b\b\b\b\b\b\b\b\b\b\b\b\b\b\b\b\b\b\b\b\b\b\b\b\b\b\b\b\b\b\b\b\b\b\b\b\b\r184/184 [==============================] - 1s 4ms/step - loss: 0.0448 - f1: 0.9510 - val_loss: 0.1208 - val_f1: 0.9259\n",
            "Epoch 48/150\n",
            "182/184 [============================>.] - ETA: 0s - loss: 0.0436 - f1: 0.9494"
          ]
        },
        {
          "name": "stderr",
          "output_type": "stream",
          "text": [
            "WARNING:tensorflow:Early stopping conditioned on metric `val_accuracy` which is not available. Available metrics are: loss,f1,val_loss,val_f1\n",
            "WARNING:tensorflow:Can save best model only with val_accuracy available, skipping.\n"
          ]
        },
        {
          "name": "stdout",
          "output_type": "stream",
          "text": [
            "\b\b\b\b\b\b\b\b\b\b\b\b\b\b\b\b\b\b\b\b\b\b\b\b\b\b\b\b\b\b\b\b\b\b\b\b\b\b\b\b\b\b\b\b\b\b\b\b\b\b\b\b\b\b\b\b\b\b\b\b\b\b\b\b\b\b\b\b\b\b\b\b\b\b\b\b\b\b\r184/184 [==============================] - 1s 4ms/step - loss: 0.0433 - f1: 0.9495 - val_loss: 0.1167 - val_f1: 0.9300\n",
            "Epoch 49/150\n",
            "170/184 [==========================>...] - ETA: 0s - loss: 0.0472 - f1: 0.9476"
          ]
        },
        {
          "name": "stderr",
          "output_type": "stream",
          "text": [
            "WARNING:tensorflow:Early stopping conditioned on metric `val_accuracy` which is not available. Available metrics are: loss,f1,val_loss,val_f1\n",
            "WARNING:tensorflow:Can save best model only with val_accuracy available, skipping.\n"
          ]
        },
        {
          "name": "stdout",
          "output_type": "stream",
          "text": [
            "\b\b\b\b\b\b\b\b\b\b\b\b\b\b\b\b\b\b\b\b\b\b\b\b\b\b\b\b\b\b\b\b\b\b\b\b\b\b\b\b\b\b\b\b\b\b\b\b\b\b\b\b\b\b\b\b\b\b\b\b\b\b\b\b\b\b\b\b\b\b\b\b\b\b\b\b\b\b\r184/184 [==============================] - 1s 5ms/step - loss: 0.0466 - f1: 0.9477 - val_loss: 0.1499 - val_f1: 0.9266\n",
            "Epoch 50/150\n",
            "178/184 [============================>.] - ETA: 0s - loss: 0.0450 - f1: 0.9457"
          ]
        },
        {
          "name": "stderr",
          "output_type": "stream",
          "text": [
            "WARNING:tensorflow:Early stopping conditioned on metric `val_accuracy` which is not available. Available metrics are: loss,f1,val_loss,val_f1\n",
            "WARNING:tensorflow:Can save best model only with val_accuracy available, skipping.\n"
          ]
        },
        {
          "name": "stdout",
          "output_type": "stream",
          "text": [
            "\b\b\b\b\b\b\b\b\b\b\b\b\b\b\b\b\b\b\b\b\b\b\b\b\b\b\b\b\b\b\b\b\b\b\b\b\b\b\b\b\b\b\b\b\b\b\b\b\b\b\b\b\b\b\b\b\b\b\b\b\b\b\b\b\b\b\b\b\b\b\b\b\b\b\b\b\b\b\r184/184 [==============================] - 1s 5ms/step - loss: 0.0446 - f1: 0.9451 - val_loss: 0.1700 - val_f1: 0.9407\n",
            "Epoch 51/150\n",
            "181/184 [============================>.] - ETA: 0s - loss: 0.0438 - f1: 0.9461"
          ]
        },
        {
          "name": "stderr",
          "output_type": "stream",
          "text": [
            "WARNING:tensorflow:Early stopping conditioned on metric `val_accuracy` which is not available. Available metrics are: loss,f1,val_loss,val_f1\n",
            "WARNING:tensorflow:Can save best model only with val_accuracy available, skipping.\n"
          ]
        },
        {
          "name": "stdout",
          "output_type": "stream",
          "text": [
            "\b\b\b\b\b\b\b\b\b\b\b\b\b\b\b\b\b\b\b\b\b\b\b\b\b\b\b\b\b\b\b\b\b\b\b\b\b\b\b\b\b\b\b\b\b\b\b\b\b\b\b\b\b\b\b\b\b\b\b\b\b\b\b\b\b\b\b\b\b\b\b\b\b\b\b\b\b\b\r184/184 [==============================] - 1s 7ms/step - loss: 0.0433 - f1: 0.9459 - val_loss: 0.1182 - val_f1: 0.9232\n",
            "Epoch 52/150\n",
            "179/184 [============================>.] - ETA: 0s - loss: 0.0477 - f1: 0.9468"
          ]
        },
        {
          "name": "stderr",
          "output_type": "stream",
          "text": [
            "WARNING:tensorflow:Early stopping conditioned on metric `val_accuracy` which is not available. Available metrics are: loss,f1,val_loss,val_f1\n",
            "WARNING:tensorflow:Can save best model only with val_accuracy available, skipping.\n"
          ]
        },
        {
          "name": "stdout",
          "output_type": "stream",
          "text": [
            "\b\b\b\b\b\b\b\b\b\b\b\b\b\b\b\b\b\b\b\b\b\b\b\b\b\b\b\b\b\b\b\b\b\b\b\b\b\b\b\b\b\b\b\b\b\b\b\b\b\b\b\b\b\b\b\b\b\b\b\b\b\b\b\b\b\b\b\b\b\b\b\b\b\b\b\b\b\b\r184/184 [==============================] - 1s 7ms/step - loss: 0.0475 - f1: 0.9467 - val_loss: 0.4048 - val_f1: 0.9405\n",
            "Epoch 53/150\n",
            "182/184 [============================>.] - ETA: 0s - loss: 0.0456 - f1: 0.9472"
          ]
        },
        {
          "name": "stderr",
          "output_type": "stream",
          "text": [
            "WARNING:tensorflow:Early stopping conditioned on metric `val_accuracy` which is not available. Available metrics are: loss,f1,val_loss,val_f1\n",
            "WARNING:tensorflow:Can save best model only with val_accuracy available, skipping.\n"
          ]
        },
        {
          "name": "stdout",
          "output_type": "stream",
          "text": [
            "\b\b\b\b\b\b\b\b\b\b\b\b\b\b\b\b\b\b\b\b\b\b\b\b\b\b\b\b\b\b\b\b\b\b\b\b\b\b\b\b\b\b\b\b\b\b\b\b\b\b\b\b\b\b\b\b\b\b\b\b\b\b\b\b\b\b\b\b\b\b\b\b\b\b\b\b\b\b\r184/184 [==============================] - 2s 8ms/step - loss: 0.0458 - f1: 0.9479 - val_loss: 0.1339 - val_f1: 0.9341\n",
            "Epoch 54/150\n",
            "176/184 [===========================>..] - ETA: 0s - loss: 0.0510 - f1: 0.9501"
          ]
        },
        {
          "name": "stderr",
          "output_type": "stream",
          "text": [
            "WARNING:tensorflow:Early stopping conditioned on metric `val_accuracy` which is not available. Available metrics are: loss,f1,val_loss,val_f1\n",
            "WARNING:tensorflow:Can save best model only with val_accuracy available, skipping.\n"
          ]
        },
        {
          "name": "stdout",
          "output_type": "stream",
          "text": [
            "\b\b\b\b\b\b\b\b\b\b\b\b\b\b\b\b\b\b\b\b\b\b\b\b\b\b\b\b\b\b\b\b\b\b\b\b\b\b\b\b\b\b\b\b\b\b\b\b\b\b\b\b\b\b\b\b\b\b\b\b\b\b\b\b\b\b\b\b\b\b\b\b\b\b\b\b\b\b\r184/184 [==============================] - 2s 9ms/step - loss: 0.0510 - f1: 0.9511 - val_loss: 0.1080 - val_f1: 0.9290\n",
            "Epoch 55/150\n",
            "176/184 [===========================>..] - ETA: 0s - loss: 0.0435 - f1: 0.9447"
          ]
        },
        {
          "name": "stderr",
          "output_type": "stream",
          "text": [
            "WARNING:tensorflow:Early stopping conditioned on metric `val_accuracy` which is not available. Available metrics are: loss,f1,val_loss,val_f1\n",
            "WARNING:tensorflow:Can save best model only with val_accuracy available, skipping.\n"
          ]
        },
        {
          "name": "stdout",
          "output_type": "stream",
          "text": [
            "\b\b\b\b\b\b\b\b\b\b\b\b\b\b\b\b\b\b\b\b\b\b\b\b\b\b\b\b\b\b\b\b\b\b\b\b\b\b\b\b\b\b\b\b\b\b\b\b\b\b\b\b\b\b\b\b\b\b\b\b\b\b\b\b\b\b\b\b\b\b\b\b\b\b\b\b\b\b\r184/184 [==============================] - 1s 8ms/step - loss: 0.0432 - f1: 0.9453 - val_loss: 0.1228 - val_f1: 0.9324\n",
            "Epoch 56/150\n",
            "174/184 [===========================>..] - ETA: 0s - loss: 0.0454 - f1: 0.9491"
          ]
        },
        {
          "name": "stderr",
          "output_type": "stream",
          "text": [
            "WARNING:tensorflow:Early stopping conditioned on metric `val_accuracy` which is not available. Available metrics are: loss,f1,val_loss,val_f1\n",
            "WARNING:tensorflow:Can save best model only with val_accuracy available, skipping.\n"
          ]
        },
        {
          "name": "stdout",
          "output_type": "stream",
          "text": [
            "\b\b\b\b\b\b\b\b\b\b\b\b\b\b\b\b\b\b\b\b\b\b\b\b\b\b\b\b\b\b\b\b\b\b\b\b\b\b\b\b\b\b\b\b\b\b\b\b\b\b\b\b\b\b\b\b\b\b\b\b\b\b\b\b\b\b\b\b\b\b\b\b\b\b\b\b\b\b\r184/184 [==============================] - 1s 4ms/step - loss: 0.0442 - f1: 0.9485 - val_loss: 0.1156 - val_f1: 0.9286\n",
            "Epoch 57/150\n",
            "178/184 [============================>.] - ETA: 0s - loss: 0.0441 - f1: 0.9468"
          ]
        },
        {
          "name": "stderr",
          "output_type": "stream",
          "text": [
            "WARNING:tensorflow:Early stopping conditioned on metric `val_accuracy` which is not available. Available metrics are: loss,f1,val_loss,val_f1\n",
            "WARNING:tensorflow:Can save best model only with val_accuracy available, skipping.\n"
          ]
        },
        {
          "name": "stdout",
          "output_type": "stream",
          "text": [
            "\b\b\b\b\b\b\b\b\b\b\b\b\b\b\b\b\b\b\b\b\b\b\b\b\b\b\b\b\b\b\b\b\b\b\b\b\b\b\b\b\b\b\b\b\b\b\b\b\b\b\b\b\b\b\b\b\b\b\b\b\b\b\b\b\b\b\b\b\b\b\b\b\b\b\b\b\b\b\r184/184 [==============================] - 1s 4ms/step - loss: 0.0459 - f1: 0.9479 - val_loss: 0.1007 - val_f1: 0.9354\n",
            "Epoch 58/150\n",
            "180/184 [============================>.] - ETA: 0s - loss: 0.0396 - f1: 0.9448"
          ]
        },
        {
          "name": "stderr",
          "output_type": "stream",
          "text": [
            "WARNING:tensorflow:Early stopping conditioned on metric `val_accuracy` which is not available. Available metrics are: loss,f1,val_loss,val_f1\n",
            "WARNING:tensorflow:Can save best model only with val_accuracy available, skipping.\n"
          ]
        },
        {
          "name": "stdout",
          "output_type": "stream",
          "text": [
            "\b\b\b\b\b\b\b\b\b\b\b\b\b\b\b\b\b\b\b\b\b\b\b\b\b\b\b\b\b\b\b\b\b\b\b\b\b\b\b\b\b\b\b\b\b\b\b\b\b\b\b\b\b\b\b\b\b\b\b\b\b\b\b\b\b\b\b\b\b\b\b\b\b\b\b\b\b\b\r184/184 [==============================] - 1s 4ms/step - loss: 0.0392 - f1: 0.9447 - val_loss: 0.2593 - val_f1: 0.9347\n",
            "Epoch 59/150\n",
            "172/184 [===========================>..] - ETA: 0s - loss: 0.0449 - f1: 0.9465"
          ]
        },
        {
          "name": "stderr",
          "output_type": "stream",
          "text": [
            "WARNING:tensorflow:Early stopping conditioned on metric `val_accuracy` which is not available. Available metrics are: loss,f1,val_loss,val_f1\n",
            "WARNING:tensorflow:Can save best model only with val_accuracy available, skipping.\n"
          ]
        },
        {
          "name": "stdout",
          "output_type": "stream",
          "text": [
            "\b\b\b\b\b\b\b\b\b\b\b\b\b\b\b\b\b\b\b\b\b\b\b\b\b\b\b\b\b\b\b\b\b\b\b\b\b\b\b\b\b\b\b\b\b\b\b\b\b\b\b\b\b\b\b\b\b\b\b\b\b\b\b\b\b\b\b\b\b\b\b\b\b\b\b\b\b\b\r184/184 [==============================] - 1s 4ms/step - loss: 0.0445 - f1: 0.9466 - val_loss: 0.1070 - val_f1: 0.9290\n",
            "Epoch 60/150\n",
            "174/184 [===========================>..] - ETA: 0s - loss: 0.0378 - f1: 0.9420"
          ]
        },
        {
          "name": "stderr",
          "output_type": "stream",
          "text": [
            "WARNING:tensorflow:Early stopping conditioned on metric `val_accuracy` which is not available. Available metrics are: loss,f1,val_loss,val_f1\n",
            "WARNING:tensorflow:Can save best model only with val_accuracy available, skipping.\n"
          ]
        },
        {
          "name": "stdout",
          "output_type": "stream",
          "text": [
            "\b\b\b\b\b\b\b\b\b\b\b\b\b\b\b\b\b\b\b\b\b\b\b\b\b\b\b\b\b\b\b\b\b\b\b\b\b\b\b\b\b\b\b\b\b\b\b\b\b\b\b\b\b\b\b\b\b\b\b\b\b\b\b\b\b\b\b\b\b\b\b\b\b\b\b\b\b\b\r184/184 [==============================] - 1s 5ms/step - loss: 0.0401 - f1: 0.9437 - val_loss: 0.1111 - val_f1: 0.9320\n",
            "Epoch 61/150\n",
            "172/184 [===========================>..] - ETA: 0s - loss: 0.0508 - f1: 0.9500"
          ]
        },
        {
          "name": "stderr",
          "output_type": "stream",
          "text": [
            "WARNING:tensorflow:Early stopping conditioned on metric `val_accuracy` which is not available. Available metrics are: loss,f1,val_loss,val_f1\n",
            "WARNING:tensorflow:Can save best model only with val_accuracy available, skipping.\n"
          ]
        },
        {
          "name": "stdout",
          "output_type": "stream",
          "text": [
            "\b\b\b\b\b\b\b\b\b\b\b\b\b\b\b\b\b\b\b\b\b\b\b\b\b\b\b\b\b\b\b\b\b\b\b\b\b\b\b\b\b\b\b\b\b\b\b\b\b\b\b\b\b\b\b\b\b\b\b\b\b\b\b\b\b\b\b\b\b\b\b\b\b\b\b\b\b\b\r184/184 [==============================] - 1s 4ms/step - loss: 0.0492 - f1: 0.9497 - val_loss: 0.1144 - val_f1: 0.9341\n",
            "Epoch 62/150\n",
            "180/184 [============================>.] - ETA: 0s - loss: 0.0421 - f1: 0.9485"
          ]
        },
        {
          "name": "stderr",
          "output_type": "stream",
          "text": [
            "WARNING:tensorflow:Early stopping conditioned on metric `val_accuracy` which is not available. Available metrics are: loss,f1,val_loss,val_f1\n",
            "WARNING:tensorflow:Can save best model only with val_accuracy available, skipping.\n"
          ]
        },
        {
          "name": "stdout",
          "output_type": "stream",
          "text": [
            "\b\b\b\b\b\b\b\b\b\b\b\b\b\b\b\b\b\b\b\b\b\b\b\b\b\b\b\b\b\b\b\b\b\b\b\b\b\b\b\b\b\b\b\b\b\b\b\b\b\b\b\b\b\b\b\b\b\b\b\b\b\b\b\b\b\b\b\b\b\b\b\b\b\b\b\b\b\b\r184/184 [==============================] - 1s 5ms/step - loss: 0.0416 - f1: 0.9484 - val_loss: 0.1167 - val_f1: 0.9286\n",
            "Epoch 63/150\n",
            "176/184 [===========================>..] - ETA: 0s - loss: 0.0396 - f1: 0.9464"
          ]
        },
        {
          "name": "stderr",
          "output_type": "stream",
          "text": [
            "WARNING:tensorflow:Early stopping conditioned on metric `val_accuracy` which is not available. Available metrics are: loss,f1,val_loss,val_f1\n",
            "WARNING:tensorflow:Can save best model only with val_accuracy available, skipping.\n"
          ]
        },
        {
          "name": "stdout",
          "output_type": "stream",
          "text": [
            "\b\b\b\b\b\b\b\b\b\b\b\b\b\b\b\b\b\b\b\b\b\b\b\b\b\b\b\b\b\b\b\b\b\b\b\b\b\b\b\b\b\b\b\b\b\b\b\b\b\b\b\b\b\b\b\b\b\b\b\b\b\b\b\b\b\b\b\b\b\b\b\b\b\b\b\b\b\b\r184/184 [==============================] - 1s 7ms/step - loss: 0.0386 - f1: 0.9459 - val_loss: 0.1086 - val_f1: 0.9263\n",
            "Epoch 64/150\n",
            "182/184 [============================>.] - ETA: 0s - loss: 0.0369 - f1: 0.9391"
          ]
        },
        {
          "name": "stderr",
          "output_type": "stream",
          "text": [
            "WARNING:tensorflow:Early stopping conditioned on metric `val_accuracy` which is not available. Available metrics are: loss,f1,val_loss,val_f1\n",
            "WARNING:tensorflow:Can save best model only with val_accuracy available, skipping.\n"
          ]
        },
        {
          "name": "stdout",
          "output_type": "stream",
          "text": [
            "\b\b\b\b\b\b\b\b\b\b\b\b\b\b\b\b\b\b\b\b\b\b\b\b\b\b\b\b\b\b\b\b\b\b\b\b\b\b\b\b\b\b\b\b\b\b\b\b\b\b\b\b\b\b\b\b\b\b\b\b\b\b\b\b\b\b\b\b\b\b\b\b\b\b\b\b\b\b\r184/184 [==============================] - 1s 7ms/step - loss: 0.0374 - f1: 0.9396 - val_loss: 0.1562 - val_f1: 0.9449\n",
            "Epoch 65/150\n",
            "171/184 [==========================>...] - ETA: 0s - loss: 0.0340 - f1: 0.9433"
          ]
        },
        {
          "name": "stderr",
          "output_type": "stream",
          "text": [
            "WARNING:tensorflow:Early stopping conditioned on metric `val_accuracy` which is not available. Available metrics are: loss,f1,val_loss,val_f1\n",
            "WARNING:tensorflow:Can save best model only with val_accuracy available, skipping.\n"
          ]
        },
        {
          "name": "stdout",
          "output_type": "stream",
          "text": [
            "\b\b\b\b\b\b\b\b\b\b\b\b\b\b\b\b\b\b\b\b\b\b\b\b\b\b\b\b\b\b\b\b\b\b\b\b\b\b\b\b\b\b\b\b\b\b\b\b\b\b\b\b\b\b\b\b\b\b\b\b\b\b\b\b\b\b\b\b\b\b\b\b\b\b\b\b\b\b\r184/184 [==============================] - 1s 5ms/step - loss: 0.0376 - f1: 0.9435 - val_loss: 0.1116 - val_f1: 0.9279\n",
            "Epoch 66/150\n",
            "170/184 [==========================>...] - ETA: 0s - loss: 0.0364 - f1: 0.9412"
          ]
        },
        {
          "name": "stderr",
          "output_type": "stream",
          "text": [
            "WARNING:tensorflow:Early stopping conditioned on metric `val_accuracy` which is not available. Available metrics are: loss,f1,val_loss,val_f1\n",
            "WARNING:tensorflow:Can save best model only with val_accuracy available, skipping.\n"
          ]
        },
        {
          "name": "stdout",
          "output_type": "stream",
          "text": [
            "\b\b\b\b\b\b\b\b\b\b\b\b\b\b\b\b\b\b\b\b\b\b\b\b\b\b\b\b\b\b\b\b\b\b\b\b\b\b\b\b\b\b\b\b\b\b\b\b\b\b\b\b\b\b\b\b\b\b\b\b\b\b\b\b\b\b\b\b\b\b\b\b\b\b\b\b\b\b\r184/184 [==============================] - 1s 4ms/step - loss: 0.0357 - f1: 0.9418 - val_loss: 0.1277 - val_f1: 0.9205\n",
            "Epoch 67/150\n",
            "172/184 [===========================>..] - ETA: 0s - loss: 0.0378 - f1: 0.9385"
          ]
        },
        {
          "name": "stderr",
          "output_type": "stream",
          "text": [
            "WARNING:tensorflow:Early stopping conditioned on metric `val_accuracy` which is not available. Available metrics are: loss,f1,val_loss,val_f1\n",
            "WARNING:tensorflow:Can save best model only with val_accuracy available, skipping.\n"
          ]
        },
        {
          "name": "stdout",
          "output_type": "stream",
          "text": [
            "\b\b\b\b\b\b\b\b\b\b\b\b\b\b\b\b\b\b\b\b\b\b\b\b\b\b\b\b\b\b\b\b\b\b\b\b\b\b\b\b\b\b\b\b\b\b\b\b\b\b\b\b\b\b\b\b\b\b\b\b\b\b\b\b\b\b\b\b\b\b\b\b\b\b\b\b\b\b\r184/184 [==============================] - 1s 4ms/step - loss: 0.0390 - f1: 0.9384 - val_loss: 0.1680 - val_f1: 0.9341\n",
            "Epoch 68/150\n",
            "179/184 [============================>.] - ETA: 0s - loss: 0.0353 - f1: 0.9430"
          ]
        },
        {
          "name": "stderr",
          "output_type": "stream",
          "text": [
            "WARNING:tensorflow:Early stopping conditioned on metric `val_accuracy` which is not available. Available metrics are: loss,f1,val_loss,val_f1\n",
            "WARNING:tensorflow:Can save best model only with val_accuracy available, skipping.\n"
          ]
        },
        {
          "name": "stdout",
          "output_type": "stream",
          "text": [
            "\b\b\b\b\b\b\b\b\b\b\b\b\b\b\b\b\b\b\b\b\b\b\b\b\b\b\b\b\b\b\b\b\b\b\b\b\b\b\b\b\b\b\b\b\b\b\b\b\b\b\b\b\b\b\b\b\b\b\b\b\b\b\b\b\b\b\b\b\b\b\b\b\b\b\b\b\b\b\r184/184 [==============================] - 1s 5ms/step - loss: 0.0347 - f1: 0.9424 - val_loss: 0.1261 - val_f1: 0.9191\n",
            "Epoch 69/150\n",
            "173/184 [===========================>..] - ETA: 0s - loss: 0.0536 - f1: 0.9506"
          ]
        },
        {
          "name": "stderr",
          "output_type": "stream",
          "text": [
            "WARNING:tensorflow:Early stopping conditioned on metric `val_accuracy` which is not available. Available metrics are: loss,f1,val_loss,val_f1\n",
            "WARNING:tensorflow:Can save best model only with val_accuracy available, skipping.\n"
          ]
        },
        {
          "name": "stdout",
          "output_type": "stream",
          "text": [
            "\b\b\b\b\b\b\b\b\b\b\b\b\b\b\b\b\b\b\b\b\b\b\b\b\b\b\b\b\b\b\b\b\b\b\b\b\b\b\b\b\b\b\b\b\b\b\b\b\b\b\b\b\b\b\b\b\b\b\b\b\b\b\b\b\b\b\b\b\b\b\b\b\b\b\b\b\b\b\r184/184 [==============================] - 1s 5ms/step - loss: 0.0518 - f1: 0.9491 - val_loss: 0.1119 - val_f1: 0.9347\n",
            "Epoch 70/150\n",
            "183/184 [============================>.] - ETA: 0s - loss: 0.0359 - f1: 0.9436"
          ]
        },
        {
          "name": "stderr",
          "output_type": "stream",
          "text": [
            "WARNING:tensorflow:Early stopping conditioned on metric `val_accuracy` which is not available. Available metrics are: loss,f1,val_loss,val_f1\n",
            "WARNING:tensorflow:Can save best model only with val_accuracy available, skipping.\n"
          ]
        },
        {
          "name": "stdout",
          "output_type": "stream",
          "text": [
            "\b\b\b\b\b\b\b\b\b\b\b\b\b\b\b\b\b\b\b\b\b\b\b\b\b\b\b\b\b\b\b\b\b\b\b\b\b\b\b\b\b\b\b\b\b\b\b\b\b\b\b\b\b\b\b\b\b\b\b\b\b\b\b\b\b\b\b\b\b\b\b\b\b\b\b\b\b\b\r184/184 [==============================] - 1s 5ms/step - loss: 0.0357 - f1: 0.9430 - val_loss: 0.1102 - val_f1: 0.9239\n",
            "Epoch 71/150\n",
            "184/184 [==============================] - ETA: 0s - loss: 0.0480 - f1: 0.9471"
          ]
        },
        {
          "name": "stderr",
          "output_type": "stream",
          "text": [
            "WARNING:tensorflow:Early stopping conditioned on metric `val_accuracy` which is not available. Available metrics are: loss,f1,val_loss,val_f1\n",
            "WARNING:tensorflow:Can save best model only with val_accuracy available, skipping.\n"
          ]
        },
        {
          "name": "stdout",
          "output_type": "stream",
          "text": [
            "\b\b\b\b\b\b\b\b\b\b\b\b\b\b\b\b\b\b\b\b\b\b\b\b\b\b\b\b\b\b\b\b\b\b\b\b\b\b\b\b\b\b\b\b\b\b\b\b\b\b\b\b\b\b\b\b\b\b\b\b\b\b\b\b\b\b\b\b\b\b\b\b\b\b\b\b\b\b\r184/184 [==============================] - 1s 5ms/step - loss: 0.0480 - f1: 0.9471 - val_loss: 0.1186 - val_f1: 0.9245\n",
            "Epoch 72/150\n",
            "182/184 [============================>.] - ETA: 0s - loss: 0.0440 - f1: 0.9446"
          ]
        },
        {
          "name": "stderr",
          "output_type": "stream",
          "text": [
            "WARNING:tensorflow:Early stopping conditioned on metric `val_accuracy` which is not available. Available metrics are: loss,f1,val_loss,val_f1\n",
            "WARNING:tensorflow:Can save best model only with val_accuracy available, skipping.\n"
          ]
        },
        {
          "name": "stdout",
          "output_type": "stream",
          "text": [
            "\b\b\b\b\b\b\b\b\b\b\b\b\b\b\b\b\b\b\b\b\b\b\b\b\b\b\b\b\b\b\b\b\b\b\b\b\b\b\b\b\b\b\b\b\b\b\b\b\b\b\b\b\b\b\b\b\b\b\b\b\b\b\b\b\b\b\b\b\b\b\b\b\b\b\b\b\b\b\r184/184 [==============================] - 1s 7ms/step - loss: 0.0437 - f1: 0.9425 - val_loss: 0.1160 - val_f1: 0.9225\n",
            "Epoch 73/150\n",
            "173/184 [===========================>..] - ETA: 0s - loss: 0.0414 - f1: 0.9442"
          ]
        },
        {
          "name": "stderr",
          "output_type": "stream",
          "text": [
            "WARNING:tensorflow:Early stopping conditioned on metric `val_accuracy` which is not available. Available metrics are: loss,f1,val_loss,val_f1\n",
            "WARNING:tensorflow:Can save best model only with val_accuracy available, skipping.\n"
          ]
        },
        {
          "name": "stdout",
          "output_type": "stream",
          "text": [
            "\b\b\b\b\b\b\b\b\b\b\b\b\b\b\b\b\b\b\b\b\b\b\b\b\b\b\b\b\b\b\b\b\b\b\b\b\b\b\b\b\b\b\b\b\b\b\b\b\b\b\b\b\b\b\b\b\b\b\b\b\b\b\b\b\b\b\b\b\b\b\b\b\b\b\b\b\b\b\r184/184 [==============================] - 1s 7ms/step - loss: 0.0407 - f1: 0.9434 - val_loss: 0.1161 - val_f1: 0.9222\n",
            "Epoch 74/150\n",
            "171/184 [==========================>...] - ETA: 0s - loss: 0.0441 - f1: 0.9407"
          ]
        },
        {
          "name": "stderr",
          "output_type": "stream",
          "text": [
            "WARNING:tensorflow:Early stopping conditioned on metric `val_accuracy` which is not available. Available metrics are: loss,f1,val_loss,val_f1\n",
            "WARNING:tensorflow:Can save best model only with val_accuracy available, skipping.\n"
          ]
        },
        {
          "name": "stdout",
          "output_type": "stream",
          "text": [
            "\b\b\b\b\b\b\b\b\b\b\b\b\b\b\b\b\b\b\b\b\b\b\b\b\b\b\b\b\b\b\b\b\b\b\b\b\b\b\b\b\b\b\b\b\b\b\b\b\b\b\b\b\b\b\b\b\b\b\b\b\b\b\b\b\b\b\b\b\b\b\b\b\b\b\b\b\b\b\r184/184 [==============================] - 1s 4ms/step - loss: 0.0423 - f1: 0.9426 - val_loss: 0.1234 - val_f1: 0.9225\n",
            "Epoch 75/150\n",
            "179/184 [============================>.] - ETA: 0s - loss: 0.0364 - f1: 0.9410"
          ]
        },
        {
          "name": "stderr",
          "output_type": "stream",
          "text": [
            "WARNING:tensorflow:Early stopping conditioned on metric `val_accuracy` which is not available. Available metrics are: loss,f1,val_loss,val_f1\n",
            "WARNING:tensorflow:Can save best model only with val_accuracy available, skipping.\n"
          ]
        },
        {
          "name": "stdout",
          "output_type": "stream",
          "text": [
            "\b\b\b\b\b\b\b\b\b\b\b\b\b\b\b\b\b\b\b\b\b\b\b\b\b\b\b\b\b\b\b\b\b\b\b\b\b\b\b\b\b\b\b\b\b\b\b\b\b\b\b\b\b\b\b\b\b\b\b\b\b\b\b\b\b\b\b\b\b\b\b\b\b\b\b\b\b\b\r184/184 [==============================] - 1s 5ms/step - loss: 0.0362 - f1: 0.9409 - val_loss: 0.1124 - val_f1: 0.9276\n",
            "Epoch 76/150\n",
            "176/184 [===========================>..] - ETA: 0s - loss: 0.0421 - f1: 0.9444"
          ]
        },
        {
          "name": "stderr",
          "output_type": "stream",
          "text": [
            "WARNING:tensorflow:Early stopping conditioned on metric `val_accuracy` which is not available. Available metrics are: loss,f1,val_loss,val_f1\n",
            "WARNING:tensorflow:Can save best model only with val_accuracy available, skipping.\n"
          ]
        },
        {
          "name": "stdout",
          "output_type": "stream",
          "text": [
            "\b\b\b\b\b\b\b\b\b\b\b\b\b\b\b\b\b\b\b\b\b\b\b\b\b\b\b\b\b\b\b\b\b\b\b\b\b\b\b\b\b\b\b\b\b\b\b\b\b\b\b\b\b\b\b\b\b\b\b\b\b\b\b\b\b\b\b\b\b\b\b\b\b\b\b\b\b\b\r184/184 [==============================] - 1s 7ms/step - loss: 0.0420 - f1: 0.9441 - val_loss: 0.1273 - val_f1: 0.9252\n",
            "Epoch 77/150\n",
            "180/184 [============================>.] - ETA: 0s - loss: 0.0327 - f1: 0.9418"
          ]
        },
        {
          "name": "stderr",
          "output_type": "stream",
          "text": [
            "WARNING:tensorflow:Early stopping conditioned on metric `val_accuracy` which is not available. Available metrics are: loss,f1,val_loss,val_f1\n",
            "WARNING:tensorflow:Can save best model only with val_accuracy available, skipping.\n"
          ]
        },
        {
          "name": "stdout",
          "output_type": "stream",
          "text": [
            "\b\b\b\b\b\b\b\b\b\b\b\b\b\b\b\b\b\b\b\b\b\b\b\b\b\b\b\b\b\b\b\b\b\b\b\b\b\b\b\b\b\b\b\b\b\b\b\b\b\b\b\b\b\b\b\b\b\b\b\b\b\b\b\b\b\b\b\b\b\b\b\b\b\b\b\b\b\b\r184/184 [==============================] - 1s 7ms/step - loss: 0.0323 - f1: 0.9413 - val_loss: 0.1432 - val_f1: 0.9198\n",
            "Epoch 78/150\n",
            "184/184 [==============================] - ETA: 0s - loss: 0.0356 - f1: 0.9400"
          ]
        },
        {
          "name": "stderr",
          "output_type": "stream",
          "text": [
            "WARNING:tensorflow:Early stopping conditioned on metric `val_accuracy` which is not available. Available metrics are: loss,f1,val_loss,val_f1\n",
            "WARNING:tensorflow:Can save best model only with val_accuracy available, skipping.\n"
          ]
        },
        {
          "name": "stdout",
          "output_type": "stream",
          "text": [
            "\b\b\b\b\b\b\b\b\b\b\b\b\b\b\b\b\b\b\b\b\b\b\b\b\b\b\b\b\b\b\b\b\b\b\b\b\b\b\b\b\b\b\b\b\b\b\b\b\b\b\b\b\b\b\b\b\b\b\b\b\b\b\b\b\b\b\b\b\b\b\b\b\b\b\b\b\b\b\r184/184 [==============================] - 1s 5ms/step - loss: 0.0356 - f1: 0.9400 - val_loss: 0.1090 - val_f1: 0.9218\n",
            "Epoch 79/150\n",
            "179/184 [============================>.] - ETA: 0s - loss: 0.0326 - f1: 0.9384"
          ]
        },
        {
          "name": "stderr",
          "output_type": "stream",
          "text": [
            "WARNING:tensorflow:Early stopping conditioned on metric `val_accuracy` which is not available. Available metrics are: loss,f1,val_loss,val_f1\n",
            "WARNING:tensorflow:Can save best model only with val_accuracy available, skipping.\n"
          ]
        },
        {
          "name": "stdout",
          "output_type": "stream",
          "text": [
            "\b\b\b\b\b\b\b\b\b\b\b\b\b\b\b\b\b\b\b\b\b\b\b\b\b\b\b\b\b\b\b\b\b\b\b\b\b\b\b\b\b\b\b\b\b\b\b\b\b\b\b\b\b\b\b\b\b\b\b\b\b\b\b\b\b\b\b\b\b\b\b\b\b\b\b\b\b\b\r184/184 [==============================] - 1s 4ms/step - loss: 0.0439 - f1: 0.9413 - val_loss: 0.1009 - val_f1: 0.9653\n",
            "Epoch 80/150\n",
            "177/184 [===========================>..] - ETA: 0s - loss: 0.0344 - f1: 0.9440"
          ]
        },
        {
          "name": "stderr",
          "output_type": "stream",
          "text": [
            "WARNING:tensorflow:Early stopping conditioned on metric `val_accuracy` which is not available. Available metrics are: loss,f1,val_loss,val_f1\n",
            "WARNING:tensorflow:Can save best model only with val_accuracy available, skipping.\n"
          ]
        },
        {
          "name": "stdout",
          "output_type": "stream",
          "text": [
            "\b\b\b\b\b\b\b\b\b\b\b\b\b\b\b\b\b\b\b\b\b\b\b\b\b\b\b\b\b\b\b\b\b\b\b\b\b\b\b\b\b\b\b\b\b\b\b\b\b\b\b\b\b\b\b\b\b\b\b\b\b\b\b\b\b\b\b\b\b\b\b\b\b\b\b\b\b\b\r184/184 [==============================] - 1s 4ms/step - loss: 0.0345 - f1: 0.9429 - val_loss: 0.1161 - val_f1: 0.9229\n",
            "Epoch 81/150\n",
            "171/184 [==========================>...] - ETA: 0s - loss: 0.0303 - f1: 0.9366"
          ]
        },
        {
          "name": "stderr",
          "output_type": "stream",
          "text": [
            "WARNING:tensorflow:Early stopping conditioned on metric `val_accuracy` which is not available. Available metrics are: loss,f1,val_loss,val_f1\n",
            "WARNING:tensorflow:Can save best model only with val_accuracy available, skipping.\n"
          ]
        },
        {
          "name": "stdout",
          "output_type": "stream",
          "text": [
            "\b\b\b\b\b\b\b\b\b\b\b\b\b\b\b\b\b\b\b\b\b\b\b\b\b\b\b\b\b\b\b\b\b\b\b\b\b\b\b\b\b\b\b\b\b\b\b\b\b\b\b\b\b\b\b\b\b\b\b\b\b\b\b\b\b\b\b\b\b\b\b\b\b\b\b\b\b\b\r184/184 [==============================] - 1s 5ms/step - loss: 0.0303 - f1: 0.9378 - val_loss: 0.1231 - val_f1: 0.9198\n",
            "Epoch 82/150\n",
            "176/184 [===========================>..] - ETA: 0s - loss: 0.0372 - f1: 0.9414"
          ]
        },
        {
          "name": "stderr",
          "output_type": "stream",
          "text": [
            "WARNING:tensorflow:Early stopping conditioned on metric `val_accuracy` which is not available. Available metrics are: loss,f1,val_loss,val_f1\n",
            "WARNING:tensorflow:Can save best model only with val_accuracy available, skipping.\n"
          ]
        },
        {
          "name": "stdout",
          "output_type": "stream",
          "text": [
            "\b\b\b\b\b\b\b\b\b\b\b\b\b\b\b\b\b\b\b\b\b\b\b\b\b\b\b\b\b\b\b\b\b\b\b\b\b\b\b\b\b\b\b\b\b\b\b\b\b\b\b\b\b\b\b\b\b\b\b\b\b\b\b\b\b\b\b\b\b\b\b\b\b\b\b\b\b\b\r184/184 [==============================] - 1s 4ms/step - loss: 0.0367 - f1: 0.9412 - val_loss: 0.1057 - val_f1: 0.9218\n",
            "Epoch 83/150\n",
            "184/184 [==============================] - ETA: 0s - loss: 0.0326 - f1: 0.9389"
          ]
        },
        {
          "name": "stderr",
          "output_type": "stream",
          "text": [
            "WARNING:tensorflow:Early stopping conditioned on metric `val_accuracy` which is not available. Available metrics are: loss,f1,val_loss,val_f1\n",
            "WARNING:tensorflow:Can save best model only with val_accuracy available, skipping.\n"
          ]
        },
        {
          "name": "stdout",
          "output_type": "stream",
          "text": [
            "\b\b\b\b\b\b\b\b\b\b\b\b\b\b\b\b\b\b\b\b\b\b\b\b\b\b\b\b\b\b\b\b\b\b\b\b\b\b\b\b\b\b\b\b\b\b\b\b\b\b\b\b\b\b\b\b\b\b\b\b\b\b\b\b\b\b\b\b\b\b\b\b\b\b\b\b\b\b\r184/184 [==============================] - 1s 5ms/step - loss: 0.0326 - f1: 0.9389 - val_loss: 0.1079 - val_f1: 0.9242\n",
            "Epoch 84/150\n",
            "176/184 [===========================>..] - ETA: 0s - loss: 0.0314 - f1: 0.9368"
          ]
        },
        {
          "name": "stderr",
          "output_type": "stream",
          "text": [
            "WARNING:tensorflow:Early stopping conditioned on metric `val_accuracy` which is not available. Available metrics are: loss,f1,val_loss,val_f1\n",
            "WARNING:tensorflow:Can save best model only with val_accuracy available, skipping.\n"
          ]
        },
        {
          "name": "stdout",
          "output_type": "stream",
          "text": [
            "\b\b\b\b\b\b\b\b\b\b\b\b\b\b\b\b\b\b\b\b\b\b\b\b\b\b\b\b\b\b\b\b\b\b\b\b\b\b\b\b\b\b\b\b\b\b\b\b\b\b\b\b\b\b\b\b\b\b\b\b\b\b\b\b\b\b\b\b\b\b\b\b\b\b\b\b\b\b\r184/184 [==============================] - 1s 4ms/step - loss: 0.0307 - f1: 0.9354 - val_loss: 0.1169 - val_f1: 0.9181\n",
            "Epoch 85/150\n",
            "182/184 [============================>.] - ETA: 0s - loss: 0.0357 - f1: 0.9414"
          ]
        },
        {
          "name": "stderr",
          "output_type": "stream",
          "text": [
            "WARNING:tensorflow:Early stopping conditioned on metric `val_accuracy` which is not available. Available metrics are: loss,f1,val_loss,val_f1\n",
            "WARNING:tensorflow:Can save best model only with val_accuracy available, skipping.\n"
          ]
        },
        {
          "name": "stdout",
          "output_type": "stream",
          "text": [
            "\b\b\b\b\b\b\b\b\b\b\b\b\b\b\b\b\b\b\b\b\b\b\b\b\b\b\b\b\b\b\b\b\b\b\b\b\b\b\b\b\b\b\b\b\b\b\b\b\b\b\b\b\b\b\b\b\b\b\b\b\b\b\b\b\b\b\b\b\b\b\b\b\b\b\b\b\b\b\r184/184 [==============================] - 1s 5ms/step - loss: 0.0355 - f1: 0.9410 - val_loss: 0.1531 - val_f1: 0.9286\n",
            "Epoch 86/150\n",
            "171/184 [==========================>...] - ETA: 0s - loss: 0.0289 - f1: 0.9363"
          ]
        },
        {
          "name": "stderr",
          "output_type": "stream",
          "text": [
            "WARNING:tensorflow:Early stopping conditioned on metric `val_accuracy` which is not available. Available metrics are: loss,f1,val_loss,val_f1\n",
            "WARNING:tensorflow:Can save best model only with val_accuracy available, skipping.\n"
          ]
        },
        {
          "name": "stdout",
          "output_type": "stream",
          "text": [
            "\b\b\b\b\b\b\b\b\b\b\b\b\b\b\b\b\b\b\b\b\b\b\b\b\b\b\b\b\b\b\b\b\b\b\b\b\b\b\b\b\b\b\b\b\b\b\b\b\b\b\b\b\b\b\b\b\b\b\b\b\b\b\b\b\b\b\b\b\b\b\b\b\b\b\b\b\b\b\r184/184 [==============================] - 1s 5ms/step - loss: 0.0301 - f1: 0.9374 - val_loss: 0.1005 - val_f1: 0.9198\n",
            "Epoch 87/150\n",
            "171/184 [==========================>...] - ETA: 0s - loss: 0.1419 - f1: 0.9772"
          ]
        },
        {
          "name": "stderr",
          "output_type": "stream",
          "text": [
            "WARNING:tensorflow:Early stopping conditioned on metric `val_accuracy` which is not available. Available metrics are: loss,f1,val_loss,val_f1\n",
            "WARNING:tensorflow:Can save best model only with val_accuracy available, skipping.\n"
          ]
        },
        {
          "name": "stdout",
          "output_type": "stream",
          "text": [
            "\b\b\b\b\b\b\b\b\b\b\b\b\b\b\b\b\b\b\b\b\b\b\b\b\b\b\b\b\b\b\b\b\b\b\b\b\b\b\b\b\b\b\b\b\b\b\b\b\b\b\b\b\b\b\b\b\b\b\b\b\b\b\b\b\b\b\b\b\b\b\b\b\b\b\b\b\b\b\r184/184 [==============================] - 1s 5ms/step - loss: 0.1354 - f1: 0.9775 - val_loss: 0.1668 - val_f1: 0.9621\n",
            "Epoch 88/150\n",
            "178/184 [============================>.] - ETA: 0s - loss: 0.0468 - f1: 0.9479"
          ]
        },
        {
          "name": "stderr",
          "output_type": "stream",
          "text": [
            "WARNING:tensorflow:Early stopping conditioned on metric `val_accuracy` which is not available. Available metrics are: loss,f1,val_loss,val_f1\n",
            "WARNING:tensorflow:Can save best model only with val_accuracy available, skipping.\n"
          ]
        },
        {
          "name": "stdout",
          "output_type": "stream",
          "text": [
            "\b\b\b\b\b\b\b\b\b\b\b\b\b\b\b\b\b\b\b\b\b\b\b\b\b\b\b\b\b\b\b\b\b\b\b\b\b\b\b\b\b\b\b\b\b\b\b\b\b\b\b\b\b\b\b\b\b\b\b\b\b\b\b\b\b\b\b\b\b\b\b\b\b\b\b\b\b\b\r184/184 [==============================] - 1s 5ms/step - loss: 0.0459 - f1: 0.9482 - val_loss: 0.1925 - val_f1: 0.9175\n",
            "Epoch 89/150\n",
            "173/184 [===========================>..] - ETA: 0s - loss: 0.0356 - f1: 0.9404"
          ]
        },
        {
          "name": "stderr",
          "output_type": "stream",
          "text": [
            "WARNING:tensorflow:Early stopping conditioned on metric `val_accuracy` which is not available. Available metrics are: loss,f1,val_loss,val_f1\n",
            "WARNING:tensorflow:Can save best model only with val_accuracy available, skipping.\n"
          ]
        },
        {
          "name": "stdout",
          "output_type": "stream",
          "text": [
            "\b\b\b\b\b\b\b\b\b\b\b\b\b\b\b\b\b\b\b\b\b\b\b\b\b\b\b\b\b\b\b\b\b\b\b\b\b\b\b\b\b\b\b\b\b\b\b\b\b\b\b\b\b\b\b\b\b\b\b\b\b\b\b\b\b\b\b\b\b\b\b\b\b\b\b\b\b\b\r184/184 [==============================] - 1s 4ms/step - loss: 0.0367 - f1: 0.9388 - val_loss: 0.1665 - val_f1: 0.9141\n",
            "Epoch 90/150\n",
            "180/184 [============================>.] - ETA: 0s - loss: 0.0394 - f1: 0.9391"
          ]
        },
        {
          "name": "stderr",
          "output_type": "stream",
          "text": [
            "WARNING:tensorflow:Early stopping conditioned on metric `val_accuracy` which is not available. Available metrics are: loss,f1,val_loss,val_f1\n",
            "WARNING:tensorflow:Can save best model only with val_accuracy available, skipping.\n"
          ]
        },
        {
          "name": "stdout",
          "output_type": "stream",
          "text": [
            "\b\b\b\b\b\b\b\b\b\b\b\b\b\b\b\b\b\b\b\b\b\b\b\b\b\b\b\b\b\b\b\b\b\b\b\b\b\b\b\b\b\b\b\b\b\b\b\b\b\b\b\b\b\b\b\b\b\b\b\b\b\b\b\b\b\b\b\b\b\b\b\b\b\b\b\b\b\b\r184/184 [==============================] - 2s 8ms/step - loss: 0.0391 - f1: 0.9383 - val_loss: 0.1385 - val_f1: 0.9276\n",
            "Epoch 91/150\n",
            "182/184 [============================>.] - ETA: 0s - loss: 0.0303 - f1: 0.9343"
          ]
        },
        {
          "name": "stderr",
          "output_type": "stream",
          "text": [
            "WARNING:tensorflow:Early stopping conditioned on metric `val_accuracy` which is not available. Available metrics are: loss,f1,val_loss,val_f1\n",
            "WARNING:tensorflow:Can save best model only with val_accuracy available, skipping.\n"
          ]
        },
        {
          "name": "stdout",
          "output_type": "stream",
          "text": [
            "\b\b\b\b\b\b\b\b\b\b\b\b\b\b\b\b\b\b\b\b\b\b\b\b\b\b\b\b\b\b\b\b\b\b\b\b\b\b\b\b\b\b\b\b\b\b\b\b\b\b\b\b\b\b\b\b\b\b\b\b\b\b\b\b\b\b\b\b\b\b\b\b\b\b\b\b\b\b\r184/184 [==============================] - 2s 9ms/step - loss: 0.0301 - f1: 0.9337 - val_loss: 0.1323 - val_f1: 0.9212\n",
            "Epoch 92/150\n",
            "177/184 [===========================>..] - ETA: 0s - loss: 0.0255 - f1: 0.9333"
          ]
        },
        {
          "name": "stderr",
          "output_type": "stream",
          "text": [
            "WARNING:tensorflow:Early stopping conditioned on metric `val_accuracy` which is not available. Available metrics are: loss,f1,val_loss,val_f1\n",
            "WARNING:tensorflow:Can save best model only with val_accuracy available, skipping.\n"
          ]
        },
        {
          "name": "stdout",
          "output_type": "stream",
          "text": [
            "\b\b\b\b\b\b\b\b\b\b\b\b\b\b\b\b\b\b\b\b\b\b\b\b\b\b\b\b\b\b\b\b\b\b\b\b\b\b\b\b\b\b\b\b\b\b\b\b\b\b\b\b\b\b\b\b\b\b\b\b\b\b\b\b\b\b\b\b\b\b\b\b\b\b\b\b\b\b\r184/184 [==============================] - 1s 6ms/step - loss: 0.0256 - f1: 0.9338 - val_loss: 0.1217 - val_f1: 0.9263\n",
            "Epoch 93/150\n",
            "173/184 [===========================>..] - ETA: 0s - loss: 0.0399 - f1: 0.9437"
          ]
        },
        {
          "name": "stderr",
          "output_type": "stream",
          "text": [
            "WARNING:tensorflow:Early stopping conditioned on metric `val_accuracy` which is not available. Available metrics are: loss,f1,val_loss,val_f1\n",
            "WARNING:tensorflow:Can save best model only with val_accuracy available, skipping.\n"
          ]
        },
        {
          "name": "stdout",
          "output_type": "stream",
          "text": [
            "\b\b\b\b\b\b\b\b\b\b\b\b\b\b\b\b\b\b\b\b\b\b\b\b\b\b\b\b\b\b\b\b\b\b\b\b\b\b\b\b\b\b\b\b\b\b\b\b\b\b\b\b\b\b\b\b\b\b\b\b\b\b\b\b\b\b\b\b\b\b\b\b\b\b\b\b\b\b\r184/184 [==============================] - 1s 6ms/step - loss: 0.0382 - f1: 0.9415 - val_loss: 0.1377 - val_f1: 0.9225\n",
            "Epoch 94/150\n",
            "182/184 [============================>.] - ETA: 0s - loss: 0.0357 - f1: 0.9401"
          ]
        },
        {
          "name": "stderr",
          "output_type": "stream",
          "text": [
            "WARNING:tensorflow:Early stopping conditioned on metric `val_accuracy` which is not available. Available metrics are: loss,f1,val_loss,val_f1\n",
            "WARNING:tensorflow:Can save best model only with val_accuracy available, skipping.\n"
          ]
        },
        {
          "name": "stdout",
          "output_type": "stream",
          "text": [
            "\b\b\b\b\b\b\b\b\b\b\b\b\b\b\b\b\b\b\b\b\b\b\b\b\b\b\b\b\b\b\b\b\b\b\b\b\b\b\b\b\b\b\b\b\b\b\b\b\b\b\b\b\b\b\b\b\b\b\b\b\b\b\b\b\b\b\b\b\b\b\b\b\b\b\b\b\b\b\r184/184 [==============================] - 1s 7ms/step - loss: 0.0354 - f1: 0.9399 - val_loss: 0.1167 - val_f1: 0.9215\n",
            "Epoch 95/150\n",
            "177/184 [===========================>..] - ETA: 0s - loss: 0.0287 - f1: 0.9361"
          ]
        },
        {
          "name": "stderr",
          "output_type": "stream",
          "text": [
            "WARNING:tensorflow:Early stopping conditioned on metric `val_accuracy` which is not available. Available metrics are: loss,f1,val_loss,val_f1\n",
            "WARNING:tensorflow:Can save best model only with val_accuracy available, skipping.\n"
          ]
        },
        {
          "name": "stdout",
          "output_type": "stream",
          "text": [
            "\b\b\b\b\b\b\b\b\b\b\b\b\b\b\b\b\b\b\b\b\b\b\b\b\b\b\b\b\b\b\b\b\b\b\b\b\b\b\b\b\b\b\b\b\b\b\b\b\b\b\b\b\b\b\b\b\b\b\b\b\b\b\b\b\b\b\b\b\b\b\b\b\b\b\b\b\b\b\r184/184 [==============================] - 1s 7ms/step - loss: 0.0292 - f1: 0.9363 - val_loss: 0.1144 - val_f1: 0.9205\n",
            "Epoch 96/150\n",
            "181/184 [============================>.] - ETA: 0s - loss: 0.0277 - f1: 0.9349"
          ]
        },
        {
          "name": "stderr",
          "output_type": "stream",
          "text": [
            "WARNING:tensorflow:Early stopping conditioned on metric `val_accuracy` which is not available. Available metrics are: loss,f1,val_loss,val_f1\n",
            "WARNING:tensorflow:Can save best model only with val_accuracy available, skipping.\n"
          ]
        },
        {
          "name": "stdout",
          "output_type": "stream",
          "text": [
            "\b\b\b\b\b\b\b\b\b\b\b\b\b\b\b\b\b\b\b\b\b\b\b\b\b\b\b\b\b\b\b\b\b\b\b\b\b\b\b\b\b\b\b\b\b\b\b\b\b\b\b\b\b\b\b\b\b\b\b\b\b\b\b\b\b\b\b\b\b\b\b\b\b\b\b\b\b\b\r184/184 [==============================] - 1s 5ms/step - loss: 0.0277 - f1: 0.9349 - val_loss: 0.1437 - val_f1: 0.9259\n",
            "Epoch 97/150\n",
            "179/184 [============================>.] - ETA: 0s - loss: 0.0292 - f1: 0.9338"
          ]
        },
        {
          "name": "stderr",
          "output_type": "stream",
          "text": [
            "WARNING:tensorflow:Early stopping conditioned on metric `val_accuracy` which is not available. Available metrics are: loss,f1,val_loss,val_f1\n",
            "WARNING:tensorflow:Can save best model only with val_accuracy available, skipping.\n"
          ]
        },
        {
          "name": "stdout",
          "output_type": "stream",
          "text": [
            "\b\b\b\b\b\b\b\b\b\b\b\b\b\b\b\b\b\b\b\b\b\b\b\b\b\b\b\b\b\b\b\b\b\b\b\b\b\b\b\b\b\b\b\b\b\b\b\b\b\b\b\b\b\b\b\b\b\b\b\b\b\b\b\b\b\b\b\b\b\b\b\b\b\b\b\b\b\b\r184/184 [==============================] - 1s 5ms/step - loss: 0.0289 - f1: 0.9342 - val_loss: 0.1367 - val_f1: 0.9191\n",
            "Epoch 98/150\n",
            "177/184 [===========================>..] - ETA: 0s - loss: 0.0348 - f1: 0.9333"
          ]
        },
        {
          "name": "stderr",
          "output_type": "stream",
          "text": [
            "WARNING:tensorflow:Early stopping conditioned on metric `val_accuracy` which is not available. Available metrics are: loss,f1,val_loss,val_f1\n",
            "WARNING:tensorflow:Can save best model only with val_accuracy available, skipping.\n"
          ]
        },
        {
          "name": "stdout",
          "output_type": "stream",
          "text": [
            "\b\b\b\b\b\b\b\b\b\b\b\b\b\b\b\b\b\b\b\b\b\b\b\b\b\b\b\b\b\b\b\b\b\b\b\b\b\b\b\b\b\b\b\b\b\b\b\b\b\b\b\b\b\b\b\b\b\b\b\b\b\b\b\b\b\b\b\b\b\b\b\b\b\b\b\b\b\b\r184/184 [==============================] - 1s 5ms/step - loss: 0.0341 - f1: 0.9324 - val_loss: 0.1213 - val_f1: 0.9223\n",
            "Epoch 99/150\n",
            "176/184 [===========================>..] - ETA: 0s - loss: 0.0303 - f1: 0.9372"
          ]
        },
        {
          "name": "stderr",
          "output_type": "stream",
          "text": [
            "WARNING:tensorflow:Early stopping conditioned on metric `val_accuracy` which is not available. Available metrics are: loss,f1,val_loss,val_f1\n",
            "WARNING:tensorflow:Can save best model only with val_accuracy available, skipping.\n"
          ]
        },
        {
          "name": "stdout",
          "output_type": "stream",
          "text": [
            "\b\b\b\b\b\b\b\b\b\b\b\b\b\b\b\b\b\b\b\b\b\b\b\b\b\b\b\b\b\b\b\b\b\b\b\b\b\b\b\b\b\b\b\b\b\b\b\b\b\b\b\b\b\b\b\b\b\b\b\b\b\b\b\b\b\b\b\b\b\b\b\b\b\b\b\b\b\b\r184/184 [==============================] - 1s 5ms/step - loss: 0.0301 - f1: 0.9368 - val_loss: 0.1472 - val_f1: 0.9202\n",
            "Epoch 100/150\n",
            "173/184 [===========================>..] - ETA: 0s - loss: 0.0364 - f1: 0.9405"
          ]
        },
        {
          "name": "stderr",
          "output_type": "stream",
          "text": [
            "WARNING:tensorflow:Early stopping conditioned on metric `val_accuracy` which is not available. Available metrics are: loss,f1,val_loss,val_f1\n",
            "WARNING:tensorflow:Can save best model only with val_accuracy available, skipping.\n"
          ]
        },
        {
          "name": "stdout",
          "output_type": "stream",
          "text": [
            "\b\b\b\b\b\b\b\b\b\b\b\b\b\b\b\b\b\b\b\b\b\b\b\b\b\b\b\b\b\b\b\b\b\b\b\b\b\b\b\b\b\b\b\b\b\b\b\b\b\b\b\b\b\b\b\b\b\b\b\b\b\b\b\b\b\b\b\b\b\b\b\b\b\b\b\b\b\b\r184/184 [==============================] - 1s 5ms/step - loss: 0.0360 - f1: 0.9396 - val_loss: 0.1302 - val_f1: 0.9232\n",
            "Epoch 101/150\n",
            "178/184 [============================>.] - ETA: 0s - loss: 0.0297 - f1: 0.9350"
          ]
        },
        {
          "name": "stderr",
          "output_type": "stream",
          "text": [
            "WARNING:tensorflow:Early stopping conditioned on metric `val_accuracy` which is not available. Available metrics are: loss,f1,val_loss,val_f1\n",
            "WARNING:tensorflow:Can save best model only with val_accuracy available, skipping.\n"
          ]
        },
        {
          "name": "stdout",
          "output_type": "stream",
          "text": [
            "\b\b\b\b\b\b\b\b\b\b\b\b\b\b\b\b\b\b\b\b\b\b\b\b\b\b\b\b\b\b\b\b\b\b\b\b\b\b\b\b\b\b\b\b\b\b\b\b\b\b\b\b\b\b\b\b\b\b\b\b\b\b\b\b\b\b\b\b\b\b\b\b\b\b\b\b\b\b\r184/184 [==============================] - 1s 6ms/step - loss: 0.0299 - f1: 0.9344 - val_loss: 0.1878 - val_f1: 0.9171\n",
            "Epoch 102/150\n",
            "179/184 [============================>.] - ETA: 0s - loss: 0.0262 - f1: 0.9347"
          ]
        },
        {
          "name": "stderr",
          "output_type": "stream",
          "text": [
            "WARNING:tensorflow:Early stopping conditioned on metric `val_accuracy` which is not available. Available metrics are: loss,f1,val_loss,val_f1\n",
            "WARNING:tensorflow:Can save best model only with val_accuracy available, skipping.\n"
          ]
        },
        {
          "name": "stdout",
          "output_type": "stream",
          "text": [
            "\b\b\b\b\b\b\b\b\b\b\b\b\b\b\b\b\b\b\b\b\b\b\b\b\b\b\b\b\b\b\b\b\b\b\b\b\b\b\b\b\b\b\b\b\b\b\b\b\b\b\b\b\b\b\b\b\b\b\b\b\b\b\b\b\b\b\b\b\b\b\b\b\b\b\b\b\b\b\r184/184 [==============================] - 1s 7ms/step - loss: 0.0259 - f1: 0.9334 - val_loss: 0.1072 - val_f1: 0.9218\n",
            "Epoch 103/150\n",
            "176/184 [===========================>..] - ETA: 0s - loss: 0.0335 - f1: 0.9355"
          ]
        },
        {
          "name": "stderr",
          "output_type": "stream",
          "text": [
            "WARNING:tensorflow:Early stopping conditioned on metric `val_accuracy` which is not available. Available metrics are: loss,f1,val_loss,val_f1\n",
            "WARNING:tensorflow:Can save best model only with val_accuracy available, skipping.\n"
          ]
        },
        {
          "name": "stdout",
          "output_type": "stream",
          "text": [
            "\b\b\b\b\b\b\b\b\b\b\b\b\b\b\b\b\b\b\b\b\b\b\b\b\b\b\b\b\b\b\b\b\b\b\b\b\b\b\b\b\b\b\b\b\b\b\b\b\b\b\b\b\b\b\b\b\b\b\b\b\b\b\b\b\b\b\b\b\b\b\b\b\b\b\b\b\b\b\r184/184 [==============================] - 1s 7ms/step - loss: 0.0325 - f1: 0.9359 - val_loss: 0.1105 - val_f1: 0.9208\n",
            "Epoch 104/150\n",
            "180/184 [============================>.] - ETA: 0s - loss: 0.0239 - f1: 0.9294"
          ]
        },
        {
          "name": "stderr",
          "output_type": "stream",
          "text": [
            "WARNING:tensorflow:Early stopping conditioned on metric `val_accuracy` which is not available. Available metrics are: loss,f1,val_loss,val_f1\n",
            "WARNING:tensorflow:Can save best model only with val_accuracy available, skipping.\n"
          ]
        },
        {
          "name": "stdout",
          "output_type": "stream",
          "text": [
            "\b\b\b\b\b\b\b\b\b\b\b\b\b\b\b\b\b\b\b\b\b\b\b\b\b\b\b\b\b\b\b\b\b\b\b\b\b\b\b\b\b\b\b\b\b\b\b\b\b\b\b\b\b\b\b\b\b\b\b\b\b\b\b\b\b\b\b\b\b\b\b\b\b\b\b\b\b\b\r184/184 [==============================] - 1s 4ms/step - loss: 0.0243 - f1: 0.9305 - val_loss: 0.1426 - val_f1: 0.9178\n",
            "Epoch 105/150\n",
            "179/184 [============================>.] - ETA: 0s - loss: 0.0265 - f1: 0.9309"
          ]
        },
        {
          "name": "stderr",
          "output_type": "stream",
          "text": [
            "WARNING:tensorflow:Early stopping conditioned on metric `val_accuracy` which is not available. Available metrics are: loss,f1,val_loss,val_f1\n",
            "WARNING:tensorflow:Can save best model only with val_accuracy available, skipping.\n"
          ]
        },
        {
          "name": "stdout",
          "output_type": "stream",
          "text": [
            "\b\b\b\b\b\b\b\b\b\b\b\b\b\b\b\b\b\b\b\b\b\b\b\b\b\b\b\b\b\b\b\b\b\b\b\b\b\b\b\b\b\b\b\b\b\b\b\b\b\b\b\b\b\b\b\b\b\b\b\b\b\b\b\b\b\b\b\b\b\b\b\b\b\b\b\b\b\b\r184/184 [==============================] - 1s 4ms/step - loss: 0.0271 - f1: 0.9319 - val_loss: 0.1620 - val_f1: 0.9171\n",
            "Epoch 106/150\n",
            "177/184 [===========================>..] - ETA: 0s - loss: 0.0229 - f1: 0.9338"
          ]
        },
        {
          "name": "stderr",
          "output_type": "stream",
          "text": [
            "WARNING:tensorflow:Early stopping conditioned on metric `val_accuracy` which is not available. Available metrics are: loss,f1,val_loss,val_f1\n",
            "WARNING:tensorflow:Can save best model only with val_accuracy available, skipping.\n"
          ]
        },
        {
          "name": "stdout",
          "output_type": "stream",
          "text": [
            "\b\b\b\b\b\b\b\b\b\b\b\b\b\b\b\b\b\b\b\b\b\b\b\b\b\b\b\b\b\b\b\b\b\b\b\b\b\b\b\b\b\b\b\b\b\b\b\b\b\b\b\b\b\b\b\b\b\b\b\b\b\b\b\b\b\b\b\b\b\b\b\b\b\b\b\b\b\b\r184/184 [==============================] - 2s 10ms/step - loss: 0.0227 - f1: 0.9335 - val_loss: 0.1255 - val_f1: 0.9157\n",
            "Epoch 107/150\n",
            "182/184 [============================>.] - ETA: 0s - loss: 0.0244 - f1: 0.9320"
          ]
        },
        {
          "name": "stderr",
          "output_type": "stream",
          "text": [
            "WARNING:tensorflow:Early stopping conditioned on metric `val_accuracy` which is not available. Available metrics are: loss,f1,val_loss,val_f1\n",
            "WARNING:tensorflow:Can save best model only with val_accuracy available, skipping.\n"
          ]
        },
        {
          "name": "stdout",
          "output_type": "stream",
          "text": [
            "\b\b\b\b\b\b\b\b\b\b\b\b\b\b\b\b\b\b\b\b\b\b\b\b\b\b\b\b\b\b\b\b\b\b\b\b\b\b\b\b\b\b\b\b\b\b\b\b\b\b\b\b\b\b\b\b\b\b\b\b\b\b\b\b\b\b\b\b\b\b\b\b\b\b\b\b\b\b\r184/184 [==============================] - 1s 5ms/step - loss: 0.0243 - f1: 0.9321 - val_loss: 0.1204 - val_f1: 0.9229\n",
            "Epoch 108/150\n",
            "175/184 [===========================>..] - ETA: 0s - loss: 0.0350 - f1: 0.9329"
          ]
        },
        {
          "name": "stderr",
          "output_type": "stream",
          "text": [
            "WARNING:tensorflow:Early stopping conditioned on metric `val_accuracy` which is not available. Available metrics are: loss,f1,val_loss,val_f1\n",
            "WARNING:tensorflow:Can save best model only with val_accuracy available, skipping.\n"
          ]
        },
        {
          "name": "stdout",
          "output_type": "stream",
          "text": [
            "\b\b\b\b\b\b\b\b\b\b\b\b\b\b\b\b\b\b\b\b\b\b\b\b\b\b\b\b\b\b\b\b\b\b\b\b\b\b\b\b\b\b\b\b\b\b\b\b\b\b\b\b\b\b\b\b\b\b\b\b\b\b\b\b\b\b\b\b\b\b\b\b\b\b\b\b\b\b\r184/184 [==============================] - 1s 5ms/step - loss: 0.0340 - f1: 0.9331 - val_loss: 0.1239 - val_f1: 0.9229\n",
            "Epoch 109/150\n",
            "183/184 [============================>.] - ETA: 0s - loss: 0.0278 - f1: 0.9331"
          ]
        },
        {
          "name": "stderr",
          "output_type": "stream",
          "text": [
            "WARNING:tensorflow:Early stopping conditioned on metric `val_accuracy` which is not available. Available metrics are: loss,f1,val_loss,val_f1\n",
            "WARNING:tensorflow:Can save best model only with val_accuracy available, skipping.\n"
          ]
        },
        {
          "name": "stdout",
          "output_type": "stream",
          "text": [
            "\b\b\b\b\b\b\b\b\b\b\b\b\b\b\b\b\b\b\b\b\b\b\b\b\b\b\b\b\b\b\b\b\b\b\b\b\b\b\b\b\b\b\b\b\b\b\b\b\b\b\b\b\b\b\b\b\b\b\b\b\b\b\b\b\b\b\b\b\b\b\b\b\b\b\b\b\b\b\r184/184 [==============================] - 1s 5ms/step - loss: 0.0277 - f1: 0.9331 - val_loss: 0.1191 - val_f1: 0.9198\n",
            "Epoch 110/150\n",
            "178/184 [============================>.] - ETA: 0s - loss: 0.0320 - f1: 0.9340"
          ]
        },
        {
          "name": "stderr",
          "output_type": "stream",
          "text": [
            "WARNING:tensorflow:Early stopping conditioned on metric `val_accuracy` which is not available. Available metrics are: loss,f1,val_loss,val_f1\n",
            "WARNING:tensorflow:Can save best model only with val_accuracy available, skipping.\n"
          ]
        },
        {
          "name": "stdout",
          "output_type": "stream",
          "text": [
            "\b\b\b\b\b\b\b\b\b\b\b\b\b\b\b\b\b\b\b\b\b\b\b\b\b\b\b\b\b\b\b\b\b\b\b\b\b\b\b\b\b\b\b\b\b\b\b\b\b\b\b\b\b\b\b\b\b\b\b\b\b\b\b\b\b\b\b\b\b\b\b\b\b\b\b\b\b\b\r184/184 [==============================] - 1s 4ms/step - loss: 0.0316 - f1: 0.9338 - val_loss: 0.1274 - val_f1: 0.9242\n",
            "Epoch 111/150\n",
            "184/184 [==============================] - ETA: 0s - loss: 0.0235 - f1: 0.9297"
          ]
        },
        {
          "name": "stderr",
          "output_type": "stream",
          "text": [
            "WARNING:tensorflow:Early stopping conditioned on metric `val_accuracy` which is not available. Available metrics are: loss,f1,val_loss,val_f1\n",
            "WARNING:tensorflow:Can save best model only with val_accuracy available, skipping.\n"
          ]
        },
        {
          "name": "stdout",
          "output_type": "stream",
          "text": [
            "\b\b\b\b\b\b\b\b\b\b\b\b\b\b\b\b\b\b\b\b\b\b\b\b\b\b\b\b\b\b\b\b\b\b\b\b\b\b\b\b\b\b\b\b\b\b\b\b\b\b\b\b\b\b\b\b\b\b\b\b\b\b\b\b\b\b\b\b\b\b\b\b\b\b\b\b\b\b\r184/184 [==============================] - 1s 4ms/step - loss: 0.0235 - f1: 0.9297 - val_loss: 0.1914 - val_f1: 0.9130\n",
            "Epoch 112/150\n",
            "171/184 [==========================>...] - ETA: 0s - loss: 0.0250 - f1: 0.9312"
          ]
        },
        {
          "name": "stderr",
          "output_type": "stream",
          "text": [
            "WARNING:tensorflow:Early stopping conditioned on metric `val_accuracy` which is not available. Available metrics are: loss,f1,val_loss,val_f1\n",
            "WARNING:tensorflow:Can save best model only with val_accuracy available, skipping.\n"
          ]
        },
        {
          "name": "stdout",
          "output_type": "stream",
          "text": [
            "\b\b\b\b\b\b\b\b\b\b\b\b\b\b\b\b\b\b\b\b\b\b\b\b\b\b\b\b\b\b\b\b\b\b\b\b\b\b\b\b\b\b\b\b\b\b\b\b\b\b\b\b\b\b\b\b\b\b\b\b\b\b\b\b\b\b\b\b\b\b\b\b\b\b\b\b\b\b\r184/184 [==============================] - 1s 4ms/step - loss: 0.0243 - f1: 0.9302 - val_loss: 0.1164 - val_f1: 0.9164\n",
            "Epoch 113/150\n",
            "183/184 [============================>.] - ETA: 0s - loss: 0.0265 - f1: 0.9304"
          ]
        },
        {
          "name": "stderr",
          "output_type": "stream",
          "text": [
            "WARNING:tensorflow:Early stopping conditioned on metric `val_accuracy` which is not available. Available metrics are: loss,f1,val_loss,val_f1\n",
            "WARNING:tensorflow:Can save best model only with val_accuracy available, skipping.\n"
          ]
        },
        {
          "name": "stdout",
          "output_type": "stream",
          "text": [
            "\b\b\b\b\b\b\b\b\b\b\b\b\b\b\b\b\b\b\b\b\b\b\b\b\b\b\b\b\b\b\b\b\b\b\b\b\b\b\b\b\b\b\b\b\b\b\b\b\b\b\b\b\b\b\b\b\b\b\b\b\b\b\b\b\b\b\b\b\b\b\b\b\b\b\b\b\b\b\r184/184 [==============================] - 1s 5ms/step - loss: 0.0265 - f1: 0.9304 - val_loss: 0.1519 - val_f1: 0.9157\n",
            "Epoch 114/150\n",
            "179/184 [============================>.] - ETA: 0s - loss: 0.0196 - f1: 0.9253"
          ]
        },
        {
          "name": "stderr",
          "output_type": "stream",
          "text": [
            "WARNING:tensorflow:Early stopping conditioned on metric `val_accuracy` which is not available. Available metrics are: loss,f1,val_loss,val_f1\n",
            "WARNING:tensorflow:Can save best model only with val_accuracy available, skipping.\n"
          ]
        },
        {
          "name": "stdout",
          "output_type": "stream",
          "text": [
            "\b\b\b\b\b\b\b\b\b\b\b\b\b\b\b\b\b\b\b\b\b\b\b\b\b\b\b\b\b\b\b\b\b\b\b\b\b\b\b\b\b\b\b\b\b\b\b\b\b\b\b\b\b\b\b\b\b\b\b\b\b\b\b\b\b\b\b\b\b\b\b\b\b\b\b\b\b\b\r184/184 [==============================] - 1s 6ms/step - loss: 0.0201 - f1: 0.9260 - val_loss: 0.1194 - val_f1: 0.9177\n",
            "Epoch 115/150\n",
            "182/184 [============================>.] - ETA: 0s - loss: 0.0186 - f1: 0.9284"
          ]
        },
        {
          "name": "stderr",
          "output_type": "stream",
          "text": [
            "WARNING:tensorflow:Early stopping conditioned on metric `val_accuracy` which is not available. Available metrics are: loss,f1,val_loss,val_f1\n",
            "WARNING:tensorflow:Can save best model only with val_accuracy available, skipping.\n"
          ]
        },
        {
          "name": "stdout",
          "output_type": "stream",
          "text": [
            "\b\b\b\b\b\b\b\b\b\b\b\b\b\b\b\b\b\b\b\b\b\b\b\b\b\b\b\b\b\b\b\b\b\b\b\b\b\b\b\b\b\b\b\b\b\b\b\b\b\b\b\b\b\b\b\b\b\b\b\b\b\b\b\b\b\b\b\b\b\b\b\b\b\b\b\b\b\b\r184/184 [==============================] - 1s 7ms/step - loss: 0.0187 - f1: 0.9285 - val_loss: 0.1598 - val_f1: 0.9147\n",
            "Epoch 116/150\n",
            "179/184 [============================>.] - ETA: 0s - loss: 0.0265 - f1: 0.9326"
          ]
        },
        {
          "name": "stderr",
          "output_type": "stream",
          "text": [
            "WARNING:tensorflow:Early stopping conditioned on metric `val_accuracy` which is not available. Available metrics are: loss,f1,val_loss,val_f1\n",
            "WARNING:tensorflow:Can save best model only with val_accuracy available, skipping.\n"
          ]
        },
        {
          "name": "stdout",
          "output_type": "stream",
          "text": [
            "\b\b\b\b\b\b\b\b\b\b\b\b\b\b\b\b\b\b\b\b\b\b\b\b\b\b\b\b\b\b\b\b\b\b\b\b\b\b\b\b\b\b\b\b\b\b\b\b\b\b\b\b\b\b\b\b\b\b\b\b\b\b\b\b\b\b\b\b\b\b\b\b\b\b\b\b\b\b\r184/184 [==============================] - 1s 6ms/step - loss: 0.0260 - f1: 0.9326 - val_loss: 0.1257 - val_f1: 0.9171\n",
            "Epoch 117/150\n",
            "174/184 [===========================>..] - ETA: 0s - loss: 0.0203 - f1: 0.9260"
          ]
        },
        {
          "name": "stderr",
          "output_type": "stream",
          "text": [
            "WARNING:tensorflow:Early stopping conditioned on metric `val_accuracy` which is not available. Available metrics are: loss,f1,val_loss,val_f1\n",
            "WARNING:tensorflow:Can save best model only with val_accuracy available, skipping.\n"
          ]
        },
        {
          "name": "stdout",
          "output_type": "stream",
          "text": [
            "\b\b\b\b\b\b\b\b\b\b\b\b\b\b\b\b\b\b\b\b\b\b\b\b\b\b\b\b\b\b\b\b\b\b\b\b\b\b\b\b\b\b\b\b\b\b\b\b\b\b\b\b\b\b\b\b\b\b\b\b\b\b\b\b\b\b\b\b\b\b\b\b\b\b\b\b\b\b\r184/184 [==============================] - 1s 4ms/step - loss: 0.0229 - f1: 0.9268 - val_loss: 0.7657 - val_f1: 0.9177\n",
            "Epoch 118/150\n",
            "184/184 [==============================] - ETA: 0s - loss: 0.0284 - f1: 0.9327"
          ]
        },
        {
          "name": "stderr",
          "output_type": "stream",
          "text": [
            "WARNING:tensorflow:Early stopping conditioned on metric `val_accuracy` which is not available. Available metrics are: loss,f1,val_loss,val_f1\n",
            "WARNING:tensorflow:Can save best model only with val_accuracy available, skipping.\n"
          ]
        },
        {
          "name": "stdout",
          "output_type": "stream",
          "text": [
            "\b\b\b\b\b\b\b\b\b\b\b\b\b\b\b\b\b\b\b\b\b\b\b\b\b\b\b\b\b\b\b\b\b\b\b\b\b\b\b\b\b\b\b\b\b\b\b\b\b\b\b\b\b\b\b\b\b\b\b\b\b\b\b\b\b\b\b\b\b\b\b\b\b\b\b\b\b\b\r184/184 [==============================] - 1s 5ms/step - loss: 0.0284 - f1: 0.9327 - val_loss: 0.1048 - val_f1: 0.9191\n",
            "Epoch 119/150\n",
            "177/184 [===========================>..] - ETA: 0s - loss: 0.0310 - f1: 0.9327"
          ]
        },
        {
          "name": "stderr",
          "output_type": "stream",
          "text": [
            "WARNING:tensorflow:Early stopping conditioned on metric `val_accuracy` which is not available. Available metrics are: loss,f1,val_loss,val_f1\n",
            "WARNING:tensorflow:Can save best model only with val_accuracy available, skipping.\n"
          ]
        },
        {
          "name": "stdout",
          "output_type": "stream",
          "text": [
            "\b\b\b\b\b\b\b\b\b\b\b\b\b\b\b\b\b\b\b\b\b\b\b\b\b\b\b\b\b\b\b\b\b\b\b\b\b\b\b\b\b\b\b\b\b\b\b\b\b\b\b\b\b\b\b\b\b\b\b\b\b\b\b\b\b\b\b\b\b\b\b\b\b\b\b\b\b\b\r184/184 [==============================] - 1s 5ms/step - loss: 0.0304 - f1: 0.9328 - val_loss: 0.1574 - val_f1: 0.9211\n",
            "Epoch 120/150\n",
            "184/184 [==============================] - ETA: 0s - loss: 0.0205 - f1: 0.9279"
          ]
        },
        {
          "name": "stderr",
          "output_type": "stream",
          "text": [
            "WARNING:tensorflow:Early stopping conditioned on metric `val_accuracy` which is not available. Available metrics are: loss,f1,val_loss,val_f1\n",
            "WARNING:tensorflow:Can save best model only with val_accuracy available, skipping.\n"
          ]
        },
        {
          "name": "stdout",
          "output_type": "stream",
          "text": [
            "\b\b\b\b\b\b\b\b\b\b\b\b\b\b\b\b\b\b\b\b\b\b\b\b\b\b\b\b\b\b\b\b\b\b\b\b\b\b\b\b\b\b\b\b\b\b\b\b\b\b\b\b\b\b\b\b\b\b\b\b\b\b\b\b\b\b\b\b\b\b\b\b\b\b\b\b\b\b\r184/184 [==============================] - 1s 5ms/step - loss: 0.0205 - f1: 0.9279 - val_loss: 0.1711 - val_f1: 0.9116\n",
            "Epoch 121/150\n",
            "176/184 [===========================>..] - ETA: 0s - loss: 0.0284 - f1: 0.9318"
          ]
        },
        {
          "name": "stderr",
          "output_type": "stream",
          "text": [
            "WARNING:tensorflow:Early stopping conditioned on metric `val_accuracy` which is not available. Available metrics are: loss,f1,val_loss,val_f1\n",
            "WARNING:tensorflow:Can save best model only with val_accuracy available, skipping.\n"
          ]
        },
        {
          "name": "stdout",
          "output_type": "stream",
          "text": [
            "\b\b\b\b\b\b\b\b\b\b\b\b\b\b\b\b\b\b\b\b\b\b\b\b\b\b\b\b\b\b\b\b\b\b\b\b\b\b\b\b\b\b\b\b\b\b\b\b\b\b\b\b\b\b\b\b\b\b\b\b\b\b\b\b\b\b\b\b\b\b\b\b\b\b\b\b\b\b\r184/184 [==============================] - 1s 5ms/step - loss: 0.0278 - f1: 0.9325 - val_loss: 0.1175 - val_f1: 0.9256\n",
            "Epoch 122/150\n",
            "184/184 [==============================] - ETA: 0s - loss: 0.0238 - f1: 0.9318"
          ]
        },
        {
          "name": "stderr",
          "output_type": "stream",
          "text": [
            "WARNING:tensorflow:Early stopping conditioned on metric `val_accuracy` which is not available. Available metrics are: loss,f1,val_loss,val_f1\n",
            "WARNING:tensorflow:Can save best model only with val_accuracy available, skipping.\n"
          ]
        },
        {
          "name": "stdout",
          "output_type": "stream",
          "text": [
            "\b\b\b\b\b\b\b\b\b\b\b\b\b\b\b\b\b\b\b\b\b\b\b\b\b\b\b\b\b\b\b\b\b\b\b\b\b\b\b\b\b\b\b\b\b\b\b\b\b\b\b\b\b\b\b\b\b\b\b\b\b\b\b\b\b\b\b\b\b\b\b\b\b\b\b\b\b\b\r184/184 [==============================] - 1s 7ms/step - loss: 0.0238 - f1: 0.9318 - val_loss: 0.2069 - val_f1: 0.9144\n",
            "Epoch 123/150\n",
            "178/184 [============================>.] - ETA: 0s - loss: 0.0190 - f1: 0.9289"
          ]
        },
        {
          "name": "stderr",
          "output_type": "stream",
          "text": [
            "WARNING:tensorflow:Early stopping conditioned on metric `val_accuracy` which is not available. Available metrics are: loss,f1,val_loss,val_f1\n",
            "WARNING:tensorflow:Can save best model only with val_accuracy available, skipping.\n"
          ]
        },
        {
          "name": "stdout",
          "output_type": "stream",
          "text": [
            "\b\b\b\b\b\b\b\b\b\b\b\b\b\b\b\b\b\b\b\b\b\b\b\b\b\b\b\b\b\b\b\b\b\b\b\b\b\b\b\b\b\b\b\b\b\b\b\b\b\b\b\b\b\b\b\b\b\b\b\b\b\b\b\b\b\b\b\b\b\b\b\b\b\b\b\b\b\b\r184/184 [==============================] - 1s 7ms/step - loss: 0.0188 - f1: 0.9287 - val_loss: 0.2072 - val_f1: 0.9096\n",
            "Epoch 124/150\n",
            "178/184 [============================>.] - ETA: 0s - loss: 0.0202 - f1: 0.9256"
          ]
        },
        {
          "name": "stderr",
          "output_type": "stream",
          "text": [
            "WARNING:tensorflow:Early stopping conditioned on metric `val_accuracy` which is not available. Available metrics are: loss,f1,val_loss,val_f1\n",
            "WARNING:tensorflow:Can save best model only with val_accuracy available, skipping.\n"
          ]
        },
        {
          "name": "stdout",
          "output_type": "stream",
          "text": [
            "\b\b\b\b\b\b\b\b\b\b\b\b\b\b\b\b\b\b\b\b\b\b\b\b\b\b\b\b\b\b\b\b\b\b\b\b\b\b\b\b\b\b\b\b\b\b\b\b\b\b\b\b\b\b\b\b\b\b\b\b\b\b\b\b\b\b\b\b\b\b\b\b\b\b\b\b\b\b\r184/184 [==============================] - 2s 10ms/step - loss: 0.0199 - f1: 0.9256 - val_loss: 0.1390 - val_f1: 0.9137\n",
            "Epoch 125/150\n",
            "182/184 [============================>.] - ETA: 0s - loss: 0.0243 - f1: 0.9282"
          ]
        },
        {
          "name": "stderr",
          "output_type": "stream",
          "text": [
            "WARNING:tensorflow:Early stopping conditioned on metric `val_accuracy` which is not available. Available metrics are: loss,f1,val_loss,val_f1\n",
            "WARNING:tensorflow:Can save best model only with val_accuracy available, skipping.\n"
          ]
        },
        {
          "name": "stdout",
          "output_type": "stream",
          "text": [
            "\b\b\b\b\b\b\b\b\b\b\b\b\b\b\b\b\b\b\b\b\b\b\b\b\b\b\b\b\b\b\b\b\b\b\b\b\b\b\b\b\b\b\b\b\b\b\b\b\b\b\b\b\b\b\b\b\b\b\b\b\b\b\b\b\b\b\b\b\b\b\b\b\b\b\b\b\b\b\r184/184 [==============================] - 2s 10ms/step - loss: 0.0243 - f1: 0.9276 - val_loss: 0.2234 - val_f1: 0.9123\n",
            "Epoch 126/150\n",
            "180/184 [============================>.] - ETA: 0s - loss: 0.0235 - f1: 0.9273"
          ]
        },
        {
          "name": "stderr",
          "output_type": "stream",
          "text": [
            "WARNING:tensorflow:Early stopping conditioned on metric `val_accuracy` which is not available. Available metrics are: loss,f1,val_loss,val_f1\n",
            "WARNING:tensorflow:Can save best model only with val_accuracy available, skipping.\n"
          ]
        },
        {
          "name": "stdout",
          "output_type": "stream",
          "text": [
            "\b\b\b\b\b\b\b\b\b\b\b\b\b\b\b\b\b\b\b\b\b\b\b\b\b\b\b\b\b\b\b\b\b\b\b\b\b\b\b\b\b\b\b\b\b\b\b\b\b\b\b\b\b\b\b\b\b\b\b\b\b\b\b\b\b\b\b\b\b\b\b\b\b\b\b\b\b\b\r184/184 [==============================] - 3s 15ms/step - loss: 0.0239 - f1: 0.9276 - val_loss: 0.2255 - val_f1: 0.9123\n",
            "Epoch 127/150\n",
            "183/184 [============================>.] - ETA: 0s - loss: 0.0341 - f1: 0.9292"
          ]
        },
        {
          "name": "stderr",
          "output_type": "stream",
          "text": [
            "WARNING:tensorflow:Early stopping conditioned on metric `val_accuracy` which is not available. Available metrics are: loss,f1,val_loss,val_f1\n",
            "WARNING:tensorflow:Can save best model only with val_accuracy available, skipping.\n"
          ]
        },
        {
          "name": "stdout",
          "output_type": "stream",
          "text": [
            "\b\b\b\b\b\b\b\b\b\b\b\b\b\b\b\b\b\b\b\b\b\b\b\b\b\b\b\b\b\b\b\b\b\b\b\b\b\b\b\b\b\b\b\b\b\b\b\b\b\b\b\b\b\b\b\b\b\b\b\b\b\b\b\b\b\b\b\b\b\b\b\b\b\b\b\b\b\b\r184/184 [==============================] - 2s 10ms/step - loss: 0.0340 - f1: 0.9293 - val_loss: 0.1256 - val_f1: 0.9239\n",
            "Epoch 128/150\n",
            "181/184 [============================>.] - ETA: 0s - loss: 0.0215 - f1: 0.9306"
          ]
        },
        {
          "name": "stderr",
          "output_type": "stream",
          "text": [
            "WARNING:tensorflow:Early stopping conditioned on metric `val_accuracy` which is not available. Available metrics are: loss,f1,val_loss,val_f1\n",
            "WARNING:tensorflow:Can save best model only with val_accuracy available, skipping.\n"
          ]
        },
        {
          "name": "stdout",
          "output_type": "stream",
          "text": [
            "\b\b\b\b\b\b\b\b\b\b\b\b\b\b\b\b\b\b\b\b\b\b\b\b\b\b\b\b\b\b\b\b\b\b\b\b\b\b\b\b\b\b\b\b\b\b\b\b\b\b\b\b\b\b\b\b\b\b\b\b\b\b\b\b\b\b\b\b\b\b\b\b\b\b\b\b\b\b\r184/184 [==============================] - 2s 8ms/step - loss: 0.0212 - f1: 0.9298 - val_loss: 0.1313 - val_f1: 0.9195\n",
            "Epoch 129/150\n",
            "177/184 [===========================>..] - ETA: 0s - loss: 0.0234 - f1: 0.9285"
          ]
        },
        {
          "name": "stderr",
          "output_type": "stream",
          "text": [
            "WARNING:tensorflow:Early stopping conditioned on metric `val_accuracy` which is not available. Available metrics are: loss,f1,val_loss,val_f1\n",
            "WARNING:tensorflow:Can save best model only with val_accuracy available, skipping.\n"
          ]
        },
        {
          "name": "stdout",
          "output_type": "stream",
          "text": [
            "\b\b\b\b\b\b\b\b\b\b\b\b\b\b\b\b\b\b\b\b\b\b\b\b\b\b\b\b\b\b\b\b\b\b\b\b\b\b\b\b\b\b\b\b\b\b\b\b\b\b\b\b\b\b\b\b\b\b\b\b\b\b\b\b\b\b\b\b\b\b\b\b\b\b\b\b\b\b\r184/184 [==============================] - 1s 4ms/step - loss: 0.0227 - f1: 0.9278 - val_loss: 0.1400 - val_f1: 0.9127\n",
            "Epoch 130/150\n",
            "172/184 [===========================>..] - ETA: 0s - loss: 0.0226 - f1: 0.9308"
          ]
        },
        {
          "name": "stderr",
          "output_type": "stream",
          "text": [
            "WARNING:tensorflow:Early stopping conditioned on metric `val_accuracy` which is not available. Available metrics are: loss,f1,val_loss,val_f1\n",
            "WARNING:tensorflow:Can save best model only with val_accuracy available, skipping.\n"
          ]
        },
        {
          "name": "stdout",
          "output_type": "stream",
          "text": [
            "\b\b\b\b\b\b\b\b\b\b\b\b\b\b\b\b\b\b\b\b\b\b\b\b\b\b\b\b\b\b\b\b\b\b\b\b\b\b\b\b\b\b\b\b\b\b\b\b\b\b\b\b\b\b\b\b\b\b\b\b\b\b\b\b\b\b\b\b\b\b\b\b\b\b\b\b\b\b\r184/184 [==============================] - 1s 5ms/step - loss: 0.0220 - f1: 0.9314 - val_loss: 0.2909 - val_f1: 0.9110\n",
            "Epoch 131/150\n",
            "178/184 [============================>.] - ETA: 0s - loss: 0.0208 - f1: 0.9276"
          ]
        },
        {
          "name": "stderr",
          "output_type": "stream",
          "text": [
            "WARNING:tensorflow:Early stopping conditioned on metric `val_accuracy` which is not available. Available metrics are: loss,f1,val_loss,val_f1\n",
            "WARNING:tensorflow:Can save best model only with val_accuracy available, skipping.\n"
          ]
        },
        {
          "name": "stdout",
          "output_type": "stream",
          "text": [
            "\b\b\b\b\b\b\b\b\b\b\b\b\b\b\b\b\b\b\b\b\b\b\b\b\b\b\b\b\b\b\b\b\b\b\b\b\b\b\b\b\b\b\b\b\b\b\b\b\b\b\b\b\b\b\b\b\b\b\b\b\b\b\b\b\b\b\b\b\b\b\b\b\b\b\b\b\b\b\r184/184 [==============================] - 1s 5ms/step - loss: 0.0203 - f1: 0.9261 - val_loss: 0.1197 - val_f1: 0.9178\n",
            "Epoch 132/150\n",
            "183/184 [============================>.] - ETA: 0s - loss: 0.0201 - f1: 0.9269"
          ]
        },
        {
          "name": "stderr",
          "output_type": "stream",
          "text": [
            "WARNING:tensorflow:Early stopping conditioned on metric `val_accuracy` which is not available. Available metrics are: loss,f1,val_loss,val_f1\n",
            "WARNING:tensorflow:Can save best model only with val_accuracy available, skipping.\n"
          ]
        },
        {
          "name": "stdout",
          "output_type": "stream",
          "text": [
            "\b\b\b\b\b\b\b\b\b\b\b\b\b\b\b\b\b\b\b\b\b\b\b\b\b\b\b\b\b\b\b\b\b\b\b\b\b\b\b\b\b\b\b\b\b\b\b\b\b\b\b\b\b\b\b\b\b\b\b\b\b\b\b\b\b\b\b\b\b\b\b\b\b\b\b\b\b\b\r184/184 [==============================] - 1s 7ms/step - loss: 0.0204 - f1: 0.9267 - val_loss: 0.1323 - val_f1: 0.9198\n",
            "Epoch 133/150\n",
            "177/184 [===========================>..] - ETA: 0s - loss: 0.0275 - f1: 0.9286"
          ]
        },
        {
          "name": "stderr",
          "output_type": "stream",
          "text": [
            "WARNING:tensorflow:Early stopping conditioned on metric `val_accuracy` which is not available. Available metrics are: loss,f1,val_loss,val_f1\n",
            "WARNING:tensorflow:Can save best model only with val_accuracy available, skipping.\n"
          ]
        },
        {
          "name": "stdout",
          "output_type": "stream",
          "text": [
            "\b\b\b\b\b\b\b\b\b\b\b\b\b\b\b\b\b\b\b\b\b\b\b\b\b\b\b\b\b\b\b\b\b\b\b\b\b\b\b\b\b\b\b\b\b\b\b\b\b\b\b\b\b\b\b\b\b\b\b\b\b\b\b\b\b\b\b\b\b\b\b\b\b\b\b\b\b\b\r184/184 [==============================] - 1s 8ms/step - loss: 0.0276 - f1: 0.9294 - val_loss: 0.1291 - val_f1: 0.9164\n",
            "Epoch 134/150\n",
            "184/184 [==============================] - ETA: 0s - loss: 0.0174 - f1: 0.9254"
          ]
        },
        {
          "name": "stderr",
          "output_type": "stream",
          "text": [
            "WARNING:tensorflow:Early stopping conditioned on metric `val_accuracy` which is not available. Available metrics are: loss,f1,val_loss,val_f1\n",
            "WARNING:tensorflow:Can save best model only with val_accuracy available, skipping.\n"
          ]
        },
        {
          "name": "stdout",
          "output_type": "stream",
          "text": [
            "\b\b\b\b\b\b\b\b\b\b\b\b\b\b\b\b\b\b\b\b\b\b\b\b\b\b\b\b\b\b\b\b\b\b\b\b\b\b\b\b\b\b\b\b\b\b\b\b\b\b\b\b\b\b\b\b\b\b\b\b\b\b\b\b\b\b\b\b\b\b\b\b\b\b\b\b\b\b\r184/184 [==============================] - 2s 12ms/step - loss: 0.0174 - f1: 0.9254 - val_loss: 0.1451 - val_f1: 0.9157\n",
            "Epoch 135/150\n",
            "174/184 [===========================>..] - ETA: 0s - loss: 0.0232 - f1: 0.9284"
          ]
        },
        {
          "name": "stderr",
          "output_type": "stream",
          "text": [
            "WARNING:tensorflow:Early stopping conditioned on metric `val_accuracy` which is not available. Available metrics are: loss,f1,val_loss,val_f1\n",
            "WARNING:tensorflow:Can save best model only with val_accuracy available, skipping.\n"
          ]
        },
        {
          "name": "stdout",
          "output_type": "stream",
          "text": [
            "\b\b\b\b\b\b\b\b\b\b\b\b\b\b\b\b\b\b\b\b\b\b\b\b\b\b\b\b\b\b\b\b\b\b\b\b\b\b\b\b\b\b\b\b\b\b\b\b\b\b\b\b\b\b\b\b\b\b\b\b\b\b\b\b\b\b\b\b\b\b\b\b\b\b\b\b\b\b\r184/184 [==============================] - 2s 11ms/step - loss: 0.0223 - f1: 0.9279 - val_loss: 0.1436 - val_f1: 0.9185\n",
            "Epoch 136/150\n",
            "180/184 [============================>.] - ETA: 0s - loss: 0.0210 - f1: 0.9244"
          ]
        },
        {
          "name": "stderr",
          "output_type": "stream",
          "text": [
            "WARNING:tensorflow:Early stopping conditioned on metric `val_accuracy` which is not available. Available metrics are: loss,f1,val_loss,val_f1\n",
            "WARNING:tensorflow:Can save best model only with val_accuracy available, skipping.\n"
          ]
        },
        {
          "name": "stdout",
          "output_type": "stream",
          "text": [
            "\b\b\b\b\b\b\b\b\b\b\b\b\b\b\b\b\b\b\b\b\b\b\b\b\b\b\b\b\b\b\b\b\b\b\b\b\b\b\b\b\b\b\b\b\b\b\b\b\b\b\b\b\b\b\b\b\b\b\b\b\b\b\b\b\b\b\b\b\b\b\b\b\b\b\b\b\b\b\r184/184 [==============================] - 1s 5ms/step - loss: 0.0208 - f1: 0.9251 - val_loss: 0.1387 - val_f1: 0.9130\n",
            "Epoch 137/150\n",
            "177/184 [===========================>..] - ETA: 0s - loss: 0.0189 - f1: 0.9244"
          ]
        },
        {
          "name": "stderr",
          "output_type": "stream",
          "text": [
            "WARNING:tensorflow:Early stopping conditioned on metric `val_accuracy` which is not available. Available metrics are: loss,f1,val_loss,val_f1\n",
            "WARNING:tensorflow:Can save best model only with val_accuracy available, skipping.\n"
          ]
        },
        {
          "name": "stdout",
          "output_type": "stream",
          "text": [
            "\b\b\b\b\b\b\b\b\b\b\b\b\b\b\b\b\b\b\b\b\b\b\b\b\b\b\b\b\b\b\b\b\b\b\b\b\b\b\b\b\b\b\b\b\b\b\b\b\b\b\b\b\b\b\b\b\b\b\b\b\b\b\b\b\b\b\b\b\b\b\b\b\b\b\b\b\b\b\r184/184 [==============================] - 1s 5ms/step - loss: 0.0189 - f1: 0.9246 - val_loss: 0.1274 - val_f1: 0.9168\n",
            "Epoch 138/150\n",
            "173/184 [===========================>..] - ETA: 0s - loss: 0.0163 - f1: 0.9250"
          ]
        },
        {
          "name": "stderr",
          "output_type": "stream",
          "text": [
            "WARNING:tensorflow:Early stopping conditioned on metric `val_accuracy` which is not available. Available metrics are: loss,f1,val_loss,val_f1\n",
            "WARNING:tensorflow:Can save best model only with val_accuracy available, skipping.\n"
          ]
        },
        {
          "name": "stdout",
          "output_type": "stream",
          "text": [
            "\b\b\b\b\b\b\b\b\b\b\b\b\b\b\b\b\b\b\b\b\b\b\b\b\b\b\b\b\b\b\b\b\b\b\b\b\b\b\b\b\b\b\b\b\b\b\b\b\b\b\b\b\b\b\b\b\b\b\b\b\b\b\b\b\b\b\b\b\b\b\b\b\b\b\b\b\b\b\r184/184 [==============================] - 1s 5ms/step - loss: 0.0159 - f1: 0.9257 - val_loss: 0.1440 - val_f1: 0.9144\n",
            "Epoch 139/150\n",
            "179/184 [============================>.] - ETA: 0s - loss: 0.0280 - f1: 0.9274"
          ]
        },
        {
          "name": "stderr",
          "output_type": "stream",
          "text": [
            "WARNING:tensorflow:Early stopping conditioned on metric `val_accuracy` which is not available. Available metrics are: loss,f1,val_loss,val_f1\n",
            "WARNING:tensorflow:Can save best model only with val_accuracy available, skipping.\n"
          ]
        },
        {
          "name": "stdout",
          "output_type": "stream",
          "text": [
            "\b\b\b\b\b\b\b\b\b\b\b\b\b\b\b\b\b\b\b\b\b\b\b\b\b\b\b\b\b\b\b\b\b\b\b\b\b\b\b\b\b\b\b\b\b\b\b\b\b\b\b\b\b\b\b\b\b\b\b\b\b\b\b\b\b\b\b\b\b\b\b\b\b\b\b\b\b\b\r184/184 [==============================] - 1s 5ms/step - loss: 0.0277 - f1: 0.9279 - val_loss: 0.1336 - val_f1: 0.9245\n",
            "Epoch 140/150\n",
            "174/184 [===========================>..] - ETA: 0s - loss: 0.0160 - f1: 0.9224"
          ]
        },
        {
          "name": "stderr",
          "output_type": "stream",
          "text": [
            "WARNING:tensorflow:Early stopping conditioned on metric `val_accuracy` which is not available. Available metrics are: loss,f1,val_loss,val_f1\n",
            "WARNING:tensorflow:Can save best model only with val_accuracy available, skipping.\n"
          ]
        },
        {
          "name": "stdout",
          "output_type": "stream",
          "text": [
            "\b\b\b\b\b\b\b\b\b\b\b\b\b\b\b\b\b\b\b\b\b\b\b\b\b\b\b\b\b\b\b\b\b\b\b\b\b\b\b\b\b\b\b\b\b\b\b\b\b\b\b\b\b\b\b\b\b\b\b\b\b\b\b\b\b\b\b\b\b\b\b\b\b\b\b\b\b\b\r184/184 [==============================] - 1s 5ms/step - loss: 0.0161 - f1: 0.9225 - val_loss: 0.2630 - val_f1: 0.9252\n",
            "Epoch 141/150\n",
            "181/184 [============================>.] - ETA: 0s - loss: 0.0157 - f1: 0.9251"
          ]
        },
        {
          "name": "stderr",
          "output_type": "stream",
          "text": [
            "WARNING:tensorflow:Early stopping conditioned on metric `val_accuracy` which is not available. Available metrics are: loss,f1,val_loss,val_f1\n",
            "WARNING:tensorflow:Can save best model only with val_accuracy available, skipping.\n"
          ]
        },
        {
          "name": "stdout",
          "output_type": "stream",
          "text": [
            "\b\b\b\b\b\b\b\b\b\b\b\b\b\b\b\b\b\b\b\b\b\b\b\b\b\b\b\b\b\b\b\b\b\b\b\b\b\b\b\b\b\b\b\b\b\b\b\b\b\b\b\b\b\b\b\b\b\b\b\b\b\b\b\b\b\b\b\b\b\b\b\b\b\b\b\b\b\b\r184/184 [==============================] - 1s 5ms/step - loss: 0.0159 - f1: 0.9249 - val_loss: 0.1191 - val_f1: 0.9171\n",
            "Epoch 142/150\n",
            "176/184 [===========================>..] - ETA: 0s - loss: 0.0211 - f1: 0.9287"
          ]
        },
        {
          "name": "stderr",
          "output_type": "stream",
          "text": [
            "WARNING:tensorflow:Early stopping conditioned on metric `val_accuracy` which is not available. Available metrics are: loss,f1,val_loss,val_f1\n",
            "WARNING:tensorflow:Can save best model only with val_accuracy available, skipping.\n"
          ]
        },
        {
          "name": "stdout",
          "output_type": "stream",
          "text": [
            "\b\b\b\b\b\b\b\b\b\b\b\b\b\b\b\b\b\b\b\b\b\b\b\b\b\b\b\b\b\b\b\b\b\b\b\b\b\b\b\b\b\b\b\b\b\b\b\b\b\b\b\b\b\b\b\b\b\b\b\b\b\b\b\b\b\b\b\b\b\b\b\b\b\b\b\b\b\b\r184/184 [==============================] - 1s 5ms/step - loss: 0.0213 - f1: 0.9270 - val_loss: 0.2761 - val_f1: 0.9327\n",
            "Epoch 143/150\n",
            "175/184 [===========================>..] - ETA: 0s - loss: 0.0161 - f1: 0.9247"
          ]
        },
        {
          "name": "stderr",
          "output_type": "stream",
          "text": [
            "WARNING:tensorflow:Early stopping conditioned on metric `val_accuracy` which is not available. Available metrics are: loss,f1,val_loss,val_f1\n",
            "WARNING:tensorflow:Can save best model only with val_accuracy available, skipping.\n"
          ]
        },
        {
          "name": "stdout",
          "output_type": "stream",
          "text": [
            "\b\b\b\b\b\b\b\b\b\b\b\b\b\b\b\b\b\b\b\b\b\b\b\b\b\b\b\b\b\b\b\b\b\b\b\b\b\b\b\b\b\b\b\b\b\b\b\b\b\b\b\b\b\b\b\b\b\b\b\b\b\b\b\b\b\b\b\b\b\b\b\b\b\b\b\b\b\b\r184/184 [==============================] - 1s 5ms/step - loss: 0.0158 - f1: 0.9240 - val_loss: 0.1290 - val_f1: 0.9198\n",
            "Epoch 144/150\n",
            "182/184 [============================>.] - ETA: 0s - loss: 0.0258 - f1: 0.9274"
          ]
        },
        {
          "name": "stderr",
          "output_type": "stream",
          "text": [
            "WARNING:tensorflow:Early stopping conditioned on metric `val_accuracy` which is not available. Available metrics are: loss,f1,val_loss,val_f1\n",
            "WARNING:tensorflow:Can save best model only with val_accuracy available, skipping.\n"
          ]
        },
        {
          "name": "stdout",
          "output_type": "stream",
          "text": [
            "\b\b\b\b\b\b\b\b\b\b\b\b\b\b\b\b\b\b\b\b\b\b\b\b\b\b\b\b\b\b\b\b\b\b\b\b\b\b\b\b\b\b\b\b\b\b\b\b\b\b\b\b\b\b\b\b\b\b\b\b\b\b\b\b\b\b\b\b\b\b\b\b\b\b\b\b\b\b\r184/184 [==============================] - 1s 5ms/step - loss: 0.0256 - f1: 0.9272 - val_loss: 0.1086 - val_f1: 0.9218\n",
            "Epoch 145/150\n",
            "179/184 [============================>.] - ETA: 0s - loss: 0.0183 - f1: 0.9227"
          ]
        },
        {
          "name": "stderr",
          "output_type": "stream",
          "text": [
            "WARNING:tensorflow:Early stopping conditioned on metric `val_accuracy` which is not available. Available metrics are: loss,f1,val_loss,val_f1\n",
            "WARNING:tensorflow:Can save best model only with val_accuracy available, skipping.\n"
          ]
        },
        {
          "name": "stdout",
          "output_type": "stream",
          "text": [
            "\b\b\b\b\b\b\b\b\b\b\b\b\b\b\b\b\b\b\b\b\b\b\b\b\b\b\b\b\b\b\b\b\b\b\b\b\b\b\b\b\b\b\b\b\b\b\b\b\b\b\b\b\b\b\b\b\b\b\b\b\b\b\b\b\b\b\b\b\b\b\b\b\b\b\b\b\b\b\r184/184 [==============================] - 1s 4ms/step - loss: 0.0180 - f1: 0.9234 - val_loss: 0.1263 - val_f1: 0.9171\n",
            "Epoch 146/150\n",
            "176/184 [===========================>..] - ETA: 0s - loss: 0.0201 - f1: 0.9248"
          ]
        },
        {
          "name": "stderr",
          "output_type": "stream",
          "text": [
            "WARNING:tensorflow:Early stopping conditioned on metric `val_accuracy` which is not available. Available metrics are: loss,f1,val_loss,val_f1\n",
            "WARNING:tensorflow:Can save best model only with val_accuracy available, skipping.\n"
          ]
        },
        {
          "name": "stdout",
          "output_type": "stream",
          "text": [
            "\b\b\b\b\b\b\b\b\b\b\b\b\b\b\b\b\b\b\b\b\b\b\b\b\b\b\b\b\b\b\b\b\b\b\b\b\b\b\b\b\b\b\b\b\b\b\b\b\b\b\b\b\b\b\b\b\b\b\b\b\b\b\b\b\b\b\b\b\b\b\b\b\b\b\b\b\b\b\r184/184 [==============================] - 1s 7ms/step - loss: 0.0199 - f1: 0.9248 - val_loss: 0.1236 - val_f1: 0.9188\n",
            "Epoch 147/150\n",
            "179/184 [============================>.] - ETA: 0s - loss: 0.0193 - f1: 0.9250"
          ]
        },
        {
          "name": "stderr",
          "output_type": "stream",
          "text": [
            "WARNING:tensorflow:Early stopping conditioned on metric `val_accuracy` which is not available. Available metrics are: loss,f1,val_loss,val_f1\n",
            "WARNING:tensorflow:Can save best model only with val_accuracy available, skipping.\n"
          ]
        },
        {
          "name": "stdout",
          "output_type": "stream",
          "text": [
            "\b\b\b\b\b\b\b\b\b\b\b\b\b\b\b\b\b\b\b\b\b\b\b\b\b\b\b\b\b\b\b\b\b\b\b\b\b\b\b\b\b\b\b\b\b\b\b\b\b\b\b\b\b\b\b\b\b\b\b\b\b\b\b\b\b\b\b\b\b\b\b\b\b\b\b\b\b\b\r184/184 [==============================] - 2s 8ms/step - loss: 0.0189 - f1: 0.9247 - val_loss: 0.1697 - val_f1: 0.9093\n",
            "Epoch 148/150\n",
            "182/184 [============================>.] - ETA: 0s - loss: 0.0208 - f1: 0.9235"
          ]
        },
        {
          "name": "stderr",
          "output_type": "stream",
          "text": [
            "WARNING:tensorflow:Early stopping conditioned on metric `val_accuracy` which is not available. Available metrics are: loss,f1,val_loss,val_f1\n",
            "WARNING:tensorflow:Can save best model only with val_accuracy available, skipping.\n"
          ]
        },
        {
          "name": "stdout",
          "output_type": "stream",
          "text": [
            "\b\b\b\b\b\b\b\b\b\b\b\b\b\b\b\b\b\b\b\b\b\b\b\b\b\b\b\b\b\b\b\b\b\b\b\b\b\b\b\b\b\b\b\b\b\b\b\b\b\b\b\b\b\b\b\b\b\b\b\b\b\b\b\b\b\b\b\b\b\b\b\b\b\b\b\b\b\b\r184/184 [==============================] - 1s 8ms/step - loss: 0.0206 - f1: 0.9229 - val_loss: 0.1338 - val_f1: 0.9178\n",
            "Epoch 149/150\n",
            "179/184 [============================>.] - ETA: 0s - loss: 0.0156 - f1: 0.9231"
          ]
        },
        {
          "name": "stderr",
          "output_type": "stream",
          "text": [
            "WARNING:tensorflow:Early stopping conditioned on metric `val_accuracy` which is not available. Available metrics are: loss,f1,val_loss,val_f1\n",
            "WARNING:tensorflow:Can save best model only with val_accuracy available, skipping.\n"
          ]
        },
        {
          "name": "stdout",
          "output_type": "stream",
          "text": [
            "\b\b\b\b\b\b\b\b\b\b\b\b\b\b\b\b\b\b\b\b\b\b\b\b\b\b\b\b\b\b\b\b\b\b\b\b\b\b\b\b\b\b\b\b\b\b\b\b\b\b\b\b\b\b\b\b\b\b\b\b\b\b\b\b\b\b\b\b\b\b\b\b\b\b\b\b\b\b\r184/184 [==============================] - 1s 7ms/step - loss: 0.0154 - f1: 0.9238 - val_loss: 0.1225 - val_f1: 0.9109\n",
            "Epoch 150/150\n",
            "178/184 [============================>.] - ETA: 0s - loss: 0.0184 - f1: 0.9250"
          ]
        },
        {
          "name": "stderr",
          "output_type": "stream",
          "text": [
            "WARNING:tensorflow:Early stopping conditioned on metric `val_accuracy` which is not available. Available metrics are: loss,f1,val_loss,val_f1\n",
            "WARNING:tensorflow:Can save best model only with val_accuracy available, skipping.\n"
          ]
        },
        {
          "name": "stdout",
          "output_type": "stream",
          "text": [
            "\b\b\b\b\b\b\b\b\b\b\b\b\b\b\b\b\b\b\b\b\b\b\b\b\b\b\b\b\b\b\b\b\b\b\b\b\b\b\b\b\b\b\b\b\b\b\b\b\b\b\b\b\b\b\b\b\b\b\b\b\b\b\b\b\b\b\b\b\b\b\b\b\b\b\b\b\b\b\r184/184 [==============================] - 1s 8ms/step - loss: 0.0190 - f1: 0.9252 - val_loss: 0.1338 - val_f1: 0.9127\n"
          ]
        },
        {
          "data": {
            "text/plain": [
              "<keras.callbacks.History at 0x790918645e40>"
            ]
          },
          "execution_count": 30,
          "metadata": {},
          "output_type": "execute_result"
        }
      ],
      "source": [
        "clf.fit(X_train, y_train, validation_split=0.2, epochs=150)"
      ]
    },
    {
      "cell_type": "code",
      "execution_count": 33,
      "metadata": {
        "colab": {
          "base_uri": "https://localhost:8080/"
        },
        "id": "uwbwdbAiLD9o",
        "outputId": "1d2ac060-edad-4138-d25d-3289ee9bbe66"
      },
      "outputs": [
        {
          "name": "stdout",
          "output_type": "stream",
          "text": [
            "93/93 [==============================] - 0s 3ms/step\n",
            "Accuracy 0.9317950458092976\n",
            "F1-score [0.93762575 0.93275488 0.91841492 0.90769231 0.9100346  0.98102467]\n",
            "                    precision    recall  f1-score   support\n",
            "\n",
            "           WALKING       0.94      0.94      0.94       496\n",
            "  WALKING_UPSTAIRS       0.95      0.91      0.93       471\n",
            "WALKING_DOWNSTAIRS       0.90      0.94      0.92       420\n",
            "           SITTING       0.99      0.84      0.91       491\n",
            "          STANDING       0.84      0.99      0.91       532\n",
            "            LAYING       1.00      0.96      0.98       537\n",
            "\n",
            "          accuracy                           0.93      2947\n",
            "         macro avg       0.94      0.93      0.93      2947\n",
            "      weighted avg       0.94      0.93      0.93      2947\n",
            "\n"
          ]
        }
      ],
      "source": [
        "y_pred = clf.predict(X_test).astype(int)\n",
        "\n",
        "print('Accuracy %s' % accuracy_score(y_test, y_pred))\n",
        "print('F1-score %s' % f1_score(y_test, y_pred, average=None))\n",
        "print(classification_report(y_test, y_pred, target_names=activities.values()))"
      ]
    },
    {
      "cell_type": "markdown",
      "metadata": {
        "id": "XxT7dnjHLK73"
      },
      "source": [
        "## DROP OUT"
      ]
    },
    {
      "cell_type": "code",
      "execution_count": 44,
      "metadata": {
        "id": "beid8ZavLMc7"
      },
      "outputs": [],
      "source": [
        "from keras.layers import Dropout\n",
        "n_classes=6\n",
        "def build_DROPOUT_model():\n",
        "    # define the model\n",
        "    model = Sequential()\n",
        "\n",
        "    n_feature = X_train.shape[1]\n",
        "    h_dim=32\n",
        "    model.add(Dense(h_dim, activation='relu', input_shape=(n_feature,)))\n",
        "    model.add(Dropout(0.1))\n",
        "    model.add(Dense(h_dim, activation='relu'))\n",
        "    model.add(Dropout(0.1))\n",
        "    model.add(Dense(h_dim, activation='relu'))\n",
        "    model.add(Dense(h_dim, activation='relu'))\n",
        "    #linear activation\n",
        "    model.add(Dense(n_classes))\n",
        "\n",
        "    #compile the model\n",
        "    model.compile(loss='sparse_categorical_crossentropy', optimizer='adam', metrics=['accuracy'])\n",
        "\n",
        "    return model"
      ]
    },
    {
      "cell_type": "markdown",
      "metadata": {
        "id": "QTiBL7r-MBTI"
      },
      "source": [
        "CON EARLY STOPPING"
      ]
    },
    {
      "cell_type": "code",
      "execution_count": 45,
      "metadata": {
        "colab": {
          "base_uri": "https://localhost:8080/"
        },
        "id": "l_MZnQdVLyea",
        "outputId": "352587da-57d0-48ec-bb26-a64e03e1ddf7"
      },
      "outputs": [
        {
          "name": "stdout",
          "output_type": "stream",
          "text": [
            "Epoch 1/150\n"
          ]
        },
        {
          "name": "stderr",
          "output_type": "stream",
          "text": [
            "<ipython-input-45-246645df7ad3>:3: DeprecationWarning: KerasClassifier is deprecated, use Sci-Keras (https://github.com/adriangb/scikeras) instead. See https://www.adriangb.com/scikeras/stable/migration.html for help migrating.\n",
            "  DROPOUT_model = KerasClassifier(build_DROPOUT_model, callbacks=[es,mc])\n"
          ]
        },
        {
          "name": "stdout",
          "output_type": "stream",
          "text": [
            "184/184 [==============================] - 2s 4ms/step - loss: 2.0493 - accuracy: 0.1301 - val_loss: 1.7918 - val_accuracy: 0.0829\n",
            "Epoch 2/150\n",
            "184/184 [==============================] - 0s 3ms/step - loss: 1.7958 - accuracy: 0.1342 - val_loss: 1.7918 - val_accuracy: 0.1360\n",
            "Epoch 3/150\n",
            "184/184 [==============================] - 0s 3ms/step - loss: 1.7954 - accuracy: 0.1330 - val_loss: 1.7918 - val_accuracy: 0.1292\n",
            "Epoch 4/150\n",
            "184/184 [==============================] - 0s 2ms/step - loss: 1.7918 - accuracy: 0.1195 - val_loss: 1.7918 - val_accuracy: 0.1278\n",
            "Epoch 5/150\n",
            "184/184 [==============================] - 0s 3ms/step - loss: 1.7957 - accuracy: 0.1260 - val_loss: 1.7918 - val_accuracy: 0.1360\n",
            "Epoch 6/150\n",
            "184/184 [==============================] - 0s 3ms/step - loss: 1.7934 - accuracy: 0.1359 - val_loss: 1.7918 - val_accuracy: 0.1666\n",
            "Epoch 7/150\n",
            "184/184 [==============================] - 0s 3ms/step - loss: 1.7918 - accuracy: 0.1544 - val_loss: 1.7918 - val_accuracy: 0.1666\n",
            "Epoch 8/150\n",
            "184/184 [==============================] - 0s 3ms/step - loss: 1.7934 - accuracy: 0.1614 - val_loss: 1.7918 - val_accuracy: 0.1727\n",
            "Epoch 9/150\n",
            "184/184 [==============================] - 0s 3ms/step - loss: 1.7935 - accuracy: 0.1374 - val_loss: 1.7918 - val_accuracy: 0.1353\n",
            "Epoch 10/150\n",
            "184/184 [==============================] - 0s 3ms/step - loss: 1.7936 - accuracy: 0.1313 - val_loss: 1.7918 - val_accuracy: 0.1360\n",
            "Epoch 11/150\n",
            "184/184 [==============================] - 1s 3ms/step - loss: 1.7918 - accuracy: 0.1354 - val_loss: 1.7918 - val_accuracy: 0.1360\n",
            "Epoch 12/150\n",
            "184/184 [==============================] - 1s 4ms/step - loss: 1.7918 - accuracy: 0.1340 - val_loss: 1.7918 - val_accuracy: 0.1360\n",
            "Epoch 13/150\n",
            "184/184 [==============================] - 1s 4ms/step - loss: 1.7918 - accuracy: 0.1296 - val_loss: 1.7918 - val_accuracy: 0.1360\n",
            "Epoch 14/150\n",
            "184/184 [==============================] - 1s 4ms/step - loss: 1.7918 - accuracy: 0.1348 - val_loss: 1.7918 - val_accuracy: 0.1360\n",
            "Epoch 15/150\n",
            "184/184 [==============================] - 0s 3ms/step - loss: 1.7918 - accuracy: 0.1330 - val_loss: 1.7918 - val_accuracy: 0.1360\n",
            "Epoch 16/150\n",
            "184/184 [==============================] - 0s 3ms/step - loss: 1.7918 - accuracy: 0.1320 - val_loss: 1.7918 - val_accuracy: 0.1360\n",
            "Epoch 17/150\n",
            "184/184 [==============================] - 0s 3ms/step - loss: 1.7918 - accuracy: 0.1323 - val_loss: 1.7918 - val_accuracy: 0.1360\n",
            "Epoch 18/150\n",
            "184/184 [==============================] - 0s 3ms/step - loss: 1.7918 - accuracy: 0.1331 - val_loss: 1.7918 - val_accuracy: 0.1360\n",
            "Epoch 19/150\n",
            "184/184 [==============================] - 0s 3ms/step - loss: 1.7918 - accuracy: 0.1323 - val_loss: 1.7918 - val_accuracy: 0.1360\n",
            "Epoch 20/150\n",
            "184/184 [==============================] - 0s 3ms/step - loss: 1.7918 - accuracy: 0.1335 - val_loss: 1.7918 - val_accuracy: 0.1360\n",
            "Epoch 21/150\n",
            "184/184 [==============================] - 0s 3ms/step - loss: 1.7918 - accuracy: 0.1320 - val_loss: 1.7918 - val_accuracy: 0.1360\n",
            "Epoch 22/150\n",
            "184/184 [==============================] - 1s 3ms/step - loss: 1.7918 - accuracy: 0.1301 - val_loss: 1.7918 - val_accuracy: 0.1360\n",
            "Epoch 23/150\n",
            "184/184 [==============================] - 0s 3ms/step - loss: 1.7918 - accuracy: 0.1350 - val_loss: 1.7918 - val_accuracy: 0.1360\n",
            "Epoch 24/150\n",
            "184/184 [==============================] - 0s 3ms/step - loss: 1.7918 - accuracy: 0.1321 - val_loss: 1.7918 - val_accuracy: 0.1360\n",
            "Epoch 25/150\n",
            "184/184 [==============================] - 0s 2ms/step - loss: 1.7918 - accuracy: 0.1352 - val_loss: 1.7918 - val_accuracy: 0.1360\n",
            "Epoch 26/150\n",
            "184/184 [==============================] - 0s 3ms/step - loss: 1.7918 - accuracy: 0.1359 - val_loss: 1.7918 - val_accuracy: 0.1360\n",
            "Epoch 27/150\n",
            "184/184 [==============================] - 0s 3ms/step - loss: 1.7918 - accuracy: 0.1328 - val_loss: 1.7918 - val_accuracy: 0.1360\n",
            "Epoch 28/150\n",
            "184/184 [==============================] - 0s 3ms/step - loss: 1.7918 - accuracy: 0.1343 - val_loss: 1.7918 - val_accuracy: 0.1360\n",
            "Epoch 29/150\n",
            "184/184 [==============================] - 0s 3ms/step - loss: 1.7918 - accuracy: 0.1335 - val_loss: 1.7918 - val_accuracy: 0.1360\n",
            "Epoch 30/150\n",
            "184/184 [==============================] - 0s 2ms/step - loss: 1.7918 - accuracy: 0.1337 - val_loss: 1.7918 - val_accuracy: 0.1360\n",
            "Epoch 31/150\n",
            "184/184 [==============================] - 0s 3ms/step - loss: 1.7918 - accuracy: 0.1342 - val_loss: 1.7918 - val_accuracy: 0.1360\n",
            "Epoch 32/150\n",
            "184/184 [==============================] - 0s 2ms/step - loss: 1.7918 - accuracy: 0.1308 - val_loss: 1.7918 - val_accuracy: 0.1360\n",
            "Epoch 33/150\n",
            "184/184 [==============================] - 0s 3ms/step - loss: 1.7918 - accuracy: 0.1350 - val_loss: 1.7918 - val_accuracy: 0.1360\n",
            "Epoch 34/150\n",
            "184/184 [==============================] - 0s 3ms/step - loss: 1.7918 - accuracy: 0.1314 - val_loss: 1.7918 - val_accuracy: 0.1360\n",
            "Epoch 35/150\n",
            "184/184 [==============================] - 0s 3ms/step - loss: 1.7918 - accuracy: 0.1367 - val_loss: 1.7918 - val_accuracy: 0.1360\n",
            "Epoch 36/150\n",
            "184/184 [==============================] - 1s 4ms/step - loss: 1.7918 - accuracy: 0.1309 - val_loss: 1.7918 - val_accuracy: 0.1360\n",
            "Epoch 37/150\n",
            "184/184 [==============================] - 1s 4ms/step - loss: 1.7918 - accuracy: 0.1345 - val_loss: 1.7918 - val_accuracy: 0.1360\n",
            "Epoch 38/150\n",
            "184/184 [==============================] - 1s 4ms/step - loss: 1.7918 - accuracy: 0.1338 - val_loss: 1.7918 - val_accuracy: 0.1360\n",
            "Epoch 39/150\n",
            "184/184 [==============================] - 1s 3ms/step - loss: 1.7918 - accuracy: 0.1323 - val_loss: 1.7918 - val_accuracy: 0.1360\n",
            "Epoch 40/150\n",
            "184/184 [==============================] - 0s 2ms/step - loss: 1.7918 - accuracy: 0.1297 - val_loss: 1.7918 - val_accuracy: 0.1360\n",
            "Epoch 41/150\n",
            "184/184 [==============================] - 0s 2ms/step - loss: 1.7918 - accuracy: 0.1337 - val_loss: 1.7918 - val_accuracy: 0.1360\n",
            "Epoch 42/150\n",
            "184/184 [==============================] - 0s 3ms/step - loss: 1.7918 - accuracy: 0.1357 - val_loss: 1.7918 - val_accuracy: 0.1360\n",
            "Epoch 43/150\n",
            "184/184 [==============================] - 0s 3ms/step - loss: 1.7952 - accuracy: 0.1532 - val_loss: 1.7918 - val_accuracy: 0.1557\n",
            "Epoch 44/150\n",
            "184/184 [==============================] - 0s 3ms/step - loss: 1.7918 - accuracy: 0.1692 - val_loss: 1.7918 - val_accuracy: 0.1557\n",
            "Epoch 45/150\n",
            "184/184 [==============================] - 0s 2ms/step - loss: 1.7918 - accuracy: 0.1700 - val_loss: 1.7918 - val_accuracy: 0.1557\n",
            "Epoch 46/150\n",
            "184/184 [==============================] - 0s 3ms/step - loss: 1.7918 - accuracy: 0.1685 - val_loss: 1.7918 - val_accuracy: 0.1557\n",
            "Epoch 47/150\n",
            "184/184 [==============================] - 0s 2ms/step - loss: 1.7918 - accuracy: 0.1741 - val_loss: 1.7918 - val_accuracy: 0.1557\n",
            "Epoch 48/150\n",
            "184/184 [==============================] - 0s 3ms/step - loss: 1.7918 - accuracy: 0.1763 - val_loss: 1.7918 - val_accuracy: 0.1557\n",
            "Epoch 49/150\n",
            "184/184 [==============================] - 1s 4ms/step - loss: 1.7918 - accuracy: 0.1707 - val_loss: 1.7918 - val_accuracy: 0.1557\n",
            "Epoch 50/150\n",
            "184/184 [==============================] - 1s 5ms/step - loss: 1.7918 - accuracy: 0.1663 - val_loss: 1.7918 - val_accuracy: 0.1557\n",
            "Epoch 51/150\n",
            "184/184 [==============================] - 1s 6ms/step - loss: 1.7918 - accuracy: 0.1675 - val_loss: 1.7918 - val_accuracy: 0.1557\n",
            "Epoch 52/150\n",
            "184/184 [==============================] - 1s 6ms/step - loss: 1.7918 - accuracy: 0.1695 - val_loss: 1.7918 - val_accuracy: 0.1557\n",
            "Epoch 53/150\n",
            "184/184 [==============================] - 1s 4ms/step - loss: 1.7918 - accuracy: 0.1731 - val_loss: 1.7918 - val_accuracy: 0.1557\n",
            "Epoch 54/150\n",
            "184/184 [==============================] - 0s 3ms/step - loss: 1.7918 - accuracy: 0.1687 - val_loss: 1.7918 - val_accuracy: 0.1557\n",
            "Epoch 55/150\n",
            "184/184 [==============================] - 1s 3ms/step - loss: 1.7918 - accuracy: 0.1714 - val_loss: 1.7918 - val_accuracy: 0.1557\n",
            "Epoch 56/150\n",
            "184/184 [==============================] - 1s 4ms/step - loss: 1.7918 - accuracy: 0.1707 - val_loss: 1.7918 - val_accuracy: 0.1557\n",
            "Epoch 57/150\n",
            "184/184 [==============================] - 1s 4ms/step - loss: 1.7918 - accuracy: 0.1721 - val_loss: 1.7918 - val_accuracy: 0.1557\n",
            "Epoch 58/150\n",
            "184/184 [==============================] - 1s 4ms/step - loss: 1.7918 - accuracy: 0.1699 - val_loss: 1.7918 - val_accuracy: 0.1557\n",
            "Epoch 58: early stopping\n"
          ]
        },
        {
          "data": {
            "text/plain": [
              "<keras.callbacks.History at 0x790900cff700>"
            ]
          },
          "execution_count": 45,
          "metadata": {},
          "output_type": "execute_result"
        }
      ],
      "source": [
        "mc = ModelCheckpoint('best_model_DROPOUT.h5', monitor='val_accuracy', save_best_only=True)\n",
        "\n",
        "DROPOUT_model = KerasClassifier(build_DROPOUT_model, callbacks=[es,mc])\n",
        "DROPOUT_model.fit(X_train, y_train, validation_split=0.2, epochs=150)"
      ]
    },
    {
      "cell_type": "code",
      "execution_count": 46,
      "metadata": {
        "colab": {
          "base_uri": "https://localhost:8080/"
        },
        "id": "u8aVKkTNMKyX",
        "outputId": "7329ccaf-bfc0-4aa0-bc50-b71c25425cdb"
      },
      "outputs": [
        {
          "name": "stdout",
          "output_type": "stream",
          "text": [
            "Epoch 1/150\n"
          ]
        },
        {
          "name": "stderr",
          "output_type": "stream",
          "text": [
            "<ipython-input-46-f640134c8518>:3: DeprecationWarning: KerasClassifier is deprecated, use Sci-Keras (https://github.com/adriangb/scikeras) instead. See https://www.adriangb.com/scikeras/stable/migration.html for help migrating.\n",
            "  DROPOUT_model = KerasClassifier(build_DROPOUT_model, callbacks=[es,mc])\n"
          ]
        },
        {
          "name": "stdout",
          "output_type": "stream",
          "text": [
            "118/118 [==============================] - 2s 5ms/step - loss: 4.5187 - accuracy: 0.2158 - val_loss: 1.7918 - val_accuracy: 0.1598\n",
            "Epoch 2/150\n",
            "118/118 [==============================] - 0s 4ms/step - loss: 1.7954 - accuracy: 0.2282 - val_loss: 1.7918 - val_accuracy: 0.1319\n",
            "Epoch 3/150\n",
            "118/118 [==============================] - 0s 4ms/step - loss: 1.7918 - accuracy: 0.2090 - val_loss: 1.7918 - val_accuracy: 0.1298\n",
            "Epoch 4/150\n",
            "118/118 [==============================] - 1s 4ms/step - loss: 1.7934 - accuracy: 0.2159 - val_loss: 1.7918 - val_accuracy: 0.3134\n",
            "Epoch 5/150\n",
            "118/118 [==============================] - 1s 5ms/step - loss: 1.7938 - accuracy: 0.2556 - val_loss: 1.7918 - val_accuracy: 0.3107\n",
            "Epoch 6/150\n",
            "118/118 [==============================] - 0s 4ms/step - loss: 1.7933 - accuracy: 0.2532 - val_loss: 1.7918 - val_accuracy: 0.3148\n",
            "Epoch 7/150\n",
            "118/118 [==============================] - 0s 3ms/step - loss: 1.7935 - accuracy: 0.2194 - val_loss: 1.7918 - val_accuracy: 0.1366\n",
            "Epoch 8/150\n",
            "118/118 [==============================] - 0s 3ms/step - loss: 1.7918 - accuracy: 0.2144 - val_loss: 1.7918 - val_accuracy: 0.1366\n",
            "Epoch 9/150\n",
            "118/118 [==============================] - 0s 3ms/step - loss: 1.7918 - accuracy: 0.2049 - val_loss: 1.7918 - val_accuracy: 0.1366\n",
            "Epoch 10/150\n",
            "118/118 [==============================] - 0s 3ms/step - loss: 1.7918 - accuracy: 0.2010 - val_loss: 1.7918 - val_accuracy: 0.1366\n",
            "Epoch 11/150\n",
            "118/118 [==============================] - 0s 3ms/step - loss: 1.7932 - accuracy: 0.2080 - val_loss: 1.7918 - val_accuracy: 0.1366\n",
            "Epoch 12/150\n",
            "118/118 [==============================] - 0s 3ms/step - loss: 1.7918 - accuracy: 0.2034 - val_loss: 1.7918 - val_accuracy: 0.1366\n",
            "Epoch 13/150\n",
            "118/118 [==============================] - 0s 3ms/step - loss: 1.7918 - accuracy: 0.2069 - val_loss: 1.7918 - val_accuracy: 0.1366\n",
            "Epoch 14/150\n",
            "118/118 [==============================] - 0s 3ms/step - loss: 1.7918 - accuracy: 0.2054 - val_loss: 1.7918 - val_accuracy: 0.1366\n",
            "Epoch 15/150\n",
            "118/118 [==============================] - 0s 3ms/step - loss: 1.7918 - accuracy: 0.2105 - val_loss: 1.7918 - val_accuracy: 0.1366\n",
            "Epoch 16/150\n",
            "118/118 [==============================] - 0s 3ms/step - loss: 1.7918 - accuracy: 0.2042 - val_loss: 1.7918 - val_accuracy: 0.1366\n",
            "Epoch 17/150\n",
            "118/118 [==============================] - 0s 3ms/step - loss: 1.7918 - accuracy: 0.2069 - val_loss: 1.7918 - val_accuracy: 0.1366\n",
            "Epoch 18/150\n",
            "118/118 [==============================] - 0s 3ms/step - loss: 1.7918 - accuracy: 0.2064 - val_loss: 1.7918 - val_accuracy: 0.1366\n",
            "Epoch 19/150\n",
            "118/118 [==============================] - 0s 3ms/step - loss: 1.7915 - accuracy: 0.2052 - val_loss: 1.7918 - val_accuracy: 0.1366\n",
            "Epoch 20/150\n",
            "118/118 [==============================] - 0s 3ms/step - loss: 1.7918 - accuracy: 0.2076 - val_loss: 1.7918 - val_accuracy: 0.1366\n",
            "Epoch 21/150\n",
            "118/118 [==============================] - 0s 3ms/step - loss: 1.7936 - accuracy: 0.2025 - val_loss: 1.7918 - val_accuracy: 0.1360\n",
            "Epoch 22/150\n",
            "118/118 [==============================] - 0s 3ms/step - loss: 1.7918 - accuracy: 0.1925 - val_loss: 1.7918 - val_accuracy: 0.1360\n",
            "Epoch 23/150\n",
            "118/118 [==============================] - 0s 3ms/step - loss: 1.7918 - accuracy: 0.1938 - val_loss: 1.7918 - val_accuracy: 0.1360\n",
            "Epoch 24/150\n",
            "118/118 [==============================] - 0s 3ms/step - loss: 1.7918 - accuracy: 0.2012 - val_loss: 1.7918 - val_accuracy: 0.1360\n",
            "Epoch 25/150\n",
            "118/118 [==============================] - 0s 3ms/step - loss: 1.7918 - accuracy: 0.1981 - val_loss: 1.7918 - val_accuracy: 0.1360\n",
            "Epoch 26/150\n",
            "118/118 [==============================] - 0s 3ms/step - loss: 1.7918 - accuracy: 0.2012 - val_loss: 1.7918 - val_accuracy: 0.1360\n",
            "Epoch 27/150\n",
            "118/118 [==============================] - 0s 4ms/step - loss: 1.7918 - accuracy: 0.1944 - val_loss: 1.7918 - val_accuracy: 0.1360\n",
            "Epoch 28/150\n",
            "118/118 [==============================] - 0s 4ms/step - loss: 1.7918 - accuracy: 0.1954 - val_loss: 1.7918 - val_accuracy: 0.1360\n",
            "Epoch 29/150\n",
            "118/118 [==============================] - 1s 5ms/step - loss: 1.7935 - accuracy: 0.1947 - val_loss: 1.7918 - val_accuracy: 0.1360\n",
            "Epoch 30/150\n",
            "118/118 [==============================] - 0s 4ms/step - loss: 1.7918 - accuracy: 0.1969 - val_loss: 1.7918 - val_accuracy: 0.1360\n",
            "Epoch 31/150\n",
            "118/118 [==============================] - 0s 4ms/step - loss: 1.7918 - accuracy: 0.1896 - val_loss: 1.7918 - val_accuracy: 0.1360\n",
            "Epoch 32/150\n",
            "118/118 [==============================] - 1s 5ms/step - loss: 1.7937 - accuracy: 0.1848 - val_loss: 1.7918 - val_accuracy: 0.1360\n",
            "Epoch 33/150\n",
            "118/118 [==============================] - 1s 12ms/step - loss: 1.7918 - accuracy: 0.1876 - val_loss: 1.7918 - val_accuracy: 0.1360\n",
            "Epoch 34/150\n",
            "118/118 [==============================] - 1s 5ms/step - loss: 1.7918 - accuracy: 0.1784 - val_loss: 1.7918 - val_accuracy: 0.1360\n",
            "Epoch 35/150\n",
            "118/118 [==============================] - 1s 5ms/step - loss: 1.7918 - accuracy: 0.1891 - val_loss: 1.7918 - val_accuracy: 0.1360\n",
            "Epoch 36/150\n",
            "118/118 [==============================] - 1s 6ms/step - loss: 1.7915 - accuracy: 0.1891 - val_loss: 1.7918 - val_accuracy: 0.1360\n",
            "Epoch 37/150\n",
            "118/118 [==============================] - 1s 4ms/step - loss: 1.7918 - accuracy: 0.1881 - val_loss: 1.7918 - val_accuracy: 0.1360\n",
            "Epoch 38/150\n",
            "118/118 [==============================] - 1s 5ms/step - loss: 1.7918 - accuracy: 0.1896 - val_loss: 1.7918 - val_accuracy: 0.1360\n",
            "Epoch 39/150\n",
            "118/118 [==============================] - 1s 5ms/step - loss: 1.7918 - accuracy: 0.1768 - val_loss: 1.7918 - val_accuracy: 0.1360\n",
            "Epoch 40/150\n",
            "118/118 [==============================] - 0s 4ms/step - loss: 1.7918 - accuracy: 0.1859 - val_loss: 1.7918 - val_accuracy: 0.1360\n",
            "Epoch 41/150\n",
            "118/118 [==============================] - 1s 4ms/step - loss: 1.7918 - accuracy: 0.1840 - val_loss: 1.7918 - val_accuracy: 0.1360\n",
            "Epoch 42/150\n",
            "118/118 [==============================] - 0s 4ms/step - loss: 1.7918 - accuracy: 0.1816 - val_loss: 1.7918 - val_accuracy: 0.1360\n",
            "Epoch 43/150\n",
            "118/118 [==============================] - 1s 5ms/step - loss: 1.7918 - accuracy: 0.1904 - val_loss: 1.7918 - val_accuracy: 0.1360\n",
            "Epoch 44/150\n",
            "118/118 [==============================] - 0s 4ms/step - loss: 1.7918 - accuracy: 0.1889 - val_loss: 1.7918 - val_accuracy: 0.1360\n",
            "Epoch 45/150\n",
            "118/118 [==============================] - 1s 5ms/step - loss: 1.7918 - accuracy: 0.1838 - val_loss: 1.7918 - val_accuracy: 0.1360\n",
            "Epoch 46/150\n",
            "118/118 [==============================] - 0s 3ms/step - loss: 1.7918 - accuracy: 0.1814 - val_loss: 1.7918 - val_accuracy: 0.1360\n",
            "Epoch 47/150\n",
            "118/118 [==============================] - 0s 3ms/step - loss: 1.7918 - accuracy: 0.1886 - val_loss: 1.7918 - val_accuracy: 0.1360\n",
            "Epoch 48/150\n",
            "118/118 [==============================] - 0s 3ms/step - loss: 1.7918 - accuracy: 0.1757 - val_loss: 1.7918 - val_accuracy: 0.1360\n",
            "Epoch 49/150\n",
            "118/118 [==============================] - 1s 4ms/step - loss: 1.7918 - accuracy: 0.1772 - val_loss: 1.7918 - val_accuracy: 0.1360\n",
            "Epoch 50/150\n",
            "118/118 [==============================] - 0s 4ms/step - loss: 1.7918 - accuracy: 0.1840 - val_loss: 1.7918 - val_accuracy: 0.1360\n",
            "Epoch 51/150\n",
            "118/118 [==============================] - 0s 3ms/step - loss: 1.7918 - accuracy: 0.1865 - val_loss: 1.7918 - val_accuracy: 0.1360\n",
            "Epoch 52/150\n",
            "118/118 [==============================] - 0s 4ms/step - loss: 1.7918 - accuracy: 0.1886 - val_loss: 1.7918 - val_accuracy: 0.1360\n",
            "Epoch 53/150\n",
            "118/118 [==============================] - 0s 3ms/step - loss: 1.7918 - accuracy: 0.1884 - val_loss: 1.7918 - val_accuracy: 0.1360\n",
            "Epoch 54/150\n",
            "118/118 [==============================] - 0s 4ms/step - loss: 1.7918 - accuracy: 0.1826 - val_loss: 1.7918 - val_accuracy: 0.1360\n",
            "Epoch 55/150\n",
            "118/118 [==============================] - 0s 4ms/step - loss: 1.7918 - accuracy: 0.1879 - val_loss: 1.7918 - val_accuracy: 0.1360\n",
            "Epoch 56/150\n",
            "118/118 [==============================] - 0s 3ms/step - loss: 1.7918 - accuracy: 0.1852 - val_loss: 1.7918 - val_accuracy: 0.1360\n",
            "Epoch 56: early stopping\n"
          ]
        },
        {
          "data": {
            "text/plain": [
              "<keras.callbacks.History at 0x790910198640>"
            ]
          },
          "execution_count": 46,
          "metadata": {},
          "output_type": "execute_result"
        }
      ],
      "source": [
        "mc = ModelCheckpoint('best_model_DROPOUT.h5', monitor='val_accuracy', save_best_only=True)\n",
        "\n",
        "DROPOUT_model = KerasClassifier(build_DROPOUT_model, callbacks=[es,mc])\n",
        "DROPOUT_model.fit(X_train, y_train, validation_split=0.2, epochs=150, batch_size=50)"
      ]
    },
    {
      "cell_type": "code",
      "execution_count": 53,
      "metadata": {
        "colab": {
          "base_uri": "https://localhost:8080/"
        },
        "id": "9T7aiWnOOwk2",
        "outputId": "2491ac69-8a19-49ee-9ca9-01a6b861f7c0"
      },
      "outputs": [
        {
          "name": "stdout",
          "output_type": "stream",
          "text": [
            "93/93 [==============================] - 1s 4ms/step\n",
            "Accuracy 0.14183915846623685\n",
            "F1-score [0.         0.         0.24843982 0.         0.         0.        ]\n",
            "              precision    recall  f1-score   support\n",
            "\n",
            "           1       0.00      0.00      0.00       496\n",
            "           2       0.00      0.00      0.00       471\n",
            "           3       0.14      1.00      0.25       420\n",
            "           4       0.00      0.00      0.00       491\n",
            "           5       0.00      0.00      0.00       532\n",
            "           6       0.00      0.00      0.00       537\n",
            "\n",
            "    accuracy                           0.14      2947\n",
            "   macro avg       0.02      0.17      0.04      2947\n",
            "weighted avg       0.02      0.14      0.04      2947\n",
            "\n"
          ]
        },
        {
          "name": "stderr",
          "output_type": "stream",
          "text": [
            "/usr/local/lib/python3.10/dist-packages/sklearn/metrics/_classification.py:1344: UndefinedMetricWarning: Precision and F-score are ill-defined and being set to 0.0 in labels with no predicted samples. Use `zero_division` parameter to control this behavior.\n",
            "  _warn_prf(average, modifier, msg_start, len(result))\n",
            "/usr/local/lib/python3.10/dist-packages/sklearn/metrics/_classification.py:1344: UndefinedMetricWarning: Precision and F-score are ill-defined and being set to 0.0 in labels with no predicted samples. Use `zero_division` parameter to control this behavior.\n",
            "  _warn_prf(average, modifier, msg_start, len(result))\n",
            "/usr/local/lib/python3.10/dist-packages/sklearn/metrics/_classification.py:1344: UndefinedMetricWarning: Precision and F-score are ill-defined and being set to 0.0 in labels with no predicted samples. Use `zero_division` parameter to control this behavior.\n",
            "  _warn_prf(average, modifier, msg_start, len(result))\n"
          ]
        }
      ],
      "source": [
        "y_pred = DROPOUT_model.predict(X_test).astype(int)\n",
        "\n",
        "print('Accuracy %s' % accuracy_score(y_test, y_pred))\n",
        "print('F1-score %s' % f1_score(y_test, y_pred, average=None))\n",
        "print(classification_report(y_test, y_pred))"
      ]
    },
    {
      "cell_type": "markdown",
      "metadata": {
        "id": "DxhaMnKeOGQ1"
      },
      "source": [
        "## L2 REGULARIZATION"
      ]
    },
    {
      "cell_type": "code",
      "execution_count": 50,
      "metadata": {
        "id": "_fKhkufhNYtt"
      },
      "outputs": [],
      "source": [
        "from keras.regularizers import l2, l1\n",
        "n_classes=6\n",
        "def build_L2_model():\n",
        "    model = Sequential()\n",
        "\n",
        "    n_feature = X_train.shape[1]\n",
        "    h_dim=32\n",
        "    model.add(Dense(h_dim, activation='relu',\n",
        "                    input_shape=(n_feature,), kernel_regularizer=l2(0.001)))\n",
        "    model.add(Dense(h_dim, activation='relu'))\n",
        "    model.add(Dense(h_dim, activation='relu'))\n",
        "    model.add(Dense(h_dim, activation='relu'))\n",
        "    model.add(Dense(n_classes))\n",
        "\n",
        "    model.compile(loss='sparse_categorical_crossentropy', optimizer='adam', metrics=['accuracy'])\n",
        "\n",
        "    return model"
      ]
    },
    {
      "cell_type": "code",
      "execution_count": 52,
      "metadata": {
        "colab": {
          "base_uri": "https://localhost:8080/"
        },
        "id": "ifGw58U1OZ8O",
        "outputId": "de99f82d-d3b1-4fb5-87ed-6be87cbfe54e"
      },
      "outputs": [
        {
          "name": "stderr",
          "output_type": "stream",
          "text": [
            "<ipython-input-52-b966d41f0e80>:3: DeprecationWarning: KerasClassifier is deprecated, use Sci-Keras (https://github.com/adriangb/scikeras) instead. See https://www.adriangb.com/scikeras/stable/migration.html for help migrating.\n",
            "  L2_model = KerasClassifier(build_L2_model, callbacks=[es,mc])\n"
          ]
        },
        {
          "name": "stdout",
          "output_type": "stream",
          "text": [
            "Epoch 1/150\n",
            "184/184 [==============================] - 4s 7ms/step - loss: 1.9524 - accuracy: 0.1989 - val_loss: 1.8438 - val_accuracy: 0.1801\n",
            "Epoch 2/150\n",
            "184/184 [==============================] - 1s 3ms/step - loss: 1.8415 - accuracy: 0.1782 - val_loss: 1.8394 - val_accuracy: 0.1795\n",
            "Epoch 3/150\n",
            "184/184 [==============================] - 0s 3ms/step - loss: 1.8378 - accuracy: 0.1799 - val_loss: 1.8363 - val_accuracy: 0.1815\n",
            "Epoch 4/150\n",
            "184/184 [==============================] - 0s 3ms/step - loss: 1.8350 - accuracy: 0.1823 - val_loss: 1.8337 - val_accuracy: 0.1835\n",
            "Epoch 5/150\n",
            "184/184 [==============================] - 1s 3ms/step - loss: 1.8325 - accuracy: 0.1845 - val_loss: 1.8314 - val_accuracy: 0.1842\n",
            "Epoch 6/150\n",
            "184/184 [==============================] - 0s 3ms/step - loss: 1.8302 - accuracy: 0.1864 - val_loss: 1.8291 - val_accuracy: 0.1849\n",
            "Epoch 7/150\n",
            "184/184 [==============================] - 0s 3ms/step - loss: 1.8281 - accuracy: 0.1891 - val_loss: 1.8270 - val_accuracy: 0.1856\n",
            "Epoch 8/150\n",
            "184/184 [==============================] - 0s 3ms/step - loss: 1.8260 - accuracy: 0.1923 - val_loss: 1.8250 - val_accuracy: 0.1869\n",
            "Epoch 9/150\n",
            "184/184 [==============================] - 0s 3ms/step - loss: 1.8240 - accuracy: 0.1954 - val_loss: 1.8230 - val_accuracy: 0.1890\n",
            "Epoch 10/150\n",
            "184/184 [==============================] - 0s 3ms/step - loss: 1.8221 - accuracy: 0.1988 - val_loss: 1.8212 - val_accuracy: 0.1917\n",
            "Epoch 11/150\n",
            "184/184 [==============================] - 0s 3ms/step - loss: 1.8203 - accuracy: 0.2023 - val_loss: 1.8194 - val_accuracy: 0.1924\n",
            "Epoch 12/150\n",
            "184/184 [==============================] - 0s 3ms/step - loss: 1.8185 - accuracy: 0.2057 - val_loss: 1.8176 - val_accuracy: 0.1937\n",
            "Epoch 13/150\n",
            "184/184 [==============================] - 0s 3ms/step - loss: 1.8168 - accuracy: 0.2117 - val_loss: 1.8160 - val_accuracy: 0.1971\n",
            "Epoch 14/150\n",
            "184/184 [==============================] - 0s 3ms/step - loss: 1.8152 - accuracy: 0.2154 - val_loss: 1.8144 - val_accuracy: 0.2005\n",
            "Epoch 15/150\n",
            "184/184 [==============================] - 1s 3ms/step - loss: 1.8136 - accuracy: 0.2195 - val_loss: 1.8128 - val_accuracy: 0.2046\n",
            "Epoch 16/150\n",
            "184/184 [==============================] - 1s 3ms/step - loss: 1.8120 - accuracy: 0.2238 - val_loss: 1.8113 - val_accuracy: 0.2087\n",
            "Epoch 17/150\n",
            "184/184 [==============================] - 1s 4ms/step - loss: 1.8106 - accuracy: 0.2275 - val_loss: 1.8098 - val_accuracy: 0.2121\n",
            "Epoch 18/150\n",
            "184/184 [==============================] - 1s 4ms/step - loss: 1.8091 - accuracy: 0.2304 - val_loss: 1.8084 - val_accuracy: 0.2148\n",
            "Epoch 19/150\n",
            "184/184 [==============================] - 1s 4ms/step - loss: 1.8078 - accuracy: 0.2328 - val_loss: 1.8071 - val_accuracy: 0.2148\n",
            "Epoch 20/150\n",
            "184/184 [==============================] - 1s 3ms/step - loss: 1.8064 - accuracy: 0.2333 - val_loss: 1.8058 - val_accuracy: 0.2141\n",
            "Epoch 21/150\n",
            "184/184 [==============================] - 0s 3ms/step - loss: 1.8052 - accuracy: 0.2314 - val_loss: 1.8046 - val_accuracy: 0.2114\n",
            "Epoch 22/150\n",
            "184/184 [==============================] - 0s 3ms/step - loss: 1.8040 - accuracy: 0.2287 - val_loss: 1.8034 - val_accuracy: 0.2073\n",
            "Epoch 23/150\n",
            "184/184 [==============================] - 0s 3ms/step - loss: 1.8029 - accuracy: 0.2229 - val_loss: 1.8023 - val_accuracy: 0.2033\n",
            "Epoch 24/150\n",
            "184/184 [==============================] - 1s 3ms/step - loss: 1.8018 - accuracy: 0.2166 - val_loss: 1.8013 - val_accuracy: 0.1965\n",
            "Epoch 25/150\n",
            "184/184 [==============================] - 0s 3ms/step - loss: 1.8008 - accuracy: 0.2076 - val_loss: 1.8003 - val_accuracy: 0.1903\n",
            "Epoch 26/150\n",
            "184/184 [==============================] - 1s 3ms/step - loss: 1.7998 - accuracy: 0.1996 - val_loss: 1.7994 - val_accuracy: 0.1869\n",
            "Epoch 27/150\n",
            "184/184 [==============================] - 0s 3ms/step - loss: 1.7990 - accuracy: 0.1916 - val_loss: 1.7986 - val_accuracy: 0.1808\n",
            "Epoch 28/150\n",
            "184/184 [==============================] - 1s 3ms/step - loss: 1.7982 - accuracy: 0.1864 - val_loss: 1.7978 - val_accuracy: 0.1795\n",
            "Epoch 29/150\n",
            "184/184 [==============================] - 1s 4ms/step - loss: 1.7991 - accuracy: 0.1826 - val_loss: 1.8007 - val_accuracy: 0.1557\n",
            "Epoch 30/150\n",
            "184/184 [==============================] - 1s 4ms/step - loss: 1.8008 - accuracy: 0.1695 - val_loss: 1.8003 - val_accuracy: 0.1557\n",
            "Epoch 31/150\n",
            "184/184 [==============================] - 1s 5ms/step - loss: 1.7999 - accuracy: 0.1695 - val_loss: 1.7995 - val_accuracy: 0.1557\n",
            "Epoch 32/150\n",
            "184/184 [==============================] - 1s 5ms/step - loss: 1.7991 - accuracy: 0.1695 - val_loss: 1.7988 - val_accuracy: 0.1557\n",
            "Epoch 33/150\n",
            "184/184 [==============================] - 1s 5ms/step - loss: 1.7984 - accuracy: 0.1695 - val_loss: 1.7981 - val_accuracy: 0.1557\n",
            "Epoch 34/150\n",
            "184/184 [==============================] - 1s 3ms/step - loss: 1.7978 - accuracy: 0.1695 - val_loss: 1.7975 - val_accuracy: 0.1557\n",
            "Epoch 35/150\n",
            "184/184 [==============================] - 0s 3ms/step - loss: 1.7973 - accuracy: 0.1695 - val_loss: 1.7970 - val_accuracy: 0.1557\n",
            "Epoch 36/150\n",
            "184/184 [==============================] - 1s 4ms/step - loss: 1.7968 - accuracy: 0.1694 - val_loss: 1.7965 - val_accuracy: 0.1564\n",
            "Epoch 37/150\n",
            "184/184 [==============================] - 1s 4ms/step - loss: 1.7963 - accuracy: 0.1648 - val_loss: 1.7961 - val_accuracy: 0.1768\n",
            "Epoch 38/150\n",
            "184/184 [==============================] - 1s 4ms/step - loss: 1.7959 - accuracy: 0.1542 - val_loss: 1.7957 - val_accuracy: 0.1482\n",
            "Epoch 39/150\n",
            "184/184 [==============================] - 1s 4ms/step - loss: 1.7955 - accuracy: 0.1466 - val_loss: 1.7953 - val_accuracy: 0.1468\n",
            "Epoch 40/150\n",
            "184/184 [==============================] - 0s 3ms/step - loss: 1.7951 - accuracy: 0.1457 - val_loss: 1.7950 - val_accuracy: 0.1468\n",
            "Epoch 41/150\n",
            "184/184 [==============================] - 1s 5ms/step - loss: 1.7948 - accuracy: 0.1457 - val_loss: 1.7947 - val_accuracy: 0.1468\n",
            "Epoch 42/150\n",
            "184/184 [==============================] - 1s 5ms/step - loss: 1.7945 - accuracy: 0.1457 - val_loss: 1.7944 - val_accuracy: 0.1468\n",
            "Epoch 43/150\n",
            "184/184 [==============================] - 1s 7ms/step - loss: 1.7942 - accuracy: 0.1457 - val_loss: 1.7941 - val_accuracy: 0.1468\n",
            "Epoch 44/150\n",
            "184/184 [==============================] - 1s 6ms/step - loss: 1.7940 - accuracy: 0.1457 - val_loss: 1.7939 - val_accuracy: 0.1468\n",
            "Epoch 45/150\n",
            "184/184 [==============================] - 1s 3ms/step - loss: 1.7937 - accuracy: 0.1457 - val_loss: 1.7936 - val_accuracy: 0.1468\n",
            "Epoch 46/150\n",
            "184/184 [==============================] - 0s 3ms/step - loss: 1.7935 - accuracy: 0.1457 - val_loss: 1.7934 - val_accuracy: 0.1468\n",
            "Epoch 47/150\n",
            "184/184 [==============================] - 1s 3ms/step - loss: 1.7933 - accuracy: 0.1457 - val_loss: 1.7932 - val_accuracy: 0.1468\n",
            "Epoch 48/150\n",
            "184/184 [==============================] - 0s 3ms/step - loss: 1.7932 - accuracy: 0.1457 - val_loss: 1.7931 - val_accuracy: 0.1468\n",
            "Epoch 49/150\n",
            "184/184 [==============================] - 1s 3ms/step - loss: 1.7930 - accuracy: 0.1457 - val_loss: 1.7929 - val_accuracy: 0.1468\n",
            "Epoch 50/150\n",
            "184/184 [==============================] - 0s 3ms/step - loss: 1.7928 - accuracy: 0.1457 - val_loss: 1.7928 - val_accuracy: 0.1468\n",
            "Epoch 51/150\n",
            "184/184 [==============================] - 1s 3ms/step - loss: 1.7927 - accuracy: 0.1457 - val_loss: 1.7926 - val_accuracy: 0.1468\n",
            "Epoch 52/150\n",
            "184/184 [==============================] - 1s 5ms/step - loss: 1.7926 - accuracy: 0.1457 - val_loss: 1.7925 - val_accuracy: 0.1468\n",
            "Epoch 53/150\n",
            "184/184 [==============================] - 1s 7ms/step - loss: 1.7925 - accuracy: 0.1457 - val_loss: 1.7924 - val_accuracy: 0.1468\n",
            "Epoch 54/150\n",
            "184/184 [==============================] - 2s 10ms/step - loss: 1.7924 - accuracy: 0.1457 - val_loss: 1.7923 - val_accuracy: 0.1468\n",
            "Epoch 55/150\n",
            "184/184 [==============================] - 1s 8ms/step - loss: 1.7923 - accuracy: 0.1457 - val_loss: 1.7922 - val_accuracy: 0.1468\n",
            "Epoch 56/150\n",
            "184/184 [==============================] - 1s 5ms/step - loss: 1.7922 - accuracy: 0.1457 - val_loss: 1.7921 - val_accuracy: 0.1468\n",
            "Epoch 57/150\n",
            "184/184 [==============================] - 1s 7ms/step - loss: 1.7921 - accuracy: 0.1457 - val_loss: 1.7921 - val_accuracy: 0.1468\n",
            "Epoch 58/150\n",
            "184/184 [==============================] - 1s 5ms/step - loss: 1.7920 - accuracy: 0.1457 - val_loss: 1.7920 - val_accuracy: 0.1468\n",
            "Epoch 59/150\n",
            "184/184 [==============================] - 1s 4ms/step - loss: 1.7920 - accuracy: 0.1457 - val_loss: 1.7920 - val_accuracy: 0.1468\n",
            "Epoch 60/150\n",
            "184/184 [==============================] - 1s 3ms/step - loss: 1.7919 - accuracy: 0.1457 - val_loss: 1.7919 - val_accuracy: 0.1468\n",
            "Epoch 61/150\n",
            "184/184 [==============================] - 1s 3ms/step - loss: 1.7919 - accuracy: 0.1457 - val_loss: 1.7919 - val_accuracy: 0.1468\n",
            "Epoch 62/150\n",
            "184/184 [==============================] - 1s 5ms/step - loss: 1.7919 - accuracy: 0.1457 - val_loss: 1.7918 - val_accuracy: 0.1468\n",
            "Epoch 63/150\n",
            "184/184 [==============================] - 1s 5ms/step - loss: 1.7918 - accuracy: 0.1457 - val_loss: 1.7918 - val_accuracy: 0.1468\n",
            "Epoch 64/150\n",
            "184/184 [==============================] - 1s 4ms/step - loss: 1.7918 - accuracy: 0.1457 - val_loss: 1.7918 - val_accuracy: 0.1468\n",
            "Epoch 65/150\n",
            "184/184 [==============================] - 1s 4ms/step - loss: 1.7918 - accuracy: 0.1457 - val_loss: 1.7918 - val_accuracy: 0.1468\n",
            "Epoch 66/150\n",
            "184/184 [==============================] - 0s 3ms/step - loss: 1.7918 - accuracy: 0.1457 - val_loss: 1.7918 - val_accuracy: 0.1468\n",
            "Epoch 67/150\n",
            "184/184 [==============================] - 0s 2ms/step - loss: 1.7918 - accuracy: 0.1457 - val_loss: 1.7918 - val_accuracy: 0.1468\n",
            "Epoch 68/150\n",
            "184/184 [==============================] - 1s 3ms/step - loss: 1.7918 - accuracy: 0.1457 - val_loss: 1.7918 - val_accuracy: 0.1468\n",
            "Epoch 68: early stopping\n"
          ]
        },
        {
          "data": {
            "text/plain": [
              "<keras.callbacks.History at 0x790920f0a860>"
            ]
          },
          "execution_count": 52,
          "metadata": {},
          "output_type": "execute_result"
        }
      ],
      "source": [
        "mc = ModelCheckpoint('best_model_L2.h5', monitor='val_accuracy', save_best_only=True)\n",
        "\n",
        "L2_model = KerasClassifier(build_L2_model, callbacks=[es,mc])\n",
        "L2_model.fit(X_train, y_train, validation_split=0.2, epochs=150)"
      ]
    },
    {
      "cell_type": "code",
      "execution_count": 54,
      "metadata": {
        "colab": {
          "base_uri": "https://localhost:8080/"
        },
        "id": "Nc-PiCDDOfp7",
        "outputId": "82d2e61a-c7c9-4b64-d0d9-4dffa0201c12"
      },
      "outputs": [
        {
          "name": "stdout",
          "output_type": "stream",
          "text": [
            "93/93 [==============================] - 0s 3ms/step\n",
            "Accuracy 0.15982354937224297\n",
            "F1-score [0.         0.27559977 0.         0.         0.         0.        ]\n",
            "                    precision    recall  f1-score   support\n",
            "\n",
            "           WALKING       0.00      0.00      0.00       496\n",
            "  WALKING_UPSTAIRS       0.16      1.00      0.28       471\n",
            "WALKING_DOWNSTAIRS       0.00      0.00      0.00       420\n",
            "           SITTING       0.00      0.00      0.00       491\n",
            "          STANDING       0.00      0.00      0.00       532\n",
            "            LAYING       0.00      0.00      0.00       537\n",
            "\n",
            "          accuracy                           0.16      2947\n",
            "         macro avg       0.03      0.17      0.05      2947\n",
            "      weighted avg       0.03      0.16      0.04      2947\n",
            "\n"
          ]
        },
        {
          "name": "stderr",
          "output_type": "stream",
          "text": [
            "/usr/local/lib/python3.10/dist-packages/sklearn/metrics/_classification.py:1344: UndefinedMetricWarning: Precision and F-score are ill-defined and being set to 0.0 in labels with no predicted samples. Use `zero_division` parameter to control this behavior.\n",
            "  _warn_prf(average, modifier, msg_start, len(result))\n",
            "/usr/local/lib/python3.10/dist-packages/sklearn/metrics/_classification.py:1344: UndefinedMetricWarning: Precision and F-score are ill-defined and being set to 0.0 in labels with no predicted samples. Use `zero_division` parameter to control this behavior.\n",
            "  _warn_prf(average, modifier, msg_start, len(result))\n",
            "/usr/local/lib/python3.10/dist-packages/sklearn/metrics/_classification.py:1344: UndefinedMetricWarning: Precision and F-score are ill-defined and being set to 0.0 in labels with no predicted samples. Use `zero_division` parameter to control this behavior.\n",
            "  _warn_prf(average, modifier, msg_start, len(result))\n"
          ]
        }
      ],
      "source": [
        "y_pred = L2_model.predict(X_test).astype(int)\n",
        "\n",
        "print('Accuracy %s' % accuracy_score(y_test, y_pred))\n",
        "print('F1-score %s' % f1_score(y_test, y_pred, average=None))\n",
        "print(classification_report(y_test, y_pred, target_names=activities.values()))"
      ]
    }
  ],
  "metadata": {
    "colab": {
      "collapsed_sections": [
        "l9T2GYNGaH9Z",
        "MZ0upDyMdqHn",
        "9Nh7tAKkDDmh",
        "XxT7dnjHLK73"
      ],
      "provenance": []
    },
    "kernelspec": {
      "display_name": "Python 3",
      "name": "python3"
    },
    "language_info": {
      "name": "python"
    }
  },
  "nbformat": 4,
  "nbformat_minor": 0
}
